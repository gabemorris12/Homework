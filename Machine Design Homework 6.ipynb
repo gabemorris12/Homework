{
 "cells": [
  {
   "cell_type": "markdown",
   "source": [
    "\\begin{center}\n",
    "Gabe Morris\n",
    "\\end{center}"
   ],
   "metadata": {
    "collapsed": false,
    "pycharm": {
     "name": "#%% md\n"
    }
   }
  },
  {
   "cell_type": "code",
   "execution_count": 1,
   "metadata": {
    "collapsed": true,
    "pycharm": {
     "name": "#%%\n"
    }
   },
   "outputs": [],
   "source": [
    "# Notebook Preamble\n",
    "import sympy as sp\n",
    "import matplotlib.pyplot as plt\n",
    "from IPython.display import display, Markdown\n",
    "\n",
    "plt.style.use('maroon_ipynb.mplstyle')"
   ]
  },
  {
   "cell_type": "markdown",
   "source": [
    "\\pagebreak\n",
    "\\tableofcontents\n",
    "\\pagebreak"
   ],
   "metadata": {
    "collapsed": false,
    "pycharm": {
     "name": "#%% md\n"
    }
   }
  },
  {
   "cell_type": "markdown",
   "source": [
    "\\begin{center}\n",
    "\\begin{tabular}{c c c}\n",
    "ME 4403 & Homework 6 & Gabe Morris \\\\\n",
    "& & gnm54\n",
    "\\end{tabular}\n",
    "\\end{center}\n",
    "\n",
    "# Problem 11-1\n",
    "## Given\n",
    "Timken rates its bearings for 3000 hours at 500 rpm.\n",
    "\n",
    "## Find\n",
    "Determine the catalog rating for a ball bearing running for 10,000 hours at 1800 rpm with a load of 2.75 kN with a reliability of 90%.\n",
    "\n",
    "## Solution\n",
    "\n",
    "Use Eq. 11-3,\n",
    "\n",
    "$$C_{10}=F_D\\left(\\frac{\\mathcal{L}_Dn_D60}{\\mathcal{L}_Rn_R60}\\right)^{1/a}$$"
   ],
   "metadata": {
    "collapsed": false,
    "pycharm": {
     "name": "#%% md\n"
    }
   }
  },
  {
   "cell_type": "code",
   "execution_count": 2,
   "outputs": [
    {
     "data": {
      "text/plain": "6.29592833404333",
      "text/latex": "$\\displaystyle 6.29592833404333$"
     },
     "execution_count": 2,
     "metadata": {},
     "output_type": "execute_result"
    }
   ],
   "source": [
    "FD = sp.S('2.75')\n",
    "nD = 1800\n",
    "LD = 10_000\n",
    "LR = 3_000\n",
    "nR = 500\n",
    "C10 = FD*(LD*nD*60/(LR*nR*60))**(1/sp.S(3))\n",
    "C10  # kN"
   ],
   "metadata": {
    "collapsed": false,
    "pycharm": {
     "name": "#%%\n"
    }
   }
  },
  {
   "cell_type": "markdown",
   "source": [
    "\\pagebreak\n",
    "\n",
    "\\begin{center}\n",
    "\\begin{tabular}{ccc}\n",
    "ME 4403 & Homework 6 & Gabe Morris \\\\\n",
    "& & gnm54\n",
    "\\end{tabular}\n",
    "\\end{center}\n",
    "\n",
    "# Problem 11-3\n",
    "## Given\n",
    "An angular-contact, inner ring rotating, 02-series ball bearing is required for an application in which the life requirement is 40 kh at 520 rpm. The design radial load is 725 lbf. The application factor is 1.4. The reliability goal is 0.90.\n",
    "\n",
    "## Find\n",
    "Find the multiple of rating life $x_D$ required and the catalog rating $C_{10}$ with which to enter Table 11–2. Choose a bearing and estimate the existing reliability in service.\n",
    "\n",
    "## Solution\n",
    "With the assumed rating life ($L_R$) to be $10^6$,"
   ],
   "metadata": {
    "collapsed": false,
    "pycharm": {
     "name": "#%% md\n"
    }
   }
  },
  {
   "cell_type": "code",
   "execution_count": 3,
   "outputs": [
    {
     "data": {
      "text/plain": "1248.00000000000",
      "text/latex": "$\\displaystyle 1248.0$"
     },
     "execution_count": 3,
     "metadata": {},
     "output_type": "execute_result"
    }
   ],
   "source": [
    "LD = 60*40_000*sp.S(520)\n",
    "LR = sp.S(1e6)\n",
    "xD = LD/LR\n",
    "xD"
   ],
   "metadata": {
    "collapsed": false,
    "pycharm": {
     "name": "#%%\n"
    }
   }
  },
  {
   "cell_type": "markdown",
   "source": [
    "Use Eq. 11-9.\n",
    "\n",
    "$$C_{10}=a_fF_D\\left(\\frac{x_D}{x_0+(\\theta-x_0)[\\ln(1/R_D)]^{1/b}}\\right)^{1/a}$$"
   ],
   "metadata": {
    "collapsed": false,
    "pycharm": {
     "name": "#%% md\n"
    }
   }
  },
  {
   "cell_type": "code",
   "execution_count": 4,
   "outputs": [
    {
     "data": {
      "text/plain": "10952.2598806396",
      "text/latex": "$\\displaystyle 10952.2598806396$"
     },
     "execution_count": 4,
     "metadata": {},
     "output_type": "execute_result"
    }
   ],
   "source": [
    "# Weibull parameters\n",
    "x0, theta = sp.S('0.02'), sp.S('4.459')\n",
    "b = sp.S('1.483')\n",
    "\n",
    "a = sp.S(3)\n",
    "af = sp.S('1.4')\n",
    "FD = sp.S(725)\n",
    "RD = sp.S('0.9')\n",
    "C10 = af*FD*(xD/(x0 + (theta - x0)*(sp.log(1/RD))**(1/b)))**(1/a)\n",
    "C10  # lbf"
   ],
   "metadata": {
    "collapsed": false,
    "pycharm": {
     "name": "#%%\n"
    }
   }
  },
  {
   "cell_type": "code",
   "execution_count": 5,
   "outputs": [
    {
     "data": {
      "text/plain": "48.7180614462586",
      "text/latex": "$\\displaystyle 48.7180614462586$"
     },
     "execution_count": 5,
     "metadata": {},
     "output_type": "execute_result"
    }
   ],
   "source": [
    "# Convert to kN\n",
    "C10_kN = C10*4.44822/1000\n",
    "C10_kN"
   ],
   "metadata": {
    "collapsed": false,
    "pycharm": {
     "name": "#%%\n"
    }
   }
  },
  {
   "cell_type": "markdown",
   "source": [
    "The bearing selection is the 02-60 mm bearing with $C_{10}=55.9\\ kN$. The reliability may be estimated using Eq. 11-21.\n",
    "\n",
    "$$R=\\exp\\left(-\\left\\{\\frac{x_D\\left(\\frac{a_fF_D}{C_{10}}\\right)^a-x_0}{\\theta-x_0}\\right\\}^b\\right)$$"
   ],
   "metadata": {
    "collapsed": false,
    "pycharm": {
     "name": "#%% md\n"
    }
   }
  },
  {
   "cell_type": "code",
   "execution_count": 6,
   "outputs": [
    {
     "data": {
      "text/plain": "0.945295510736457",
      "text/latex": "$\\displaystyle 0.945295510736457$"
     },
     "execution_count": 6,
     "metadata": {},
     "output_type": "execute_result"
    }
   ],
   "source": [
    "# Getting the reliability\n",
    "C10 = sp.S('55.9')\n",
    "FD = FD*4.44822/1000\n",
    "R = sp.exp(-((xD*(af*FD/C10)**a - x0)/(theta - x0))**b)\n",
    "R"
   ],
   "metadata": {
    "collapsed": false,
    "pycharm": {
     "name": "#%%\n"
    }
   }
  },
  {
   "cell_type": "markdown",
   "source": [
    "\\pagebreak\n",
    "\n",
    "\\begin{center}\n",
    "\\begin{tabular}{ccc}\n",
    "ME 4403 & Homework 6 & Gabe Morris \\\\\n",
    "& & gnm54\n",
    "\\end{tabular}\n",
    "\\end{center}\n",
    "\n",
    "# Problem 11-9\n",
    "## Given\n",
    "Two ball bearings from different manufacturers are being considered for a certain application. Bearing A has a catalog rating of 2.0 kN based on a catalog rating system of 3000 hours at 500 rpm. Bearing B has a catalog rating of 7.0 kN based on a catalog that rates at $10^6$ cycles.\n",
    "\n",
    "## Find\n",
    "For a given application, determine which bearing can carry the larger load.\n",
    "\n",
    "## Solution\n",
    "We can calculate the catalog rating for bearing A based on a one million cycle load."
   ],
   "metadata": {
    "collapsed": false,
    "pycharm": {
     "name": "#%% md\n"
    }
   }
  },
  {
   "cell_type": "code",
   "execution_count": 7,
   "outputs": [
    {
     "data": {
      "text/plain": "8.96280949311433",
      "text/latex": "$\\displaystyle 8.96280949311433$"
     },
     "execution_count": 7,
     "metadata": {},
     "output_type": "execute_result"
    }
   ],
   "source": [
    "FA = sp.S(2)\n",
    "LA = sp.S(3000)*sp.S(500)*60\n",
    "LR = sp.S(1e6)\n",
    "CA = (FA*(LA/LR)**sp.Rational(1, 3)).n()\n",
    "CA  # kN"
   ],
   "metadata": {
    "collapsed": false,
    "pycharm": {
     "name": "#%%\n"
    }
   }
  },
  {
   "cell_type": "markdown",
   "source": [
    "Bearing A is the better bearing because the catalog rating at one million revolutions is greater than the catalog rating of Bearing B, which is 7 kN.\n",
    "\n",
    "\\pagebreak\n",
    "\n",
    "\\begin{center}\n",
    "\\begin{tabular}{ccc}\n",
    "ME 4403 & Homework 6 & Gabe Morris \\\\\n",
    "& & gnm54\n",
    "\\end{tabular}\n",
    "\\end{center}\n",
    "\n",
    "# Problem 11-15\n",
    "## Given\n",
    "A ball bearing has these parameters:\n",
    "\n",
    "* Radial Load: 11 kips\n",
    "* Design Life: 20 kh at 200 rpm\n",
    "* Desired Reliability: 99%\n",
    "\n",
    "The application factor is one.\n",
    "\n",
    "## Find\n",
    "Determine the basic load rating with which to enter a bearing catalog of manufacturer 2 in the table below.\n",
    "\n",
    "| Manufacturer | Rating Life Revolutions | $x_0$ | $\\theta$ | $b$   |\n",
    "|--------------|-------------------------|-------|----------|-------|\n",
    "| 1            | $90\\cdot10^6$           | 0     | 4.48     | 1.5   |\n",
    "| 2            | $1\\cdot10^6$            | 0.02  | 4.459    | 1.483 |\n",
    "\n",
    "## Solution"
   ],
   "metadata": {
    "collapsed": false,
    "pycharm": {
     "name": "#%% md\n"
    }
   }
  },
  {
   "cell_type": "code",
   "execution_count": 8,
   "outputs": [
    {
     "data": {
      "text/plain": "113307.639282462",
      "text/latex": "$\\displaystyle 113307.639282462$"
     },
     "execution_count": 8,
     "metadata": {},
     "output_type": "execute_result"
    }
   ],
   "source": [
    "a, b = sp.S(3), sp.S('1.483')\n",
    "theta, x0 = sp.S(4.459), sp.S('0.02')\n",
    "af = 1\n",
    "\n",
    "LD = sp.S(20_000)*sp.S(200)*60\n",
    "LR = sp.S(1e6)\n",
    "FD = sp.S(11_000)\n",
    "RD = sp.S('0.99')\n",
    "xD = LD/LR\n",
    "C10 = af*FD*(xD/(x0 + (theta - x0)*(sp.log(1/RD))**(1/b)))**(1/a)\n",
    "C10  # lbf"
   ],
   "metadata": {
    "collapsed": false,
    "pycharm": {
     "name": "#%%\n"
    }
   }
  },
  {
   "cell_type": "markdown",
   "source": [
    "\\pagebreak\n",
    "\n",
    "\\begin{center}\n",
    "\\begin{tabular}{ccc}\n",
    "ME 4403 & Homework 6 & Gabe Morris \\\\\n",
    "& & gnm54\n",
    "\\end{tabular}\n",
    "\\end{center}\n",
    "\n",
    "# Problem 11-31\n",
    "## Given\n",
    "\n",
    "\\begin{center}\n",
    "\\includegraphics{images/fig1}\n",
    "\\end{center}\n",
    "\n",
    "\\begin{center}\n",
    "\\includegraphics{images/fig2}\n",
    "\\end{center}\n",
    "\n",
    "From the above figures, The effective centers of the gears for force transmission are shown. The dimensions for the bearing surfaces (indicated with the cross markings) have been estimated. The shaft rotates at 900 rpm, and the desired bearing life is 12 kh with a 98 percent reliability in each bearing. Assume the data for manufacturer 2 in the previous problem is used. The application factor is 1.2.\n",
    "\n",
    "## Find\n",
    "a. Obtain a basic load rating for a ball bearing at the right end.\n",
    "b. Use an online bearing catalog to find a specific bearing that satisfies the needed basic load rating and the geometry requirements. If necessary, indicate appropriate adjustments to the dimensions of the bearing surface.\n",
    "\n",
    "## Solution\n",
    "All we need is the magnitude of the reaction force that occurs at section C."
   ],
   "metadata": {
    "collapsed": false,
    "pycharm": {
     "name": "#%% md\n"
    }
   }
  },
  {
   "cell_type": "code",
   "execution_count": 9,
   "outputs": [
    {
     "data": {
      "text/plain": "22810.3939445176",
      "text/latex": "$\\displaystyle 22810.3939445176$"
     },
     "execution_count": 9,
     "metadata": {},
     "output_type": "execute_result"
    }
   ],
   "source": [
    "# Solving the reactions\n",
    "Oy, Oz, Cy, Cz = sp.symbols('O_y O_z C_y C_z')\n",
    "FA = sp.S(11_000)  # N\n",
    "\n",
    "# The torque on A is equal to the torque on B\n",
    "FB = FA*sp.cos(sp.rad(20))*sp.S('0.3')/(sp.S('0.15')*sp.cos(sp.rad(25)))\n",
    "FB.n()  # N"
   ],
   "metadata": {
    "collapsed": false,
    "pycharm": {
     "name": "#%%\n"
    }
   }
  },
  {
   "cell_type": "code",
   "execution_count": 10,
   "outputs": [
    {
     "data": {
      "text/plain": "Eq(C_y + O_y, 11000*sin(pi/9) + 22000.0*sin(5*pi/36)*cos(pi/9)/cos(5*pi/36))",
      "text/latex": "$\\displaystyle C_{y} + O_{y} = 11000 \\sin{\\left(\\frac{\\pi}{9} \\right)} + \\frac{22000.0 \\sin{\\left(\\frac{5 \\pi}{36} \\right)} \\cos{\\left(\\frac{\\pi}{9} \\right)}}{\\cos{\\left(\\frac{5 \\pi}{36} \\right)}}$"
     },
     "metadata": {},
     "output_type": "display_data"
    },
    {
     "data": {
      "text/plain": "Eq(C_z + O_z + 11000.0*cos(pi/9), 0)",
      "text/latex": "$\\displaystyle C_{z} + O_{z} + 11000.0 \\cos{\\left(\\frac{\\pi}{9} \\right)} = 0$"
     },
     "metadata": {},
     "output_type": "display_data"
    },
    {
     "data": {
      "text/plain": "Eq(21*C_y/20 - 16500.0*sin(5*pi/36)*cos(pi/9)/cos(5*pi/36) - 4400*sin(pi/9), 0)",
      "text/latex": "$\\displaystyle \\frac{21 C_{y}}{20} - \\frac{16500.0 \\sin{\\left(\\frac{5 \\pi}{36} \\right)} \\cos{\\left(\\frac{\\pi}{9} \\right)}}{\\cos{\\left(\\frac{5 \\pi}{36} \\right)}} - 4400 \\sin{\\left(\\frac{\\pi}{9} \\right)} = 0$"
     },
     "metadata": {},
     "output_type": "display_data"
    },
    {
     "data": {
      "text/plain": "Eq(-21*C_z/20 - 12100.0*cos(pi/9), 0)",
      "text/latex": "$\\displaystyle - \\frac{21 C_{z}}{20} - 12100.0 \\cos{\\left(\\frac{\\pi}{9} \\right)} = 0$"
     },
     "metadata": {},
     "output_type": "display_data"
    },
    {
     "data": {
      "text/plain": "<IPython.core.display.Markdown object>",
      "text/markdown": "---"
     },
     "metadata": {},
     "output_type": "display_data"
    },
    {
     "data": {
      "text/plain": "Eq(O_y, 5083.30546315649)",
      "text/latex": "$\\displaystyle O_{y} = 5083.30546315649$"
     },
     "metadata": {},
     "output_type": "display_data"
    },
    {
     "data": {
      "text/plain": "Eq(O_z, 492.21994422119)",
      "text/latex": "$\\displaystyle O_{z} = 492.21994422119$"
     },
     "metadata": {},
     "output_type": "display_data"
    },
    {
     "data": {
      "text/plain": "Eq(C_y, 8319.00515187848)",
      "text/latex": "$\\displaystyle C_{y} = 8319.00515187848$"
     },
     "metadata": {},
     "output_type": "display_data"
    },
    {
     "data": {
      "text/plain": "Eq(C_z, -10828.8387728662)",
      "text/latex": "$\\displaystyle C_{z} = -10828.8387728662$"
     },
     "metadata": {},
     "output_type": "display_data"
    }
   ],
   "source": [
    "eq1 = sp.Eq(Oy + Cy, FA*sp.sin(sp.rad(20)) + FB*sp.sin(sp.rad(25)))  # Fy\n",
    "eq2 = sp.Eq(Oz + Cz + FB*sp.cos(sp.rad(25)) - FA*sp.cos(sp.rad(20)), 0)  # Fz\n",
    "eq3 = sp.Eq(Cy*sp.S(400 + 350 + 300)/1000 - FA*sp.sin(sp.rad(20))*sp.S(400)/1000 - FB*sp.sin(sp.rad(25))*sp.S(400 + 350)/1000, 0)\n",
    "eq4 = sp.Eq(FA*sp.cos(sp.rad(20))*sp.S(400)/1000 - FB*sp.cos(sp.rad(25))*sp.S(400 + 350)/1000 - Cz*sp.S(400 + 350 + 300)/1000, 0)\n",
    "\n",
    "for eq in [eq1, eq2, eq3, eq4]:\n",
    "    display(eq)\n",
    "\n",
    "display(Markdown('---'))\n",
    "\n",
    "# sol = sp.solve([eq1, eq2, eq3, eq4], (Oy, Oz, Cy, Cz), dict=True)[0]\n",
    "sol = sp.nsolve([eq1, eq2, eq3, eq4], (Oy, Oz, Cy, Cz), (30, 30, 30, 30), dict=True)[0]\n",
    "for key, value in sol.items():\n",
    "    display(sp.Eq(key, value.n()))"
   ],
   "metadata": {
    "collapsed": false,
    "pycharm": {
     "name": "#%%\n"
    }
   }
  },
  {
   "cell_type": "markdown",
   "source": [
    "Use the magnitude of the force acting at section C."
   ],
   "metadata": {
    "collapsed": false,
    "pycharm": {
     "name": "#%% md\n"
    }
   }
  },
  {
   "cell_type": "code",
   "execution_count": 11,
   "outputs": [
    {
     "data": {
      "text/plain": "13655.3870646610",
      "text/latex": "$\\displaystyle 13655.387064661$"
     },
     "execution_count": 11,
     "metadata": {},
     "output_type": "execute_result"
    }
   ],
   "source": [
    "FD = sp.sqrt(sol[Cy]**2 + sol[Cz]**2)\n",
    "FD  # lbf"
   ],
   "metadata": {
    "collapsed": false,
    "pycharm": {
     "name": "#%%\n"
    }
   }
  },
  {
   "cell_type": "markdown",
   "source": [
    "### Part A"
   ],
   "metadata": {
    "collapsed": false,
    "pycharm": {
     "name": "#%% md\n"
    }
   }
  },
  {
   "cell_type": "code",
   "execution_count": 12,
   "outputs": [
    {
     "data": {
      "text/plain": "203.679318422368",
      "text/latex": "$\\displaystyle 203.679318422368$"
     },
     "execution_count": 12,
     "metadata": {},
     "output_type": "execute_result"
    }
   ],
   "source": [
    "# Weibull parameters\n",
    "x0, theta = sp.S('0.02'), sp.S('4.459')\n",
    "b = sp.S('1.483')\n",
    "\n",
    "LD = 60*12_000*sp.S(900)\n",
    "LR = sp.S(1e6)\n",
    "xD = LD/LR\n",
    "\n",
    "a = sp.S(3)\n",
    "af = sp.S('1.2')\n",
    "RD = sp.S('0.98')\n",
    "# For reliabilities above 90% use this equation\n",
    "C10 = af*FD*(xD/(x0 + (theta - x0)*(1 - RD)**(1/b)))**(1/a)\n",
    "C10/1000  # kN"
   ],
   "metadata": {
    "collapsed": false,
    "pycharm": {
     "name": "#%%\n"
    }
   }
  },
  {
   "cell_type": "markdown",
   "source": [
    "### Part B\n",
    "Though the suppliers have done a terrible job of displaying units, I believe [this bearing](https://alpinebearing.com/ball-bearings/6006/) has a 30 mm bore diameter and has a basic load rating of 1870 kN.\n",
    "\n",
    "\\pagebreak\n",
    "\n",
    "\\begin{center}\n",
    "\\begin{tabular}{ccc}\n",
    "ME 4403 & Homework 6 & Gabe Morris \\\\\n",
    "& & gnm54\n",
    "\\end{tabular}\n",
    "\\end{center}\n",
    "\n",
    "# Problem 11-44\n",
    "## Given\n",
    "An 02-30 mm angular-contact ball bearing is subjected to 200,000 revolutions with a radial load of 18 kN, then is subjected to a 30 kN load.\n",
    "\n",
    "## Find\n",
    "Estimate the remaining life in revolutions.\n",
    "\n",
    "## Solution\n",
    "Use the following,\n",
    "\n",
    "$$F^aL=constant=K$$\n",
    "$$\\sum\\frac{l_i}{L_i}=1$$"
   ],
   "metadata": {
    "collapsed": false,
    "pycharm": {
     "name": "#%% md\n"
    }
   }
  },
  {
   "cell_type": "code",
   "execution_count": 13,
   "outputs": [
    {
     "data": {
      "text/plain": "8365427000.00000",
      "text/latex": "$\\displaystyle 8365427000.0$"
     },
     "execution_count": 13,
     "metadata": {},
     "output_type": "execute_result"
    }
   ],
   "source": [
    "C10 = sp.S('20.3')  # Table 11-2\n",
    "L10 = sp.S(1e6)\n",
    "a = 3\n",
    "K = C10**a*L10\n",
    "K"
   ],
   "metadata": {
    "collapsed": false,
    "pycharm": {
     "name": "#%%\n"
    }
   }
  },
  {
   "cell_type": "code",
   "execution_count": 14,
   "outputs": [
    {
     "data": {
      "text/plain": "1434401.06310014",
      "text/latex": "$\\displaystyle 1434401.06310014$"
     },
     "execution_count": 14,
     "metadata": {},
     "output_type": "execute_result"
    }
   ],
   "source": [
    "l1 = sp.S(200_000)\n",
    "L1 = K/(sp.S(18)**a)\n",
    "L1  # revs"
   ],
   "metadata": {
    "collapsed": false,
    "pycharm": {
     "name": "#%%\n"
    }
   }
  },
  {
   "cell_type": "code",
   "execution_count": 15,
   "outputs": [
    {
     "data": {
      "text/plain": "309830.629629630",
      "text/latex": "$\\displaystyle 309830.62962963$"
     },
     "execution_count": 15,
     "metadata": {},
     "output_type": "execute_result"
    }
   ],
   "source": [
    "L2 = K/(sp.S(30)**a)\n",
    "L2"
   ],
   "metadata": {
    "collapsed": false,
    "pycharm": {
     "name": "#%%\n"
    }
   }
  },
  {
   "cell_type": "code",
   "execution_count": 16,
   "outputs": [
    {
     "data": {
      "text/plain": "266630.629629630",
      "text/latex": "$\\displaystyle 266630.62962963$"
     },
     "execution_count": 16,
     "metadata": {},
     "output_type": "execute_result"
    }
   ],
   "source": [
    "l2 = (1 - (l1/L1))*L2\n",
    "l2  # revs"
   ],
   "metadata": {
    "collapsed": false,
    "pycharm": {
     "name": "#%%\n"
    }
   }
  }
 ],
 "metadata": {
  "kernelspec": {
   "display_name": "Python 3",
   "language": "python",
   "name": "python3"
  },
  "language_info": {
   "codemirror_mode": {
    "name": "ipython",
    "version": 2
   },
   "file_extension": ".py",
   "mimetype": "text/x-python",
   "name": "python",
   "nbconvert_exporter": "python",
   "pygments_lexer": "ipython2",
   "version": "2.7.6"
  }
 },
 "nbformat": 4,
 "nbformat_minor": 0
}