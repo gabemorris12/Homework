{
 "cells": [
  {
   "cell_type": "markdown",
   "metadata": {
    "pycharm": {
     "name": "#%% md\n"
    }
   },
   "source": [
    "\\begin{center}\n",
    "Gabe Morris\n",
    "\\end{center}"
   ]
  },
  {
   "cell_type": "code",
   "execution_count": 1,
   "metadata": {
    "collapsed": true,
    "pycharm": {
     "name": "#%%\n"
    }
   },
   "outputs": [],
   "source": [
    "# Notebook Preamble\n",
    "import sympy as sp\n",
    "import matplotlib.pyplot as plt\n",
    "from IPython.display import display, Markdown\n",
    "\n",
    "plt.style.use('maroon_ipynb.mplstyle')"
   ]
  },
  {
   "cell_type": "markdown",
   "metadata": {
    "pycharm": {
     "name": "#%% md\n"
    }
   },
   "source": [
    "\\pagebreak\n",
    "\\tableofcontents\n",
    "\\pagebreak"
   ]
  },
  {
   "cell_type": "markdown",
   "metadata": {
    "pycharm": {
     "name": "#%% md\n"
    }
   },
   "source": [
    "\\begin{center}\n",
    "\\begin{tabular}{c c c}\n",
    "ME 4403 & Homework 1 & Gabe Morris \\\\\n",
    "& & gnm54\n",
    "\\end{tabular}\n",
    "\\end{center}\n",
    "\n",
    "# Problem 3-3\n",
    "## Given\n",
    "\n",
    "\\begin{center}\n",
    "\\includegraphics{images/fig1}\n",
    "\\end{center}\n",
    "\n",
    "## Find\n",
    "Sketch a free-body diagram of each element in the figure above. Compute the magnitude and direction of each force using an algebraic or vector method.\n",
    "\n",
    "## Solution\n",
    "The overall structure has a free body diagram like so,\n",
    "\n",
    "\\begin{center}\n",
    "\\includegraphics{images/fig2}\n",
    "\\end{center}\n",
    "\n",
    "Separating the structure into individual elements would yield more equations to solve the system,\n",
    "\n",
    "\\begin{center}\n",
    "\\includegraphics{images/fig3} \\\\\n",
    "Link 2\n",
    "\\end{center}\n",
    "\n",
    "\\begin{center}\n",
    "\\includegraphics{images/fig4} \\\\\n",
    "Link 3\n",
    "\\end{center}\n",
    "\n",
    "The $800\\ N$ force is a point load, which means it can only be applied to one link. This is why the load is shown in one FBD and not the other. Changing the link the point load is applied to will change the values for $F_1$ and $F_2$, but it will not change the values of the reactions at $O$ and $A$."
   ]
  },
  {
   "cell_type": "code",
   "execution_count": 2,
   "metadata": {
    "pycharm": {
     "name": "#%%\n"
    }
   },
   "outputs": [
    {
     "data": {
      "text/plain": "<IPython.core.display.Markdown object>",
      "text/markdown": "**Equations:**"
     },
     "metadata": {},
     "output_type": "display_data"
    },
    {
     "data": {
      "text/plain": "Eq(A_x + O_x, 800)",
      "text/latex": "$\\displaystyle A_{x} + O_{x} = 800$"
     },
     "metadata": {},
     "output_type": "display_data"
    },
    {
     "data": {
      "text/plain": "Eq(-A_y + O_y, 0)",
      "text/latex": "$\\displaystyle - A_{y} + O_{y} = 0$"
     },
     "metadata": {},
     "output_type": "display_data"
    },
    {
     "data": {
      "text/plain": "Eq(-0.3*sqrt(3)*A_y + 720.0, 0)",
      "text/latex": "$\\displaystyle - 0.3 \\sqrt{3} A_{y} + 720.0 = 0$"
     },
     "metadata": {},
     "output_type": "display_data"
    },
    {
     "data": {
      "text/plain": "Eq(F_1 + O_x, 800)",
      "text/latex": "$\\displaystyle F_{1} + O_{x} = 800$"
     },
     "metadata": {},
     "output_type": "display_data"
    },
    {
     "data": {
      "text/plain": "Eq(O_y, F_2)",
      "text/latex": "$\\displaystyle O_{y} = F_{2}$"
     },
     "metadata": {},
     "output_type": "display_data"
    },
    {
     "data": {
      "text/plain": "Eq(0.9*F_1, 720.0)",
      "text/latex": "$\\displaystyle 0.9 F_{1} = 720.0$"
     },
     "metadata": {},
     "output_type": "display_data"
    },
    {
     "data": {
      "text/plain": "<IPython.core.display.Markdown object>",
      "text/markdown": "---"
     },
     "metadata": {},
     "output_type": "display_data"
    },
    {
     "data": {
      "text/plain": "Eq(Matrix([\n[1, 0, 1,            0,   0,  0],\n[0, 1, 0,           -1,   0,  0],\n[0, 0, 0, -0.3*sqrt(3),   0,  0],\n[1, 0, 0,            0,   1,  0],\n[0, 1, 0,            0,   0, -1],\n[0, 0, 0,            0, 0.9,  0]])*Matrix([\n[O_x],\n[O_y],\n[A_x],\n[A_y],\n[F_1],\n[F_2]]), Matrix([\n[   800],\n[     0],\n[-720.0],\n[   800],\n[     0],\n[ 720.0]]))",
      "text/latex": "$\\displaystyle \\left[\\begin{matrix}1 & 0 & 1 & 0 & 0 & 0\\\\0 & 1 & 0 & -1 & 0 & 0\\\\0 & 0 & 0 & - 0.3 \\sqrt{3} & 0 & 0\\\\1 & 0 & 0 & 0 & 1 & 0\\\\0 & 1 & 0 & 0 & 0 & -1\\\\0 & 0 & 0 & 0 & 0.9 & 0\\end{matrix}\\right] \\left[\\begin{matrix}O_{x}\\\\O_{y}\\\\A_{x}\\\\A_{y}\\\\F_{1}\\\\F_{2}\\end{matrix}\\right] = \\left[\\begin{matrix}800\\\\0\\\\-720.0\\\\800\\\\0\\\\720.0\\end{matrix}\\right]$"
     },
     "metadata": {},
     "output_type": "display_data"
    },
    {
     "data": {
      "text/plain": "<IPython.core.display.Markdown object>",
      "text/markdown": "---"
     },
     "metadata": {},
     "output_type": "display_data"
    },
    {
     "data": {
      "text/plain": "<IPython.core.display.Markdown object>",
      "text/markdown": "**Solution:**"
     },
     "metadata": {},
     "output_type": "display_data"
    },
    {
     "data": {
      "text/plain": "Eq(O_x, 0.0)",
      "text/latex": "$\\displaystyle O_{x} = 0.0$"
     },
     "metadata": {},
     "output_type": "display_data"
    },
    {
     "data": {
      "text/plain": "Eq(O_y, 1385.6406460551)",
      "text/latex": "$\\displaystyle O_{y} = 1385.6406460551$"
     },
     "metadata": {},
     "output_type": "display_data"
    },
    {
     "data": {
      "text/plain": "Eq(A_x, 800.0)",
      "text/latex": "$\\displaystyle A_{x} = 800.0$"
     },
     "metadata": {},
     "output_type": "display_data"
    },
    {
     "data": {
      "text/plain": "Eq(A_y, 1385.6406460551)",
      "text/latex": "$\\displaystyle A_{y} = 1385.6406460551$"
     },
     "metadata": {},
     "output_type": "display_data"
    },
    {
     "data": {
      "text/plain": "Eq(F_1, 800.0)",
      "text/latex": "$\\displaystyle F_{1} = 800.0$"
     },
     "metadata": {},
     "output_type": "display_data"
    },
    {
     "data": {
      "text/plain": "Eq(F_2, 1385.6406460551)",
      "text/latex": "$\\displaystyle F_{2} = 1385.6406460551$"
     },
     "metadata": {},
     "output_type": "display_data"
    }
   ],
   "source": [
    "v = Ox, Oy, Ax, Ay, F1, F2 = sp.symbols('O_x O_y A_x A_y F_1 F_2')\n",
    "y, x = sp.S(0.9), sp.S(0.9)/sp.tan(60*sp.pi/180)  # Vertical and horizontal distance of the structure\n",
    "\n",
    "# Overall structure equations\n",
    "eq1 = sp.Eq(Ox + Ax, 800)  # Sum in x\n",
    "eq2 = sp.Eq(Oy - Ay, 0)  # Sum in y\n",
    "eq3 = sp.Eq(-Ay*x + 800*y, 0)  # Sum the moments about O\n",
    "\n",
    "# Link 2 equations\n",
    "eq4 = sp.Eq(Ox + F1, 800)  # Sum in x\n",
    "eq5 = sp.Eq(Oy, F2)  # Sum in y\n",
    "eq6 = sp.Eq(F1*y, 800*y)  # Sum the moments about O\n",
    "\n",
    "# Link 3 equations (don't need to use and still get the same answer)\n",
    "# eq4 = sp.Eq(Ax, F1)\n",
    "# eq5 = sp.Eq(Ay, F2)\n",
    "# eq6 = sp.Eq(F2*x, F1*y)\n",
    "\n",
    "eqs = [eval(f'eq{i}') for i in range(1, 7)]\n",
    "\n",
    "display(Markdown('**Equations:**'))\n",
    "for eq in eqs:\n",
    "    display(eq)\n",
    "display(Markdown('---'))\n",
    "\n",
    "A, b = sp.linear_eq_to_matrix(eqs, v)\n",
    "matrix_eqn = sp.Eq(sp.MatMul(A, sp.Matrix(v)), b)\n",
    "display(matrix_eqn)\n",
    "display(Markdown('---'))\n",
    "\n",
    "sol = sp.solve(matrix_eqn)\n",
    "display(Markdown('**Solution:**'))\n",
    "for val in v:\n",
    "    display(sp.Eq(val, sol[val]))"
   ]
  },
  {
   "cell_type": "markdown",
   "metadata": {
    "pycharm": {
     "name": "#%% md\n"
    }
   },
   "source": [
    "The internal stresses of each link may be found by using the method of sections.\n",
    "\n",
    "\\begin{center}\n",
    "\\includegraphics{images/fig5} \\\\\n",
    "Upper Section Cut\n",
    "\\end{center}\n",
    "\n",
    "\\begin{center}\n",
    "\\includegraphics{images/fig6} \\\\\n",
    "Lower Section Cut\n",
    "\\end{center}"
   ]
  },
  {
   "cell_type": "code",
   "execution_count": 3,
   "metadata": {
    "pycharm": {
     "name": "#%%\n"
    }
   },
   "outputs": [
    {
     "data": {
      "text/plain": "Eq(F_{AB}/2, 800)",
      "text/latex": "$\\displaystyle \\frac{F_{AB}}{2} = 800$"
     },
     "metadata": {},
     "output_type": "display_data"
    },
    {
     "data": {
      "text/plain": "Eq(F_{OB}, sqrt(3)*F_{AB}/2)",
      "text/latex": "$\\displaystyle F_{OB} = \\frac{\\sqrt{3} F_{AB}}{2}$"
     },
     "metadata": {},
     "output_type": "display_data"
    },
    {
     "data": {
      "text/plain": "<IPython.core.display.Markdown object>",
      "text/markdown": "---"
     },
     "metadata": {},
     "output_type": "display_data"
    },
    {
     "data": {
      "text/plain": "Eq(F_{OB}, 1385.6406460551)",
      "text/latex": "$\\displaystyle F_{OB} = 1385.6406460551$"
     },
     "metadata": {},
     "output_type": "display_data"
    },
    {
     "data": {
      "text/plain": "Eq(F_{AB}, 1600.0)",
      "text/latex": "$\\displaystyle F_{AB} = 1600.0$"
     },
     "metadata": {},
     "output_type": "display_data"
    }
   ],
   "source": [
    "F_OB, F_AB = sp.symbols(r'F_{OB} F_{AB}')\n",
    "\n",
    "# Upper section equations\n",
    "eq7 = sp.Eq(F_AB*sp.cos(sp.pi/3), 800)  # Sum in x\n",
    "eq8 = sp.Eq(F_OB, F_AB*sp.sin(sp.pi/3))  # Sum in y\n",
    "\n",
    "display(eq7)\n",
    "display(eq8)\n",
    "display(Markdown('---'))\n",
    "\n",
    "sol = sp.solve([eq7, eq8])\n",
    "\n",
    "for val in [F_OB, F_AB]:\n",
    "    display(sp.Eq(val, sol[val].n()))"
   ]
  },
  {
   "cell_type": "markdown",
   "metadata": {
    "pycharm": {
     "name": "#%% md\n"
    }
   },
   "source": [
    "Link 2 is in compression and link 3 is in tension.\n",
    "\n",
    "\\pagebreak\n",
    "\n",
    "\\begin{center}\n",
    "\\begin{tabular}{ccc}\n",
    "ME 4403 & Homework 1 & Gabe Morris \\\\\n",
    "& & gnm54\n",
    "\\end{tabular}\n",
    "\\end{center}\n",
    "\n",
    "# Problem 3-5\n",
    "## Given\n",
    "\n",
    "\\begin{center}\n",
    "\\includegraphics[scale=1.5]{images/fig7}\n",
    "\\end{center}\n",
    "\n",
    "## Find\n",
    "Find the reactions at the supports and plot the shear and bending moment diagrams.\n",
    "\n",
    "## Solution\n",
    "Due to the large amount of practice, this problem is quite simple and can be plotted instantly without showing calculation."
   ]
  },
  {
   "cell_type": "code",
   "execution_count": 4,
   "metadata": {
    "pycharm": {
     "name": "#%%\n"
    }
   },
   "outputs": [
    {
     "data": {
      "text/plain": "<Figure size 2400x1440 with 2 Axes>",
      "image/png": "[encoded data removed]"
     },
     "metadata": {
      "needs_background": "light"
     },
     "output_type": "display_data"
    }
   ],
   "source": [
    "O, A, B, C = 0, 300, 300 + 900, 300 + 900 + 300\n",
    "V_O, V_A, V_B, V_C = 8.2, 8.2 - 9, 8.2 - 9 - 5, 0  # Values shortly after cross the point\n",
    "M_O, M_A, M_B, M_C = 0, V_O*300, V_O*300 + V_A*900, V_O*300 + V_A*900 + V_B*300\n",
    "\n",
    "x = [O, A, A, B, B, C, C]\n",
    "V = [V_O, V_O, V_A, V_A, V_B, V_B, V_C]\n",
    "x_bending = [0, A, B, C]\n",
    "M = [M_O, M_A, M_B, M_C]\n",
    "\n",
    "fig, shear = plt.subplots()\n",
    "bend = shear.twinx()\n",
    "\n",
    "shear.plot(x, V, label='Shear')\n",
    "\n",
    "shear.set_xlabel('$x$ ($mm$)')\n",
    "shear.set_ylabel('$V$ ($kN$)')\n",
    "\n",
    "bend.plot(x_bending, M, label='Bending', color='black')\n",
    "bend.set_ylabel(r'$M$ ($N\\cdot m$)')\n",
    "bend.grid(visible=False)\n",
    "\n",
    "shear.legend(handles=[shear.lines[0], bend.lines[0]], labels=['Shear', 'Bending'])\n",
    "\n",
    "plt.show()"
   ]
  },
  {
   "cell_type": "markdown",
   "metadata": {
    "pycharm": {
     "name": "#%% md\n"
    }
   },
   "source": [
    "Notice that the plot above has a dual y-axis.\n",
    "\n",
    "The values at the points are (shortly after for the shear values),\n",
    "\n",
    "* $V_O=8.2\\ kN$, $M_O=0\\ N\\cdot m$\n",
    "* $V_A=-0.8\\ kN$, $M_A=2460\\ N\\cdot m$\n",
    "* $V_B=-5.8\\ kN$, $M_B=1740\\ N\\cdot m$\n",
    "* $V_C=0\\ kN$, $M_C=0\\ N\\cdot m$\n",
    "\n",
    "\\pagebreak\n",
    "\n",
    "\\begin{center}\n",
    "\\begin{tabular}{ccc}\n",
    "ME 4403 & Homework 1 & Gabe Morris \\\\\n",
    "& & gnm54\n",
    "\\end{tabular}\n",
    "\\end{center}\n",
    "\n",
    "# Problem 3-15\n",
    "## Given\n",
    "Plane stress values,\n",
    "\n",
    "a. $\\sigma_x=20\\ kpsi$, $\\sigma_y=-10\\ kpsi$, and $\\tau_{xy}=8\\ kpsi\\ cw$\n",
    "d. $\\sigma_x=-12\\ kpsi$, $\\sigma_y=22\\ kpsi$, and $\\tau_{xy}=12\\ kpsi\\ cw$\n",
    "\n",
    "## Find\n",
    "Draw a Mohr's circle diagram. Find the principal normal and shear stresses, and determine the angle from the x-axis to $\\sigma_1$. Draw the stress elements as in Figure 3-11c and d.\n",
    "\n",
    "## Solution\n",
    "Mohr's circle is a circle that has the following characteristics:\n",
    "\n",
    "* The x-axis is $\\sigma$ and the y-axis is $\\tau$.\n",
    "* The center of the circle is along the x-axis at the average of $\\sigma_x$ and $\\sigma_y$.\n",
    "* The radius of the circle is $R=\\sqrt{\\left(\\frac{\\sigma_x-\\sigma_y}{2}\\right)^2+\\tau_{xy}^2}$.\n",
    "\n",
    "The principle stresses and max angles may be calculated using the following,\n",
    "\n",
    "$$\\sigma_1,\\sigma_2=\\frac{\\sigma_x+\\sigma_y}{2}\\pm\\sqrt{\\left(\\frac{\\sigma_x-\\sigma_y}{2}\\right)^2+\\tau_{xy}^2}$$\n",
    "$$\\tau_1,\\tau_2=\\pm\\sqrt{\\left(\\frac{\\sigma_x-\\sigma_y}{2}\\right)^2+\\tau_{xy}^2}$$\n",
    "$$\\tan 2\\phi_p=\\frac{2\\tau_{xy}}{\\sigma_x-\\sigma_y}$$\n",
    "$$\\tan 2\\phi_s=-\\frac{\\sigma_x-\\sigma_y}{2\\tau_{xy}}$$\n",
    "\n",
    "Here is a breakdown of Mohr's circle,\n",
    "\n",
    "\\begin{center}\n",
    "\\includegraphics{images/fig9}\n",
    "\\end{center}\n",
    "\n",
    "### Part A\n",
    "Using the information from the figure above,\n",
    "\n",
    "\\begin{center}\n",
    "\\includegraphics{images/fig8}\n",
    "\\end{center}"
   ]
  },
  {
   "cell_type": "code",
   "execution_count": 5,
   "metadata": {
    "pycharm": {
     "name": "#%%\n"
    },
    "tags": [
     "hide"
    ]
   },
   "outputs": [
    {
     "data": {
      "text/plain": "<IPython.core.display.Markdown object>",
      "text/markdown": "**Center and Radius:**"
     },
     "metadata": {},
     "output_type": "display_data"
    },
    {
     "data": {
      "text/plain": "Eq(Eq(C, \\sigma_x/2 + \\sigma_y/2), 5)",
      "text/latex": "$\\displaystyle C = \\frac{\\sigma_{x}}{2} + \\frac{\\sigma_{y}}{2} = 5$"
     },
     "metadata": {},
     "output_type": "display_data"
    },
    {
     "data": {
      "text/plain": "Eq(Eq(R, sqrt(\\tau_{xy}**2 + (\\sigma_x/2 - \\sigma_y/2)**2)), 17.0)",
      "text/latex": "$\\displaystyle R = \\sqrt{\\tau_{xy}^{2} + \\left(\\frac{\\sigma_{x}}{2} - \\frac{\\sigma_{y}}{2}\\right)^{2}} = 17.0$"
     },
     "metadata": {},
     "output_type": "display_data"
    },
    {
     "data": {
      "text/plain": "<IPython.core.display.Markdown object>",
      "text/markdown": "---"
     },
     "metadata": {},
     "output_type": "display_data"
    },
    {
     "data": {
      "text/plain": "<IPython.core.display.Markdown object>",
      "text/markdown": "**Principle Stresses:**"
     },
     "metadata": {},
     "output_type": "display_data"
    },
    {
     "data": {
      "text/plain": "Eq(Eq(\\sigma_1, C + R), 22.0)",
      "text/latex": "$\\displaystyle \\sigma_{1} = C + R = 22.0$"
     },
     "metadata": {},
     "output_type": "display_data"
    },
    {
     "data": {
      "text/plain": "Eq(Eq(\\sigma_2, C - R), -12.0)",
      "text/latex": "$\\displaystyle \\sigma_{2} = C - R = -12.0$"
     },
     "metadata": {},
     "output_type": "display_data"
    },
    {
     "data": {
      "text/plain": "Eq(Eq(\\tau_1, R), 17.0)",
      "text/latex": "$\\displaystyle \\tau_{1} = R = 17.0$"
     },
     "metadata": {},
     "output_type": "display_data"
    },
    {
     "data": {
      "text/plain": "Eq(Eq(\\tau_2, -R), -17.0)",
      "text/latex": "$\\displaystyle \\tau_{2} = - R = -17.0$"
     },
     "metadata": {},
     "output_type": "display_data"
    },
    {
     "data": {
      "text/plain": "<IPython.core.display.Markdown object>",
      "text/markdown": "---"
     },
     "metadata": {},
     "output_type": "display_data"
    },
    {
     "data": {
      "text/plain": "<IPython.core.display.Markdown object>",
      "text/markdown": "**Angle of Occurrence:**"
     },
     "metadata": {},
     "output_type": "display_data"
    },
    {
     "data": {
      "text/plain": "Eq(Eq(2*\\phi_p, atan(2*\\tau_{xy}/(\\sigma_x - \\sigma_y))), 28.072486935853)",
      "text/latex": "$\\displaystyle 2 \\phi_{p} = \\operatorname{atan}{\\left(\\frac{2 \\tau_{xy}}{\\sigma_{x} - \\sigma_{y}} \\right)} = 28.072486935853$"
     },
     "metadata": {},
     "output_type": "display_data"
    }
   ],
   "source": [
    "def mohr(s_x, s_y, t_xy):\n",
    "    sig_x_, sig_y_, tau_xy_ = sp.symbols(r'\\sigma_x \\sigma_y \\tau_{xy}')\n",
    "    sig1_, sig2_, tau1, tau2 = sp.symbols(r'\\sigma_1 \\sigma_2 \\tau_1 \\tau_2')\n",
    "    C_, R = sp.symbols('C R')\n",
    "    phi_p = sp.Symbol(r'\\phi_p')\n",
    "\n",
    "    display(Markdown('**Center and Radius:**'))\n",
    "    C_value = (s_x + s_y)/2\n",
    "    C_sym = sp.Eq(C_, (sig_x_ + sig_y_)/2)\n",
    "    C_eq = sp.Eq(C_sym, C_value, evaluate=False)\n",
    "    display(C_eq)\n",
    "    R_value = sp.sqrt(((s_x - s_y)/2)**2 + t_xy**2).n()\n",
    "    R_sym = sp.Eq(R, sp.sqrt(((sig_x_ - sig_y_)/2)**2 + tau_xy_**2))\n",
    "    display(sp.Eq(R_sym, R_value, evaluate=False))\n",
    "\n",
    "    display(Markdown('---'))\n",
    "\n",
    "    display(Markdown('**Principle Stresses:**'))\n",
    "    sig1_value = C_value + R_value\n",
    "    sig2_value = C_value - R_value\n",
    "    sig1_sym, sig2_sym = sp.Eq(sig1_, C_ + R), sp.Eq(sig2_, C_ - R)\n",
    "    tau1_sym, tau2_sym = sp.Eq(tau1, R), sp.Eq(tau2, -R)\n",
    "    display(sp.Eq(sig1_sym, sig1_value, evaluate=False))\n",
    "    display(sp.Eq(sig2_sym, sig2_value, evaluate=False))\n",
    "    display(sp.Eq(tau1_sym, R_value, evaluate=False))\n",
    "    display(sp.Eq(tau2_sym, -R_value, evaluate=False))\n",
    "\n",
    "    display(Markdown('---'))\n",
    "\n",
    "    display(Markdown('**Angle of Occurrence:**'))\n",
    "    c_num = s_x - s_y + 2*t_xy*sp.I\n",
    "    phi_value = (sp.arg(c_num)*180/sp.pi).n()\n",
    "    phi_sym = sp.Eq(2*phi_p, sp.atan(2*tau_xy_/(sig_x_ - sig_y_)))\n",
    "    display(sp.Eq(phi_sym, phi_value, evaluate=False))\n",
    "\n",
    "mohr(sp.S(20), sp.S(-10), sp.S(8))"
   ]
  },
  {
   "cell_type": "markdown",
   "metadata": {
    "pycharm": {
     "name": "#%% md\n"
    }
   },
   "source": [
    "### Part D\n",
    "\n",
    "\\begin{center}\n",
    "\\includegraphics{images/fig10}\n",
    "\\end{center}"
   ]
  },
  {
   "cell_type": "code",
   "execution_count": 6,
   "metadata": {
    "pycharm": {
     "name": "#%%\n"
    },
    "tags": [
     "hide"
    ]
   },
   "outputs": [
    {
     "data": {
      "text/plain": "<IPython.core.display.Markdown object>",
      "text/markdown": "**Center and Radius:**"
     },
     "metadata": {},
     "output_type": "display_data"
    },
    {
     "data": {
      "text/plain": "Eq(Eq(C, \\sigma_x/2 + \\sigma_y/2), 5.0)",
      "text/latex": "$\\displaystyle C = \\frac{\\sigma_{x}}{2} + \\frac{\\sigma_{y}}{2} = 5.0$"
     },
     "metadata": {},
     "output_type": "display_data"
    },
    {
     "data": {
      "text/plain": "Eq(Eq(R, sqrt(\\tau_{xy}**2 + (\\sigma_x/2 - \\sigma_y/2)**2)), 20.8086520466848)",
      "text/latex": "$\\displaystyle R = \\sqrt{\\tau_{xy}^{2} + \\left(\\frac{\\sigma_{x}}{2} - \\frac{\\sigma_{y}}{2}\\right)^{2}} = 20.8086520466848$"
     },
     "metadata": {},
     "output_type": "display_data"
    },
    {
     "data": {
      "text/plain": "<IPython.core.display.Markdown object>",
      "text/markdown": "---"
     },
     "metadata": {},
     "output_type": "display_data"
    },
    {
     "data": {
      "text/plain": "<IPython.core.display.Markdown object>",
      "text/markdown": "**Principle Stresses:**"
     },
     "metadata": {},
     "output_type": "display_data"
    },
    {
     "data": {
      "text/plain": "Eq(Eq(\\sigma_1, C + R), 25.8086520466848)",
      "text/latex": "$\\displaystyle \\sigma_{1} = C + R = 25.8086520466848$"
     },
     "metadata": {},
     "output_type": "display_data"
    },
    {
     "data": {
      "text/plain": "Eq(Eq(\\sigma_2, C - R), -15.8086520466848)",
      "text/latex": "$\\displaystyle \\sigma_{2} = C - R = -15.8086520466848$"
     },
     "metadata": {},
     "output_type": "display_data"
    },
    {
     "data": {
      "text/plain": "Eq(Eq(\\tau_1, R), 20.8086520466848)",
      "text/latex": "$\\displaystyle \\tau_{1} = R = 20.8086520466848$"
     },
     "metadata": {},
     "output_type": "display_data"
    },
    {
     "data": {
      "text/plain": "Eq(Eq(\\tau_2, -R), -20.8086520466848)",
      "text/latex": "$\\displaystyle \\tau_{2} = - R = -20.8086520466848$"
     },
     "metadata": {},
     "output_type": "display_data"
    },
    {
     "data": {
      "text/plain": "<IPython.core.display.Markdown object>",
      "text/markdown": "---"
     },
     "metadata": {},
     "output_type": "display_data"
    },
    {
     "data": {
      "text/plain": "<IPython.core.display.Markdown object>",
      "text/markdown": "**Angle of Occurrence:**"
     },
     "metadata": {},
     "output_type": "display_data"
    },
    {
     "data": {
      "text/plain": "Eq(Eq(2*\\phi_p, atan(2*\\tau_{xy}/(\\sigma_x - \\sigma_y))), 144.782407031807)",
      "text/latex": "$\\displaystyle 2 \\phi_{p} = \\operatorname{atan}{\\left(\\frac{2 \\tau_{xy}}{\\sigma_{x} - \\sigma_{y}} \\right)} = 144.782407031807$"
     },
     "metadata": {},
     "output_type": "display_data"
    }
   ],
   "source": [
    "mohr(-12, 22, 12)"
   ]
  },
  {
   "cell_type": "markdown",
   "metadata": {
    "pycharm": {
     "name": "#%% md\n"
    }
   },
   "source": [
    "\\pagebreak\n",
    "\n",
    "\\begin{center}\n",
    "\\begin{tabular}{ccc}\n",
    "ME 4403 & Homework 1 & Gabe Morris \\\\\n",
    "& & gnm54\n",
    "\\end{tabular}\n",
    "\\end{center}\n",
    "\n",
    "# Problem 3-20\n",
    "## Given\n",
    "Element stresses in $ksi$:\n",
    "\n",
    "* $\\sigma_x=-6$\n",
    "* $\\sigma_y=18$\n",
    "* $\\sigma_z=-12$\n",
    "* $\\tau_{xy}=9$\n",
    "* $\\tau_{yz}=6$\n",
    "* $\\tau_{zx}=-15$\n",
    "\n",
    "## Find\n",
    "Determine the principal stresses and draw a complete Mohr's three-circle diagram, labeling all points of interest. Report the maximum shear stress for this case.\n",
    "\n",
    "## Solution\n",
    "### Principal Stresses and Max Shear Stress\n",
    "The principal stresses may be found by finding the roots of the following expression,\n",
    "\n",
    "$$\\sigma^{3} - \\sigma^{2} \\left(\\sigma_{x} + \\sigma_{y} + \\sigma_{z}\\right) + \\sigma \\left(\\sigma_{x} \\sigma_{y} + \\sigma_{x} \\sigma_{z} + \\sigma_{y} \\sigma_{z} - \\tau_{xy}^{2} - \\tau_{yz}^{2} - \\tau_{zx}^{2}\\right) - \\sigma_{x} \\sigma_{y} \\sigma_{z} + \\sigma_{x} \\tau_{yz}^{2} + \\sigma_{y} \\tau_{zx}^{2} + \\sigma_{z} \\tau_{xy}^{2} - \\\\ 2 \\tau_{xy} \\tau_{yz} \\tau_{zx} = 0$$"
   ]
  },
  {
   "cell_type": "code",
   "execution_count": 7,
   "metadata": {
    "pycharm": {
     "name": "#%%\n"
    }
   },
   "outputs": [
    {
     "data": {
      "text/plain": "Eq(\\sigma**3 - \\sigma**2*(\\sigma_x + \\sigma_y + \\sigma_z) + \\sigma*(\\sigma_x*\\sigma_y + \\sigma_x*\\sigma_z + \\sigma_y*\\sigma_z - \\tau_{xy}**2 - \\tau_{yz}**2 - \\tau_{zx}**2) - \\sigma_x*\\sigma_y*\\sigma_z + \\sigma_x*\\tau_{yz}**2 + \\sigma_y*\\tau_{zx}**2 + \\sigma_z*\\tau_{xy}**2 - 2*\\tau_{xy}*\\tau_{yz}*\\tau_{zx}, 0)",
      "text/latex": "$\\displaystyle \\sigma^{3} - \\sigma^{2} \\left(\\sigma_{x} + \\sigma_{y} + \\sigma_{z}\\right) + \\sigma \\left(\\sigma_{x} \\sigma_{y} + \\sigma_{x} \\sigma_{z} + \\sigma_{y} \\sigma_{z} - \\tau_{xy}^{2} - \\tau_{yz}^{2} - \\tau_{zx}^{2}\\right) - \\sigma_{x} \\sigma_{y} \\sigma_{z} + \\sigma_{x} \\tau_{yz}^{2} + \\sigma_{y} \\tau_{zx}^{2} + \\sigma_{z} \\tau_{xy}^{2} - 2 \\tau_{xy} \\tau_{yz} \\tau_{zx} = 0$"
     },
     "metadata": {},
     "output_type": "display_data"
    },
    {
     "data": {
      "text/plain": "Eq(\\sigma_1, 21.0369191756785)",
      "text/latex": "$\\displaystyle \\sigma_{1} = 21.0369191756785$"
     },
     "metadata": {},
     "output_type": "display_data"
    },
    {
     "data": {
      "text/plain": "Eq(\\sigma_2, 5.67061153118965)",
      "text/latex": "$\\displaystyle \\sigma_{2} = 5.67061153118965$"
     },
     "metadata": {},
     "output_type": "display_data"
    },
    {
     "data": {
      "text/plain": "Eq(\\sigma_3, -26.7075307068682)",
      "text/latex": "$\\displaystyle \\sigma_{3} = -26.7075307068682$"
     },
     "metadata": {},
     "output_type": "display_data"
    }
   ],
   "source": [
    "sig_x, sig_y, sig_z, tau_xy, tau_zx, tau_yz = sp.symbols(r'\\sigma_x \\sigma_y \\sigma_z \\tau_{xy} \\tau_{zx} \\tau_{yz}')\n",
    "sig = sp.Symbol(r'\\sigma')\n",
    "sig1, sig2, sig3 = sp.symbols(r'\\sigma_1 \\sigma_2 \\sigma_3')\n",
    "\n",
    "poly = sig**3 - (sig_x + sig_y + sig_z)*sig**2 + (sig_x*sig_y + sig_x*sig_z + sig_y*sig_z - tau_xy**2 - tau_yz**2 - tau_zx**2)*sig - (sig_x*sig_y*sig_z + 2*tau_xy*tau_yz*tau_zx - sig_x*tau_yz**2 - sig_y*tau_zx**2 - sig_z*tau_xy**2)\n",
    "\n",
    "display(sp.Eq(poly.simplify(), 0))\n",
    "poly_ = poly.subs([(sig_x, -6), (sig_y, 18), (sig_z, -12), (tau_xy, 9), (tau_yz, 6), (tau_zx, -15)])\n",
    "roots = [sp.re(root.n()) for root in sp.roots(poly_, sig)]\n",
    "roots_ = sorted(list(roots), reverse=True)\n",
    "s1, s2, s3 = roots_\n",
    "for i, j in zip((sig1, sig2, sig3), roots_):\n",
    "    display(sp.Eq(i, j))"
   ]
  },
  {
   "cell_type": "markdown",
   "metadata": {
    "pycharm": {
     "name": "#%% md\n"
    }
   },
   "source": [
    "The max shear stress is,\n",
    "\n",
    "$$\\tau_{max}=\\frac{\\sigma_1-\\sigma_3}{2}$$"
   ]
  },
  {
   "cell_type": "code",
   "execution_count": 8,
   "metadata": {
    "pycharm": {
     "name": "#%%\n"
    }
   },
   "outputs": [
    {
     "data": {
      "text/plain": "23.8722249412734",
      "text/latex": "$\\displaystyle 23.8722249412734$"
     },
     "execution_count": 8,
     "metadata": {},
     "output_type": "execute_result"
    }
   ],
   "source": [
    "(s1 - s3)/2"
   ]
  },
  {
   "cell_type": "markdown",
   "metadata": {
    "pycharm": {
     "name": "#%% md\n"
    }
   },
   "source": [
    "### Von Mises Stress\n",
    "\n",
    "The Von Mises Stress is,"
   ]
  },
  {
   "cell_type": "code",
   "execution_count": 9,
   "metadata": {
    "pycharm": {
     "name": "#%%\n"
    }
   },
   "outputs": [
    {
     "data": {
      "text/plain": "42.2137418384109",
      "text/latex": "$\\displaystyle 42.2137418384109$"
     },
     "execution_count": 9,
     "metadata": {},
     "output_type": "execute_result"
    }
   ],
   "source": [
    "(1/sp.sqrt(2)*sp.sqrt((s1 - s2)**2 + (s2 - s3)**2 + (s3 - s1)**2)).n()"
   ]
  },
  {
   "cell_type": "markdown",
   "metadata": {
    "pycharm": {
     "name": "#%% md\n"
    }
   },
   "source": [
    "The Von Mises Stress may also be computed without using the principal stresses,"
   ]
  },
  {
   "cell_type": "code",
   "execution_count": 10,
   "metadata": {
    "pycharm": {
     "name": "#%%\n"
    }
   },
   "outputs": [
    {
     "data": {
      "text/plain": "42.2137418384109",
      "text/latex": "$\\displaystyle 42.2137418384109$"
     },
     "execution_count": 10,
     "metadata": {},
     "output_type": "execute_result"
    }
   ],
   "source": [
    "sig_x, sig_y, sig_z, tau_xy, tau_yz, tau_zx = -6, 18, -12, 9, 6, -15\n",
    "(1/sp.sqrt(2)*sp.sqrt((sig_x - sig_y)**2 + (sig_y - sig_z)**2 + (sig_z - sig_x)**2 + 6*(tau_xy**2 + tau_yz**2 + tau_zx**2))).n()"
   ]
  },
  {
   "cell_type": "markdown",
   "metadata": {
    "pycharm": {
     "name": "#%% md\n"
    }
   },
   "source": [
    "### Mohr's Circle Diagram"
   ]
  },
  {
   "cell_type": "code",
   "execution_count": 11,
   "metadata": {
    "pycharm": {
     "name": "#%%\n"
    }
   },
   "outputs": [
    {
     "data": {
      "text/plain": "Eq(\\tau_{1/2}, 7.68315382224444)",
      "text/latex": "$\\displaystyle \\tau_{1/2} = 7.68315382224444$"
     },
     "metadata": {},
     "output_type": "display_data"
    },
    {
     "data": {
      "text/plain": "Eq(\\tau_{2/3}, 16.1890711190289)",
      "text/latex": "$\\displaystyle \\tau_{2/3} = 16.1890711190289$"
     },
     "metadata": {},
     "output_type": "display_data"
    }
   ],
   "source": [
    "# Calculating additional shear stress values\n",
    "tau_1_2, tau_2_3 = sp.symbols(r'\\tau_{1/2} \\tau_{2/3}')\n",
    "display(sp.Eq(tau_1_2, (s1 - s2)/2))\n",
    "display(sp.Eq(tau_2_3, (s2 - s3)/2))"
   ]
  },
  {
   "cell_type": "markdown",
   "metadata": {
    "pycharm": {
     "name": "#%% md\n"
    }
   },
   "source": [
    "\\begin{center}\n",
    "\\includegraphics{images/fig11}\n",
    "\\end{center}"
   ]
  },
  {
   "cell_type": "markdown",
   "metadata": {
    "pycharm": {
     "name": "#%% md\n"
    }
   },
   "source": [
    "\\pagebreak\n",
    "\n",
    "\\begin{center}\n",
    "\\begin{tabular}{ccc}\n",
    "ME 4403 & Homework 1 & Gabe Morris \\\\\n",
    "& & gnm54\n",
    "\\end{tabular}\n",
    "\\end{center}\n",
    "\n",
    "# Problem 3-42\n",
    "## Given\n",
    "\n",
    "\\begin{center}\n",
    "\\includegraphics{images/fig12}\n",
    "\\end{center}\n",
    "\n",
    "$F=4\\ kN$, $a=6\\ mm$, $b=18\\ mm$, and $d=12\\ mm$\n",
    "\n",
    "## Find\n",
    "Find the maximum bending and shear stress if modeled like so,\n",
    "\n",
    "\\begin{center}\n",
    "\\includegraphics{images/fig13}\n",
    "\\end{center}\n",
    "\n",
    "## Solution\n",
    "Start with a shear and moment diagram."
   ]
  },
  {
   "cell_type": "code",
   "execution_count": 12,
   "metadata": {
    "pycharm": {
     "name": "#%%\n"
    }
   },
   "outputs": [
    {
     "data": {
      "text/plain": "<Figure size 2400x1440 with 2 Axes>",
      "image/png": "[encoded data removed]"
     },
     "metadata": {
      "needs_background": "light"
     },
     "output_type": "display_data"
    }
   ],
   "source": [
    "A, B, C, D = x = [0, 7.5, 16.5, 24]\n",
    "x_shear = [A, B, B, C, C, D, D]\n",
    "V = [2, 2, 0, 0, -2, -2, 0]\n",
    "M = [0, 2*7.5, 2*7.5 - 0, 2*7.5 - 2*7.5]\n",
    "\n",
    "fig, ax1 = plt.subplots()\n",
    "ax2 = ax1.twinx()\n",
    "\n",
    "ax1.plot(x_shear, V, label='Shear')\n",
    "ax1.set_xlabel('$x$ ($mm$)')\n",
    "ax1.set_ylabel('$V$ ($kN$)')\n",
    "\n",
    "ax2.plot(x, M, label='Bending', color='black')\n",
    "ax2.set_ylabel(r'$M$ ($N\\cdot m$)')\n",
    "ax2.grid(visible=False)\n",
    "\n",
    "ax1.legend(handles=[ax1.lines[0], ax2.lines[0]], labels=['Shear', 'Bending'])\n",
    "plt.show()"
   ]
  },
  {
   "cell_type": "markdown",
   "metadata": {
    "pycharm": {
     "name": "#%% md\n"
    }
   },
   "source": [
    "The maximum bending moment is $15\\ N\\cdot m$, and the maximum shear stress is $\\tau_{max}=2000\\ N$. The normal and shear stress due to bending is,\n",
    "\n",
    "$$\\sigma_{max}=\\frac{Mc}{I}$$\n",
    "$$I=\\frac{1}{4}\\pi r^4$$\n",
    "\n",
    "and for shear, the maximum stress for circular cross-sections is,\n",
    "\n",
    "$$\\tau_{max}=\\frac{4}{3}\\frac{V}{A}$$"
   ]
  },
  {
   "cell_type": "code",
   "execution_count": 13,
   "metadata": {
    "pycharm": {
     "name": "#%%\n"
    }
   },
   "outputs": [
    {
     "data": {
      "text/plain": "88419412.8288307",
      "text/latex": "$\\displaystyle 88419412.8288307$"
     },
     "execution_count": 13,
     "metadata": {},
     "output_type": "execute_result"
    }
   ],
   "source": [
    "M, c = sp.S(15), sp.S(0.006)\n",
    "I = sp.S(0.25)*sp.pi*sp.S(0.006)**4\n",
    "sig_max = M*c/I\n",
    "sig_max.n()  # in Pa"
   ]
  },
  {
   "cell_type": "code",
   "execution_count": 14,
   "metadata": {
    "pycharm": {
     "name": "#%%\n"
    }
   },
   "outputs": [
    {
     "data": {
      "text/plain": "23578510.0876882",
      "text/latex": "$\\displaystyle 23578510.0876882$"
     },
     "execution_count": 14,
     "metadata": {},
     "output_type": "execute_result"
    }
   ],
   "source": [
    "V, A = 2000, sp.pi*sp.S(0.006)**2\n",
    "tau_max = 4/3*V/A\n",
    "tau_max.n()  # in Pa"
   ]
  },
  {
   "cell_type": "markdown",
   "metadata": {
    "pycharm": {
     "name": "#%% md\n"
    }
   },
   "source": [
    "\\pagebreak\n",
    "\n",
    "\\begin{center}\n",
    "\\begin{tabular}{c c c}\n",
    "ME 4403 & Homework 2 & Gabe Morris \\\\\n",
    "& & gnm54\n",
    "\\end{tabular}\n",
    "\\end{center}\n",
    "\n",
    "# Problem 3-39\n",
    "## Given\n",
    "\n",
    "\\begin{center}\n",
    "\\includegraphics{images/fig14}\n",
    "\\end{center}\n",
    "\n",
    "## Find\n",
    "For the beam above, find the maximum tensile stress due to $M$ and the maximum shear stress due to $V$.\n",
    "\n",
    "## Solution\n",
    "The free body diagram is,\n",
    "\n",
    "\\begin{center}\n",
    "\\includegraphics{images/fig15}\n",
    "\\end{center}"
   ]
  },
  {
   "cell_type": "code",
   "execution_count": 15,
   "metadata": {
    "pycharm": {
     "name": "#%%\n"
    }
   },
   "outputs": [
    {
     "data": {
      "text/plain": "Eq(A_y + B_y, 1800)",
      "text/latex": "$\\displaystyle A_{y} + B_{y} = 1800$"
     },
     "metadata": {},
     "output_type": "display_data"
    },
    {
     "data": {
      "text/plain": "Eq(200*A_y, 270000)",
      "text/latex": "$\\displaystyle 200 A_{y} = 270000$"
     },
     "metadata": {},
     "output_type": "display_data"
    },
    {
     "data": {
      "text/plain": "<IPython.core.display.Markdown object>",
      "text/markdown": "---"
     },
     "metadata": {},
     "output_type": "display_data"
    },
    {
     "data": {
      "text/plain": "Eq(A_y, 1350)",
      "text/latex": "$\\displaystyle A_{y} = 1350$"
     },
     "metadata": {},
     "output_type": "display_data"
    },
    {
     "data": {
      "text/plain": "Eq(B_y, 450)",
      "text/latex": "$\\displaystyle B_{y} = 450$"
     },
     "metadata": {},
     "output_type": "display_data"
    }
   ],
   "source": [
    "# Getting reaction forces\n",
    "Ay, By = sp.symbols('A_y B_y')\n",
    "eq1 = sp.Eq(Ay + By, 1800)\n",
    "eq2 = sp.Eq(200*Ay, 150*1800)\n",
    "\n",
    "sol = sp.solve([eq1, eq2], dict=True)[0]\n",
    "[display(eq) for eq in [eq1, eq2]]\n",
    "display(Markdown('---'))\n",
    "\n",
    "for key, value in sol.items():\n",
    "    display(sp.Eq(key, value))"
   ]
  },
  {
   "cell_type": "markdown",
   "metadata": {
    "pycharm": {
     "name": "#%% md\n"
    }
   },
   "source": [
    "The shear and moment diagram is,\n",
    "\n",
    "\\begin{center}\n",
    "\\includegraphics{images/fig16}\n",
    "\\end{center}\n",
    "\n",
    "The maximum shear and tensile stress occur at $x=100\\ mm$."
   ]
  },
  {
   "cell_type": "code",
   "execution_count": 16,
   "metadata": {
    "pycharm": {
     "name": "#%%\n"
    }
   },
   "outputs": [
    {
     "data": {
      "text/plain": "2444619925.89151",
      "text/latex": "$\\displaystyle 2444619925.89151$"
     },
     "execution_count": 16,
     "metadata": {},
     "output_type": "execute_result"
    }
   ],
   "source": [
    "# Calculating stress due to bending\n",
    "M, c = 30_000, sp.S(0.025)\n",
    "(M*c/(sp.pi/4*c**4)).n()  # in Pa"
   ]
  },
  {
   "cell_type": "code",
   "execution_count": 17,
   "metadata": {
    "pycharm": {
     "name": "#%%\n"
    }
   },
   "outputs": [
    {
     "data": {
      "text/plain": "509295817.894065",
      "text/latex": "$\\displaystyle 509295817.894065$"
     },
     "execution_count": 17,
     "metadata": {},
     "output_type": "execute_result"
    }
   ],
   "source": [
    "# Calculating the maximum shear stress\n",
    "V = 750_000\n",
    "(sp.Rational(4, 3)*V/(sp.pi*c**2)).n()  # in Pa"
   ]
  },
  {
   "cell_type": "markdown",
   "metadata": {
    "pycharm": {
     "name": "#%% md\n"
    }
   },
   "source": [
    "\\pagebreak\n",
    "\n",
    "\\begin{center}\n",
    "\\begin{tabular}{ccc}\n",
    "ME 4403 & Homework 2 & Gabe Morris \\\\\n",
    "& & gnm54\n",
    "\\end{tabular}\n",
    "\\end{center}\n",
    "\n",
    "# Problem 3-62 Part A\n",
    "## Given\n",
    "\n",
    "\\begin{center}\n",
    "\\includegraphics{images/fig17}\n",
    "\\end{center}\n",
    "\n",
    "The tube is $36\\ in$ long and $r_i=r_m=0$. The thickness $t$ is $\\frac{1}{16}\"$.\n",
    "\n",
    "## Find\n",
    "The maximum torque that can be applied and the corresponding angle of twist of the tube.\n",
    "\n",
    "## Solution\n",
    "For thin-walled tubes,\n",
    "\n",
    "$$\\tau=\\frac{T}{2A_mt}$$\n",
    "$$\\theta_1=\\frac{TL_m}{4GA_m^2t}$$\n",
    "\n",
    "See p. 129 for additional details of the above formulas."
   ]
  },
  {
   "cell_type": "code",
   "execution_count": 18,
   "metadata": {
    "pycharm": {
     "name": "#%%\n"
    }
   },
   "outputs": [
    {
     "data": {
      "text/plain": "1318.35937500000",
      "text/latex": "$\\displaystyle 1318.359375$"
     },
     "execution_count": 18,
     "metadata": {},
     "output_type": "execute_result"
    }
   ],
   "source": [
    "# Calculating the maximum torque\n",
    "tau_max = 12_000  # lbf in\n",
    "t = sp.Rational(1, 16)  # thickness in inches\n",
    "Am = (1 - t)**2\n",
    "T = tau_max*2*Am*t\n",
    "T.n()  # lbf in"
   ]
  },
  {
   "cell_type": "markdown",
   "metadata": {
    "pycharm": {
     "name": "#%% md\n"
    }
   },
   "source": [
    "From table A-5, the modulus of rigidity is $11.5\\ Mpsi$."
   ]
  },
  {
   "cell_type": "code",
   "execution_count": 19,
   "metadata": {
    "pycharm": {
     "name": "#%%\n"
    }
   },
   "outputs": [
    {
     "data": {
      "text/plain": "4.59163394776145",
      "text/latex": "$\\displaystyle 4.59163394776145$"
     },
     "execution_count": 19,
     "metadata": {},
     "output_type": "execute_result"
    }
   ],
   "source": [
    "G = 11.5e6\n",
    "Lm = (1 - t)*4  # total length\n",
    "L = 36  # inches\n",
    "phi_1 = T*Lm/(4*G*Am**2*t)*L\n",
    "(phi_1*180/sp.pi).n()  # in degrees"
   ]
  },
  {
   "cell_type": "markdown",
   "metadata": {
    "pycharm": {
     "name": "#%% md\n"
    }
   },
   "source": [
    "The expression gets multiplied by $L$ because $\\theta_1$ is the angle of twist per unit length."
   ]
  },
  {
   "cell_type": "markdown",
   "metadata": {
    "pycharm": {
     "name": "#%% md\n"
    }
   },
   "source": [
    "\\pagebreak\n",
    "\n",
    "\\begin{center}\n",
    "\\begin{tabular}{ccc}\n",
    "ME 4403 & Homework 2 & Gabe Morris \\\\\n",
    "& & gnm54\n",
    "\\end{tabular}\n",
    "\\end{center}\n",
    "\n",
    "# Problem 3-64\n",
    "## Given\n",
    "\n",
    "\\begin{center}\n",
    "\\includegraphics{images/fig18}\n",
    "\\end{center}\n",
    "\n",
    "$c_1=2\\ mm$, $L_1=20\\ mm$, $c_2=3\\ mm$, $L_2=30\\ mm$, $c_3=0\\ mm$, and $L_3=0\\ mm$. The material is steel and the maximum shear is $\\tau_{allow}=12\\ ksi$. The angle of twist is the same for each section.\n",
    "\n",
    "## Find\n",
    "a. Determine the torque transmitted by each leg and the torque transmitted by the entire section.\n",
    "b. Determine the angle of twist per unit length.\n",
    "\n",
    "## Solution\n",
    "The relationship for open looped geometry is,\n",
    "\n",
    "$$T_i=\\frac{\\theta_iGL_ic_i^3}{3}$$\n",
    "$$\\tau_{max}=G\\theta_ic_{max}$$\n",
    "\n",
    "From Table A-5, $G_{steel}=79.3\\ GPa$. I will find Part B first because it is required to answer Part A.\n",
    "\n",
    "### Part B"
   ]
  },
  {
   "cell_type": "code",
   "execution_count": 20,
   "metadata": {
    "pycharm": {
     "name": "#%%\n"
    }
   },
   "outputs": [
    {
     "data": {
      "text/plain": "0.347781000420345",
      "text/latex": "$\\displaystyle 0.347781000420345$"
     },
     "execution_count": 20,
     "metadata": {},
     "output_type": "execute_result"
    }
   ],
   "source": [
    "tau_max = sp.S(82.7371e6)  # shear stress in Pa\n",
    "G = sp.S(79.3e9)  # modulus of rigidity in Pa\n",
    "c = [sp.S(c_) for c_ in (0.002, 0.003, 0)]  # in m\n",
    "L = [sp.S(L_) for L_ in (0.02, 0.03, 0)]  # in m\n",
    "c_max = max(c)\n",
    "\n",
    "phi_i = tau_max/(G*c_max)\n",
    "phi_i  # in rad per m"
   ]
  },
  {
   "cell_type": "markdown",
   "metadata": {
    "pycharm": {
     "name": "#%% md\n"
    }
   },
   "source": [
    "### Part A"
   ]
  },
  {
   "cell_type": "code",
   "execution_count": 21,
   "metadata": {
    "pycharm": {
     "name": "#%%\n"
    }
   },
   "outputs": [
    {
     "data": {
      "text/plain": "Eq(T_1, 1.47088177777778)",
      "text/latex": "$\\displaystyle T_{1} = 1.47088177777778$"
     },
     "metadata": {},
     "output_type": "display_data"
    },
    {
     "data": {
      "text/plain": "Eq(T_2, 7.446339)",
      "text/latex": "$\\displaystyle T_{2} = 7.446339$"
     },
     "metadata": {},
     "output_type": "display_data"
    },
    {
     "data": {
      "text/plain": "Eq(T_3, 0)",
      "text/latex": "$\\displaystyle T_{3} = 0$"
     },
     "metadata": {},
     "output_type": "display_data"
    },
    {
     "data": {
      "text/plain": "Eq(T, 8.91722077777778)",
      "text/latex": "$\\displaystyle T = 8.91722077777778$"
     },
     "metadata": {},
     "output_type": "display_data"
    }
   ],
   "source": [
    "T = []\n",
    "for i in range(len(c)):\n",
    "    T_i = phi_i*G*L[i]*c[i]**3/3\n",
    "    display(sp.Eq(sp.Symbol(f'T_{i + 1}'), T_i))\n",
    "    T.append(T_i)\n",
    "T = sum(T)\n",
    "display(sp.Eq(sp.Symbol('T'), T))  # torques in N m"
   ]
  },
  {
   "cell_type": "markdown",
   "metadata": {
    "pycharm": {
     "name": "#%% md\n"
    }
   },
   "source": [
    "\\pagebreak\n",
    "\n",
    "\\begin{center}\n",
    "\\begin{tabular}{ccc}\n",
    "ME 4403 & Homework 2 & Gabe Morris \\\\\n",
    "& & gnm54\n",
    "\\end{tabular}\n",
    "\\end{center}\n",
    "\n",
    "# Problem 3-81\n",
    "## Given\n",
    "\n",
    "\\begin{center}\n",
    "\\includegraphics{images/fig19}\n",
    "\\end{center}\n",
    "\n",
    "A countershaft carrying two V-belt pulleys is shown in the figure. Pulley $A$ receives power from a motor through a belt with the belt tensions shown. The power is transmitted through the shaft and delivered to the belt on pulley $B$. Assume the belt tension on the loose side at $B$ is 15 percent of the tension on the tight side.\n",
    "\n",
    "## Find\n",
    "a. Determine the tensions in the belt on pulley B, assuming the shaft is running at a constant speed.\n",
    "b. Find the magnitudes of the bearing reaction forces, assuming the bearings act as simple supports.\n",
    "c. Draw shear-force and bending-moment diagrams for the shaft. If needed, make one set for the horizontal plane and another set for the vertical plane.\n",
    "d. At the point of maximum bending moment, determine the bending stress and the torsional shear stress.\n",
    "e. At the point of maximum bending moment, determine the principal stresses and the maximum shear stress.\n",
    "\n",
    "## Solution\n",
    "### Part A\n",
    "The directions of the torques about $A$ and $B$ are,\n",
    "\n",
    "\\begin{center}\n",
    "\\includegraphics{images/fig20}\n",
    "\\end{center}\n",
    "\n",
    "Since the shaft has no angular acceleration, $T_A=T_B$ (with directions shown above). It should also be noted that $T_1$ must be greater than $T_2$ because the torque shows that the pulley is more tensile at the bottom."
   ]
  },
  {
   "cell_type": "code",
   "execution_count": 22,
   "metadata": {
    "pycharm": {
     "name": "#%%\n"
    }
   },
   "outputs": [
    {
     "data": {
      "text/plain": "Eq(3*T_1 - 3*T_2, 1000)",
      "text/latex": "$\\displaystyle 3 T_{1} - 3 T_{2} = 1000$"
     },
     "metadata": {},
     "output_type": "display_data"
    },
    {
     "data": {
      "text/plain": "Eq(T_2, 0.15*T_1)",
      "text/latex": "$\\displaystyle T_{2} = 0.15 T_{1}$"
     },
     "metadata": {},
     "output_type": "display_data"
    },
    {
     "data": {
      "text/plain": "<IPython.core.display.Markdown object>",
      "text/markdown": "---"
     },
     "metadata": {},
     "output_type": "display_data"
    },
    {
     "data": {
      "text/plain": "Eq(T_1, 392.156862745098)",
      "text/latex": "$\\displaystyle T_{1} = 392.156862745098$"
     },
     "metadata": {},
     "output_type": "display_data"
    },
    {
     "data": {
      "text/plain": "Eq(T_2, 58.8235294117647)",
      "text/latex": "$\\displaystyle T_{2} = 58.8235294117647$"
     },
     "metadata": {},
     "output_type": "display_data"
    }
   ],
   "source": [
    "# Solving for T1 and T2\n",
    "T1, T2 = sp.symbols('T_1 T_2')\n",
    "T_A = 4*(sp.S(300) - 50)\n",
    "eq1 = sp.Eq(3*(T1 - T2), T_A)\n",
    "eq2 = sp.Eq(T2, sp.S(0.15)*T1)\n",
    "\n",
    "[display(eq) for eq in [eq1, eq2, Markdown('---')]]\n",
    "\n",
    "sol = sp.solve([eq1, eq2], dict=True)[0]\n",
    "_ = [display(sp.Eq(key, value)) for key, value in sol.items()]"
   ]
  },
  {
   "cell_type": "markdown",
   "metadata": {
    "pycharm": {
     "name": "#%% md\n"
    }
   },
   "source": [
    "### Part B"
   ]
  },
  {
   "cell_type": "code",
   "execution_count": 23,
   "metadata": {
    "pycharm": {
     "name": "#%%\n"
    }
   },
   "outputs": [
    {
     "data": {
      "text/plain": "Eq(-C_y - O_y + 350, 0)",
      "text/latex": "$\\displaystyle - C_{y} - O_{y} + 350 = 0$"
     },
     "metadata": {},
     "output_type": "display_data"
    },
    {
     "data": {
      "text/plain": "Eq(-C_z - O_z + 450.980392156863, 0)",
      "text/latex": "$\\displaystyle - C_{z} - O_{z} + 450.980392156863 = 0$"
     },
     "metadata": {},
     "output_type": "display_data"
    },
    {
     "data": {
      "text/plain": "Eq(2800 - 22*C_y, 0)",
      "text/latex": "$\\displaystyle 2800 - 22 C_{y} = 0$"
     },
     "metadata": {},
     "output_type": "display_data"
    },
    {
     "data": {
      "text/plain": "Eq(22*C_z - 7215.6862745098, 0)",
      "text/latex": "$\\displaystyle 22 C_{z} - 7215.6862745098 = 0$"
     },
     "metadata": {},
     "output_type": "display_data"
    },
    {
     "data": {
      "text/plain": "<IPython.core.display.Markdown object>",
      "text/markdown": "---"
     },
     "metadata": {},
     "output_type": "display_data"
    },
    {
     "data": {
      "text/plain": "Eq(C_y, 127.272727272727)",
      "text/latex": "$\\displaystyle C_{y} = 127.272727272727$"
     },
     "metadata": {},
     "output_type": "display_data"
    },
    {
     "data": {
      "text/plain": "Eq(O_y, 222.727272727273)",
      "text/latex": "$\\displaystyle O_{y} = 222.727272727273$"
     },
     "metadata": {},
     "output_type": "display_data"
    },
    {
     "data": {
      "text/plain": "Eq(C_z, 327.985739750445)",
      "text/latex": "$\\displaystyle C_{z} = 327.985739750445$"
     },
     "metadata": {},
     "output_type": "display_data"
    },
    {
     "data": {
      "text/plain": "Eq(O_z, 122.994652406418)",
      "text/latex": "$\\displaystyle O_{z} = 122.994652406418$"
     },
     "metadata": {},
     "output_type": "display_data"
    }
   ],
   "source": [
    "# Solving for the reactions\n",
    "Oy, Oz, Cy, Cz = sp.symbols('O_y O_z C_y C_z')\n",
    "\n",
    "eq1 = sp.Eq(300 + 50 - Oy - Cy, 0)  # Forces in y direction\n",
    "eq2 = sp.Eq(sol[T1] + sol[T2] - Oz - Cz, 0)  # Forces in z direction\n",
    "eq3 = sp.Eq(8*sp.S(350) - Cy*22, 0)  # Moments about z-axis\n",
    "eq4 = sp.Eq(-16*(sol[T1] + sol[T2]) + Cz*22, 0)  # Moments about the y-axis\n",
    "\n",
    "sol2 = sp.solve([eq1, eq2, eq3, eq4], dict=True)[0]\n",
    "[display(eq) for eq in [eq1, eq2, eq3, eq4, Markdown('---')]]\n",
    "_ = [display(sp.Eq(key, value)) for key, value in sol2.items()]"
   ]
  },
  {
   "cell_type": "markdown",
   "metadata": {
    "pycharm": {
     "name": "#%% md\n"
    }
   },
   "source": [
    "### Part C\n",
    "The shear and moment diagram for the two planes is,\n",
    "\n",
    "\\begin{center}\n",
    "\\includegraphics{images/fig21}\n",
    "\\end{center}\n",
    "\n",
    "### Part D"
   ]
  },
  {
   "cell_type": "code",
   "execution_count": 24,
   "metadata": {
    "pycharm": {
     "name": "#%%\n"
    }
   },
   "outputs": [
    {
     "data": {
      "text/plain": "Matrix([\n[2035.44782366535],\n[2110.88316471859]])",
      "text/latex": "$\\displaystyle \\left[\\begin{matrix}2035.44782366535\\\\2110.88316471859\\end{matrix}\\right]$"
     },
     "execution_count": 24,
     "metadata": {},
     "output_type": "execute_result"
    }
   ],
   "source": [
    "# Getting max bending moment\n",
    "# At A,\n",
    "M_A = sp.sqrt(1781.818181818181818**2 + 983.9572195**2)\n",
    "M_B = sp.sqrt(763.6363636363**2 + 1967.914439**2)\n",
    "sp.Matrix([M_A, M_B])"
   ]
  },
  {
   "cell_type": "markdown",
   "metadata": {
    "pycharm": {
     "name": "#%% md\n"
    }
   },
   "source": [
    "The maximum bending moment occurs at point B with a value of $2110.88316471859\\ lbf\\,in$."
   ]
  },
  {
   "cell_type": "code",
   "execution_count": 25,
   "metadata": {
    "pycharm": {
     "name": "#%%\n"
    }
   },
   "outputs": [
    {
     "data": {
      "text/plain": "21501.2793570833",
      "text/latex": "$\\displaystyle 21501.2793570833$"
     },
     "execution_count": 25,
     "metadata": {},
     "output_type": "execute_result"
    }
   ],
   "source": [
    "# Getting the bending stress\n",
    "c = sp.S(0.5)\n",
    "sig_x = (M_B*c/(sp.pi/4*c**4)).n()\n",
    "sig_x  # psi"
   ]
  },
  {
   "cell_type": "code",
   "execution_count": 26,
   "metadata": {
    "pycharm": {
     "name": "#%%\n"
    }
   },
   "outputs": [
    {
     "data": {
      "text/plain": "5092.95817894065",
      "text/latex": "$\\displaystyle 5092.95817894065$"
     },
     "execution_count": 26,
     "metadata": {},
     "output_type": "execute_result"
    }
   ],
   "source": [
    "# Getting the torsional stress\n",
    "t_xz = (1000*c/(sp.pi/2*c**4)).n()\n",
    "t_xz  # in psi"
   ]
  },
  {
   "cell_type": "markdown",
   "metadata": {
    "pycharm": {
     "name": "#%% md\n"
    }
   },
   "source": [
    "### Part E"
   ]
  },
  {
   "cell_type": "code",
   "execution_count": 27,
   "metadata": {
    "pycharm": {
     "name": "#%%\n"
    },
    "tags": [
     "hide"
    ]
   },
   "outputs": [
    {
     "data": {
      "text/plain": "<IPython.core.display.Markdown object>",
      "text/markdown": "**Center and Radius:**"
     },
     "metadata": {},
     "output_type": "display_data"
    },
    {
     "data": {
      "text/plain": "Eq(Eq(C, \\sigma_x/2 + \\sigma_y/2), 10750.6396785417)",
      "text/latex": "$\\displaystyle C = \\frac{\\sigma_{x}}{2} + \\frac{\\sigma_{y}}{2} = 10750.6396785417$"
     },
     "metadata": {},
     "output_type": "display_data"
    },
    {
     "data": {
      "text/plain": "Eq(Eq(R, sqrt(\\tau_{xy}**2 + (\\sigma_x/2 - \\sigma_y/2)**2)), 11895.9857309209)",
      "text/latex": "$\\displaystyle R = \\sqrt{\\tau_{xy}^{2} + \\left(\\frac{\\sigma_{x}}{2} - \\frac{\\sigma_{y}}{2}\\right)^{2}} = 11895.9857309209$"
     },
     "metadata": {},
     "output_type": "display_data"
    },
    {
     "data": {
      "text/plain": "<IPython.core.display.Markdown object>",
      "text/markdown": "---"
     },
     "metadata": {},
     "output_type": "display_data"
    },
    {
     "data": {
      "text/plain": "<IPython.core.display.Markdown object>",
      "text/markdown": "**Principle Stresses:**"
     },
     "metadata": {},
     "output_type": "display_data"
    },
    {
     "data": {
      "text/plain": "Eq(Eq(\\sigma_1, C + R), 22646.6254094625)",
      "text/latex": "$\\displaystyle \\sigma_{1} = C + R = 22646.6254094625$"
     },
     "metadata": {},
     "output_type": "display_data"
    },
    {
     "data": {
      "text/plain": "Eq(Eq(\\sigma_2, C - R), -1145.3460523792)",
      "text/latex": "$\\displaystyle \\sigma_{2} = C - R = -1145.3460523792$"
     },
     "metadata": {},
     "output_type": "display_data"
    },
    {
     "data": {
      "text/plain": "Eq(Eq(\\tau_1, R), 11895.9857309209)",
      "text/latex": "$\\displaystyle \\tau_{1} = R = 11895.9857309209$"
     },
     "metadata": {},
     "output_type": "display_data"
    },
    {
     "data": {
      "text/plain": "Eq(Eq(\\tau_2, -R), -11895.9857309209)",
      "text/latex": "$\\displaystyle \\tau_{2} = - R = -11895.9857309209$"
     },
     "metadata": {},
     "output_type": "display_data"
    },
    {
     "data": {
      "text/plain": "<IPython.core.display.Markdown object>",
      "text/markdown": "---"
     },
     "metadata": {},
     "output_type": "display_data"
    },
    {
     "data": {
      "text/plain": "<IPython.core.display.Markdown object>",
      "text/markdown": "**Angle of Occurrence:**"
     },
     "metadata": {},
     "output_type": "display_data"
    },
    {
     "data": {
      "text/plain": "Eq(Eq(2*\\phi_p, atan(2*\\tau_{xy}/(\\sigma_x - \\sigma_y))), 25.348569568567)",
      "text/latex": "$\\displaystyle 2 \\phi_{p} = \\operatorname{atan}{\\left(\\frac{2 \\tau_{xy}}{\\sigma_{x} - \\sigma_{y}} \\right)} = 25.348569568567$"
     },
     "metadata": {},
     "output_type": "display_data"
    }
   ],
   "source": [
    "mohr(sig_x, 0, t_xz)"
   ]
  },
  {
   "cell_type": "markdown",
   "metadata": {
    "pycharm": {
     "name": "#%% md\n"
    }
   },
   "source": [
    "\\pagebreak\n",
    "\n",
    "\\begin{center}\n",
    "\\begin{tabular}{ccc}\n",
    "ME 4403 & Homework 2 & Gabe Morris \\\\\n",
    "& & gnm54\n",
    "\\end{tabular}\n",
    "\\end{center}\n",
    "\n",
    "# Problem 3-95\n",
    "## Given\n",
    "\n",
    "\\begin{center}\n",
    "\\includegraphics{images/fig22}\n",
    "\\end{center}\n",
    "\n",
    "The cantilevered bar in the figure is made from a ductile material and is statically loaded with $F_y=250$ lbf and $F_x=F_z =0$. Analyze the stress situation in the small diameter at the shoulder at A.\n",
    "\n",
    "## Find\n",
    "a. Determine the precise location of the critical stress element at the cross section at $A$.\n",
    "b. Sketch the critical stress element and determine the magnitudes and directions for all stresses acting on it.\n",
    "c. For the critical stress element, determine the principle stresses and the maximum shear stress.\n",
    "\n",
    "## Solution\n",
    "### Part A\n",
    "The critical stress element will be at the top or bottom ($y=\\pm0.5\\ in$) because both the bending stress and shear stress are maximized at the farthest distance away from the neutral axis.\n",
    "\n",
    "### Part B\n",
    "The series of calculations are,"
   ]
  },
  {
   "cell_type": "code",
   "execution_count": 28,
   "metadata": {
    "pycharm": {
     "name": "#%%\n"
    }
   },
   "outputs": [
    {
     "data": {
      "text/plain": "15278.8745368220",
      "text/latex": "$\\displaystyle 15278.874536822$"
     },
     "execution_count": 28,
     "metadata": {},
     "output_type": "execute_result"
    }
   ],
   "source": [
    "T = sp.S(250)*12  # torque in lbf in\n",
    "c = sp.S(0.5)\n",
    "t_xz = (T*c/(sp.pi/2*c**4)).n()\n",
    "t_xz  # shear in psi"
   ]
  },
  {
   "cell_type": "code",
   "execution_count": 29,
   "metadata": {
    "pycharm": {
     "name": "#%%\n"
    }
   },
   "outputs": [
    {
     "data": {
      "text/plain": "28011.2699841736",
      "text/latex": "$\\displaystyle 28011.2699841736$"
     },
     "execution_count": 29,
     "metadata": {},
     "output_type": "execute_result"
    }
   ],
   "source": [
    "M = 11*250\n",
    "sig_x = (M*c/(sp.pi/4*c**4)).n()\n",
    "sig_x  # sigma in psi"
   ]
  },
  {
   "cell_type": "code",
   "execution_count": 30,
   "metadata": {
    "pycharm": {
     "name": "#%%\n"
    }
   },
   "outputs": [
    {
     "data": {
      "text/plain": "424.413181578388",
      "text/latex": "$\\displaystyle 424.413181578388$"
     },
     "execution_count": 30,
     "metadata": {},
     "output_type": "execute_result"
    }
   ],
   "source": [
    "t_trans = (sp.Rational(4, 3)*250/(sp.pi*c**2)).n()\n",
    "t_trans  # in psi"
   ]
  },
  {
   "cell_type": "markdown",
   "metadata": {
    "pycharm": {
     "name": "#%% md\n"
    }
   },
   "source": [
    "The transverse shear ($\\tau_{xy}$) may be neglected because it is an order of magnitude smaller than the other values. Here is the stress element diagram,\n",
    "\n",
    "\\begin{center}\n",
    "\\includegraphics{images/fig23}\n",
    "\\end{center}\n",
    "\n",
    "### Part C"
   ]
  },
  {
   "cell_type": "code",
   "execution_count": 31,
   "metadata": {
    "pycharm": {
     "name": "#%%\n"
    },
    "tags": [
     "hide"
    ]
   },
   "outputs": [
    {
     "data": {
      "text/plain": "<IPython.core.display.Markdown object>",
      "text/markdown": "**Center and Radius:**"
     },
     "metadata": {},
     "output_type": "display_data"
    },
    {
     "data": {
      "text/plain": "Eq(Eq(C, \\sigma_x/2 + \\sigma_y/2), 14005.6349920868)",
      "text/latex": "$\\displaystyle C = \\frac{\\sigma_{x}}{2} + \\frac{\\sigma_{y}}{2} = 14005.6349920868$"
     },
     "metadata": {},
     "output_type": "display_data"
    },
    {
     "data": {
      "text/plain": "Eq(Eq(R, sqrt(\\tau_{xy}**2 + (\\sigma_x/2 - \\sigma_y/2)**2)), 20726.8381246034)",
      "text/latex": "$\\displaystyle R = \\sqrt{\\tau_{xy}^{2} + \\left(\\frac{\\sigma_{x}}{2} - \\frac{\\sigma_{y}}{2}\\right)^{2}} = 20726.8381246034$"
     },
     "metadata": {},
     "output_type": "display_data"
    },
    {
     "data": {
      "text/plain": "<IPython.core.display.Markdown object>",
      "text/markdown": "---"
     },
     "metadata": {},
     "output_type": "display_data"
    },
    {
     "data": {
      "text/plain": "<IPython.core.display.Markdown object>",
      "text/markdown": "**Principle Stresses:**"
     },
     "metadata": {},
     "output_type": "display_data"
    },
    {
     "data": {
      "text/plain": "Eq(Eq(\\sigma_1, C + R), 34732.4731166902)",
      "text/latex": "$\\displaystyle \\sigma_{1} = C + R = 34732.4731166902$"
     },
     "metadata": {},
     "output_type": "display_data"
    },
    {
     "data": {
      "text/plain": "Eq(Eq(\\sigma_2, C - R), -6721.20313251659)",
      "text/latex": "$\\displaystyle \\sigma_{2} = C - R = -6721.20313251659$"
     },
     "metadata": {},
     "output_type": "display_data"
    },
    {
     "data": {
      "text/plain": "Eq(Eq(\\tau_1, R), 20726.8381246034)",
      "text/latex": "$\\displaystyle \\tau_{1} = R = 20726.8381246034$"
     },
     "metadata": {},
     "output_type": "display_data"
    },
    {
     "data": {
      "text/plain": "Eq(Eq(\\tau_2, -R), -20726.8381246034)",
      "text/latex": "$\\displaystyle \\tau_{2} = - R = -20726.8381246034$"
     },
     "metadata": {},
     "output_type": "display_data"
    },
    {
     "data": {
      "text/plain": "<IPython.core.display.Markdown object>",
      "text/markdown": "---"
     },
     "metadata": {},
     "output_type": "display_data"
    },
    {
     "data": {
      "text/plain": "<IPython.core.display.Markdown object>",
      "text/markdown": "**Angle of Occurrence:**"
     },
     "metadata": {},
     "output_type": "display_data"
    },
    {
     "data": {
      "text/plain": "Eq(Eq(2*\\phi_p, atan(2*\\tau_{xy}/(\\sigma_x - \\sigma_y))), 47.4895529219991)",
      "text/latex": "$\\displaystyle 2 \\phi_{p} = \\operatorname{atan}{\\left(\\frac{2 \\tau_{xy}}{\\sigma_{x} - \\sigma_{y}} \\right)} = 47.4895529219991$"
     },
     "metadata": {},
     "output_type": "display_data"
    }
   ],
   "source": [
    "mohr(sig_x, 0, t_xz)"
   ]
  }
 ],
 "metadata": {
  "celltoolbar": "Tags",
  "kernelspec": {
   "display_name": "Python 3 (ipykernel)",
   "language": "python",
   "name": "python3"
  },
  "language_info": {
   "codemirror_mode": {
    "name": "ipython",
    "version": 3
   },
   "file_extension": ".py",
   "mimetype": "text/x-python",
   "name": "python",
   "nbconvert_exporter": "python",
   "pygments_lexer": "ipython3",
   "version": "3.10.1"
  }
 },
 "nbformat": 4,
 "nbformat_minor": 1
}