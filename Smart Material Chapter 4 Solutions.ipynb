{
 "cells": [
  {
   "cell_type": "code",
   "metadata": {
    "collapsed": true,
    "pycharm": {
     "name": "#%%\n"
    },
    "ExecuteTime": {
     "end_time": "2024-09-15T20:34:02.882092Z",
     "start_time": "2024-09-15T20:34:02.465395Z"
    }
   },
   "source": [
    "# toc\n",
    "import sympy as sp\n",
    "import numpy as np\n",
    "import matplotlib.pyplot as plt\n",
    "\n",
    "plt.style.use('maroon_ipynb.mplstyle')"
   ],
   "outputs": [],
   "execution_count": 1
  },
  {
   "metadata": {},
   "cell_type": "markdown",
   "source": [
    "# Problem 4.1\n",
    "Compute the stress required to produce 100 microstrain in APC 856 when the applied electric field is held constant at zero  Compute the stress required to produce 100 microstrain when the electric displacement is held equal to zero.\n",
    "\n",
    "![PZT Materials](PZT_materials.png)\n",
    "\n",
    "## Solution\n",
    "We can use the constitutive equations. \n",
    "\n",
    "$$\n",
    "S = sT + dE\n",
    "$$\n",
    "$$\n",
    "D = dT + \\epsilon E\n",
    "$$"
   ]
  },
  {
   "metadata": {
    "ExecuteTime": {
     "end_time": "2024-09-15T20:34:02.903513Z",
     "start_time": "2024-09-15T20:34:02.893983Z"
    }
   },
   "cell_type": "code",
   "source": [
    "S = 100e-6\n",
    "s = 17e-12  # m^2/N\n",
    "T = S/s\n",
    "T  # Pa"
   ],
   "outputs": [
    {
     "data": {
      "text/plain": [
       "5882352.941176471"
      ]
     },
     "execution_count": 2,
     "metadata": {},
     "output_type": "execute_result"
    }
   ],
   "execution_count": 2
  },
  {
   "metadata": {},
   "cell_type": "markdown",
   "source": [
    "For finding the open circuit stress, we need the open circuit compliance.\n",
    "\n",
    "$$s^D = s^E(1 - k^2)$$"
   ]
  },
  {
   "metadata": {
    "ExecuteTime": {
     "end_time": "2024-09-15T20:34:02.940657Z",
     "start_time": "2024-09-15T20:34:02.938091Z"
    }
   },
   "cell_type": "code",
   "source": [
    "SD = s*(1 - 0.73**2)\n",
    "T = S/SD\n",
    "T  # Pa"
   ],
   "outputs": [
    {
     "data": {
      "text/plain": [
       "12593348.193484202"
      ]
     },
     "execution_count": 3,
     "metadata": {},
     "output_type": "execute_result"
    }
   ],
   "execution_count": 3
  },
  {
   "metadata": {},
   "cell_type": "markdown",
   "source": [
    "# Problem 4.2\n",
    "A new composition of piezoelectric material is found to have a compliance at zero electric field of $18.2 \\mu m^2/N$, a piezoelectric strain coefficient of $330 pm/V$, and a relative permittivity of 1500.\n",
    "\n",
    "a. Write the one-dimensional constitutive relationship for the material with strain and electric displacement as the dependent variables.\n",
    "b. Write the one-dimensional constitutive relationship with stress and electric field as the dependent variables.\n",
    "\n",
    "## Solution\n",
    "### Part A"
   ]
  },
  {
   "metadata": {
    "ExecuteTime": {
     "end_time": "2024-09-15T20:34:02.966076Z",
     "start_time": "2024-09-15T20:34:02.945607Z"
    }
   },
   "cell_type": "code",
   "source": [
    "S, D, s, d, eps, T, E = sp.symbols(r'S D s d \\epsilon T E')\n",
    "A = sp.Matrix([[s, d], [d, eps]])\n",
    "x = sp.Matrix([T, E])\n",
    "b = sp.Matrix([S, D])\n",
    "eq = sp.Eq(b, sp.MatMul(A, x))\n",
    "eq"
   ],
   "outputs": [
    {
     "data": {
      "text/plain": [
       "Eq(Matrix([\n",
       "[S],\n",
       "[D]]), Matrix([\n",
       "[s,        d],\n",
       "[d, \\epsilon]])*Matrix([\n",
       "[T],\n",
       "[E]]))"
      ],
      "text/latex": "$\\displaystyle \\left[\\begin{matrix}S\\\\D\\end{matrix}\\right] = \\left[\\begin{matrix}s & d\\\\d & \\epsilon\\end{matrix}\\right] \\left[\\begin{matrix}T\\\\E\\end{matrix}\\right]$"
     },
     "execution_count": 4,
     "metadata": {},
     "output_type": "execute_result"
    }
   ],
   "execution_count": 4
  },
  {
   "metadata": {},
   "cell_type": "markdown",
   "source": "$\\epsilon = \\epsilon_r\\cdot\\epsilon_o$"
  },
  {
   "metadata": {
    "ExecuteTime": {
     "end_time": "2024-09-15T20:34:02.988277Z",
     "start_time": "2024-09-15T20:34:02.977725Z"
    }
   },
   "cell_type": "code",
   "source": [
    "subs = {s: sp.S('18.2e-6'), d: sp.S('330e-12'), eps: 1500*sp.S('8.854e-12')}\n",
    "eq.subs(subs)"
   ],
   "outputs": [
    {
     "data": {
      "text/plain": [
       "Eq(Matrix([\n",
       "[S],\n",
       "[D]]), Matrix([\n",
       "[1.82e-5,   3.3e-10],\n",
       "[3.3e-10, 1.3281e-8]])*Matrix([\n",
       "[T],\n",
       "[E]]))"
      ],
      "text/latex": "$\\displaystyle \\left[\\begin{matrix}S\\\\D\\end{matrix}\\right] = \\left[\\begin{matrix}1.82 \\cdot 10^{-5} & 3.3 \\cdot 10^{-10}\\\\3.3 \\cdot 10^{-10} & 1.3281 \\cdot 10^{-8}\\end{matrix}\\right] \\left[\\begin{matrix}T\\\\E\\end{matrix}\\right]$"
     },
     "execution_count": 5,
     "metadata": {},
     "output_type": "execute_result"
    }
   ],
   "execution_count": 5
  },
  {
   "metadata": {},
   "cell_type": "markdown",
   "source": "### Part B"
  },
  {
   "metadata": {
    "ExecuteTime": {
     "end_time": "2024-09-15T20:34:03.100873Z",
     "start_time": "2024-09-15T20:34:02.994091Z"
    }
   },
   "cell_type": "code",
   "source": [
    "eq = sp.Eq(x, sp.MatMul(A.inv(), b))\n",
    "eq"
   ],
   "outputs": [
    {
     "data": {
      "text/plain": [
       "Eq(Matrix([\n",
       "[T],\n",
       "[E]]), Matrix([\n",
       "[\\epsilon/(\\epsilon*s - d**2), -d/(\\epsilon*s - d**2)],\n",
       "[      -d/(\\epsilon*s - d**2),  s/(\\epsilon*s - d**2)]])*Matrix([\n",
       "[S],\n",
       "[D]]))"
      ],
      "text/latex": "$\\displaystyle \\left[\\begin{matrix}T\\\\E\\end{matrix}\\right] = \\left[\\begin{matrix}\\frac{\\epsilon}{\\epsilon s - d^{2}} & - \\frac{d}{\\epsilon s - d^{2}}\\\\- \\frac{d}{\\epsilon s - d^{2}} & \\frac{s}{\\epsilon s - d^{2}}\\end{matrix}\\right] \\left[\\begin{matrix}S\\\\D\\end{matrix}\\right]$"
     },
     "execution_count": 6,
     "metadata": {},
     "output_type": "execute_result"
    }
   ],
   "execution_count": 6
  },
  {
   "metadata": {
    "ExecuteTime": {
     "end_time": "2024-09-15T20:34:03.123244Z",
     "start_time": "2024-09-15T20:34:03.110613Z"
    }
   },
   "cell_type": "code",
   "source": "eq.subs(subs)",
   "outputs": [
    {
     "data": {
      "text/plain": [
       "Eq(Matrix([\n",
       "[T],\n",
       "[E]]), Matrix([\n",
       "[ 54945.0796995757, -1365.24932616971],\n",
       "[-1365.24932616971,  75295568.8978449]])*Matrix([\n",
       "[S],\n",
       "[D]]))"
      ],
      "text/latex": "$\\displaystyle \\left[\\begin{matrix}T\\\\E\\end{matrix}\\right] = \\left[\\begin{matrix}54945.0796995757 & -1365.24932616971\\\\-1365.24932616971 & 75295568.8978449\\end{matrix}\\right] \\left[\\begin{matrix}S\\\\D\\end{matrix}\\right]$"
     },
     "execution_count": 7,
     "metadata": {},
     "output_type": "execute_result"
    }
   ],
   "execution_count": 7
  },
  {
   "metadata": {},
   "cell_type": "markdown",
   "source": [
    "# Problem 4.4\n",
    "The short-circuit mechanical compliance of a piezoelectric material has been measured to be 20 $\\mu m^2/N$ and the open-circuit mechanical compliance has been measured to be 16.2 $\\mu m^2/N$. If the stress-free relative permittivity is equal to 2800, compute the relative permittivity of the material when the strain is constrained to be zero.\n",
    "\n",
    "## Solution\n",
    "We can use the equation for the open circuit compliance to find the piezoelectric coupling coefficient, and apply that to the no strain permittivity relationship.\n",
    "\n",
    "$$s^D = s^E(1 - k^2)$$\n",
    "$$\\epsilon^S = \\epsilon^T(1 - k^2)$$"
   ]
  },
  {
   "metadata": {
    "ExecuteTime": {
     "end_time": "2024-09-15T20:34:03.131488Z",
     "start_time": "2024-09-15T20:34:03.129490Z"
    }
   },
   "cell_type": "code",
   "source": [
    "sD, sE, epsT = 16.2e-6, 20e-6, 2800\n",
    "k = np.sqrt(1 - sD/sE)\n",
    "k"
   ],
   "outputs": [
    {
     "data": {
      "text/plain": [
       "0.43588989435406744"
      ]
     },
     "execution_count": 8,
     "metadata": {},
     "output_type": "execute_result"
    }
   ],
   "execution_count": 8
  },
  {
   "metadata": {
    "ExecuteTime": {
     "end_time": "2024-09-15T20:34:03.199542Z",
     "start_time": "2024-09-15T20:34:03.197466Z"
    }
   },
   "cell_type": "code",
   "source": [
    "epsS = epsT*(1 - k**2)\n",
    "epsS"
   ],
   "outputs": [
    {
     "data": {
      "text/plain": [
       "2268.0"
      ]
     },
     "execution_count": 9,
     "metadata": {},
     "output_type": "execute_result"
    }
   ],
   "execution_count": 9
  }
 ],
 "metadata": {
  "kernelspec": {
   "display_name": "Python 3",
   "language": "python",
   "name": "python3"
  },
  "language_info": {
   "codemirror_mode": {
    "name": "ipython",
    "version": 2
   },
   "file_extension": ".py",
   "mimetype": "text/x-python",
   "name": "python",
   "nbconvert_exporter": "python",
   "pygments_lexer": "ipython2",
   "version": "2.7.6"
  }
 },
 "nbformat": 4,
 "nbformat_minor": 0
}
