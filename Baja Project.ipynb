{
 "cells": [
  {
   "cell_type": "markdown",
   "source": [
    "| Member      | Net ID |\n",
    "|-------------|--------|\n",
    "| Gabe Morris | gnm54  |\n",
    "| Colin Young | ccy33  |\n",
    "| Wyatt Davis | wd298  |\n",
    "| Alaa Chriat | aec652 |"
   ],
   "metadata": {
    "collapsed": false,
    "pycharm": {
     "name": "#%% md\n"
    }
   }
  },
  {
   "cell_type": "code",
   "execution_count": 1,
   "metadata": {
    "collapsed": true,
    "pycharm": {
     "name": "#%%\n"
    }
   },
   "outputs": [],
   "source": [
    "# Notebook Preamble\n",
    "%config ZMQInteractiveShell.ast_node_interactivity = 'all'\n",
    "import sympy as sp\n",
    "import numpy as np\n",
    "import matplotlib.pyplot as plt\n",
    "from IPython.display import display, Latex\n",
    "\n",
    "plt.style.use('maroon_ipynb.mplstyle')"
   ]
  },
  {
   "cell_type": "markdown",
   "source": [
    "\\pagebreak\n",
    "\\tableofcontents\n",
    "\\pagebreak"
   ],
   "metadata": {
    "collapsed": false,
    "pycharm": {
     "name": "#%% md\n"
    }
   }
  },
  {
   "cell_type": "markdown",
   "source": [
    "# Parameters\n",
    "\n",
    "\\begin{center}\n",
    "\\includegraphics{images/fig1} \\\\\n",
    "Figure 1: Baja Model\n",
    "\\end{center}\n",
    "\n",
    "| Property | Value |\n",
    "|----------|-------|\n",
    "| $W_1$    | ?     |\n",
    "| $W_2$    | ?     |\n",
    "| $k_{e1}$ | ?     |\n",
    "| $k_{e2}$ | ?     |\n",
    "| $L_1$    | ?     |\n",
    "| $L_2$    | ?     |\n",
    "| $I_G$    | ?     |\n",
    "\n",
    "The values $W_1$ and $W_2$ were estimated to be ? and ? respectfully. This information was used to calculate the equivalent stiffness in the front and rear suspensions,\n",
    "\n",
    "$$k_{e1}=\\frac{W_1}{\\Delta x}$$\n",
    "$$k_{e2}=\\frac{W_2}{\\Delta x}$$\n",
    "\n",
    "## Calculating $I_G$\n",
    "The pitch natural frequency $\\omega_{n2}^2$ (refers to the motion caused by a changing $\\theta$) was calculated by obtaining data from an accelerometer below. This data was obtained by producing a rocking motion with the accelerometer at the end of the vehicle. Similarly, the bounce natural frequency $\\omega_{n1}^2$ (refers to motion caused by vertical bouncing - changing $x$) was obtained from the accelerometer data below. The accelerometer was placed close to the center of gravity and vertical, bouncing motion was produced on the vehicle.\n",
    "\n",
    "*Show plots here and calculations*\n",
    "\n",
    "The mass moment of inertia may be calculated by obtaining the moment equation,\n",
    "\n",
    "$$I_G\\ddot{\\theta}=-k_{e1}(y_1-x+L_1\\theta)L_1+k_{e2}(y_2-x-L_2\\theta)L_2$$\n",
    "\n",
    "Since the data was obtained on a level surface and $x$ was very small, the equation simplifies to\n",
    "\n",
    "$$I_G\\ddot{\\theta}=-k_{e1}L_1^2\\theta-k_{e2}L_2^2\\theta$$\n",
    "$$I_Gs^2\\theta=-k_{e1}L_1^2\\theta-k_{e2}L_2^2\\theta$$\n",
    "\n",
    "Plugging in the pitch natural frequency in for $s$ and solving for $I_G$ (only interested in magnitude),\n",
    "\n",
    "$$I_G=\\frac{k_{e1}L_1^2+k_{e2}L_2^2}{\\omega_{n2}^2}$$\n",
    "\n",
    "*Calculate the moment of inertia*\n",
    "\n",
    "# Equations of Motion\n",
    "Summing the moments and forces in the vertical direction,\n",
    "\n",
    "$$\\begin{cases}\n",
    "m\\ddot{x}=k_{e1}(y_1-x+L_1\\theta)+k_{e2}(y_2-x-L_2\\theta) \\\\\n",
    "I_G\\ddot{\\theta}=-k_{e1}(y_1-x+L_1\\theta)L_1+k_{e2}(y_2-x-L_2\\theta)L_2\n",
    "\\end{cases}$$\n",
    "\n",
    "In the laplace space,\n",
    "\n",
    "$$\\begin{cases}\n",
    "ms^2X(s)=k_{e1}(Y_1(s)-X(s)+L_1\\theta(s))+k_{e2}(Y_2(s)-X(s)-L_2\\theta(s)) \\\\\n",
    "I_Gs^2\\theta(s)=-k_{e1}(Y_1(s)-X(s)+L_1\\theta(s))L_1+k_{e2}(Y_2(s)-X(s)-L_2\\theta(s))L_2\n",
    "\\end{cases}$$\n",
    "\n",
    "## Natural Frequencies\n",
    "The system may be placed in the matrix form with $y_1$ and $y_2$ being set equal to zero because the free response is the main interest in determining the natural frequencies."
   ],
   "metadata": {
    "collapsed": false,
    "pycharm": {
     "name": "#%% md\n"
    }
   }
  },
  {
   "cell_type": "code",
   "execution_count": 2,
   "outputs": [
    {
     "data": {
      "text/plain": "Eq(X*m*s**2, k_1*(L_1*\\theta - X) + k_2*(-L_2*\\theta - X))",
      "text/latex": "$\\displaystyle X m s^{2} = k_{1} \\left(L_{1} \\theta - X\\right) + k_{2} \\left(- L_{2} \\theta - X\\right)$"
     },
     "execution_count": 2,
     "metadata": {},
     "output_type": "execute_result"
    },
    {
     "data": {
      "text/plain": "Eq(I_G*\\theta*s**2, -L_1*k_1*(L_1*\\theta - X) + L_2*k_2*(-L_2*\\theta - X))",
      "text/latex": "$\\displaystyle I_{G} \\theta s^{2} = - L_{1} k_{1} \\left(L_{1} \\theta - X\\right) + L_{2} k_{2} \\left(- L_{2} \\theta - X\\right)$"
     },
     "execution_count": 2,
     "metadata": {},
     "output_type": "execute_result"
    },
    {
     "data": {
      "text/plain": "Eq(Matrix([\n[k_1 + k_2 + m*s**2,                 -L_1*k_1 + L_2*k_2],\n[-L_1*k_1 + L_2*k_2, I_G*s**2 + L_1**2*k_1 + L_2**2*k_2]])*Matrix([\n[     X],\n[\\theta]]), Matrix([\n[0],\n[0]]))",
      "text/latex": "$\\displaystyle \\left[\\begin{matrix}k_{1} + k_{2} + m s^{2} & - L_{1} k_{1} + L_{2} k_{2}\\\\- L_{1} k_{1} + L_{2} k_{2} & I_{G} s^{2} + L_{1}^{2} k_{1} + L_{2}^{2} k_{2}\\end{matrix}\\right] \\left[\\begin{matrix}X\\\\\\theta\\end{matrix}\\right] = \\left[\\begin{matrix}0\\\\0\\end{matrix}\\right]$"
     },
     "execution_count": 2,
     "metadata": {},
     "output_type": "execute_result"
    }
   ],
   "source": [
    "# Input all measured quantities here\n",
    "# For now, these are the quantities from example in the book\n",
    "k1 = 1.6e4\n",
    "k2 = 2.5e4\n",
    "L1 = 1.5\n",
    "L2 = 1.1\n",
    "m = 730\n",
    "IG = 1350\n",
    "\n",
    "# Putting the system in the matrix form\n",
    "# Defining symbols (underscore denotes symbolic variable)\n",
    "L1_, L2_ = sp.symbols('L_1 L_2')\n",
    "x_, k1_, k2_, IG_, s_, m_ = sp.symbols('x k_1 k_2 I_G s m')\n",
    "X_, theta_ = sp.symbols(r'X \\theta')\n",
    "\n",
    "eq1 = sp.Eq(m_*s_**2*X_, k1_*(-X_ + L1_*theta_) + k2_*(-X_ - L2_*theta_))\n",
    "eq1\n",
    "eq2 = sp.Eq(IG_*s_**2*theta_, -k1_*(-X_ + L1_*theta_)*L1_ + k2_*(-X_ - L2_*theta_)*L2_)\n",
    "eq2\n",
    "\n",
    "M_ = sp.linear_eq_to_matrix([eq1, eq2], (X_, theta_))[0]\n",
    "X_matrix = sp.Matrix([X_, theta_])\n",
    "sp.Eq(sp.MatMul(M_, X_matrix), sp.Matrix([0, 0]))"
   ],
   "metadata": {
    "collapsed": false,
    "pycharm": {
     "name": "#%%\n"
    }
   }
  },
  {
   "cell_type": "markdown",
   "source": [
    "The expanded matrix is,"
   ],
   "metadata": {
    "collapsed": false,
    "pycharm": {
     "name": "#%% md\n"
    }
   }
  },
  {
   "cell_type": "code",
   "execution_count": 3,
   "outputs": [
    {
     "data": {
      "text/plain": "I_G*m*s**4 + L_1**2*k_1*k_2 + 2*L_1*L_2*k_1*k_2 + L_2**2*k_1*k_2 + s**2*(I_G*k_1 + I_G*k_2 + L_1**2*k_1*m + L_2**2*k_2*m)",
      "text/latex": "$\\displaystyle I_{G} m s^{4} + L_{1}^{2} k_{1} k_{2} + 2 L_{1} L_{2} k_{1} k_{2} + L_{2}^{2} k_{1} k_{2} + s^{2} \\left(I_{G} k_{1} + I_{G} k_{2} + L_{1}^{2} k_{1} m + L_{2}^{2} k_{2} m\\right)$"
     },
     "execution_count": 3,
     "metadata": {},
     "output_type": "execute_result"
    },
    {
     "data": {
      "text/plain": "985500*s**4 + 103712500.0*s**2 + 2704000000.0",
      "text/latex": "$\\displaystyle 985500 s^{4} + 103712500.0 s^{2} + 2704000000.0$"
     },
     "execution_count": 3,
     "metadata": {},
     "output_type": "execute_result"
    },
    {
     "data": {
      "text/plain": "<IPython.core.display.Latex object>",
      "text/latex": "Roots/Natural Frequencies:"
     },
     "metadata": {},
     "output_type": "display_data"
    },
    {
     "data": {
      "text/plain": "-6.90068060114689*I",
      "text/latex": "$\\displaystyle - 6.90068060114689 i$"
     },
     "metadata": {},
     "output_type": "display_data"
    },
    {
     "data": {
      "text/plain": "6.90068060114689*I",
      "text/latex": "$\\displaystyle 6.90068060114689 i$"
     },
     "metadata": {},
     "output_type": "display_data"
    },
    {
     "data": {
      "text/plain": "-7.59072228952376*I",
      "text/latex": "$\\displaystyle - 7.59072228952376 i$"
     },
     "metadata": {},
     "output_type": "display_data"
    },
    {
     "data": {
      "text/plain": "7.59072228952376*I",
      "text/latex": "$\\displaystyle 7.59072228952376 i$"
     },
     "metadata": {},
     "output_type": "display_data"
    }
   ],
   "source": [
    "# Expanding the matrix symbolically\n",
    "poly_ = M_.det()\n",
    "poly_.collect(s_)\n",
    "\n",
    "# Getting a numerical polynomial\n",
    "poly = poly_.subs([\n",
    "    (L1_, L1),\n",
    "    (IG_, IG),\n",
    "    (m_, m),\n",
    "    (L2_, L2),\n",
    "    (k1_, k1),\n",
    "    (k2_, k2)\n",
    "])\n",
    "poly\n",
    "\n",
    "display(Latex('Roots/Natural Frequencies:'))\n",
    "roots = sp.roots(poly)\n",
    "roots_keys = list(roots.keys())\n",
    "nat_freq = [abs(sp.im(roots_keys[0])), abs(sp.im(roots_keys[-1]))]\n",
    "roots_numpy = np.float64(nat_freq)\n",
    "for root in roots:\n",
    "    display(root)"
   ],
   "metadata": {
    "collapsed": false,
    "pycharm": {
     "name": "#%%\n"
    }
   }
  },
  {
   "cell_type": "markdown",
   "source": [
    "## Mode Ratio $\\frac{X}{\\theta}$\n",
    "The mode ratio $\\frac{X}{\\theta}$ may be found using the bounce equation (first equation in the systems above),"
   ],
   "metadata": {
    "collapsed": false,
    "pycharm": {
     "name": "#%% md\n"
    }
   }
  },
  {
   "cell_type": "code",
   "execution_count": 4,
   "outputs": [
    {
     "data": {
      "text/plain": "Eq(X/\\theta, (L_1*k_1 - L_2*k_2)/(k_1 + k_2 + m*s**2))",
      "text/latex": "$\\displaystyle \\frac{X}{\\theta} = \\frac{L_{1} k_{1} - L_{2} k_{2}}{k_{1} + k_{2} + m s^{2}}$"
     },
     "execution_count": 4,
     "metadata": {},
     "output_type": "execute_result"
    },
    {
     "data": {
      "text/plain": "Eq(X/\\theta, -3500.0/(730*s**2 + 41000.0))",
      "text/latex": "$\\displaystyle \\frac{X}{\\theta} = - \\frac{3500.0}{730 s^{2} + 41000.0}$"
     },
     "execution_count": 4,
     "metadata": {},
     "output_type": "execute_result"
    },
    {
     "data": {
      "text/plain": "Eq(X/\\theta, -3500.0/(41000.0 - 730*\\omega**2))",
      "text/latex": "$\\displaystyle \\frac{X}{\\theta} = - \\frac{3500.0}{41000.0 - 730 \\omega^{2}}$"
     },
     "execution_count": 4,
     "metadata": {},
     "output_type": "execute_result"
    }
   ],
   "source": [
    "# Finding the mode ratio\n",
    "T_ = sp.Symbol('T')\n",
    "w_ = sp.Symbol(r'\\omega')\n",
    "\n",
    "sol = sp.solve(eq1.subs(X_, T_*theta_), T_)[0]\n",
    "sp.Eq(X_/theta_, sol)\n",
    "\n",
    "sol_num = sol.subs([(L1_, L1), (L2_, L2), (k1_, k1), (k2_, k2), (m_, m)])\n",
    "sp.Eq(X_/theta_, sol_num)\n",
    "\n",
    "sol_omega = sol_num.subs(s_, w_*sp.I)\n",
    "sp.Eq(X_/theta_, sol_omega)"
   ],
   "metadata": {
    "collapsed": false,
    "pycharm": {
     "name": "#%%\n"
    }
   }
  },
  {
   "cell_type": "markdown",
   "source": [
    "Now we can calculate the mode shape based on the system's natural frequencies and plot over a range of frequencies."
   ],
   "metadata": {
    "collapsed": false,
    "pycharm": {
     "name": "#%% md\n"
    }
   }
  },
  {
   "cell_type": "code",
   "execution_count": 5,
   "outputs": [
    {
     "data": {
      "text/plain": "-0.561091364368354",
      "text/latex": "$\\displaystyle -0.561091364368354$"
     },
     "execution_count": 5,
     "metadata": {},
     "output_type": "execute_result"
    },
    {
     "data": {
      "text/plain": "3.29592502385955",
      "text/latex": "$\\displaystyle 3.29592502385955$"
     },
     "execution_count": 5,
     "metadata": {},
     "output_type": "execute_result"
    }
   ],
   "source": [
    "%config ZMQInteractiveShell.ast_node_interactivity = 'last_expr'\n",
    "# Getting the mode shapes\n",
    "# Units are length\n",
    "mode1 = sol_omega.subs(w_, nat_freq[0]).n()\n",
    "mode1\n",
    "mode2 = sol_omega.subs(w_, nat_freq[1]).n()\n",
    "mode2"
   ],
   "metadata": {
    "collapsed": false,
    "pycharm": {
     "name": "#%%\n"
    }
   }
  },
  {
   "cell_type": "code",
   "source": [
    "# Getting a plot\n",
    "nat1, nat2 = roots_numpy\n",
    "mode_lamb = sp.lambdify(w_, sol_omega, modules='numpy')\n",
    "w = np.linspace(6.5, 8, 1000)\n",
    "\n",
    "plt.plot(w, mode_lamb(w), zorder=2)\n",
    "plt.scatter(nat1, np.float64(mode1), marker='o', label='Mode 1', zorder=3, color='black')\n",
    "plt.scatter(nat2, np.float64(mode2), marker='s', label='Mode 2', zorder=3, color='black')\n",
    "plt.legend()\n",
    "plt.xlabel(r'$\\omega$')\n",
    "plt.ylabel(r'$\\frac{x}{\\theta}$')\n",
    "plt.show()"
   ],
   "metadata": {
    "collapsed": false,
    "pycharm": {
     "name": "#%%\n"
    }
   },
   "execution_count": 6,
   "outputs": [
    {
     "data": {
      "text/plain": "<Figure size 2400x1440 with 1 Axes>",
      "image/png": "[encoded data removed]"
     },
     "metadata": {
      "needs_background": "light"
     },
     "output_type": "display_data"
    }
   ]
  },
  {
   "cell_type": "markdown",
   "source": [
    "*Comment on the values. A positive value means that the node is behind the vehicle and vice versa. A larger value means that the mode is predominantly a bounce motion since $x>\\theta$ and vice versa. We want the bounce to be behind the rear axle and the pitch value to be near the front axle. See more on page 847.*"
   ],
   "metadata": {
    "collapsed": false,
    "pycharm": {
     "name": "#%% md\n"
    }
   }
  }
 ],
 "metadata": {
  "kernelspec": {
   "display_name": "Python 3",
   "language": "python",
   "name": "python3"
  },
  "language_info": {
   "codemirror_mode": {
    "name": "ipython",
    "version": 2
   },
   "file_extension": ".py",
   "mimetype": "text/x-python",
   "name": "python",
   "nbconvert_exporter": "python",
   "pygments_lexer": "ipython2",
   "version": "2.7.6"
  }
 },
 "nbformat": 4,
 "nbformat_minor": 0
}