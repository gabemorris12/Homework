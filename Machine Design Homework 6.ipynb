{
 "cells": [
  {
   "cell_type": "markdown",
   "source": [
    "\\begin{center}\n",
    "Gabe Morris\n",
    "\\end{center}"
   ],
   "metadata": {
    "collapsed": false,
    "pycharm": {
     "name": "#%% md\n"
    }
   }
  },
  {
   "cell_type": "code",
   "execution_count": 1,
   "metadata": {
    "collapsed": true,
    "pycharm": {
     "name": "#%%\n"
    }
   },
   "outputs": [],
   "source": [
    "# Notebook Preamble\n",
    "import sympy as sp\n",
    "import numpy as np\n",
    "import matplotlib.pyplot as plt\n",
    "\n",
    "plt.style.use('maroon_ipynb.mplstyle')"
   ]
  },
  {
   "cell_type": "markdown",
   "source": [
    "\\pagebreak\n",
    "\\tableofcontents\n",
    "\\pagebreak"
   ],
   "metadata": {
    "collapsed": false,
    "pycharm": {
     "name": "#%% md\n"
    }
   }
  },
  {
   "cell_type": "markdown",
   "source": [
    "\\begin{center}\n",
    "\\begin{tabular}{c c c}\n",
    "ME 4403 & Homework 6 & Gabe Morris \\\\\n",
    "& & gnm54\n",
    "\\end{tabular}\n",
    "\\end{center}\n",
    "\n",
    "# Problem 11-1\n",
    "## Given\n",
    "Timken rates its bearings for 3000 hours at 500 rpm.\n",
    "\n",
    "## Find\n",
    "Determine the catalog rating for a ball bearing running for 10,000 hours at 1800 rpm with a load of 2.75 kN with a reliability of 90%.\n",
    "\n",
    "## Solution\n",
    "\n",
    "Use Eq. 11-3,\n",
    "\n",
    "$$C_{10}=F_D\\left(\\frac{\\mathcal{L}_Dn_D60}{\\mathcal{L}_Rn_R60}\\right)^{1/a}$$"
   ],
   "metadata": {
    "collapsed": false,
    "pycharm": {
     "name": "#%% md\n"
    }
   }
  },
  {
   "cell_type": "code",
   "execution_count": 2,
   "outputs": [
    {
     "data": {
      "text/plain": "6.29592833404333",
      "text/latex": "$\\displaystyle 6.29592833404333$"
     },
     "execution_count": 2,
     "metadata": {},
     "output_type": "execute_result"
    }
   ],
   "source": [
    "FD = sp.S('2.75')\n",
    "nD = 1800\n",
    "LD = 10_000\n",
    "LR = 3_000\n",
    "nR = 500\n",
    "C10 = FD*(LD*nD*60/(LR*nR*60))**(1/sp.S(3))\n",
    "C10  # kN"
   ],
   "metadata": {
    "collapsed": false,
    "pycharm": {
     "name": "#%%\n"
    }
   }
  },
  {
   "cell_type": "markdown",
   "source": [
    "\\pagebreak\n",
    "\n",
    "\\begin{center}\n",
    "\\begin{tabular}{ccc}\n",
    "ME 4403 & Homework 6 & Gabe Morris \\\\\n",
    "& & gnm54\n",
    "\\end{tabular}\n",
    "\\end{center}\n",
    "\n",
    "# Problem 11-3\n",
    "## Given\n",
    "An angular-contact, inner ring rotating, 02-series ball bearing is required for an application in which the life requirement is 40 kh at 520 rpm. The design radial load is 725 lbf. The application factor is 1.4. The reliability goal is 0.90.\n",
    "\n",
    "## Find\n",
    "Find the multiple of rating life $x_D$ required and the catalog rating $C_{10}$ with which to enter Table 11–2. Choose a bearing and estimate the existing reliability in service."
   ],
   "metadata": {
    "collapsed": false,
    "pycharm": {
     "name": "#%% md\n"
    }
   }
  }
 ],
 "metadata": {
  "kernelspec": {
   "display_name": "Python 3",
   "language": "python",
   "name": "python3"
  },
  "language_info": {
   "codemirror_mode": {
    "name": "ipython",
    "version": 2
   },
   "file_extension": ".py",
   "mimetype": "text/x-python",
   "name": "python",
   "nbconvert_exporter": "python",
   "pygments_lexer": "ipython2",
   "version": "2.7.6"
  }
 },
 "nbformat": 4,
 "nbformat_minor": 0
}