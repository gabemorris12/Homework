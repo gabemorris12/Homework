{
 "cells": [
  {
   "cell_type": "markdown",
   "source": [
    "\\begin{center}\n",
    "Gabe Morris\n",
    "\\end{center}"
   ],
   "metadata": {
    "collapsed": false,
    "pycharm": {
     "name": "#%% md\n"
    }
   }
  },
  {
   "cell_type": "code",
   "execution_count": 1,
   "metadata": {
    "collapsed": true,
    "pycharm": {
     "name": "#%%\n"
    }
   },
   "outputs": [],
   "source": [
    "from slip_system import SlipSystem"
   ]
  },
  {
   "cell_type": "markdown",
   "source": [
    "\\pagebreak\n",
    "\\tableofcontents\n",
    "\\pagebreak"
   ],
   "metadata": {
    "collapsed": false,
    "pycharm": {
     "name": "#%% md\n"
    }
   }
  },
  {
   "cell_type": "markdown",
   "source": [
    "\\begin{center}\n",
    "\\begin{tabular}{c c c}\n",
    "ME 3403 & Homework 2 & Gabe Morris \\\\\n",
    "& & gnm54\n",
    "\\end{tabular}\n",
    "\\end{center}\n",
    "\n",
    "# Problem 1\n",
    "## Find\n",
    "Derive all the slip systems for an FCC unit cell.\n",
    "\n",
    "a. How many slip systems do you get?\n",
    "b. How many of these systems are redundant? How can you tell?\n",
    "\n",
    "## Solution\n",
    "The number of slip systems may be found by multiplying the number of diagonals along the closest packed plane (or highest atomic density plane for BCC) by the number of planes within that family of close packed planes. For the FCC system, the closest packed plane is the {111} family. For the BCC, the highest atomic density plane is the {110} family.\n",
    "\n",
    "### Part A\n",
    "There are 12 slip systems in an FCC unit cell. The Figure 1 shown in Part B is a wonderful illustration that shows that there are four $(111)$-type planes that contain three $[1\\bar{1}0]$-type directions.\n",
    "\n",
    "\\begin{center}\n",
    "$4\\cdot3=12$\n",
    "\\end{center}\n",
    "\n",
    "### Part B\n",
    "\\begin{center}\n",
    "\\includegraphics{images/fcc} \\\\\n",
    "Figure 1: FCC Slip Systems\n",
    "\\end{center}\n",
    "\n",
    "Figure 1 is taken from *Foundations of Materials Science and Engineering* by William F. Smith, et al. William F. Smith, et al. states, \"There are eight {111} octahedral planes in the FCC crystal structure. The $(111)$-type planes at opposite faces of the octahedron that are parallel to each other are considered the same type of $(111)$ slip plane. Thus, there are only four different types of $(111)$ slip planes in the FCC crystal structure\" (p. 259). The number of redundant slip systems is a subjective term. If all planes and all directions are considered, then each plane would have 6 diagonals (shown for each plane in Figure 1), and there would be an additional 4 planes from the above octahedral. If this is what is considered redundant, then there would be\n",
    "\n",
    "\\begin{center}\n",
    "$8\\cdot6=48$ \\\\\n",
    "$48-12=36$\n",
    "\\end{center}\n",
    "\n",
    "36 additional redundant systems. If we do not consider the other four planes on the octahedral and only consider the extra three negative directions for each plane, then there would be\n",
    "\n",
    "\\begin{center}\n",
    "$4\\cdot6=48$ \\\\\n",
    "$24-12=12$\n",
    "\\end{center}\n",
    "\n",
    "12 additional redundant systems.\n",
    "\n",
    "\\pagebreak\n",
    "\n",
    "\\begin{center}\n",
    "\\begin{tabular}{c c c}\n",
    "ME 3403 & Homework 2 & Gabe Morris \\\\\n",
    "& & gnm54\n",
    "\\end{tabular}\n",
    "\\end{center}\n",
    "\n",
    "# Slip System Class\n",
    "There is a class called `SlipSystem` inside of `slip_system.py`, which can be found [here](). `SlipSystem` is capable of generating a \\LaTeX"
   ],
   "metadata": {
    "collapsed": false,
    "pycharm": {
     "name": "#%% md\n"
    }
   }
  },
  {
   "cell_type": "code",
   "execution_count": 2,
   "outputs": [
    {
     "data": {
      "text/plain": "<IPython.core.display.Latex object>",
      "text/latex": "\\begin{tabular}{lllllllllllll}\n\\multicolumn{13}{c}{Force Direction: $[331]$} \\\\\n\\toprule\nSlip Plane & \\multicolumn{3}{c}{$(111)$} & \\multicolumn{3}{c}{$(\\bar{1}11)$} & \\multicolumn{3}{c}{$(1\\bar{1}1)$} & \\multicolumn{3}{c}{$(11\\bar{1})$} \\\\\n\\midrule\nSlip Direction & $[\\bar{1}10]$ & $[10\\bar{1}]$ & $[0\\bar{1}1]$ & $[\\bar{1}\\bar{1}0]$ & $[0\\bar{1}1]$ & $[\\bar{1}0\\bar{1}]$ & $[110]$ & $[\\bar{1}01]$ & $[011]$ & $[101]$ & $[1\\bar{1}0]$ & $[0\\bar{1}\\bar{1}]$ \\\\\n$\\cos(\\phi)$ & 0.93 & 0.93 & 0.93 & 0.13 & 0.13 & 0.13 & 0.13 & 0.13 & 0.13 & 0.66 & 0.66 & 0.66 \\\\\n$\\cos(\\lambda)$ & 0 & 0.32 & -0.32 & -0.97 & -0.32 & -0.65 & 0.97 & -0.32 & 0.65 & 0.65 & 0 & -0.65 \\\\\n|S.F.| & 0 & 0.30 & 0.30 & 0.13 & 0.043 & 0.086 & 0.13 & 0.043 & 0.086 & 0.43 & 0 & 0.43 \\\\\n\\end{tabular}"
     },
     "metadata": {},
     "output_type": "display_data"
    }
   ],
   "source": [
    "example = SlipSystem(\n",
    "    # Force Direction\n",
    "    [3, 3, 1],\n",
    "\n",
    "    # Slip Planes\n",
    "    [[1, 1, 1], [-1, 1, 1], [1, -1, 1], [1, 1, -1]],\n",
    "\n",
    "    # Slip directions on each plane\n",
    "    [[-1, 1, 0], [1, 0, -1], [0, -1, 1]],\n",
    "    [[-1, -1, 0], [0, -1, 1], [-1, 0, -1]],\n",
    "    [[1, 1, 0], [-1, 0, 1], [0, 1, 1]],\n",
    "    [[1, 0, 1], [1, -1, 0], [0, -1, -1]]\n",
    ")\n",
    "\n",
    "example.generate_table()"
   ],
   "metadata": {
    "collapsed": false,
    "pycharm": {
     "name": "#%%\n"
    }
   }
  }
 ],
 "metadata": {
  "kernelspec": {
   "display_name": "Python 3",
   "language": "python",
   "name": "python3"
  },
  "language_info": {
   "codemirror_mode": {
    "name": "ipython",
    "version": 2
   },
   "file_extension": ".py",
   "mimetype": "text/x-python",
   "name": "python",
   "nbconvert_exporter": "python",
   "pygments_lexer": "ipython2",
   "version": "2.7.6"
  }
 },
 "nbformat": 4,
 "nbformat_minor": 0
}