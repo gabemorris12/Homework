{
 "cells": [
  {
   "cell_type": "markdown",
   "source": [
    "\\begin{center}\n",
    "Gabe Morris\n",
    "\\end{center}"
   ],
   "metadata": {
    "collapsed": false,
    "pycharm": {
     "name": "#%% md\n"
    }
   }
  },
  {
   "cell_type": "code",
   "execution_count": 1,
   "metadata": {
    "collapsed": true,
    "pycharm": {
     "name": "#%%\n"
    }
   },
   "outputs": [],
   "source": [
    "# Notebook Preamble\n",
    "import sympy as sp\n",
    "import matplotlib.pyplot as plt\n",
    "from IPython.display import display\n",
    "\n",
    "plt.style.use('maroon_ipynb.mplstyle')"
   ]
  },
  {
   "cell_type": "markdown",
   "source": [
    "\\pagebreak\n",
    "\\tableofcontents\n",
    "\\pagebreak"
   ],
   "metadata": {
    "collapsed": false,
    "pycharm": {
     "name": "#%% md\n"
    }
   }
  },
  {
   "cell_type": "markdown",
   "source": [
    "\\begin{center}\n",
    "\\begin{tabular}{c c c}\n",
    "ME 4403 & Final Exam & Gabe Morris \\\\\n",
    "& & gnm54\n",
    "\\end{tabular}\n",
    "\\end{center}\n",
    "\n",
    "# Problem 3-83\n",
    "## Given\n",
    "\n",
    "\\begin{center}\n",
    "\\includegraphics{images/fig1}\n",
    "\\end{center}\n",
    "\n",
    "A gear reduction unit uses the countershaft shown in the figure above. Gear A receives power from another gear with a transmitted force $F_A$ applied at the $20^\\circ$ pressure angle as shown. The power is transmitted through the shaft and delivered through gear B through a transmitted force $F_B$ at the pressure angle shown.\n",
    "\n",
    "## Find\n",
    "a. Determine the force $F_B$, assuming the shaft is running at a constant speed.\n",
    "b. Find the bearing reaction forces, assuming the bearings act as simple supports.\n",
    "c. Draw a shear-force and bending moment diagrams for the shaft. If needed, make one set for the horizontal plane and another set for the vertical plane.\n",
    "d. At the point of maximum bending moment, determine the bending stress and the torsional shear stress.\n",
    "e. At the point of maximum bending moment, determine the principal stresses and the maximum shear stress.\n",
    "\n",
    "## Solution\n",
    "### Part A and Part B\n",
    "$F_B$ and the reaction forces may be found by summing the forces and taking the moments about the point $O$."
   ],
   "metadata": {
    "collapsed": false,
    "pycharm": {
     "name": "#%% md\n"
    }
   }
  },
  {
   "cell_type": "code",
   "execution_count": 2,
   "outputs": [
    {
     "data": {
      "text/plain": "Eq(C_y, 183.118820416782)",
      "text/latex": "$\\displaystyle C_{y} = 183.118820416782$"
     },
     "metadata": {},
     "output_type": "display_data"
    },
    {
     "data": {
      "text/plain": "Eq(C_z, -861.477082334154)",
      "text/latex": "$\\displaystyle C_{z} = -861.477082334154$"
     },
     "metadata": {},
     "output_type": "display_data"
    },
    {
     "data": {
      "text/plain": "Eq(F_B, 750.0)",
      "text/latex": "$\\displaystyle F_{B} = 750.0$"
     },
     "metadata": {},
     "output_type": "display_data"
    },
    {
     "data": {
      "text/plain": "Eq(O_y, -208.511499158303)",
      "text/latex": "$\\displaystyle O_{y} = -208.511499158303$"
     },
     "metadata": {},
     "output_type": "display_data"
    },
    {
     "data": {
      "text/plain": "Eq(O_z, 259.313659742423)",
      "text/latex": "$\\displaystyle O_{z} = 259.313659742423$"
     },
     "metadata": {},
     "output_type": "display_data"
    }
   ],
   "source": [
    "# Using matrices takes less thinking and more letting python do the work.\n",
    "Oy, Oz, Cy, Cz, F_B = sp.symbols('O_y O_z C_y C_z F_B')\n",
    "zero = sp.ZeroMatrix(3, 1)\n",
    "F_A_mat = sp.Matrix([0, 300*sp.cos(sp.rad(20)), -300*sp.sin(sp.rad(20))])\n",
    "F_B_mat = sp.Matrix([0, -F_B*sp.sin(sp.rad(20)), F_B*sp.cos(sp.rad(20))])\n",
    "O = sp.Matrix([0, Oy, Oz])\n",
    "C = sp.Matrix([0, Cy, Cz])\n",
    "\n",
    "# Sum forces\n",
    "sys1 = sp.Eq(O + F_A_mat + F_B_mat + C, zero)\n",
    "\n",
    "# Sum moments about O\n",
    "rA = sp.Matrix([16, 0, 10])\n",
    "rC = sp.Matrix([16 + 14, 0, 0])\n",
    "rB = sp.Matrix([16 + 14 + 9, 4, 0])\n",
    "sys2 = sp.Eq(rA.cross(F_A_mat) + rC.cross(C) + rB.cross(F_B_mat), zero)\n",
    "\n",
    "sol = sp.solve([sys1, sys2], dict=True)[0]\n",
    "for key, value in sol.items():\n",
    "    display(sp.Eq(key, value.n()))  # lbf"
   ],
   "metadata": {
    "collapsed": false,
    "pycharm": {
     "name": "#%%\n"
    }
   }
  },
  {
   "cell_type": "markdown",
   "source": [
    "The reaction forces above assume all positive directions.\n",
    "\n",
    "### Part C\n",
    "\n",
    "\\begin{center}\n",
    "\\includegraphics{images/fig2}\n",
    "\\end{center}"
   ],
   "metadata": {
    "collapsed": false,
    "pycharm": {
     "name": "#%% md\n"
    }
   }
  }
 ],
 "metadata": {
  "kernelspec": {
   "display_name": "Python 3",
   "language": "python",
   "name": "python3"
  },
  "language_info": {
   "codemirror_mode": {
    "name": "ipython",
    "version": 2
   },
   "file_extension": ".py",
   "mimetype": "text/x-python",
   "name": "python",
   "nbconvert_exporter": "python",
   "pygments_lexer": "ipython2",
   "version": "2.7.6"
  }
 },
 "nbformat": 4,
 "nbformat_minor": 0
}