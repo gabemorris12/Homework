{
 "cells": [
  {
   "cell_type": "markdown",
   "source": [
    "\\begin{center}\n",
    "Gabe Morris\n",
    "\\end{center}"
   ],
   "metadata": {
    "collapsed": false
   }
  },
  {
   "cell_type": "code",
   "execution_count": 1,
   "metadata": {
    "collapsed": true,
    "ExecuteTime": {
     "end_time": "2023-04-30T18:52:50.745691300Z",
     "start_time": "2023-04-30T18:52:50.143573100Z"
    }
   },
   "outputs": [],
   "source": [
    "# Notebook Preamble\n",
    "import matplotlib.pyplot as plt\n",
    "import numpy as np\n",
    "\n",
    "plt.style.use('maroon_ipynb.mplstyle')"
   ]
  },
  {
   "cell_type": "markdown",
   "source": [
    "\\pagebreak\n",
    "\\tableofcontents\n",
    "\\pagebreak"
   ],
   "metadata": {
    "collapsed": false
   }
  },
  {
   "cell_type": "markdown",
   "source": [
    "\\begin{center}\n",
    "\\begin{tabular}{c c c}\n",
    "ME 8253 & Homework 6 & Gabe Morris \\\\\n",
    "& & gnm54\n",
    "\\end{tabular}\n",
    "\\end{center}\n",
    "\n",
    "#\n",
    "## Given\n",
    "A stepped circular rod of 4340 steel (with $S_u$ = 1468 MPa) with diameters of 60 and 45 mm has a root radius of 3 mm at the stepped section. The rod is to be subjected to axial cyclic loading.\n",
    "\n",
    "![image not found](images/f1.PNG)\n",
    "\n",
    "The cyclic yield strength ($S^\\prime_y$) is estimated from:\n",
    "\n",
    "$$S^\\prime_y=K^\\prime(0.002)^{n^\\prime}$$\n",
    "\n",
    "where $K^\\prime$ and $n^\\prime$ are given in Table A.2\n",
    "\n",
    "For the purpose of constructing Haigh diagram, exact value of $\\sigma_f$ is not needed, as the diagram is not very sensitive to its value. Since $\\sigma_f$ is not listed in Table A.2 for this material, we use Eq. 5.20 in the textbook to approximate it as\n",
    "\n",
    "$$\\sigma_f\\approx S_u + 345\\ (MPa)$$\n",
    "\n",
    "## Find\n",
    "Using a Haigh diagram, determine the following for an approximate median fatigue life of $10^6$ cycles:\n",
    "\n",
    "a. What fully reversed alternating force, $P_a$, can be applied?\n",
    "b. What is the maximum value of $P_a$, if proper compressive residual stresses are present at the notch root? What is the magnitude of the compressive residual stress needed to obtain this maximum alternating stress?\n",
    "c. What value of $P_a$ can be applied if the residual stress calculated in (b) is tensile? What fully reversed alternating force, $P_a$, can be applied?\n",
    "\n",
    "## Solution\n",
    "According to equation 4.3b, the endurance limit is $700\\ MPa$ for materials with an ultimate strength greater than $1400\\ MPa$. With the size effect, the endurance limit becomes\n",
    "\n",
    "$$S_f=0.85(700)=595\\ MPa$$\n",
    "\n",
    "### Part A\n",
    "\n",
    "![image not found](images/f2.png)"
   ],
   "metadata": {
    "collapsed": false
   }
  },
  {
   "cell_type": "code",
   "execution_count": 2,
   "outputs": [
    {
     "data": {
      "text/plain": "1.3333333333333333"
     },
     "execution_count": 2,
     "metadata": {},
     "output_type": "execute_result"
    }
   ],
   "source": [
    "D, d, r = 60, 45, 3  # mm\n",
    "Su = 1468  # MPa\n",
    "size_effect = 0.85\n",
    "\n",
    "if Su <= 1400:\n",
    "    Sf = 0.5*Su*size_effect\n",
    "else:\n",
    "    Sf = 700*size_effect\n",
    "\n",
    "D/d"
   ],
   "metadata": {
    "collapsed": false,
    "ExecuteTime": {
     "end_time": "2023-04-30T18:52:50.756847200Z",
     "start_time": "2023-04-30T18:52:50.748683800Z"
    }
   }
  },
  {
   "cell_type": "code",
   "execution_count": 3,
   "outputs": [
    {
     "data": {
      "text/plain": "0.06666666666666667"
     },
     "execution_count": 3,
     "metadata": {},
     "output_type": "execute_result"
    }
   ],
   "source": [
    "r/d"
   ],
   "metadata": {
    "collapsed": false,
    "ExecuteTime": {
     "end_time": "2023-04-30T18:52:50.845462400Z",
     "start_time": "2023-04-30T18:52:50.761819900Z"
    }
   }
  },
  {
   "cell_type": "markdown",
   "source": [
    "From above the stress concentration factor is $K_t=2$. The fatigue notch factor for the fully reversed condition is\n",
    "\n",
    "$$K_f=1+\\frac{K_t-1}{1+a/r}$$\n",
    "\n",
    "where $a=0.0254\\left(\\frac{2070}{S_u}\\right)^{1.8}$ with $a$ in mm and $S_u$ in MPa."
   ],
   "metadata": {
    "collapsed": false
   }
  },
  {
   "cell_type": "code",
   "execution_count": 4,
   "outputs": [
    {
     "data": {
      "text/plain": "0.047149103389883054"
     },
     "execution_count": 4,
     "metadata": {},
     "output_type": "execute_result"
    }
   ],
   "source": [
    "Kt = 2\n",
    "a = 0.0254*(2070/Su)**1.8\n",
    "a  # mm"
   ],
   "metadata": {
    "collapsed": false,
    "ExecuteTime": {
     "end_time": "2023-04-30T18:52:50.868434900Z",
     "start_time": "2023-04-30T18:52:50.771424900Z"
    }
   }
  },
  {
   "cell_type": "code",
   "execution_count": 5,
   "outputs": [
    {
     "data": {
      "text/plain": "1.9845268144780213"
     },
     "execution_count": 5,
     "metadata": {},
     "output_type": "execute_result"
    }
   ],
   "source": [
    "Kf = 1 + (Kt - 1)/(1 + a/r)\n",
    "Kf"
   ],
   "metadata": {
    "collapsed": false,
    "ExecuteTime": {
     "end_time": "2023-04-30T18:52:50.869432900Z",
     "start_time": "2023-04-30T18:52:50.785684500Z"
    }
   }
  },
  {
   "cell_type": "markdown",
   "source": [
    "Since the stress is maximized at the smaller diameter, \n",
    "\n",
    "$$P_a=\\frac{S_f}{K_f}\\left(\\frac{\\pi}{4}\\right)(d)^2$$"
   ],
   "metadata": {
    "collapsed": false
   }
  },
  {
   "cell_type": "code",
   "execution_count": 6,
   "outputs": [
    {
     "data": {
      "text/plain": "476842.4418454644"
     },
     "execution_count": 6,
     "metadata": {},
     "output_type": "execute_result"
    }
   ],
   "source": [
    "Pa = Sf/Kf*np.pi/4*d**2\n",
    "Pa  # N"
   ],
   "metadata": {
    "collapsed": false,
    "ExecuteTime": {
     "end_time": "2023-04-30T18:52:50.869432900Z",
     "start_time": "2023-04-30T18:52:50.794459300Z"
    }
   }
  },
  {
   "cell_type": "markdown",
   "source": [
    "### Part B\n",
    "From Table A.2,\n",
    "\n",
    "| Property     | Value     |\n",
    "|--------------|-----------|\n",
    "| $S_y$        | 1371  MPa |\n",
    "| $S^\\prime_y$ | 863  MPa  |\n",
    "| $S_f$        | 595   MPa |\n",
    "| $\\sigma_f$   | 1813  MPa |\n",
    "| $K_f$        | 1.98      |\n",
    "| $S_{cat}$    | 70    MPa |\n",
    "\n",
    "$S_{cat}$ comes from the fact that this is a hard steel. The other calculations are shown below."
   ],
   "metadata": {
    "collapsed": false
   }
  },
  {
   "cell_type": "code",
   "execution_count": 7,
   "outputs": [
    {
     "data": {
      "text/plain": "1813"
     },
     "execution_count": 7,
     "metadata": {},
     "output_type": "execute_result"
    }
   ],
   "source": [
    "sig_f = Su + 345\n",
    "sig_f  # MPa"
   ],
   "metadata": {
    "collapsed": false,
    "ExecuteTime": {
     "end_time": "2023-04-30T18:52:50.869432900Z",
     "start_time": "2023-04-30T18:52:50.804659Z"
    }
   }
  },
  {
   "cell_type": "code",
   "execution_count": 8,
   "outputs": [
    {
     "data": {
      "text/plain": "862.5804014077875"
     },
     "execution_count": 8,
     "metadata": {},
     "output_type": "execute_result"
    }
   ],
   "source": [
    "K_prime, n_prime = 1996, 0.135\n",
    "Sy_prime = K_prime*0.002**n_prime\n",
    "Sy_prime  # MPa"
   ],
   "metadata": {
    "collapsed": false,
    "ExecuteTime": {
     "end_time": "2023-04-30T18:52:50.869432900Z",
     "start_time": "2023-04-30T18:52:50.815953300Z"
    }
   }
  },
  {
   "cell_type": "markdown",
   "source": [
    "![image not found](images/f3.png)"
   ],
   "metadata": {
    "collapsed": false
   }
  },
  {
   "cell_type": "code",
   "execution_count": 9,
   "outputs": [
    {
     "data": {
      "text/plain": "731598.3892047232"
     },
     "execution_count": 9,
     "metadata": {},
     "output_type": "execute_result"
    }
   ],
   "source": [
    "Sa = 460  # MPa\n",
    "Pa = Sa*np.pi/4*d**2\n",
    "Pa  # N"
   ],
   "metadata": {
    "collapsed": false,
    "ExecuteTime": {
     "end_time": "2023-04-30T19:33:08.064787500Z",
     "start_time": "2023-04-30T19:33:08.039634Z"
    }
   }
  },
  {
   "cell_type": "markdown",
   "source": [
    "### Part C\n",
    "From above, point B is when the mean stress is tensile."
   ],
   "metadata": {
    "collapsed": false
   }
  },
  {
   "cell_type": "code",
   "execution_count": 10,
   "outputs": [
    {
     "data": {
      "text/plain": "143138.81527918496"
     },
     "execution_count": 10,
     "metadata": {},
     "output_type": "execute_result"
    }
   ],
   "source": [
    "Sa = 90\n",
    "Pa = Sa*np.pi/4*d**2\n",
    "Pa  # N"
   ],
   "metadata": {
    "collapsed": false,
    "ExecuteTime": {
     "end_time": "2023-04-30T19:34:30.798959800Z",
     "start_time": "2023-04-30T19:34:30.780257100Z"
    }
   }
  }
 ],
 "metadata": {
  "kernelspec": {
   "display_name": "Python 3",
   "language": "python",
   "name": "python3"
  },
  "language_info": {
   "codemirror_mode": {
    "name": "ipython",
    "version": 2
   },
   "file_extension": ".py",
   "mimetype": "text/x-python",
   "name": "python",
   "nbconvert_exporter": "python",
   "pygments_lexer": "ipython2",
   "version": "2.7.6"
  }
 },
 "nbformat": 4,
 "nbformat_minor": 0
}
