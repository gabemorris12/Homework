{
 "cells": [
  {
   "cell_type": "markdown",
   "metadata": {
    "pycharm": {
     "name": "#%% md\n"
    }
   },
   "source": [
    "\\begin{center}\n",
    "Gabe Morris\n",
    "\\end{center}"
   ]
  },
  {
   "cell_type": "code",
   "execution_count": 1,
   "metadata": {
    "collapsed": true,
    "pycharm": {
     "name": "#%%\n"
    }
   },
   "outputs": [],
   "source": [
    "import matplotlib.pyplot as plt\n",
    "import sympy as sp\n",
    "from IPython.display import display\n",
    "\n",
    "plt.style.use('maroon_ipynb.mplstyle')"
   ]
  },
  {
   "cell_type": "markdown",
   "metadata": {
    "pycharm": {
     "name": "#%% md\n"
    }
   },
   "source": [
    "\\pagebreak\n",
    "\\tableofcontents\n",
    "\\pagebreak"
   ]
  },
  {
   "cell_type": "markdown",
   "metadata": {
    "pycharm": {
     "name": "#%% md\n"
    }
   },
   "source": [
    "\\begin{center}\n",
    "\\begin{tabular}{c c c}\n",
    "ME 4403 & Homework 2 & Gabe Morris \\\\\n",
    "& & gnm54\n",
    "\\end{tabular}\n",
    "\\end{center}\n",
    "\n",
    "# Problem 4-118\n",
    "## Given\n",
    "\n",
    "\\begin{center}\n",
    "\\includegraphics{images/fig1}\n",
    "\\end{center}\n",
    "\n",
    "## Find\n",
    "Determine the support reactions using Castigliano's theory.\n",
    "\n",
    "## Solution\n",
    "The free body diagram yields two equations with three unknowns,\n",
    "\n",
    "\\begin{center}\n",
    "\\includegraphics{images/fig2}\n",
    "\\end{center}"
   ]
  },
  {
   "cell_type": "code",
   "execution_count": 2,
   "outputs": [
    {
     "data": {
      "text/plain": "Eq(B_y + C_y, l*w)",
      "text/latex": "$\\displaystyle B_{y} + C_{y} = l w$"
     },
     "metadata": {},
     "output_type": "display_data"
    },
    {
     "data": {
      "text/plain": "Eq(B_y*(-a + l) + M_c, l**2*w/2)",
      "text/latex": "$\\displaystyle B_{y} \\left(- a + l\\right) + M_{c} = \\frac{l^{2} w}{2}$"
     },
     "metadata": {},
     "output_type": "display_data"
    }
   ],
   "source": [
    "By, w, l, Cy, Mc, a = sp.symbols('B_y w l C_y M_c a')\n",
    "eq1 = sp.Eq(By + Cy, w*l)  # Forces in y direction\n",
    "eq2 = sp.Eq(Mc + By*(l - a), w*l*(l/2))\n",
    "display(eq1, eq2)"
   ],
   "metadata": {
    "collapsed": false,
    "pycharm": {
     "name": "#%%\n"
    }
   }
  },
  {
   "cell_type": "markdown",
   "source": [
    "The bending and shear diagram equations as a function of $x$ may be extracted like so,\n",
    "\n",
    "\\begin{center}\n",
    "\\includegraphics{images/fig3}\n",
    "\\end{center}\n",
    "\n",
    "The above figure is for $0\\le x\\le a$."
   ],
   "metadata": {
    "collapsed": false,
    "pycharm": {
     "name": "#%% md\n"
    }
   }
  },
  {
   "cell_type": "code",
   "execution_count": 3,
   "outputs": [
    {
     "data": {
      "text/plain": "-w*x",
      "text/latex": "$\\displaystyle - w x$"
     },
     "execution_count": 3,
     "metadata": {},
     "output_type": "execute_result"
    }
   ],
   "source": [
    "# Shear equation\n",
    "x = sp.Symbol('x')\n",
    "V1 = -w*x\n",
    "V1"
   ],
   "metadata": {
    "collapsed": false,
    "pycharm": {
     "name": "#%%\n"
    }
   }
  },
  {
   "cell_type": "code",
   "execution_count": 4,
   "outputs": [
    {
     "data": {
      "text/plain": "-0.5*w*x**2",
      "text/latex": "$\\displaystyle - 0.5 w x^{2}$"
     },
     "execution_count": 4,
     "metadata": {},
     "output_type": "execute_result"
    }
   ],
   "source": [
    "# Moment equation\n",
    "M1 = -sp.S('0.5')*w*x**2\n",
    "M1"
   ],
   "metadata": {
    "collapsed": false,
    "pycharm": {
     "name": "#%%\n"
    }
   }
  },
  {
   "cell_type": "markdown",
   "source": [
    "For $a\\le x \\le l$,\n",
    "\n",
    "\\begin{center}\n",
    "\\includegraphics{images/fig4}\n",
    "\\end{center}"
   ],
   "metadata": {
    "collapsed": false,
    "pycharm": {
     "name": "#%% md\n"
    }
   }
  },
  {
   "cell_type": "code",
   "execution_count": 5,
   "outputs": [
    {
     "data": {
      "text/plain": "B_y - w*x",
      "text/latex": "$\\displaystyle B_{y} - w x$"
     },
     "execution_count": 5,
     "metadata": {},
     "output_type": "execute_result"
    }
   ],
   "source": [
    "V2 = By - w*x\n",
    "V2"
   ],
   "metadata": {
    "collapsed": false,
    "pycharm": {
     "name": "#%%\n"
    }
   }
  },
  {
   "cell_type": "code",
   "execution_count": 6,
   "outputs": [
    {
     "data": {
      "text/plain": "B_y*(-a + x) - 0.5*w*x**2",
      "text/latex": "$\\displaystyle B_{y} \\left(- a + x\\right) - 0.5 w x^{2}$"
     },
     "execution_count": 6,
     "metadata": {},
     "output_type": "execute_result"
    }
   ],
   "source": [
    "M2 = By*(x - a) - sp.S('0.5')*w*x**2\n",
    "M2"
   ],
   "metadata": {
    "collapsed": false,
    "pycharm": {
     "name": "#%%\n"
    }
   }
  },
  {
   "cell_type": "markdown",
   "source": [
    "All together, the moment and shear equation may be represented as the piecewise functions below."
   ],
   "metadata": {
    "collapsed": false,
    "pycharm": {
     "name": "#%% md\n"
    }
   }
  },
  {
   "cell_type": "code",
   "execution_count": 7,
   "outputs": [
    {
     "data": {
      "text/plain": "Piecewise((-w*x, (a >= x) & (x >= 0)), (B_y - w*x, (l >= x) & (a <= x)))",
      "text/latex": "$\\displaystyle \\begin{cases} - w x & \\text{for}\\: a \\geq x \\wedge x \\geq 0 \\\\B_{y} - w x & \\text{for}\\: l \\geq x \\wedge a \\leq x \\end{cases}$"
     },
     "metadata": {},
     "output_type": "display_data"
    },
    {
     "data": {
      "text/plain": "Piecewise((-0.5*w*x**2, (a >= x) & (x >= 0)), (B_y*(-a + x) - 0.5*w*x**2, (l >= x) & (a <= x)))",
      "text/latex": "$\\displaystyle \\begin{cases} - 0.5 w x^{2} & \\text{for}\\: a \\geq x \\wedge x \\geq 0 \\\\B_{y} \\left(- a + x\\right) - 0.5 w x^{2} & \\text{for}\\: l \\geq x \\wedge a \\leq x \\end{cases}$"
     },
     "metadata": {},
     "output_type": "display_data"
    }
   ],
   "source": [
    "V = sp.Piecewise((V1, (x >= 0) & (x <= a)), (V2, (x >= a) & (x <= l)))\n",
    "M = sp.Piecewise((M1, (x >= 0) & (x <= a)), (M2, (x >= a) & (x <= l)))\n",
    "display(V, M)"
   ],
   "metadata": {
    "collapsed": false,
    "pycharm": {
     "name": "#%%\n"
    }
   }
  },
  {
   "cell_type": "markdown",
   "source": [
    "Castigliano's theory involves computing the total energy, which is\n",
    "\n",
    "$$U=\\int \\frac{M^2}{2EI}dx+\\int \\frac{CV^2}{2AG}dx$$\n",
    "\n",
    "We can integrate across each section. Watch as `sympy` impressively solves this huge integral for us, symbolically. If we neglect the shear stress, we will arrive at the same answer for the superposition approach. This assumption is usually valid, since beams are typically much longer than their diameters/cross-sectional distance."
   ],
   "metadata": {
    "collapsed": false,
    "pycharm": {
     "name": "#%% md\n"
    }
   }
  },
  {
   "cell_type": "code",
   "execution_count": 8,
   "outputs": [
    {
     "data": {
      "text/plain": "Eq(U, Integral((B_y*(-a + x) - 0.5*w*x**2)**2/(2*E*I), (x, a, l)) + Integral(0.125*w**2*x**4/(E*I), (x, 0, a)))",
      "text/latex": "$\\displaystyle U = \\int\\limits_{a}^{l} \\frac{\\left(B_{y} \\left(- a + x\\right) - 0.5 w x^{2}\\right)^{2}}{2 E I}\\, dx + \\int\\limits_{0}^{a} \\frac{0.125 w^{2} x^{4}}{E I}\\, dx$"
     },
     "execution_count": 8,
     "metadata": {},
     "output_type": "execute_result"
    }
   ],
   "source": [
    "C, E, I, A, G, U_sym = sp.symbols('C E I A G U')\n",
    "# U1 = sp.Integral(M1**2/(2*E*I) + C*V1**2/(2*A*G), (x, 0, a))\n",
    "# U2 = sp.Integral(M2**2/(2*E*I) + C*V2**2/(2*A*G), (x, a, l))\n",
    "\n",
    "# Neglect shear\n",
    "U1 = sp.Integral(M1**2/(2*E*I), (x, 0, a))\n",
    "U2 = sp.Integral(M2**2/(2*E*I), (x, a, l))\n",
    "U = U1 + U2\n",
    "sp.Eq(U_sym, U)"
   ],
   "metadata": {
    "collapsed": false,
    "pycharm": {
     "name": "#%%\n"
    }
   }
  },
  {
   "cell_type": "code",
   "execution_count": 9,
   "outputs": [
    {
     "data": {
      "text/plain": "Eq(U, -0.166667*B_y**2*a**3/(E*I) + 0.5*B_y**2*a**2*l/(E*I) - 0.5*B_y**2*a*l**2/(E*I) + 0.166667*B_y**2*l**3/(E*I) - 0.0416667*B_y*a**4*w/(E*I) + 0.166667*B_y*a*l**3*w/(E*I) - 0.125*B_y*l**4*w/(E*I) + 0.025*l**5*w**2/(E*I))",
      "text/latex": "$\\displaystyle U = - \\frac{0.166667 B_{y}^{2} a^{3}}{E I} + \\frac{0.5 B_{y}^{2} a^{2} l}{E I} - \\frac{0.5 B_{y}^{2} a l^{2}}{E I} + \\frac{0.166667 B_{y}^{2} l^{3}}{E I} - \\frac{0.0416667 B_{y} a^{4} w}{E I} + \\frac{0.166667 B_{y} a l^{3} w}{E I} - \\frac{0.125 B_{y} l^{4} w}{E I} + \\frac{0.025 l^{5} w^{2}}{E I}$"
     },
     "execution_count": 9,
     "metadata": {},
     "output_type": "execute_result"
    }
   ],
   "source": [
    "U_doit = U.doit().expand().n(6)\n",
    "sp.Eq(U_sym, U_doit)"
   ],
   "metadata": {
    "collapsed": false,
    "pycharm": {
     "name": "#%%\n"
    }
   }
  },
  {
   "cell_type": "markdown",
   "source": [
    "Castigliano's Theory is,\n",
    "\n",
    "$$\\delta_i=\\frac{\\partial U}{\\partial F_i}$$\n",
    "\n",
    "$\\delta_i$ is the displacement at the point where the force $F_i$ occurs. We know the deflection at point B is 0.\n",
    "\n",
    "$$\\frac{\\partial U}{\\partial B_y}=0$$"
   ],
   "metadata": {
    "collapsed": false,
    "pycharm": {
     "name": "#%% md\n"
    }
   }
  },
  {
   "cell_type": "code",
   "execution_count": 10,
   "outputs": [
    {
     "data": {
      "text/plain": "Eq(-0.333333*B_y*a**3/(E*I) + 1.0*B_y*a**2*l/(E*I) - 1.0*B_y*a*l**2/(E*I) + 0.333333*B_y*l**3/(E*I) - 0.0416667*a**4*w/(E*I) + 0.166667*a*l**3*w/(E*I) - 0.125*l**4*w/(E*I), 0)",
      "text/latex": "$\\displaystyle - \\frac{0.333333 B_{y} a^{3}}{E I} + \\frac{1.0 B_{y} a^{2} l}{E I} - \\frac{1.0 B_{y} a l^{2}}{E I} + \\frac{0.333333 B_{y} l^{3}}{E I} - \\frac{0.0416667 a^{4} w}{E I} + \\frac{0.166667 a l^{3} w}{E I} - \\frac{0.125 l^{4} w}{E I} = 0$"
     },
     "execution_count": 10,
     "metadata": {},
     "output_type": "execute_result"
    }
   ],
   "source": [
    "# Take the derivative of the expression above and set equal to 0\n",
    "eq3 = sp.Eq(U_doit.diff(By).expand().n(6), 0)\n",
    "eq3"
   ],
   "metadata": {
    "collapsed": false,
    "pycharm": {
     "name": "#%%\n"
    }
   }
  },
  {
   "cell_type": "code",
   "execution_count": 11,
   "outputs": [
    {
     "data": {
      "text/plain": "Eq(B_y, 0.125*w*(-a**2 - 2.0*a*l - 3.0*l**2)/(a - l))",
      "text/latex": "$\\displaystyle B_{y} = \\frac{0.125 w \\left(- a^{2} - 2.0 a l - 3.0 l^{2}\\right)}{a - l}$"
     },
     "metadata": {},
     "output_type": "display_data"
    },
    {
     "data": {
      "text/plain": "Eq(C_y, 0.125*w*(a**2 + 10.0*a*l - 5.0*l**2)/(a - l))",
      "text/latex": "$\\displaystyle C_{y} = \\frac{0.125 w \\left(a^{2} + 10.0 a l - 5.0 l^{2}\\right)}{a - l}$"
     },
     "metadata": {},
     "output_type": "display_data"
    },
    {
     "data": {
      "text/plain": "Eq(M_c, w*(-0.125*a**2 - 0.25*a*l + 0.125*l**2))",
      "text/latex": "$\\displaystyle M_{c} = w \\left(- 0.125 a^{2} - 0.25 a l + 0.125 l^{2}\\right)$"
     },
     "metadata": {},
     "output_type": "display_data"
    }
   ],
   "source": [
    "sol = sp.solve([eq1, eq2, eq3], (By, Cy, Mc), dict=True)[0]\n",
    "for key, value in sol.items():\n",
    "    display(sp.Eq(key, value.simplify()))"
   ],
   "metadata": {
    "collapsed": false,
    "pycharm": {
     "name": "#%%\n"
    }
   }
  }
 ],
 "metadata": {
  "celltoolbar": "Tags",
  "kernelspec": {
   "display_name": "Python 3 (ipykernel)",
   "language": "python",
   "name": "python3"
  },
  "language_info": {
   "codemirror_mode": {
    "name": "ipython",
    "version": 3
   },
   "file_extension": ".py",
   "mimetype": "text/x-python",
   "name": "python",
   "nbconvert_exporter": "python",
   "pygments_lexer": "ipython3",
   "version": "3.10.1"
  }
 },
 "nbformat": 4,
 "nbformat_minor": 1
}