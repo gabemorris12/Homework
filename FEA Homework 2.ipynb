{
 "cells": [
  {
   "cell_type": "markdown",
   "source": [
    "\\begin{center}\n",
    "Gabe Morris\n",
    "\\end{center}"
   ],
   "metadata": {
    "collapsed": false,
    "pycharm": {
     "name": "#%% md\n"
    }
   }
  },
  {
   "cell_type": "code",
   "execution_count": 1,
   "metadata": {
    "collapsed": true,
    "pycharm": {
     "name": "#%%\n"
    }
   },
   "outputs": [],
   "source": [
    "import sympy as sp\n",
    "import matplotlib.pyplot as plt\n",
    "from IPython.display import display, Latex\n",
    "\n",
    "plt.style.use('maroon.mplstyle')\n",
    "\n",
    "display_latex = lambda text: display(Latex(text))\n",
    "\n",
    "def round_expr(expr, num_digits):\n",
    "    return expr.xreplace({n : round(n, num_digits) for n in expr.atoms(sp.Number)})"
   ]
  },
  {
   "cell_type": "markdown",
   "source": [
    "\\pagebreak\n",
    "\\tableofcontents\n",
    "\\pagebreak"
   ],
   "metadata": {
    "collapsed": false,
    "pycharm": {
     "name": "#%% md\n"
    }
   }
  },
  {
   "cell_type": "markdown",
   "source": [
    "\\begin{center}\n",
    "\\begin{tabular}{c c c}\n",
    "ME 6233 & Homework 2 & Gabe Morris \\\\\n",
    "& & gnm54\n",
    "\\end{tabular}\n",
    "\\end{center}\n",
    "\n",
    "# Problem 1\n",
    "## Given\n",
    "\n",
    "![Figure 1](images/Figure_1.PNG)\n",
    "\n",
    "$P=150\\,lb$, $L=5\\,in$, $H=2\\,in$, $t=0.5\\,in$, $E=30\\cdot10^6\\,psi$, and $\\nu=0.30$. The angle of $P$ is assumed to be $45^\\circ$.\n",
    "\n",
    "**Notice that the global nodes have been rearranged.** This was done to make the mapping easier.\n",
    "\n",
    "## Find\n",
    "a. The global stiffness matrix\n",
    "b. The displacements at each node\n",
    "c. The stresses within each element\n",
    "d. Plot the undeformed and deformed shape\n",
    "\n",
    "## Solution\n",
    "For the first element,\n",
    "\n",
    "![Figure 2](images/Figure_2.PNG)\n",
    "\n",
    "$\\delta_1=\\delta_2=\\delta_5=0$ \\\n",
    "$\\delta_3=u_2$ \\\n",
    "$\\delta_4=v_2$ \\\n",
    "$\\delta_6=v_3$\n",
    "\n",
    "For the second element,\n",
    "\n",
    "![Figure 3](images/Figure_3.PNG)\n",
    "\n",
    "$\\delta_3=0$ \\\n",
    "$\\delta_1=u_2$ \\\n",
    "$\\delta_2=v_2$ \\\n",
    "$\\delta_4=v_3$ \\\n",
    "$\\delta_5=u_4$ \\\n",
    "$\\delta_6=v_4$\n",
    "\n",
    "The global displacements are,\n",
    "\n",
    "![Figure 4](images/Figure_4.PNG)\n",
    "\n",
    "### Part A"
   ],
   "metadata": {
    "collapsed": false,
    "pycharm": {
     "name": "#%% md\n"
    }
   }
  },
  {
   "cell_type": "code",
   "execution_count": 2,
   "outputs": [
    {
     "data": {
      "text/plain": "(5.0, 5.0)"
     },
     "execution_count": 2,
     "metadata": {},
     "output_type": "execute_result"
    }
   ],
   "source": [
    "# Define numerical inputs here\n",
    "P_ = 150\n",
    "L_, H_ = 5, 2\n",
    "t_ = 0.5\n",
    "E_, nu_ = 30e6, 0.3\n",
    "\n",
    "# Define local coordinates for each element\n",
    "x1 = [0, L_, 0]\n",
    "y1 = [0, 0, H_]\n",
    "\n",
    "x2 = [L_, 0, L_]\n",
    "y2 = [0, H_, H_]\n",
    "\n",
    "# The area\n",
    "A_1 = ((x1[1] - x1[0])*(y1[2] - y1[0]) - (x1[2] - x1[0])*(y1[1] - y1[0]))/2\n",
    "A_2 = -1*((x2[1] - x2[0])*(y2[2] - y2[0]) - (x2[2] - x2[0])*(y2[1] - y2[0]))/2\n",
    "A_1, A_2"
   ],
   "metadata": {
    "collapsed": false,
    "pycharm": {
     "name": "#%%\n"
    }
   }
  },
  {
   "cell_type": "code",
   "execution_count": 3,
   "outputs": [
    {
     "data": {
      "text/plain": "Matrix([\n[y_{23}/(2*A),            0, y_{31}/(2*A),            0, y_{12}/(2*A),            0],\n[           0, x_{32}/(2*A),            0, x_{13}/(2*A),            0, x_{21}/(2*A)],\n[x_{32}/(2*A), y_{23}/(2*A), x_{13}/(2*A), y_{31}/(2*A), x_{21}/(2*A), y_{12}/(2*A)]])",
      "text/latex": "$\\displaystyle \\left[\\begin{matrix}\\frac{y_{23}}{2 A} & 0 & \\frac{y_{31}}{2 A} & 0 & \\frac{y_{12}}{2 A} & 0\\\\0 & \\frac{x_{32}}{2 A} & 0 & \\frac{x_{13}}{2 A} & 0 & \\frac{x_{21}}{2 A}\\\\\\frac{x_{32}}{2 A} & \\frac{y_{23}}{2 A} & \\frac{x_{13}}{2 A} & \\frac{y_{31}}{2 A} & \\frac{x_{21}}{2 A} & \\frac{y_{12}}{2 A}\\end{matrix}\\right]$"
     },
     "execution_count": 3,
     "metadata": {},
     "output_type": "execute_result"
    }
   ],
   "source": [
    "# Define a symbolic B\n",
    "A, y_23, y_31, y_12, x_32, x_13, x_21 = sp.symbols('A y_{23} y_{31} y_{12} x_{32} x_{13} x_{21}')\n",
    "B = 1/(2*A)*sp.Matrix([\n",
    "    [y_23, 0, y_31, 0, y_12, 0],\n",
    "    [0, x_32, 0, x_13, 0, x_21],\n",
    "    [x_32, y_23, x_13, y_31, x_21, y_12]\n",
    "])\n",
    "B"
   ],
   "metadata": {
    "collapsed": false,
    "pycharm": {
     "name": "#%%\n"
    }
   }
  },
  {
   "cell_type": "code",
   "execution_count": 4,
   "outputs": [
    {
     "data": {
      "text/plain": "Matrix([\n[-0.2,    0, 0.2,   0,   0,   0],\n[   0, -0.5,   0,   0,   0, 0.5],\n[-0.5, -0.2,   0, 0.2, 0.5,   0]])",
      "text/latex": "$\\displaystyle \\left[\\begin{matrix}-0.2 & 0 & 0.2 & 0 & 0 & 0\\\\0 & -0.5 & 0 & 0 & 0 & 0.5\\\\-0.5 & -0.2 & 0 & 0.2 & 0.5 & 0\\end{matrix}\\right]$"
     },
     "execution_count": 4,
     "metadata": {},
     "output_type": "execute_result"
    }
   ],
   "source": [
    "# Numeric B\n",
    "# Remember that indices start at 0\n",
    "B1 = B.subs([\n",
    "    (A, A_1),\n",
    "    (y_23, y1[1] - y1[2]),\n",
    "    (y_31, y1[2] - y1[0]),\n",
    "    (y_12, y1[0] - y1[1]),\n",
    "    (x_32, x1[2] - x1[1]),\n",
    "    (x_13, x1[0] - x1[2]),\n",
    "    (x_21, x1[1] - x1[0])\n",
    "])\n",
    "B1"
   ],
   "metadata": {
    "collapsed": false,
    "pycharm": {
     "name": "#%%\n"
    }
   }
  },
  {
   "cell_type": "code",
   "execution_count": 5,
   "outputs": [
    {
     "data": {
      "text/plain": "Matrix([\n[  0,   0, 0.2,   0, -0.2,    0],\n[  0, 0.5,   0,   0,    0, -0.5],\n[0.5,   0,   0, 0.2, -0.5, -0.2]])",
      "text/latex": "$\\displaystyle \\left[\\begin{matrix}0 & 0 & 0.2 & 0 & -0.2 & 0\\\\0 & 0.5 & 0 & 0 & 0 & -0.5\\\\0.5 & 0 & 0 & 0.2 & -0.5 & -0.2\\end{matrix}\\right]$"
     },
     "execution_count": 5,
     "metadata": {},
     "output_type": "execute_result"
    }
   ],
   "source": [
    "B2 = B.subs([\n",
    "    (A, A_2),\n",
    "    (y_23, y2[1] - y2[2]),\n",
    "    (y_31, y2[2] - y2[0]),\n",
    "    (y_12, y2[0] - y2[1]),\n",
    "    (x_32, x2[2] - x2[1]),\n",
    "    (x_13, x2[0] - x2[2]),\n",
    "    (x_21, x2[1] - x2[0])\n",
    "])\n",
    "B2"
   ],
   "metadata": {
    "collapsed": false,
    "pycharm": {
     "name": "#%%\n"
    }
   }
  },
  {
   "cell_type": "code",
   "execution_count": 6,
   "outputs": [
    {
     "data": {
      "text/plain": "Matrix([\n[32967032.967,   9890109.89,            0],\n[  9890109.89, 32967032.967,            0],\n[           0,            0, 11538461.538]])",
      "text/latex": "$\\displaystyle \\left[\\begin{matrix}32967032.967 & 9890109.89 & 0\\\\9890109.89 & 32967032.967 & 0\\\\0 & 0 & 11538461.538\\end{matrix}\\right]$"
     },
     "execution_count": 6,
     "metadata": {},
     "output_type": "execute_result"
    }
   ],
   "source": [
    "E = E_/(1 - nu_**2)*sp.Matrix([\n",
    "    [1, nu_, 0],\n",
    "    [nu_, 1, 0],\n",
    "    [0, 0, (1 - nu_)/2]\n",
    "])\n",
    "round_expr(E, 3)"
   ],
   "metadata": {
    "collapsed": false,
    "pycharm": {
     "name": "#%%\n"
    }
   }
  },
  {
   "cell_type": "code",
   "execution_count": 7,
   "outputs": [
    {
     "data": {
      "text/plain": "Matrix([\n[10508241.758,   5357142.857, -3296703.297, -2884615.385, -7211538.462,  -2472527.473],\n[ 5357142.857,  21758241.758, -2472527.473, -1153846.154, -2884615.385, -20604395.604],\n[-3296703.297,  -2472527.473,  3296703.297,            0,            0,   2472527.473],\n[-2884615.385,  -1153846.154,            0,  1153846.154,  2884615.385,             0],\n[-7211538.462,  -2884615.385,            0,  2884615.385,  7211538.462,             0],\n[-2472527.473, -20604395.604,  2472527.473,            0,            0,  20604395.604]])",
      "text/latex": "$\\displaystyle \\left[\\begin{matrix}10508241.758 & 5357142.857 & -3296703.297 & -2884615.385 & -7211538.462 & -2472527.473\\\\5357142.857 & 21758241.758 & -2472527.473 & -1153846.154 & -2884615.385 & -20604395.604\\\\-3296703.297 & -2472527.473 & 3296703.297 & 0 & 0 & 2472527.473\\\\-2884615.385 & -1153846.154 & 0 & 1153846.154 & 2884615.385 & 0\\\\-7211538.462 & -2884615.385 & 0 & 2884615.385 & 7211538.462 & 0\\\\-2472527.473 & -20604395.604 & 2472527.473 & 0 & 0 & 20604395.604\\end{matrix}\\right]$"
     },
     "execution_count": 7,
     "metadata": {},
     "output_type": "execute_result"
    }
   ],
   "source": [
    "k1_local = t_*A_1*sp.transpose(B1)*E*B1\n",
    "round_expr(k1_local, 3)"
   ],
   "metadata": {
    "collapsed": false,
    "pycharm": {
     "name": "#%%\n"
    }
   }
  },
  {
   "cell_type": "code",
   "execution_count": 8,
   "outputs": [
    {
     "data": {
      "text/plain": "Matrix([\n[ 7211538.462,             0,            0,  2884615.385, -7211538.462,  -2884615.385],\n[           0,  20604395.604,  2472527.473,            0, -2472527.473, -20604395.604],\n[           0,   2472527.473,  3296703.297,            0, -3296703.297,  -2472527.473],\n[ 2884615.385,             0,            0,  1153846.154, -2884615.385,  -1153846.154],\n[-7211538.462,  -2472527.473, -3296703.297, -2884615.385, 10508241.758,   5357142.857],\n[-2884615.385, -20604395.604, -2472527.473, -1153846.154,  5357142.857,  21758241.758]])",
      "text/latex": "$\\displaystyle \\left[\\begin{matrix}7211538.462 & 0 & 0 & 2884615.385 & -7211538.462 & -2884615.385\\\\0 & 20604395.604 & 2472527.473 & 0 & -2472527.473 & -20604395.604\\\\0 & 2472527.473 & 3296703.297 & 0 & -3296703.297 & -2472527.473\\\\2884615.385 & 0 & 0 & 1153846.154 & -2884615.385 & -1153846.154\\\\-7211538.462 & -2472527.473 & -3296703.297 & -2884615.385 & 10508241.758 & 5357142.857\\\\-2884615.385 & -20604395.604 & -2472527.473 & -1153846.154 & 5357142.857 & 21758241.758\\end{matrix}\\right]$"
     },
     "execution_count": 8,
     "metadata": {},
     "output_type": "execute_result"
    }
   ],
   "source": [
    "k2_local = t_*A_2*sp.transpose(B2)*E*B2\n",
    "round_expr(k2_local, 3)"
   ],
   "metadata": {
    "collapsed": false,
    "pycharm": {
     "name": "#%%\n"
    }
   }
  },
  {
   "cell_type": "code",
   "execution_count": 9,
   "outputs": [
    {
     "data": {
      "text/plain": "Matrix([\n[10508241.758,   5357142.857, -3296703.297, -2884615.385, -7211538.462,  -2472527.473, 0, 0],\n[ 5357142.857,  21758241.758, -2472527.473, -1153846.154, -2884615.385, -20604395.604, 0, 0],\n[-3296703.297,  -2472527.473,  3296703.297,            0,            0,   2472527.473, 0, 0],\n[-2884615.385,  -1153846.154,            0,  1153846.154,  2884615.385,             0, 0, 0],\n[-7211538.462,  -2884615.385,            0,  2884615.385,  7211538.462,             0, 0, 0],\n[-2472527.473, -20604395.604,  2472527.473,            0,            0,  20604395.604, 0, 0],\n[           0,             0,            0,            0,            0,             0, 0, 0],\n[           0,             0,            0,            0,            0,             0, 0, 0]])",
      "text/latex": "$\\displaystyle \\left[\\begin{matrix}10508241.758 & 5357142.857 & -3296703.297 & -2884615.385 & -7211538.462 & -2472527.473 & 0 & 0\\\\5357142.857 & 21758241.758 & -2472527.473 & -1153846.154 & -2884615.385 & -20604395.604 & 0 & 0\\\\-3296703.297 & -2472527.473 & 3296703.297 & 0 & 0 & 2472527.473 & 0 & 0\\\\-2884615.385 & -1153846.154 & 0 & 1153846.154 & 2884615.385 & 0 & 0 & 0\\\\-7211538.462 & -2884615.385 & 0 & 2884615.385 & 7211538.462 & 0 & 0 & 0\\\\-2472527.473 & -20604395.604 & 2472527.473 & 0 & 0 & 20604395.604 & 0 & 0\\\\0 & 0 & 0 & 0 & 0 & 0 & 0 & 0\\\\0 & 0 & 0 & 0 & 0 & 0 & 0 & 0\\end{matrix}\\right]$"
     },
     "execution_count": 9,
     "metadata": {},
     "output_type": "execute_result"
    }
   ],
   "source": [
    "k1_global = k1_local.col_insert(6, sp.zeros(rows=6, cols=2)).row_insert(6, sp.zeros(rows=2, cols=8))\n",
    "round_expr(k1_global, 3)"
   ],
   "metadata": {
    "collapsed": false,
    "pycharm": {
     "name": "#%%\n"
    }
   }
  },
  {
   "cell_type": "code",
   "execution_count": 10,
   "outputs": [
    {
     "data": {
      "text/plain": "Matrix([\n[0, 0,            0,             0,            0,            0,            0,             0],\n[0, 0,            0,             0,            0,            0,            0,             0],\n[0, 0,  7211538.462,             0,            0,  2884615.385, -7211538.462,  -2884615.385],\n[0, 0,            0,  20604395.604,  2472527.473,            0, -2472527.473, -20604395.604],\n[0, 0,            0,   2472527.473,  3296703.297,            0, -3296703.297,  -2472527.473],\n[0, 0,  2884615.385,             0,            0,  1153846.154, -2884615.385,  -1153846.154],\n[0, 0, -7211538.462,  -2472527.473, -3296703.297, -2884615.385, 10508241.758,   5357142.857],\n[0, 0, -2884615.385, -20604395.604, -2472527.473, -1153846.154,  5357142.857,  21758241.758]])",
      "text/latex": "$\\displaystyle \\left[\\begin{matrix}0 & 0 & 0 & 0 & 0 & 0 & 0 & 0\\\\0 & 0 & 0 & 0 & 0 & 0 & 0 & 0\\\\0 & 0 & 7211538.462 & 0 & 0 & 2884615.385 & -7211538.462 & -2884615.385\\\\0 & 0 & 0 & 20604395.604 & 2472527.473 & 0 & -2472527.473 & -20604395.604\\\\0 & 0 & 0 & 2472527.473 & 3296703.297 & 0 & -3296703.297 & -2472527.473\\\\0 & 0 & 2884615.385 & 0 & 0 & 1153846.154 & -2884615.385 & -1153846.154\\\\0 & 0 & -7211538.462 & -2472527.473 & -3296703.297 & -2884615.385 & 10508241.758 & 5357142.857\\\\0 & 0 & -2884615.385 & -20604395.604 & -2472527.473 & -1153846.154 & 5357142.857 & 21758241.758\\end{matrix}\\right]$"
     },
     "execution_count": 10,
     "metadata": {},
     "output_type": "execute_result"
    }
   ],
   "source": [
    "k2_global = k2_local.col_insert(0, sp.zeros(rows=6, cols=2)).row_insert(0, sp.zeros(rows=2, cols=8))\n",
    "round_expr(k2_global, 3)"
   ],
   "metadata": {
    "collapsed": false,
    "pycharm": {
     "name": "#%%\n"
    }
   }
  },
  {
   "cell_type": "code",
   "execution_count": 11,
   "outputs": [
    {
     "data": {
      "text/plain": "Matrix([\n[10508241.8,   5357142.9, -3296703.3,  -2884615.4, -7211538.5,  -2472527.5,          0,           0],\n[ 5357142.9,  21758241.8, -2472527.5,  -1153846.2, -2884615.4, -20604395.6,          0,           0],\n[-3296703.3,  -2472527.5, 10508241.8,           0,          0,   5357142.9, -7211538.5,  -2884615.4],\n[-2884615.4,  -1153846.2,          0,  21758241.8,  5357142.9,           0, -2472527.5, -20604395.6],\n[-7211538.5,  -2884615.4,          0,   5357142.9, 10508241.8,           0, -3296703.3,  -2472527.5],\n[-2472527.5, -20604395.6,  5357142.9,           0,          0,  21758241.8, -2884615.4,  -1153846.2],\n[         0,           0, -7211538.5,  -2472527.5, -3296703.3,  -2884615.4, 10508241.8,   5357142.9],\n[         0,           0, -2884615.4, -20604395.6, -2472527.5,  -1153846.2,  5357142.9,  21758241.8]])",
      "text/latex": "$\\displaystyle \\left[\\begin{matrix}10508241.8 & 5357142.9 & -3296703.3 & -2884615.4 & -7211538.5 & -2472527.5 & 0 & 0\\\\5357142.9 & 21758241.8 & -2472527.5 & -1153846.2 & -2884615.4 & -20604395.6 & 0 & 0\\\\-3296703.3 & -2472527.5 & 10508241.8 & 0 & 0 & 5357142.9 & -7211538.5 & -2884615.4\\\\-2884615.4 & -1153846.2 & 0 & 21758241.8 & 5357142.9 & 0 & -2472527.5 & -20604395.6\\\\-7211538.5 & -2884615.4 & 0 & 5357142.9 & 10508241.8 & 0 & -3296703.3 & -2472527.5\\\\-2472527.5 & -20604395.6 & 5357142.9 & 0 & 0 & 21758241.8 & -2884615.4 & -1153846.2\\\\0 & 0 & -7211538.5 & -2472527.5 & -3296703.3 & -2884615.4 & 10508241.8 & 5357142.9\\\\0 & 0 & -2884615.4 & -20604395.6 & -2472527.5 & -1153846.2 & 5357142.9 & 21758241.8\\end{matrix}\\right]$"
     },
     "execution_count": 11,
     "metadata": {},
     "output_type": "execute_result"
    }
   ],
   "source": [
    "k_global = k1_global + k2_global\n",
    "round_expr(k_global, 1)"
   ],
   "metadata": {
    "collapsed": false,
    "pycharm": {
     "name": "#%%\n"
    }
   }
  },
  {
   "cell_type": "markdown",
   "source": [
    "### Part B"
   ],
   "metadata": {
    "collapsed": false,
    "pycharm": {
     "name": "#%% md\n"
    }
   }
  },
  {
   "cell_type": "code",
   "execution_count": 12,
   "outputs": [
    {
     "data": {
      "text/plain": "Matrix([\n[             F_1],\n[             F_2],\n[               0],\n[               0],\n[             F_5],\n[               0],\n[106.066017177982],\n[106.066017177982]])",
      "text/latex": "$\\displaystyle \\left[\\begin{matrix}F_{1}\\\\F_{2}\\\\0\\\\0\\\\F_{5}\\\\0\\\\106.066017177982\\\\106.066017177982\\end{matrix}\\right]$"
     },
     "execution_count": 12,
     "metadata": {},
     "output_type": "execute_result"
    }
   ],
   "source": [
    "F_1, F_2, F_5 = sp.symbols('F_1 F_2 F_5')\n",
    "F = sp.Matrix([\n",
    "    [F_1],\n",
    "    [F_2],\n",
    "    [0],\n",
    "    [0],\n",
    "    [F_5],\n",
    "    [0],\n",
    "    [P_*sp.sqrt(2)/2],\n",
    "    [P_*sp.sqrt(2)/2]\n",
    "]).n()\n",
    "F"
   ],
   "metadata": {
    "collapsed": false,
    "pycharm": {
     "name": "#%%\n"
    }
   }
  },
  {
   "cell_type": "code",
   "execution_count": 13,
   "outputs": [
    {
     "data": {
      "text/plain": "Matrix([\n[  0],\n[  0],\n[u_2],\n[v_2],\n[  0],\n[v_3],\n[u_4],\n[v_4]])",
      "text/latex": "$\\displaystyle \\left[\\begin{matrix}0\\\\0\\\\u_{2}\\\\v_{2}\\\\0\\\\v_{3}\\\\u_{4}\\\\v_{4}\\end{matrix}\\right]$"
     },
     "execution_count": 13,
     "metadata": {},
     "output_type": "execute_result"
    }
   ],
   "source": [
    "u2, v2, v3, u4, v4 = sp.symbols('u_2 v_2 v_3 u_4 v_4')\n",
    "d = sp.Matrix([\n",
    "    [0],\n",
    "    [0],\n",
    "    [u2],\n",
    "    [v2],\n",
    "    [0],\n",
    "    [v3],\n",
    "    [u4],\n",
    "    [v4]\n",
    "])\n",
    "d"
   ],
   "metadata": {
    "collapsed": false,
    "pycharm": {
     "name": "#%%\n"
    }
   }
  },
  {
   "cell_type": "code",
   "execution_count": 14,
   "outputs": [
    {
     "data": {
      "text/plain": "Eq(Matrix([\n[    F_1],\n[    F_2],\n[      0],\n[      0],\n[    F_5],\n[      0],\n[106.066],\n[106.066]]), Matrix([\n[                                      -3296703.297*u_2 - 2884615.385*v_2 - 2472527.473*v_3],\n[                                     -2472527.473*u_2 - 1153846.154*v_2 - 20604395.604*v_3],\n[                    10508241.758*u_2 - 7211538.462*u_4 + 5357142.857*v_3 - 2884615.385*v_4],\n[                                    -2472527.473*u_4 + 21758241.758*v_2 - 20604395.604*v_4],\n[                                      -3296703.297*u_4 + 5357142.857*v_2 - 2472527.473*v_4],\n[                    5357142.857*u_2 - 2884615.385*u_4 + 21758241.758*v_3 - 1153846.154*v_4],\n[ -7211538.462*u_2 + 10508241.758*u_4 - 2472527.473*v_2 - 2884615.385*v_3 + 5357142.857*v_4],\n[-2884615.385*u_2 + 5357142.857*u_4 - 20604395.604*v_2 - 1153846.154*v_3 + 21758241.758*v_4]]))",
      "text/latex": "$\\displaystyle \\left[\\begin{matrix}F_{1}\\\\F_{2}\\\\0\\\\0\\\\F_{5}\\\\0\\\\106.066\\\\106.066\\end{matrix}\\right] = \\left[\\begin{matrix}- 3296703.297 u_{2} - 2884615.385 v_{2} - 2472527.473 v_{3}\\\\- 2472527.473 u_{2} - 1153846.154 v_{2} - 20604395.604 v_{3}\\\\10508241.758 u_{2} - 7211538.462 u_{4} + 5357142.857 v_{3} - 2884615.385 v_{4}\\\\- 2472527.473 u_{4} + 21758241.758 v_{2} - 20604395.604 v_{4}\\\\- 3296703.297 u_{4} + 5357142.857 v_{2} - 2472527.473 v_{4}\\\\5357142.857 u_{2} - 2884615.385 u_{4} + 21758241.758 v_{3} - 1153846.154 v_{4}\\\\- 7211538.462 u_{2} + 10508241.758 u_{4} - 2472527.473 v_{2} - 2884615.385 v_{3} + 5357142.857 v_{4}\\\\- 2884615.385 u_{2} + 5357142.857 u_{4} - 20604395.604 v_{2} - 1153846.154 v_{3} + 21758241.758 v_{4}\\end{matrix}\\right]$"
     },
     "execution_count": 14,
     "metadata": {},
     "output_type": "execute_result"
    }
   ],
   "source": [
    "system = sp.Eq(F, k_global*d)\n",
    "round_expr(system, 3)"
   ],
   "metadata": {
    "collapsed": false,
    "pycharm": {
     "name": "#%%\n"
    }
   }
  },
  {
   "cell_type": "code",
   "source": [
    "solved = sp.solve(system)\n",
    "for key, value in solved.items():\n",
    "    display_latex(f'${sp.latex(key)}={sp.latex(value)}$')"
   ],
   "metadata": {
    "collapsed": false,
    "pycharm": {
     "name": "#%%\n"
    }
   },
   "execution_count": 15,
   "outputs": [
    {
     "data": {
      "text/plain": "<IPython.core.display.Latex object>",
      "text/latex": "$F_{1}=-265.165042944938$"
     },
     "metadata": {},
     "output_type": "display_data"
    },
    {
     "data": {
      "text/plain": "<IPython.core.display.Latex object>",
      "text/latex": "$F_{2}=-106.066017177975$"
     },
     "metadata": {},
     "output_type": "display_data"
    },
    {
     "data": {
      "text/plain": "<IPython.core.display.Latex object>",
      "text/latex": "$F_{5}=159.099025766958$"
     },
     "metadata": {},
     "output_type": "display_data"
    },
    {
     "data": {
      "text/plain": "<IPython.core.display.Latex object>",
      "text/latex": "$u_{2}=2.42131523003677 \\cdot 10^{-5}$"
     },
     "metadata": {},
     "output_type": "display_data"
    },
    {
     "data": {
      "text/plain": "<IPython.core.display.Latex object>",
      "text/latex": "$u_{4}=6.89954607183987 \\cdot 10^{-6}$"
     },
     "metadata": {},
     "output_type": "display_data"
    },
    {
     "data": {
      "text/plain": "<IPython.core.display.Latex object>",
      "text/latex": "$v_{2}=6.54725387051039 \\cdot 10^{-5}$"
     },
     "metadata": {},
     "output_type": "display_data"
    },
    {
     "data": {
      "text/plain": "<IPython.core.display.Latex object>",
      "text/latex": "$v_{3}=-1.4243030764922 \\cdot 10^{-6}$"
     },
     "metadata": {},
     "output_type": "display_data"
    },
    {
     "data": {
      "text/plain": "<IPython.core.display.Latex object>",
      "text/latex": "$v_{4}=6.83110553439691 \\cdot 10^{-5}$"
     },
     "metadata": {},
     "output_type": "display_data"
    }
   ]
  },
  {
   "cell_type": "markdown",
   "source": [
    "### Part C"
   ],
   "metadata": {
    "collapsed": false,
    "pycharm": {
     "name": "#%% md\n"
    }
   }
  },
  {
   "cell_type": "code",
   "execution_count": 16,
   "outputs": [
    {
     "data": {
      "text/plain": "Matrix([\n[ 4.84263046007354e-6],\n[-7.12151538246102e-7],\n[ 1.30945077410208e-5]])",
      "text/latex": "$\\displaystyle \\left[\\begin{matrix}4.84263046007354 \\cdot 10^{-6}\\\\-7.12151538246102 \\cdot 10^{-7}\\\\1.30945077410208 \\cdot 10^{-5}\\end{matrix}\\right]$"
     },
     "execution_count": 16,
     "metadata": {},
     "output_type": "execute_result"
    }
   ],
   "source": [
    "strain1 = B1*sp.Matrix([\n",
    "    [0],\n",
    "    [0],\n",
    "    [solved[u2]],\n",
    "    [solved[v2]],\n",
    "    [0],\n",
    "    [solved[v3]]\n",
    "])\n",
    "strain1"
   ],
   "metadata": {
    "collapsed": false,
    "pycharm": {
     "name": "#%%\n"
    }
   }
  },
  {
   "cell_type": "code",
   "execution_count": 17,
   "outputs": [
    {
     "data": {
      "text/plain": "Matrix([\n[152.603901052738],\n[24.4166241684383],\n[151.090473934855]])",
      "text/latex": "$\\displaystyle \\left[\\begin{matrix}152.603901052738\\\\24.4166241684383\\\\151.090473934855\\end{matrix}\\right]$"
     },
     "execution_count": 17,
     "metadata": {},
     "output_type": "execute_result"
    }
   ],
   "source": [
    "stress1 = E*strain1\n",
    "stress1"
   ],
   "metadata": {
    "collapsed": false,
    "pycharm": {
     "name": "#%%\n"
    }
   }
  },
  {
   "cell_type": "code",
   "execution_count": 18,
   "outputs": [
    {
     "data": {
      "text/plain": "Matrix([\n[-1.37990921436797e-6],\n[-1.41925831943259e-6],\n[-5.29026856982834e-6]])",
      "text/latex": "$\\displaystyle \\left[\\begin{matrix}-1.37990921436797 \\cdot 10^{-6}\\\\-1.41925831943259 \\cdot 10^{-6}\\\\-5.29026856982834 \\cdot 10^{-6}\\end{matrix}\\right]$"
     },
     "execution_count": 18,
     "metadata": {},
     "output_type": "execute_result"
    }
   ],
   "source": [
    "strain2 = B2*sp.Matrix([\n",
    "    [solved[u2]],\n",
    "    [solved[v2]],\n",
    "    [0],\n",
    "    [solved[v3]],\n",
    "    [solved[u4]],\n",
    "    [solved[v4]]\n",
    "])\n",
    "strain2"
   ],
   "metadata": {
    "collapsed": false,
    "pycharm": {
     "name": "#%%\n"
    }
   }
  },
  {
   "cell_type": "code",
   "execution_count": 19,
   "outputs": [
    {
     "data": {
      "text/plain": "Matrix([\n[-59.5281333032225],\n[-60.4361895739445],\n[-61.0415604210962]])",
      "text/latex": "$\\displaystyle \\left[\\begin{matrix}-59.5281333032225\\\\-60.4361895739445\\\\-61.0415604210962\\end{matrix}\\right]$"
     },
     "execution_count": 19,
     "metadata": {},
     "output_type": "execute_result"
    }
   ],
   "source": [
    "stress2 = E*strain2\n",
    "stress2"
   ],
   "metadata": {
    "collapsed": false,
    "pycharm": {
     "name": "#%%\n"
    }
   }
  },
  {
   "cell_type": "markdown",
   "source": [
    "### Part D\n",
    "Here is a plot of the deformed shape."
   ],
   "metadata": {
    "collapsed": false,
    "pycharm": {
     "name": "#%% md\n"
    }
   }
  },
  {
   "cell_type": "code",
   "execution_count": 20,
   "outputs": [
    {
     "data": {
      "text/plain": "<Figure size 1440x960 with 1 Axes>",
      "image/png": "[encoded data removed]"
     },
     "metadata": {
      "needs_background": "light"
     },
     "output_type": "display_data"
    }
   ],
   "source": [
    "undeformed = {'color': 'black', 'ls': '--', 'label': 'undeformed', 'marker': '.'}\n",
    "deformed = {'color': 'maroon', 'label': 'deformed', 'marker': '.', 'alpha': 0.8}\n",
    "s_ = 10_000  # How exaggerated the results are going to be\n",
    "\n",
    "plt.plot([0, 0], [0, H_], [L_, 0], [0, 0], [L_, 0], [0, H_], [L_, L_], [0, H_], [0, L_], [H_, H_], **undeformed)\n",
    "plt.plot([0, 0], [0, H_ + s_*solved[v3]], [0, L_ + s_*solved[u2]], [0, s_*solved[v2]], [0, L_ + s_*solved[u2]], [H_ + s_*solved[v3], s_*solved[v2]], [L_ + s_*solved[u4], 0], [H_ + s_*solved[v4], H_ + s_*solved[v3]], [L_ + s_*solved[u2], L_ + s_*solved[u4]], [s_*solved[v2], H_ + s_*solved[v4]], **deformed)\n",
    "plt.title('Deformed Plot')\n",
    "plt.show()"
   ],
   "metadata": {
    "collapsed": false,
    "pycharm": {
     "name": "#%%\n"
    }
   }
  },
  {
   "cell_type": "markdown",
   "source": [
    "\\pagebreak\n",
    "\n",
    "\\begin{center}\n",
    "\\begin{tabular}{c c c}\n",
    "ME 6233 & Homework 2 & Gabe Morris \\\\\n",
    "& & gnm54\n",
    "\\end{tabular}\n",
    "\\end{center}\n",
    "\n",
    "# Problem 2\n",
    "## Given\n",
    "\n",
    "![Figure 6](images/Figure_7.PNG)\n",
    "\n",
    "## Find\n",
    "a. The stress concentration factor if $\\frac{d}{w}=0.2$.\n",
    "b. Does the stress concentration factor change with increasing number of elements? Confirm or deny with three different mesh densities.\n",
    "c. Compare the FE solution with a theoretical stress concentration factor (provide references and supporting material).\n",
    "d. Discuss the mesh used in these simulations including the element type(s) used, why they were chosen, and how they affected the result.\n",
    "\n",
    "## Solution\n",
    "The part that I created has the parameters,\n",
    "\n",
    "$d=8\\,mm$, $w=40\\,mm$, $L=40\\,mm$, and $\\frac{d}{w}=0.2$\n",
    "\n",
    "The material properties are,\n",
    "\n",
    "$E=69,000\\,MPa$ and $\\nu=0.35$ (Aluminum)\n",
    "\n",
    "The load is,\n",
    "\n",
    "$P=5\\,MPa$\n",
    "\n",
    "The part has a small thickness of 2 mm. Here are the loads,\n",
    "\n",
    "![Figure 7](images/Figure_6.PNG)\n",
    "\n",
    "The boundary conditions allow for motion in the U1 direction.\n",
    "\n",
    "### Part A\n",
    "\n",
    "Using a 2 mm mesh with a C3D10 element type,\n",
    "\n",
    "![Figure 8](images/Figure_8.PNG)\n",
    "\n",
    "The stress concentration may have several definitions, but for our case, let's say that the stress concentration is the maximum stress divided by the nominal stress. For this 2 mm mesh,\n",
    "\n",
    "$\\frac{\\sigma_{max}}{\\sigma_{nom}}=\\frac{13.19\\,MPa}{5\\,MPa}=2.638$\n",
    "\n",
    "### Part B\n",
    "\n",
    "Using a mesh size of 1 mm,\n",
    "\n",
    "![Figure 9](images/Figure_9.PNG)\n",
    "\n",
    "The stress concentration factor increased to a value of $\\frac{13.73\\,MPa}{5\\,MPa}=2.746$.\n",
    "\n",
    "Using a mesh size of 0.75 mm,\n",
    "\n",
    "![Figure 10](images/Figure_10.PNG)\n",
    "\n",
    "The stress concentration factor increased further to a value of $\\frac{13.84\\,MPa}{5\\,MPa}=2.768$.\n",
    "\n",
    "### Part C\n",
    "According to this figure found in *Mechanics of Materials* by R.C. Hibbeler,\n",
    "\n",
    "![Figure 11](images/Figure_11.PNG)\n",
    "\n",
    "The theoretical value should be around 2.45. This value is less than the value from the FEA results.\n",
    "\n",
    "### Part D\n",
    "\n",
    "| Mesh Size (mm) | Stress Concentration |\n",
    "|----------------|----------------------|\n",
    "| 2              | 2.638                |\n",
    "| 1              | 2.746                |\n",
    "| 0.75           | 2.768                |\n",
    "\n",
    "The element used was C3D10 (tetrahedral) because it is a worthy representative for general purpose application. As seen in the table above, as the mesh size decreases (more elements), the stress concentration factor increases. The value has some significant deviation from the theoretical value. This could be due to the way in which the stress concentration factor is defined. That graph defines the stress concentration factor as the ratio of the maximum stress to the average stress across the central cross-section. The average stress for our case, would be greater than $5\\,MPa$, meaning that the FEA results could agree more with the theoretical value had I used the average instead.\n",
    "\n",
    "\\pagebreak\n",
    "\n",
    "\\begin{center}\n",
    "\\begin{tabular}{c c c}\n",
    "ME 6233 & Homework 2 & Gabe Morris \\\\\n",
    "& & gnm54\n",
    "\\end{tabular}\n",
    "\\end{center}\n",
    "\n",
    "# Problem 3\n",
    "## Given\n",
    "[Use of Finite Element Analysis to Predict Type of Bone Fractures and Fracture Risks in Femur due to Osteoporosis](https://www.longdom.org/abstract/use-of-finite-element-analysis-to-predict-type-of-bone-fractures-and-fracture-risks-in-femur-due-to-osteoporosis-14757.html)\n",
    "\n",
    "## Find\n",
    "a. Description of the FE model and methods\n",
    "b. Details about any assumptions associated with the methods and/or model\n",
    "c. What were the main results of this article? How would you improve the results section?\n",
    "d. What changes could (or should) be made to the model to make the results more realistic?\n",
    "\n",
    "## Solution\n",
    "There are not many details about the FE model. The complex geometry of the femur bone made it difficult for them to create a mesh. There are no details about the mesh or the element type. However, the load applied is static, and a specific loading of 2317 N is used because it is the maximum load for a person standing on one foot. There are no additional details about the boundary conditions. I am lead to assume that the bone is fixed on the ends.\n",
    "\n",
    "There are not many assumptions given other than the material properties of the bone. The elastic modulus varies with the age and is given in Figure 5. There is no additional information given regarding the assumptions of the model.\n",
    "\n",
    "The results showed that the values of the stress increased as a person ages. Interestingly enough, at age 67, the maximum stress values occurred at a very different location compared to the other ages specified. I wish they had further elaborated on why that was the case. The analysis also covers the relationship between the T-score and stress. T-score is the relative bone density to that of a normal 30-year-old person. Their conclusion for the relationship between bone material density and stress was that they could use FEA as a worthy approach to determine the bone mineral density and the fracture risk.\n",
    "\n",
    "I believe that they could've discussed more about the FEA model, specifically the assumptions and boundary conditions. I think they could've been more realistic about the load such as simulating an impact rather than a non-existent point load. They did do a good job of visualization, but could have elaborated on some of them. One in particular is the load for the 67-year-old. Why did the maximum stress occur in that location?"
   ],
   "metadata": {
    "collapsed": false,
    "pycharm": {
     "name": "#%% md\n"
    }
   }
  }
 ],
 "metadata": {
  "kernelspec": {
   "display_name": "Python 3",
   "language": "python",
   "name": "python3"
  },
  "language_info": {
   "codemirror_mode": {
    "name": "ipython",
    "version": 2
   },
   "file_extension": ".py",
   "mimetype": "text/x-python",
   "name": "python",
   "nbconvert_exporter": "python",
   "pygments_lexer": "ipython2",
   "version": "2.7.6"
  }
 },
 "nbformat": 4,
 "nbformat_minor": 0
}