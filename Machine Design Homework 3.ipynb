{
 "cells": [
  {
   "cell_type": "markdown",
   "source": [
    "\\begin{center}\n",
    "Gabe Morris\n",
    "\\end{center}"
   ],
   "metadata": {
    "collapsed": false,
    "pycharm": {
     "name": "#%% md\n"
    }
   }
  },
  {
   "cell_type": "code",
   "execution_count": 1,
   "outputs": [],
   "source": [
    "# Notebook Preamble\n",
    "import sympy as sp\n",
    "import numpy as np\n",
    "import matplotlib.pyplot as plt\n",
    "from IPython.display import display\n",
    "\n",
    "plt.style.use('maroon_ipynb.mplstyle')"
   ],
   "metadata": {
    "collapsed": false,
    "pycharm": {
     "name": "#%%\n"
    }
   }
  },
  {
   "cell_type": "markdown",
   "source": [
    "\\pagebreak\n",
    "\\tableofcontents\n",
    "\\pagebreak"
   ],
   "metadata": {
    "collapsed": false,
    "pycharm": {
     "name": "#%% md\n"
    }
   }
  },
  {
   "cell_type": "markdown",
   "source": [
    "\\begin{center}\n",
    "\\begin{tabular}{c c c}\n",
    "ME 4403 & Homework 3 & Gabe Morris \\\\\n",
    "& & gnm54\n",
    "\\end{tabular}\n",
    "\\end{center}\n",
    "\n",
    "# Problem 5-3\n",
    "## Given\n",
    "A ductile AISI 1030 hot-rolled steel bar has a minimum yield strength in tension and compression of $37.5\\ ksi$.\n",
    "\n",
    "## Find\n",
    "Use the distortion energy and maximum shear stress theories to determine the factors of safety for the following plane stress states:\n",
    "\n",
    "a. $\\sigma_x=25\\ ksi$, $\\sigma_y=15\\ ksi$\n",
    "d. $\\sigma_x=-12\\ ksi$, $\\sigma_y=15\\ ksi$, $\\tau_{xy}=-9\\ ksi$\n",
    "e. $\\sigma_x=-24\\ ksi$, $\\sigma_y=-24\\ ksi$, $\\tau_{xy}=-15\\ ksi$\n",
    "\n",
    "## Solution\n",
    "The relationship comes from Eq. 5-3 (maximum shear stress theory) and Eq. 5-19 (distortion energy theory),\n",
    "\n",
    "$$\\sigma_1-\\sigma_3=\\frac{S_y}{n}$$\n",
    "$$\\sigma^\\prime=\\frac{S_y}{n}$$\n",
    "\n",
    "### Part A"
   ],
   "metadata": {
    "collapsed": false,
    "pycharm": {
     "name": "#%% md\n"
    }
   }
  },
  {
   "cell_type": "code",
   "execution_count": 2,
   "outputs": [
    {
     "data": {
      "text/plain": "Eq(\\sigma**3 - \\sigma**2*(\\sigma_x + \\sigma_y + \\sigma_z) + \\sigma*(\\sigma_x*\\sigma_y + \\sigma_x*\\sigma_z + \\sigma_y*\\sigma_z - \\tau_{xy}**2 - \\tau_{yz}**2 - \\tau_{zx}**2) - \\sigma_x*\\sigma_y*\\sigma_z + \\sigma_x*\\tau_{yz}**2 + \\sigma_y*\\tau_{zx}**2 + \\sigma_z*\\tau_{xy}**2 - 2*\\tau_{xy}*\\tau_{yz}*\\tau_{zx}, 0)",
      "text/latex": "$\\displaystyle \\sigma^{3} - \\sigma^{2} \\left(\\sigma_{x} + \\sigma_{y} + \\sigma_{z}\\right) + \\sigma \\left(\\sigma_{x} \\sigma_{y} + \\sigma_{x} \\sigma_{z} + \\sigma_{y} \\sigma_{z} - \\tau_{xy}^{2} - \\tau_{yz}^{2} - \\tau_{zx}^{2}\\right) - \\sigma_{x} \\sigma_{y} \\sigma_{z} + \\sigma_{x} \\tau_{yz}^{2} + \\sigma_{y} \\tau_{zx}^{2} + \\sigma_{z} \\tau_{xy}^{2} - 2 \\tau_{xy} \\tau_{yz} \\tau_{zx} = 0$"
     },
     "metadata": {},
     "output_type": "display_data"
    },
    {
     "data": {
      "text/plain": "Eq(\\sigma_1, 25.0)",
      "text/latex": "$\\displaystyle \\sigma_{1} = 25.0$"
     },
     "metadata": {},
     "output_type": "display_data"
    },
    {
     "data": {
      "text/plain": "Eq(\\sigma_2, 15.0)",
      "text/latex": "$\\displaystyle \\sigma_{2} = 15.0$"
     },
     "metadata": {},
     "output_type": "display_data"
    },
    {
     "data": {
      "text/plain": "Eq(\\sigma_3, 0)",
      "text/latex": "$\\displaystyle \\sigma_{3} = 0$"
     },
     "metadata": {},
     "output_type": "display_data"
    }
   ],
   "source": [
    "Sy = sp.S('37.5')\n",
    "\n",
    "# Getting the principal stresses\n",
    "sig_x, sig_y, sig_z, tau_xy, tau_zx, tau_yz = sp.symbols(r'\\sigma_x \\sigma_y \\sigma_z \\tau_{xy} \\tau_{zx} \\tau_{yz}')\n",
    "sig = sp.Symbol(r'\\sigma')\n",
    "sig1, sig2, sig3 = sp.symbols(r'\\sigma_1 \\sigma_2 \\sigma_3')\n",
    "\n",
    "poly = sig**3 - (sig_x + sig_y + sig_z)*sig**2 + (sig_x*sig_y + sig_x*sig_z + sig_y*sig_z - tau_xy**2 - tau_yz**2 - tau_zx**2)*sig - (sig_x*sig_y*sig_z + 2*tau_xy*tau_yz*tau_zx - sig_x*tau_yz**2 - sig_y*tau_zx**2 - sig_z*tau_xy**2)\n",
    "display(sp.Eq(poly.simplify(), 0))\n",
    "\n",
    "def get_principal(sx, sy, sz, txy, tyz, tzx):\n",
    "    poly_ = poly.subs([(sig_x, sx), (sig_y, sy), (sig_z, sz), (tau_xy, txy), (tau_yz, tyz), (tau_zx, tzx)])\n",
    "    roots = [sp.re(root.n()) for root in sp.roots(poly_, sig)]\n",
    "    roots_ = sorted(list(roots), reverse=True)\n",
    "    for i, j in zip((sig1, sig2, sig3), roots_):\n",
    "        display(sp.Eq(i, j))\n",
    "    return roots_\n",
    "\n",
    "def von_mises(s1_, s2_, s3_):\n",
    "    return (1/sp.sqrt(2)*sp.sqrt((s1_ - s2_)**2 + (s2_ - s3_)**2 + (s3_ - s1_)**2)).n()\n",
    "\n",
    "s1, s2, s3 = get_principal(25, 15, 0, 0, 0, 0)"
   ],
   "metadata": {
    "collapsed": false,
    "pycharm": {
     "name": "#%%\n"
    }
   }
  },
  {
   "cell_type": "code",
   "execution_count": 3,
   "outputs": [
    {
     "data": {
      "text/plain": "1.50000000000000",
      "text/latex": "$\\displaystyle 1.5$"
     },
     "execution_count": 3,
     "metadata": {},
     "output_type": "execute_result"
    }
   ],
   "source": [
    "# Maximum shear stress theory\n",
    "Sy/(s1 - s3)"
   ],
   "metadata": {
    "collapsed": false,
    "pycharm": {
     "name": "#%%\n"
    }
   }
  },
  {
   "cell_type": "code",
   "execution_count": 4,
   "outputs": [
    {
     "data": {
      "text/plain": "1.72061800402921",
      "text/latex": "$\\displaystyle 1.72061800402921$"
     },
     "execution_count": 4,
     "metadata": {},
     "output_type": "execute_result"
    }
   ],
   "source": [
    "# Distortion energy method\n",
    "s_vm = von_mises(s1, s2, s3)\n",
    "Sy/s_vm"
   ],
   "metadata": {
    "collapsed": false,
    "pycharm": {
     "name": "#%%\n"
    }
   }
  },
  {
   "cell_type": "markdown",
   "source": [
    "### Part D"
   ],
   "metadata": {
    "collapsed": false,
    "pycharm": {
     "name": "#%% md\n"
    }
   }
  },
  {
   "cell_type": "code",
   "execution_count": 5,
   "outputs": [
    {
     "data": {
      "text/plain": "Eq(\\sigma_1, 17.724980739588)",
      "text/latex": "$\\displaystyle \\sigma_{1} = 17.724980739588$"
     },
     "metadata": {},
     "output_type": "display_data"
    },
    {
     "data": {
      "text/plain": "Eq(\\sigma_2, 0)",
      "text/latex": "$\\displaystyle \\sigma_{2} = 0$"
     },
     "metadata": {},
     "output_type": "display_data"
    },
    {
     "data": {
      "text/plain": "Eq(\\sigma_3, -14.724980739588)",
      "text/latex": "$\\displaystyle \\sigma_{3} = -14.724980739588$"
     },
     "metadata": {},
     "output_type": "display_data"
    },
    {
     "data": {
      "text/plain": "1.15562540880256",
      "text/latex": "$\\displaystyle 1.15562540880256$"
     },
     "execution_count": 5,
     "metadata": {},
     "output_type": "execute_result"
    }
   ],
   "source": [
    "s1, s2, s3 = get_principal(-12, 15, 0, -9, 0, 0)\n",
    "\n",
    "# Maximum shear stress\n",
    "Sy/(s1 - s3)"
   ],
   "metadata": {
    "collapsed": false,
    "pycharm": {
     "name": "#%%\n"
    }
   }
  },
  {
   "cell_type": "code",
   "execution_count": 6,
   "outputs": [
    {
     "data": {
      "text/plain": "1.33250447722257",
      "text/latex": "$\\displaystyle 1.33250447722257$"
     },
     "execution_count": 6,
     "metadata": {},
     "output_type": "execute_result"
    }
   ],
   "source": [
    "# Distortion\n",
    "s_vm = von_mises(s1, s2, s3)\n",
    "Sy/s_vm"
   ],
   "metadata": {
    "collapsed": false,
    "pycharm": {
     "name": "#%%\n"
    }
   }
  },
  {
   "cell_type": "markdown",
   "source": [
    "### Part E"
   ],
   "metadata": {
    "collapsed": false,
    "pycharm": {
     "name": "#%% md\n"
    }
   }
  },
  {
   "cell_type": "code",
   "execution_count": 7,
   "outputs": [
    {
     "data": {
      "text/plain": "Eq(\\sigma_1, 0)",
      "text/latex": "$\\displaystyle \\sigma_{1} = 0$"
     },
     "metadata": {},
     "output_type": "display_data"
    },
    {
     "data": {
      "text/plain": "Eq(\\sigma_2, -9.0)",
      "text/latex": "$\\displaystyle \\sigma_{2} = -9.0$"
     },
     "metadata": {},
     "output_type": "display_data"
    },
    {
     "data": {
      "text/plain": "Eq(\\sigma_3, -39.0)",
      "text/latex": "$\\displaystyle \\sigma_{3} = -39.0$"
     },
     "metadata": {},
     "output_type": "display_data"
    },
    {
     "data": {
      "text/plain": "0.961538461538462",
      "text/latex": "$\\displaystyle 0.961538461538462$"
     },
     "execution_count": 7,
     "metadata": {},
     "output_type": "execute_result"
    }
   ],
   "source": [
    "s1, s2, s3 = get_principal(-24, -24, 0, -15, 0, 0)\n",
    "\n",
    "# Maximum shear stress\n",
    "Sy/(s1 - s3)"
   ],
   "metadata": {
    "collapsed": false,
    "pycharm": {
     "name": "#%%\n"
    }
   }
  },
  {
   "cell_type": "code",
   "execution_count": 8,
   "outputs": [
    {
     "data": {
      "text/plain": "1.06023616209996",
      "text/latex": "$\\displaystyle 1.06023616209996$"
     },
     "execution_count": 8,
     "metadata": {},
     "output_type": "execute_result"
    }
   ],
   "source": [
    "# Distortion\n",
    "s_vm = von_mises(s1, s2, s3)\n",
    "Sy/s_vm"
   ],
   "metadata": {
    "collapsed": false,
    "pycharm": {
     "name": "#%%\n"
    }
   }
  }
 ],
 "metadata": {
  "kernelspec": {
   "display_name": "Python 3",
   "language": "python",
   "name": "python3"
  },
  "language_info": {
   "codemirror_mode": {
    "name": "ipython",
    "version": 2
   },
   "file_extension": ".py",
   "mimetype": "text/x-python",
   "name": "python",
   "nbconvert_exporter": "python",
   "pygments_lexer": "ipython2",
   "version": "2.7.6"
  }
 },
 "nbformat": 4,
 "nbformat_minor": 0
}