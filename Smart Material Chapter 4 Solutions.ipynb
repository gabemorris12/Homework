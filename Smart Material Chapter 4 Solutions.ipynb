{
 "cells": [
  {
   "cell_type": "code",
   "metadata": {
    "collapsed": true,
    "pycharm": {
     "name": "#%%\n"
    },
    "ExecuteTime": {
     "end_time": "2024-09-15T19:36:55.976891Z",
     "start_time": "2024-09-15T19:36:55.597374Z"
    }
   },
   "source": [
    "# toc\n",
    "import sympy as sp\n",
    "import numpy as np\n",
    "import matplotlib.pyplot as plt\n",
    "\n",
    "plt.style.use('maroon_ipynb.mplstyle')"
   ],
   "outputs": [],
   "execution_count": 1
  },
  {
   "metadata": {},
   "cell_type": "markdown",
   "source": [
    "# Problem 4.1\n",
    "Compute the stress required to produce 100 microstrain in APC 856 when the applied electric field is held constant at zero  Compute the stress required to produce 100 microstrain when the electric displacement is held equal to zero.\n",
    "\n",
    "![PZT Materials](PZT_materials.png)\n",
    "\n",
    "## Solution\n",
    "We can use the constitutive equations. \n",
    "\n",
    "$$\n",
    "S = sT + dE\n",
    "$$\n",
    "$$\n",
    "D = dT + \\epsilon E\n",
    "$$"
   ]
  },
  {
   "metadata": {
    "ExecuteTime": {
     "end_time": "2024-09-15T19:36:56.037865Z",
     "start_time": "2024-09-15T19:36:56.007243Z"
    }
   },
   "cell_type": "code",
   "source": [
    "S = 100e-6\n",
    "s = 17e-12  # m^2/N\n",
    "T = S/s\n",
    "T  # Pa"
   ],
   "outputs": [
    {
     "data": {
      "text/plain": [
       "5882352.941176471"
      ]
     },
     "execution_count": 2,
     "metadata": {},
     "output_type": "execute_result"
    }
   ],
   "execution_count": 2
  },
  {
   "metadata": {},
   "cell_type": "markdown",
   "source": [
    "For finding the open circuit stress, we need the open circuit compliance.\n",
    "\n",
    "$$s^D = s^E(1 - k^2)$$"
   ]
  },
  {
   "metadata": {
    "ExecuteTime": {
     "end_time": "2024-09-15T19:36:56.098577Z",
     "start_time": "2024-09-15T19:36:56.096105Z"
    }
   },
   "cell_type": "code",
   "source": [
    "SD = s*(1 - 0.73**2)\n",
    "T = S/SD\n",
    "T  # Pa"
   ],
   "outputs": [
    {
     "data": {
      "text/plain": [
       "12593348.193484202"
      ]
     },
     "execution_count": 3,
     "metadata": {},
     "output_type": "execute_result"
    }
   ],
   "execution_count": 3
  }
 ],
 "metadata": {
  "kernelspec": {
   "display_name": "Python 3",
   "language": "python",
   "name": "python3"
  },
  "language_info": {
   "codemirror_mode": {
    "name": "ipython",
    "version": 2
   },
   "file_extension": ".py",
   "mimetype": "text/x-python",
   "name": "python",
   "nbconvert_exporter": "python",
   "pygments_lexer": "ipython2",
   "version": "2.7.6"
  }
 },
 "nbformat": 4,
 "nbformat_minor": 0
}
