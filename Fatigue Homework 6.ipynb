{
 "cells": [
  {
   "cell_type": "markdown",
   "source": [
    "\\begin{center}\n",
    "Gabe Morris\n",
    "\\end{center}"
   ],
   "metadata": {
    "collapsed": false
   }
  },
  {
   "cell_type": "code",
   "execution_count": 1,
   "metadata": {
    "collapsed": true,
    "ExecuteTime": {
     "end_time": "2023-05-01T22:58:20.343151800Z",
     "start_time": "2023-05-01T22:58:18.797436100Z"
    }
   },
   "outputs": [],
   "source": [
    "# Notebook Preamble\n",
    "import matplotlib.pyplot as plt\n",
    "import numpy as np\n",
    "import sympy as sp\n",
    "from IPython.display import display\n",
    "\n",
    "plt.style.use('maroon_ipynb.mplstyle')"
   ]
  },
  {
   "cell_type": "markdown",
   "source": [
    "\\pagebreak\n",
    "\\tableofcontents\n",
    "\\pagebreak"
   ],
   "metadata": {
    "collapsed": false
   }
  },
  {
   "cell_type": "markdown",
   "source": [
    "\\begin{center}\n",
    "\\begin{tabular}{c c c}\n",
    "ME 8253 & Homework 6 & Gabe Morris \\\\\n",
    "& & gnm54\n",
    "\\end{tabular}\n",
    "\\end{center}\n",
    "\n",
    "#\n",
    "## Given\n",
    "A stepped circular rod of 4340 steel (with $S_u$ = 1468 MPa) with diameters of 60 and 45 mm has a root radius of 3 mm at the stepped section. The rod is to be subjected to axial cyclic loading.\n",
    "\n",
    "![image not found](images/f1.PNG)\n",
    "\n",
    "The cyclic yield strength ($S^\\prime_y$) is estimated from:\n",
    "\n",
    "$$S^\\prime_y=K^\\prime(0.002)^{n^\\prime}$$\n",
    "\n",
    "where $K^\\prime$ and $n^\\prime$ are given in Table A.2\n",
    "\n",
    "For the purpose of constructing Haigh diagram, exact value of $\\sigma_f$ is not needed, as the diagram is not very sensitive to its value. Since $\\sigma_f$ is not listed in Table A.2 for this material, we use Eq. 5.20 in the textbook to approximate it as\n",
    "\n",
    "$$\\sigma_f\\approx S_u + 345\\ (MPa)$$\n",
    "\n",
    "## Find\n",
    "Using a Haigh diagram, determine the following for an approximate median fatigue life of $10^6$ cycles:\n",
    "\n",
    "a. What fully reversed alternating force, $P_a$, can be applied?\n",
    "b. What is the maximum value of $P_a$, if proper compressive residual stresses are present at the notch root? What is the magnitude of the compressive residual stress needed to obtain this maximum alternating stress?\n",
    "c. What value of $P_a$ can be applied if the residual stress calculated in (b) is tensile? What fully reversed alternating force, $P_a$, can be applied?\n",
    "\n",
    "## Solution\n",
    "According to equation 4.3b, the endurance limit is $700\\ MPa$ for materials with an ultimate strength greater than $1400\\ MPa$. With the size effect, the endurance limit becomes\n",
    "\n",
    "$$S_f=0.85(700)=595\\ MPa$$\n",
    "\n",
    "### Part A\n",
    "\n",
    "![image not found](images/f2.png)"
   ],
   "metadata": {
    "collapsed": false
   }
  },
  {
   "cell_type": "code",
   "execution_count": 2,
   "outputs": [
    {
     "data": {
      "text/plain": "1.3333333333333333"
     },
     "execution_count": 2,
     "metadata": {},
     "output_type": "execute_result"
    }
   ],
   "source": [
    "D, d, r = 60, 45, 3  # mm\n",
    "Su = 1468  # MPa\n",
    "size_effect = 0.85\n",
    "\n",
    "if Su <= 1400:\n",
    "    Sf = 0.5*Su*size_effect\n",
    "else:\n",
    "    Sf = 700*size_effect\n",
    "\n",
    "D/d"
   ],
   "metadata": {
    "collapsed": false,
    "ExecuteTime": {
     "end_time": "2023-05-01T22:58:20.357237700Z",
     "start_time": "2023-05-01T22:58:20.345147400Z"
    }
   }
  },
  {
   "cell_type": "code",
   "execution_count": 3,
   "outputs": [
    {
     "data": {
      "text/plain": "0.06666666666666667"
     },
     "execution_count": 3,
     "metadata": {},
     "output_type": "execute_result"
    }
   ],
   "source": [
    "r/d"
   ],
   "metadata": {
    "collapsed": false,
    "ExecuteTime": {
     "end_time": "2023-05-01T22:58:20.368961Z",
     "start_time": "2023-05-01T22:58:20.357237700Z"
    }
   }
  },
  {
   "cell_type": "markdown",
   "source": [
    "From above the stress concentration factor is $K_t=2$. The fatigue notch factor for the fully reversed condition is\n",
    "\n",
    "$$K_f=1+\\frac{K_t-1}{1+a/r}$$\n",
    "\n",
    "where $a=0.0254\\left(\\frac{2070}{S_u}\\right)^{1.8}$ with $a$ in mm and $S_u$ in MPa."
   ],
   "metadata": {
    "collapsed": false
   }
  },
  {
   "cell_type": "code",
   "execution_count": 4,
   "outputs": [
    {
     "data": {
      "text/plain": "0.047149103389883054"
     },
     "execution_count": 4,
     "metadata": {},
     "output_type": "execute_result"
    }
   ],
   "source": [
    "Kt = 2\n",
    "a = 0.0254*(2070/Su)**1.8\n",
    "a  # mm"
   ],
   "metadata": {
    "collapsed": false,
    "ExecuteTime": {
     "end_time": "2023-05-01T22:58:20.449256400Z",
     "start_time": "2023-05-01T22:58:20.368961Z"
    }
   }
  },
  {
   "cell_type": "code",
   "execution_count": 5,
   "outputs": [
    {
     "data": {
      "text/plain": "1.9845268144780213"
     },
     "execution_count": 5,
     "metadata": {},
     "output_type": "execute_result"
    }
   ],
   "source": [
    "Kf = 1 + (Kt - 1)/(1 + a/r)\n",
    "Kf"
   ],
   "metadata": {
    "collapsed": false,
    "ExecuteTime": {
     "end_time": "2023-05-01T22:58:20.450357Z",
     "start_time": "2023-05-01T22:58:20.381325500Z"
    }
   }
  },
  {
   "cell_type": "markdown",
   "source": [
    "Since the stress is maximized at the smaller diameter, \n",
    "\n",
    "$$P_a=\\frac{S_f}{K_f}\\left(\\frac{\\pi}{4}\\right)(d)^2$$"
   ],
   "metadata": {
    "collapsed": false
   }
  },
  {
   "cell_type": "code",
   "execution_count": 6,
   "outputs": [
    {
     "data": {
      "text/plain": "476842.4418454644"
     },
     "execution_count": 6,
     "metadata": {},
     "output_type": "execute_result"
    }
   ],
   "source": [
    "Pa = Sf/Kf*np.pi/4*d**2\n",
    "Pa  # N"
   ],
   "metadata": {
    "collapsed": false,
    "ExecuteTime": {
     "end_time": "2023-05-01T22:58:20.450357Z",
     "start_time": "2023-05-01T22:58:20.391644Z"
    }
   }
  },
  {
   "cell_type": "markdown",
   "source": [
    "### Part B\n",
    "From Table A.2,\n",
    "\n",
    "| Property     | Value     |\n",
    "|--------------|-----------|\n",
    "| $S_y$        | 1371  MPa |\n",
    "| $S^\\prime_y$ | 863  MPa  |\n",
    "| $S_f$        | 595   MPa |\n",
    "| $\\sigma_f$   | 1813  MPa |\n",
    "| $K_f$        | 1.98      |\n",
    "| $S_{cat}$    | 70    MPa |\n",
    "\n",
    "$S_{cat}$ comes from the fact that this is a hard steel. The other calculations are shown below."
   ],
   "metadata": {
    "collapsed": false
   }
  },
  {
   "cell_type": "code",
   "execution_count": 7,
   "outputs": [
    {
     "data": {
      "text/plain": "1813"
     },
     "execution_count": 7,
     "metadata": {},
     "output_type": "execute_result"
    }
   ],
   "source": [
    "sig_f = Su + 345\n",
    "sig_f  # MPa"
   ],
   "metadata": {
    "collapsed": false,
    "ExecuteTime": {
     "end_time": "2023-05-01T22:58:20.451359Z",
     "start_time": "2023-05-01T22:58:20.401610200Z"
    }
   }
  },
  {
   "cell_type": "code",
   "execution_count": 8,
   "outputs": [
    {
     "data": {
      "text/plain": "862.5804014077875"
     },
     "execution_count": 8,
     "metadata": {},
     "output_type": "execute_result"
    }
   ],
   "source": [
    "K_prime, n_prime = 1996, 0.135\n",
    "Sy_prime = K_prime*0.002**n_prime\n",
    "Sy_prime  # MPa"
   ],
   "metadata": {
    "collapsed": false,
    "ExecuteTime": {
     "end_time": "2023-05-01T22:58:20.452354800Z",
     "start_time": "2023-05-01T22:58:20.414660400Z"
    }
   }
  },
  {
   "cell_type": "markdown",
   "source": [
    "![image not found](images/f3.png)"
   ],
   "metadata": {
    "collapsed": false
   }
  },
  {
   "cell_type": "code",
   "execution_count": 9,
   "outputs": [
    {
     "data": {
      "text/plain": "731598.3892047232"
     },
     "execution_count": 9,
     "metadata": {},
     "output_type": "execute_result"
    }
   ],
   "source": [
    "Sa = 460  # MPa\n",
    "Pa = Sa*np.pi/4*d**2\n",
    "Pa  # N"
   ],
   "metadata": {
    "collapsed": false,
    "ExecuteTime": {
     "end_time": "2023-05-01T22:58:20.454357700Z",
     "start_time": "2023-05-01T22:58:20.425447Z"
    }
   }
  },
  {
   "cell_type": "markdown",
   "source": [
    "### Part C\n",
    "From above, point B is when the mean stress is tensile."
   ],
   "metadata": {
    "collapsed": false
   }
  },
  {
   "cell_type": "code",
   "execution_count": 10,
   "outputs": [
    {
     "data": {
      "text/plain": "143138.81527918496"
     },
     "execution_count": 10,
     "metadata": {},
     "output_type": "execute_result"
    }
   ],
   "source": [
    "Sa = 90\n",
    "Pa = Sa*np.pi/4*d**2\n",
    "Pa  # N"
   ],
   "metadata": {
    "collapsed": false,
    "ExecuteTime": {
     "end_time": "2023-05-01T22:58:20.454754300Z",
     "start_time": "2023-05-01T22:58:20.434620700Z"
    }
   }
  },
  {
   "cell_type": "markdown",
   "source": [
    "\\pagebreak\n",
    "\n",
    "\\begin{center}\n",
    "\\begin{tabular}{ccc}\n",
    "ME 8253 & Homework 6 & Gabe Morris \\\\\n",
    "& & gnm54\n",
    "\\end{tabular}\n",
    "\\end{center}\n",
    "\n",
    "#\n",
    "## Given\n",
    "An axially loaded member made of 2024-T3 aluminum is repeatedly subjected to the block of stress history shown below.\n",
    "\n",
    "![image not found](images/f4.PNG)\n",
    "\n",
    "## Find\n",
    "a. Complete a summary of the loading block.\n",
    "b. Using the Basquin equation, $S_{Nf}=\\sigma^\\prime_f(2N_f)^b$, determine the fatigue strength $S_{Nf}$, the fatigue life $N_f$ and the damage ratio $n/N_f$ for each load segment and estimate the expected life if the member is smooth.\n",
    "c. Estimate the expected life if the member has a notch with $K_t=2$ and the notch root radius is 1 mm. For the notched member, assume that the given nominal stress block and $K_t$ are based on net stress.\n",
    "\n",
    "## Solution\n",
    "### Part A\n",
    "| Load Segment | $S_{min}$ (MPa) | $S_{max}$ (MPa) | $S_a$ (MPa) | $S_m$ (MPa) | n   |\n",
    "|--------------|-----------------|-----------------|-------------|-------------|-----|\n",
    "| 1            | 0               | 300             | 150         | 150         | 100 |\n",
    "| 2            | -300            | 300             | 300         | 0           | 1   |\n",
    "| 3            | -300            | 0               | 150         | -150        | 100 |\n",
    "\n",
    "### Part B\n",
    "Use the modified Goodman to find $S_{Nf}$ with $S_u=469$ MPa.\n",
    "\n",
    "$$\\frac{S_a}{S_{Nf}}+\\frac{S_m}{S_u}=1\\rightarrow S_{Nf}=\\frac{S_aS_u}{S_u-S_m}$$\n",
    "$$S_{Nf}=\\sigma^\\prime_f(2N_f)^b\\rightarrow N_f=\\frac{1}{2}\\left(\\frac{S_{Nf}}{\\sigma^\\prime_f}\\right)^{1/b}$$"
   ],
   "metadata": {
    "collapsed": false
   }
  },
  {
   "cell_type": "code",
   "execution_count": 11,
   "outputs": [
    {
     "data": {
      "text/plain": "220.53291536050156"
     },
     "execution_count": 11,
     "metadata": {},
     "output_type": "execute_result"
    }
   ],
   "source": [
    "Su, sig_prime, b = 469, 1100, -0.124\n",
    "\n",
    "SNf_lamb = lambda Sa_, Su_, Sm_: Sa_*Su_/(Su_ - Sm_)\n",
    "Nf_lamb = lambda SNf_, sig_prime__, b__: 0.5*(SNf_/sig_prime__)**(1/b__)\n",
    "\n",
    "# Load 1\n",
    "SNf1 = SNf_lamb(150, Su, 150)\n",
    "SNf1  # MPa"
   ],
   "metadata": {
    "collapsed": false,
    "ExecuteTime": {
     "end_time": "2023-05-01T22:58:20.631067400Z",
     "start_time": "2023-05-01T22:58:20.448258Z"
    }
   }
  },
  {
   "cell_type": "code",
   "execution_count": 12,
   "outputs": [
    {
     "data": {
      "text/plain": "212496.20843121517"
     },
     "execution_count": 12,
     "metadata": {},
     "output_type": "execute_result"
    }
   ],
   "source": [
    "Nf1 = Nf_lamb(SNf1, sig_prime, b)\n",
    "Nf1"
   ],
   "metadata": {
    "collapsed": false,
    "ExecuteTime": {
     "end_time": "2023-05-01T22:58:20.671750200Z",
     "start_time": "2023-05-01T22:58:20.459268900Z"
    }
   }
  },
  {
   "cell_type": "code",
   "execution_count": 13,
   "outputs": [
    {
     "data": {
      "text/plain": "0.0004705966319976477"
     },
     "execution_count": 13,
     "metadata": {},
     "output_type": "execute_result"
    }
   ],
   "source": [
    "d1 = 100/Nf1\n",
    "d1"
   ],
   "metadata": {
    "collapsed": false,
    "ExecuteTime": {
     "end_time": "2023-05-01T22:58:20.672748Z",
     "start_time": "2023-05-01T22:58:20.469902300Z"
    }
   }
  },
  {
   "cell_type": "code",
   "execution_count": 14,
   "outputs": [
    {
     "data": {
      "text/plain": "300.0"
     },
     "execution_count": 14,
     "metadata": {},
     "output_type": "execute_result"
    }
   ],
   "source": [
    "# Load 2\n",
    "SNf2 = SNf_lamb(300, Su, 0)\n",
    "SNf2  # MPa"
   ],
   "metadata": {
    "collapsed": false,
    "ExecuteTime": {
     "end_time": "2023-05-01T22:58:20.672748Z",
     "start_time": "2023-05-01T22:58:20.483157500Z"
    }
   }
  },
  {
   "cell_type": "code",
   "execution_count": 15,
   "outputs": [
    {
     "data": {
      "text/plain": "17764.216450750755"
     },
     "execution_count": 15,
     "metadata": {},
     "output_type": "execute_result"
    }
   ],
   "source": [
    "Nf2 = Nf_lamb(SNf2, sig_prime, b)\n",
    "Nf2"
   ],
   "metadata": {
    "collapsed": false,
    "ExecuteTime": {
     "end_time": "2023-05-01T22:58:20.672748Z",
     "start_time": "2023-05-01T22:58:20.489202Z"
    }
   }
  },
  {
   "cell_type": "code",
   "execution_count": 16,
   "outputs": [
    {
     "data": {
      "text/plain": "5.629294164324021e-05"
     },
     "execution_count": 16,
     "metadata": {},
     "output_type": "execute_result"
    }
   ],
   "source": [
    "d2 = 1/Nf2\n",
    "d2"
   ],
   "metadata": {
    "collapsed": false,
    "ExecuteTime": {
     "end_time": "2023-05-01T22:58:20.673747Z",
     "start_time": "2023-05-01T22:58:20.500172200Z"
    }
   }
  },
  {
   "cell_type": "code",
   "execution_count": 17,
   "outputs": [
    {
     "data": {
      "text/plain": "113.65105008077545"
     },
     "execution_count": 17,
     "metadata": {},
     "output_type": "execute_result"
    }
   ],
   "source": [
    "# Load 3\n",
    "SNf3 = SNf_lamb(150, Su, -150)\n",
    "SNf3  # MPa"
   ],
   "metadata": {
    "collapsed": false,
    "ExecuteTime": {
     "end_time": "2023-05-01T22:58:20.673747Z",
     "start_time": "2023-05-01T22:58:20.511491700Z"
    }
   }
  },
  {
   "cell_type": "code",
   "execution_count": 18,
   "outputs": [
    {
     "data": {
      "text/plain": "44578464.41972726"
     },
     "execution_count": 18,
     "metadata": {},
     "output_type": "execute_result"
    }
   ],
   "source": [
    "Nf3 = Nf_lamb(SNf3, sig_prime, b)\n",
    "Nf3"
   ],
   "metadata": {
    "collapsed": false,
    "ExecuteTime": {
     "end_time": "2023-05-01T22:58:20.674742500Z",
     "start_time": "2023-05-01T22:58:20.521703600Z"
    }
   }
  },
  {
   "cell_type": "code",
   "execution_count": 19,
   "outputs": [
    {
     "data": {
      "text/plain": "2.24323563634792e-06"
     },
     "execution_count": 19,
     "metadata": {},
     "output_type": "execute_result"
    }
   ],
   "source": [
    "d3 = 100/Nf3\n",
    "d3"
   ],
   "metadata": {
    "collapsed": false,
    "ExecuteTime": {
     "end_time": "2023-05-01T22:58:20.675742200Z",
     "start_time": "2023-05-01T22:58:20.530804800Z"
    }
   }
  },
  {
   "cell_type": "markdown",
   "source": [
    "Now the expected life is calculated as the reciprocal of the summation of the damage ratios."
   ],
   "metadata": {
    "collapsed": false
   }
  },
  {
   "cell_type": "code",
   "execution_count": 20,
   "outputs": [
    {
     "data": {
      "text/plain": "1889.8846990152454"
     },
     "execution_count": 20,
     "metadata": {},
     "output_type": "execute_result"
    }
   ],
   "source": [
    "1/sum([d1, d2, d3])  # Blocks"
   ],
   "metadata": {
    "collapsed": false,
    "ExecuteTime": {
     "end_time": "2023-05-01T22:58:20.675742200Z",
     "start_time": "2023-05-01T22:58:20.543556100Z"
    }
   }
  },
  {
   "cell_type": "markdown",
   "source": [
    "| Load Segment | $S_{Nf}$ (MPa) | $N_f$      | $n$ | $n/N_f$             |\n",
    "|--------------|----------------|------------|-----|---------------------|\n",
    "| 1            | 221            | 212496     | 100 | $4.706\\cdot10^{-4}$ |\n",
    "| 2            | 300            | 17764      | 1   | $5.630\\cdot10^{-5}$ |\n",
    "| 3            | 114            | 44,578,464 | 100 | $2.243\\cdot10^{-6}$ |\n",
    "| Total        | -              | -          | -   | 1890                |"
   ],
   "metadata": {
    "collapsed": false
   }
  },
  {
   "cell_type": "markdown",
   "source": [
    "### Part C\n",
    "Everything remains the same, but now the endurance limit is changed to $S_f/K_f$, and a new $b$ is found by assuming that the endurance limit is reached at $10^6$ cycles."
   ],
   "metadata": {
    "collapsed": false
   }
  },
  {
   "cell_type": "code",
   "execution_count": 21,
   "outputs": [
    {
     "data": {
      "text/plain": "0.3676793350247542"
     },
     "execution_count": 21,
     "metadata": {},
     "output_type": "execute_result"
    }
   ],
   "source": [
    "a = 0.0254*(2070/Su)**1.8\n",
    "a  # mm"
   ],
   "metadata": {
    "collapsed": false,
    "ExecuteTime": {
     "end_time": "2023-05-01T22:58:20.675742200Z",
     "start_time": "2023-05-01T22:58:20.553268200Z"
    }
   }
  },
  {
   "cell_type": "code",
   "execution_count": 22,
   "outputs": [
    {
     "data": {
      "text/plain": "1.7311655403361788"
     },
     "execution_count": 22,
     "metadata": {},
     "output_type": "execute_result"
    }
   ],
   "source": [
    "Kt, r = 2, 1\n",
    "Kf = 1 + (Kt - 1)/(1 + a/r)\n",
    "Kf"
   ],
   "metadata": {
    "collapsed": false,
    "ExecuteTime": {
     "end_time": "2023-05-01T22:58:20.675742200Z",
     "start_time": "2023-05-01T22:58:20.563981300Z"
    }
   }
  },
  {
   "cell_type": "code",
   "execution_count": 23,
   "outputs": [
    {
     "data": {
      "text/plain": "181.9973086280446"
     },
     "execution_count": 23,
     "metadata": {},
     "output_type": "execute_result"
    }
   ],
   "source": [
    "Sf = sig_prime*2e6**b\n",
    "Sf  # MPa"
   ],
   "metadata": {
    "collapsed": false,
    "ExecuteTime": {
     "end_time": "2023-05-01T22:58:20.676739200Z",
     "start_time": "2023-05-01T22:58:20.573426100Z"
    }
   }
  },
  {
   "cell_type": "code",
   "execution_count": 24,
   "outputs": [
    {
     "data": {
      "text/plain": "-0.16182533948270703"
     },
     "execution_count": 24,
     "metadata": {},
     "output_type": "execute_result"
    }
   ],
   "source": [
    "Sf_new = Sf/Kf\n",
    "B = np.log(Sf_new/sig_prime)/np.log(2e6)\n",
    "B"
   ],
   "metadata": {
    "collapsed": false,
    "ExecuteTime": {
     "end_time": "2023-05-01T22:58:20.698867200Z",
     "start_time": "2023-05-01T22:58:20.583925100Z"
    }
   }
  },
  {
   "cell_type": "markdown",
   "source": [
    "The $S_{Nf}$ values stay the same, but the $N_f$ values change."
   ],
   "metadata": {
    "collapsed": false
   }
  },
  {
   "cell_type": "code",
   "execution_count": 25,
   "outputs": [
    {
     "data": {
      "text/plain": "10274.56557852558"
     },
     "execution_count": 25,
     "metadata": {},
     "output_type": "execute_result"
    }
   ],
   "source": [
    "Nf1 = Nf_lamb(SNf1, sig_prime, B)\n",
    "Nf1"
   ],
   "metadata": {
    "collapsed": false,
    "ExecuteTime": {
     "end_time": "2023-05-01T22:58:20.698867200Z",
     "start_time": "2023-05-01T22:58:20.595254Z"
    }
   }
  },
  {
   "cell_type": "code",
   "execution_count": 26,
   "outputs": [
    {
     "data": {
      "text/plain": "0.009732771593672595"
     },
     "execution_count": 26,
     "metadata": {},
     "output_type": "execute_result"
    }
   ],
   "source": [
    "d1 = 100/Nf1\n",
    "d1"
   ],
   "metadata": {
    "collapsed": false,
    "ExecuteTime": {
     "end_time": "2023-05-01T22:58:20.698867200Z",
     "start_time": "2023-05-01T22:58:20.605358300Z"
    }
   }
  },
  {
   "cell_type": "code",
   "execution_count": 27,
   "outputs": [
    {
     "data": {
      "text/plain": "1534.2156409133563"
     },
     "execution_count": 27,
     "metadata": {},
     "output_type": "execute_result"
    }
   ],
   "source": [
    "Nf2 = Nf_lamb(SNf2, sig_prime, B)\n",
    "Nf2"
   ],
   "metadata": {
    "collapsed": false,
    "ExecuteTime": {
     "end_time": "2023-05-01T22:58:20.699864500Z",
     "start_time": "2023-05-01T22:58:20.615622600Z"
    }
   }
  },
  {
   "cell_type": "code",
   "execution_count": 28,
   "outputs": [
    {
     "data": {
      "text/plain": "0.0006517988562577001"
     },
     "execution_count": 28,
     "metadata": {},
     "output_type": "execute_result"
    }
   ],
   "source": [
    "d2 = 1/Nf2\n",
    "d2"
   ],
   "metadata": {
    "collapsed": false,
    "ExecuteTime": {
     "end_time": "2023-05-01T22:58:20.699864500Z",
     "start_time": "2023-05-01T22:58:20.631067400Z"
    }
   }
  },
  {
   "cell_type": "code",
   "execution_count": 29,
   "outputs": [
    {
     "data": {
      "text/plain": "617791.4135432595"
     },
     "execution_count": 29,
     "metadata": {},
     "output_type": "execute_result"
    }
   ],
   "source": [
    "Nf3 = Nf_lamb(SNf3, sig_prime, B)\n",
    "Nf3"
   ],
   "metadata": {
    "collapsed": false,
    "ExecuteTime": {
     "end_time": "2023-05-01T22:58:20.941192800Z",
     "start_time": "2023-05-01T22:58:20.637559900Z"
    }
   }
  },
  {
   "cell_type": "code",
   "execution_count": 30,
   "outputs": [
    {
     "data": {
      "text/plain": "0.00016186693082453747"
     },
     "execution_count": 30,
     "metadata": {},
     "output_type": "execute_result"
    }
   ],
   "source": [
    "d3 = 100/Nf3\n",
    "d3"
   ],
   "metadata": {
    "collapsed": false,
    "ExecuteTime": {
     "end_time": "2023-05-01T22:58:21.007502400Z",
     "start_time": "2023-05-01T22:58:20.647894300Z"
    }
   }
  },
  {
   "cell_type": "code",
   "execution_count": 31,
   "outputs": [
    {
     "data": {
      "text/plain": "94.81874910904062"
     },
     "execution_count": 31,
     "metadata": {},
     "output_type": "execute_result"
    }
   ],
   "source": [
    "1/sum([d1, d2, d3])  # Blocks"
   ],
   "metadata": {
    "collapsed": false,
    "ExecuteTime": {
     "end_time": "2023-05-01T22:58:21.007502400Z",
     "start_time": "2023-05-01T22:58:20.660235700Z"
    }
   }
  },
  {
   "cell_type": "markdown",
   "source": [
    "| Load Segment | $S_{Nf}$ (MPa) | $N_f$  | $n$ | $n/N_f$             |\n",
    "|--------------|----------------|--------|-----|---------------------|\n",
    "| 1            | 221            | 10275  | 100 | $9.732\\cdot10^{-3}$ |\n",
    "| 2            | 300            | 1534   | 1   | $6.518\\cdot10^{-4}$ |\n",
    "| 3            | 114            | 617791 | 100 | $1.619\\cdot10^{-4}$ |\n",
    "| Total        | -              | -      | -   | 95                  |\n",
    "\n",
    "\\pagebreak\n",
    "\n",
    "\\begin{center}\n",
    "\\begin{tabular}{ccc}\n",
    "ME 8253 & Homework 6 & Gabe Morris \\\\\n",
    "& & gnm54\n",
    "\\end{tabular}\n",
    "\\end{center}\n",
    "\n",
    "#\n",
    "## Given\n",
    "Repeat Problem 2 using the strain-life approach.\n",
    "\n",
    "## Find\n",
    "a. Explain why the behavior is linear elastic and the strain amplitude can be calculated using $\\epsilon_a=S_a/E$.\n",
    "b. Use the Smith-Watson-Topper (SWT) equation, $\\sigma_{\\max } \\varepsilon_a E=\\left(\\sigma_f^{\\prime}\\right)^2\\left(2 N_f\\right)^{2 b}+\\sigma_f^{\\prime} \\varepsilon_f^{\\prime} E\\left(2 N_f\\right)^{b+c}$, to account for the mean stress effect, and the fatigue properties from Table A.2 to determine the fatigue life and calculate the damage ratio for each load segment.\n",
    "c. Estimate the total fatigue life in terms of blocks.\n",
    "\n",
    "For a notched member with $K_t=2$ and a root radius of 1 mm:\n",
    "\n",
    "d. Explain why the behavior is inelastic.\n",
    "e. Determine the fatigue notch factor $K_f$.\n",
    "f. Determine the stress range $S$ from the beginning of the block (Point O) to point A. Using Neuber's rule, $\\frac{\\sigma_A^2}{E}+\\sigma_A\\left(\\frac{\\sigma_A}{K}\\right)^{1 / n}=\\varepsilon_A \\sigma_A=\\frac{\\left(K_f S_A\\right)^2}{E}$, with the cyclic stress-strain equation, $\\varepsilon_a=\\frac{\\sigma_a}{E}+\\left(\\frac{\\sigma_a}{K^{\\prime}}\\right)^{1 / n^{\\prime}}$, find the notch stress $\\sigma_A$ and the strain $\\epsilon_A$ at point A.\n",
    "g. For load segment 1 (point A to point B), determine the stress range $\\Delta S$ from point A to point B. Using the Neuber's rule, $\\frac{(\\Delta \\sigma)^2}{E}+2 \\Delta \\sigma\\left(\\frac{\\Delta \\sigma}{2 K^{\\prime}}\\right)^{\\frac{1}{n^{\\prime}}}=\\frac{\\left(K_f \\Delta S\\right)^2}{E}$, with the cyclic stress equation, $\\Delta \\varepsilon=\\frac{\\Delta \\sigma}{2 E}+\\left(\\frac{\\Delta \\sigma}{2 K^{\\prime}}\\right)^{\\frac{1}{n^{\\prime}}}$, find the notch stress $\\sigma_B=\\sigma_A-\\Delta\\sigma$ and strain $\\epsilon_B=\\epsilon_A-\\Delta\\epsilon$ at point B. Determine the strain amplitude $\\epsilon_a$ and the maximum stress $\\sigma_{max}$ and calculate the fatigue life $N_f$ using the SWT equation.\n",
    "h. Repeat (g) for load segment 2 (point C to point D).\n",
    "i. Repeat (g) for load segment 3 (point D to point E).\n",
    "j. Estimate the fatigue life in terms of blocks.\n",
    "\n",
    "## Solution\n",
    "Recall the following,\n",
    "\n",
    "| Load Segment | $S_{min}$ (MPa) | $S_{max}$ (MPa) | $S_a$ (MPa) | $S_m$ (MPa) | n   |\n",
    "|--------------|-----------------|-----------------|-------------|-------------|-----|\n",
    "| 1            | 0               | 300             | 150         | 150         | 100 |\n",
    "| 2            | -300            | 300             | 300         | 0           | 1   |\n",
    "| 3            | -300            | 0               | 150         | -150        | 100 |\n",
    "\n",
    "### Part A\n",
    "The behavior is mostly elastic because the stress amplitude is 150 MPa for most of the loading duration. Since the stress amplitude is less than half of the material's yield strength ($S_y=370$ MPa), the duration is of the load is mostly elastic. Also, even the peak stress values (300 MPa) is less than the yield strength.\n",
    "\n",
    "### Part B\n",
    "The below code cell is a contains a function that will numerically solve for $N_f$ using the Smith-Watson-Topper equation."
   ],
   "metadata": {
    "collapsed": false
   }
  },
  {
   "cell_type": "code",
   "execution_count": 32,
   "outputs": [
    {
     "data": {
      "text/plain": "Eq(E*\\epsilon_a*\\sigma_{max}, E*\\epsilon^'_f*\\sigma^'_f*(2*N_f)**(b + c) + \\sigma^'_f**2*(2*N_f)**(2*b))",
      "text/latex": "$\\displaystyle E \\epsilon_{a} \\sigma_{max} = E \\epsilon^{'}_{f} \\sigma^{'}_{f} \\left(2 N_{f}\\right)^{b + c} + \\left(\\sigma^{'}_{f}\\right)^{2} \\left(2 N_{f}\\right)^{2 b}$"
     },
     "metadata": {},
     "output_type": "display_data"
    },
    {
     "data": {
      "text/plain": "Eq(70000*0.0021429*300, 1100**2*(2*N_f)**(2*(-0.124)) + 70000*0.22*1100*(2*N_f)**(-0.59 - 0.124))",
      "text/latex": "$\\displaystyle 70000 \\cdot 0.0021429 \\cdot 300 = \\frac{1100^{2}}{\\left(2 N_{f}\\right)^{\\left(-0.124\\right) \\left(-2\\right)}} + 70000 \\cdot 0.22 \\cdot 1100 \\left(2 N_{f}\\right)^{-0.59 - 0.124}$"
     },
     "metadata": {},
     "output_type": "display_data"
    },
    {
     "data": {
      "text/plain": "Eq(N_f, 324108.948236852)",
      "text/latex": "$\\displaystyle N_{f} = 324108.948236852$"
     },
     "metadata": {},
     "output_type": "display_data"
    }
   ],
   "source": [
    "# Define properties\n",
    "E, sig_prime = 70_000, 1100  # MPa\n",
    "eps_prime, b, c = sp.S('0.22'), sp.S('-0.124'), sp.S('-0.59')\n",
    "\n",
    "# Define symbols\n",
    "sig_max_, eps_a_, E_, sig_prime_, Nf_, eps_prime_, b_, c_= sp.symbols(r\"\\sigma_{max} \\epsilon_a E \\sigma^'_f N_f \\epsilon^'_f b c\")\n",
    "\n",
    "def SWT_elastic(S_max, eps_a, Nf_guess=10_000):\n",
    "    sub_list = [(sig_max_, S_max), (eps_a_, eps_a), (E_, E), (sig_prime_, sig_prime), (eps_prime_, eps_prime), (b_, b), (c_, c)]\n",
    "    eq = sp.Eq(sig_max_*eps_a_*E_, sig_prime_**2*(2*Nf_)**(2*b_) + sig_prime_*eps_prime_*E_*(2*Nf_)**(b_ + c_))\n",
    "    display(eq)\n",
    "\n",
    "    with sp.evaluate(False):\n",
    "        eq_sub = sp.Eq(eq.lhs.subs(sub_list), eq.rhs.subs(sub_list))\n",
    "        display(eq_sub)\n",
    "\n",
    "    try:\n",
    "        sol = sp.nsolve(eq_sub, Nf_guess)\n",
    "    except ValueError:\n",
    "        sol = sp.oo\n",
    "    display(sp.Eq(Nf_, sol))\n",
    "    return sol\n",
    "\n",
    "# Load Segment 1\n",
    "S_max1, eps_a1 = 300, sp.S('0.0021429')\n",
    "Nf1 = SWT_elastic(S_max1, eps_a1)\n",
    "d1 = 100/Nf1"
   ],
   "metadata": {
    "collapsed": false,
    "ExecuteTime": {
     "end_time": "2023-05-01T22:58:21.121181200Z",
     "start_time": "2023-05-01T22:58:20.673747Z"
    }
   }
  },
  {
   "cell_type": "code",
   "execution_count": 33,
   "outputs": [
    {
     "data": {
      "text/plain": "Eq(E*\\epsilon_a*\\sigma_{max}, E*\\epsilon^'_f*\\sigma^'_f*(2*N_f)**(b + c) + \\sigma^'_f**2*(2*N_f)**(2*b))",
      "text/latex": "$\\displaystyle E \\epsilon_{a} \\sigma_{max} = E \\epsilon^{'}_{f} \\sigma^{'}_{f} \\left(2 N_{f}\\right)^{b + c} + \\left(\\sigma^{'}_{f}\\right)^{2} \\left(2 N_{f}\\right)^{2 b}$"
     },
     "metadata": {},
     "output_type": "display_data"
    },
    {
     "data": {
      "text/plain": "Eq(70000*0.0042858*300, 1100**2*(2*N_f)**(2*(-0.124)) + 70000*0.22*1100*(2*N_f)**(-0.59 - 0.124))",
      "text/latex": "$\\displaystyle 70000 \\cdot 0.0042858 \\cdot 300 = \\frac{1100^{2}}{\\left(2 N_{f}\\right)^{\\left(-0.124\\right) \\left(-2\\right)}} + 70000 \\cdot 0.22 \\cdot 1100 \\left(2 N_{f}\\right)^{-0.59 - 0.124}$"
     },
     "metadata": {},
     "output_type": "display_data"
    },
    {
     "data": {
      "text/plain": "Eq(N_f, 25160.2548136955)",
      "text/latex": "$\\displaystyle N_{f} = 25160.2548136955$"
     },
     "metadata": {},
     "output_type": "display_data"
    }
   ],
   "source": [
    "# Load Segment 2\n",
    "S_max2, eps_a2 = 300, 2*eps_a1\n",
    "Nf2 = SWT_elastic(S_max2, eps_a2)\n",
    "d2 = 1/Nf2"
   ],
   "metadata": {
    "collapsed": false,
    "ExecuteTime": {
     "end_time": "2023-05-01T22:58:21.176855300Z",
     "start_time": "2023-05-01T22:58:20.988225100Z"
    }
   }
  },
  {
   "cell_type": "code",
   "execution_count": 34,
   "outputs": [
    {
     "data": {
      "text/plain": "Eq(E*\\epsilon_a*\\sigma_{max}, E*\\epsilon^'_f*\\sigma^'_f*(2*N_f)**(b + c) + \\sigma^'_f**2*(2*N_f)**(2*b))",
      "text/latex": "$\\displaystyle E \\epsilon_{a} \\sigma_{max} = E \\epsilon^{'}_{f} \\sigma^{'}_{f} \\left(2 N_{f}\\right)^{b + c} + \\left(\\sigma^{'}_{f}\\right)^{2} \\left(2 N_{f}\\right)^{2 b}$"
     },
     "metadata": {},
     "output_type": "display_data"
    },
    {
     "data": {
      "text/plain": "Eq(70000*0.0021429*0, 1100**2*(2*N_f)**(2*(-0.124)) + 70000*0.22*1100*(2*N_f)**(-0.59 - 0.124))",
      "text/latex": "$\\displaystyle 70000 \\cdot 0.0021429 \\cdot 0 = \\frac{1100^{2}}{\\left(2 N_{f}\\right)^{\\left(-0.124\\right) \\left(-2\\right)}} + 70000 \\cdot 0.22 \\cdot 1100 \\left(2 N_{f}\\right)^{-0.59 - 0.124}$"
     },
     "metadata": {},
     "output_type": "display_data"
    },
    {
     "data": {
      "text/plain": "Eq(N_f, oo)",
      "text/latex": "$\\displaystyle N_{f} = \\infty$"
     },
     "metadata": {},
     "output_type": "display_data"
    }
   ],
   "source": [
    "S_max3, eps_a3 = 0, eps_a1\n",
    "Nf3 = SWT_elastic(S_max3, eps_a3)\n",
    "d3 = 100/Nf3"
   ],
   "metadata": {
    "collapsed": false,
    "ExecuteTime": {
     "end_time": "2023-05-01T22:58:21.177886500Z",
     "start_time": "2023-05-01T22:58:21.049188300Z"
    }
   }
  },
  {
   "cell_type": "markdown",
   "source": [
    "Here is a table of results.\n",
    "\n",
    "| Load Segment | $S_a$ (MPa) | $\\epsilon_a$ | $\\sigma_{max}$ | $\\sigma_{max}\\epsilon_a$ | $n$ | $N_f$    | $n/N_f$            |\n",
    "|--------------|-------------|--------------|----------------|--------------------------|-----|----------|--------------------|\n",
    "| 1            | 150         | 0.0021429    | 300            | 0.64287                  | 100 | 324109   | $3.09\\cdot10^{-4}$ |\n",
    "| 2            | 300         | 0.0042858    | 300            | 1.28571                  | 1   | 25160    | $3.97\\cdot10^{-5}$ |\n",
    "| 3            | 150         | 0.0021429    | 0              | 0                        | 100 | $\\infty$ | 0                  |\n",
    "| Total        | -           | -            | -              | -                        | -   | -        | 2871               |\n",
    "\n",
    "### Part C"
   ],
   "metadata": {
    "collapsed": false
   }
  },
  {
   "cell_type": "code",
   "execution_count": 35,
   "outputs": [
    {
     "name": "stdout",
     "output_type": "stream",
     "text": [
      "[0.000308538226247682, 3.97452254519963e-5, 0]\n"
     ]
    },
    {
     "data": {
      "text/plain": "2871.22455896151",
      "text/latex": "$\\displaystyle 2871.22455896151$"
     },
     "execution_count": 35,
     "metadata": {},
     "output_type": "execute_result"
    }
   ],
   "source": [
    "print([d1, d2, d3])\n",
    "1/sum([d1, d2, d3])  # Blocks"
   ],
   "metadata": {
    "collapsed": false,
    "ExecuteTime": {
     "end_time": "2023-05-01T22:58:21.178887300Z",
     "start_time": "2023-05-01T22:58:21.096367Z"
    }
   }
  }
 ],
 "metadata": {
  "kernelspec": {
   "display_name": "Python 3",
   "language": "python",
   "name": "python3"
  },
  "language_info": {
   "codemirror_mode": {
    "name": "ipython",
    "version": 2
   },
   "file_extension": ".py",
   "mimetype": "text/x-python",
   "name": "python",
   "nbconvert_exporter": "python",
   "pygments_lexer": "ipython2",
   "version": "2.7.6"
  }
 },
 "nbformat": 4,
 "nbformat_minor": 0
}
