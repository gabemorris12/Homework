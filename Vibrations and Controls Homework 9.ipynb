{
 "cells": [
  {
   "cell_type": "markdown",
   "source": [
    "\\begin{center}\n",
    "Gabe Morris\n",
    "\\end{center}"
   ],
   "metadata": {
    "collapsed": false,
    "pycharm": {
     "name": "#%% md\n"
    }
   }
  },
  {
   "cell_type": "code",
   "execution_count": 1,
   "metadata": {
    "collapsed": true,
    "pycharm": {
     "name": "#%%\n"
    }
   },
   "outputs": [],
   "source": [
    "# Notebook Preamble\n",
    "%config ZMQInteractiveShell.ast_node_interactivity = 'all'\n",
    "import sympy as sp\n",
    "import numpy as np\n",
    "import matplotlib.pyplot as plt\n",
    "\n",
    "t, s = sp.symbols('t s')\n",
    "\n",
    "plt.style.use('maroon_ipynb.mplstyle')"
   ]
  },
  {
   "cell_type": "markdown",
   "source": [
    "\\pagebreak\n",
    "\\tableofcontents\n",
    "\\pagebreak"
   ],
   "metadata": {
    "collapsed": false,
    "pycharm": {
     "name": "#%% md\n"
    }
   }
  },
  {
   "cell_type": "markdown",
   "source": [
    "\\begin{center}\n",
    "\\begin{tabular}{c c c}\n",
    "ME 6643 & Homework 9 & Gabe Morris \\\\\n",
    "& & gnm54\n",
    "\\end{tabular}\n",
    "\\end{center}\n",
    "\n",
    "# Problem 10.4\n",
    "## Given\n",
    "\n",
    "\\begin{center}\n",
    "\\includegraphics{images/fig1}\n",
    "\\end{center}\n",
    "\n",
    "## Find\n",
    "Derive the output $C(s)$, error $E(s)$, and actuator $M(s)$ equations for the diagram above and obtain the characteristic polynomial.\n",
    "\n",
    "## Solution"
   ],
   "metadata": {
    "collapsed": false,
    "pycharm": {
     "name": "#%% md\n"
    }
   }
  },
  {
   "cell_type": "code",
   "execution_count": 2,
   "outputs": [
    {
     "data": {
      "text/plain": "Eq(E(s), -C(s) + R(s))",
      "text/latex": "$\\displaystyle E{\\left(s \\right)} = - C{\\left(s \\right)} + R{\\left(s \\right)}$"
     },
     "execution_count": 2,
     "metadata": {},
     "output_type": "execute_result"
    },
    {
     "data": {
      "text/plain": "Eq(F(s), K*E(s))",
      "text/latex": "$\\displaystyle F{\\left(s \\right)} = K E{\\left(s \\right)}$"
     },
     "execution_count": 2,
     "metadata": {},
     "output_type": "execute_result"
    },
    {
     "data": {
      "text/plain": "Eq(M(s), 4*F(s)/(3*s + 1))",
      "text/latex": "$\\displaystyle M{\\left(s \\right)} = \\frac{4 F{\\left(s \\right)}}{3 s + 1}$"
     },
     "execution_count": 2,
     "metadata": {},
     "output_type": "execute_result"
    },
    {
     "data": {
      "text/plain": "Eq(C(s), (-6*D(s) + 6*M(s))/(15*s + 2))",
      "text/latex": "$\\displaystyle C{\\left(s \\right)} = \\frac{- 6 D{\\left(s \\right)} + 6 M{\\left(s \\right)}}{15 s + 2}$"
     },
     "execution_count": 2,
     "metadata": {},
     "output_type": "execute_result"
    }
   ],
   "source": [
    "# Use algebra to determine the functions\n",
    "K = sp.Symbol('K')\n",
    "R, E, F, M, D, C, T = [sp.Function(i)(s) for i in ['R', 'E', 'F', 'M', 'D', 'C', 'T']]\n",
    "eq1 = sp.Eq(E, R - C)\n",
    "eq1\n",
    "eq2 = sp.Eq(F, E*K)\n",
    "eq2\n",
    "eq3 = sp.Eq(M, F*4/(3*s + 1))\n",
    "eq3\n",
    "eq4 = sp.Eq(C, (M - D)*6/(15*s + 2))\n",
    "eq4"
   ],
   "metadata": {
    "collapsed": false,
    "pycharm": {
     "name": "#%%\n"
    }
   }
  },
  {
   "cell_type": "markdown",
   "source": [
    "The characteristic polynomial may be determined by solving for $\\frac{C(s)}{R(s)}$."
   ],
   "metadata": {
    "collapsed": false,
    "pycharm": {
     "name": "#%% md\n"
    }
   }
  },
  {
   "cell_type": "code",
   "execution_count": 3,
   "outputs": [
    {
     "data": {
      "text/plain": "Eq(T(s), 6*(4*K*R(s) - 3*s*D(s) - D(s))/((24*K + 45*s**2 + 21*s + 2)*R(s)))",
      "text/latex": "$\\displaystyle T{\\left(s \\right)} = \\frac{6 \\cdot \\left(4 K R{\\left(s \\right)} - 3 s D{\\left(s \\right)} - D{\\left(s \\right)}\\right)}{\\left(24 K + 45 s^{2} + 21 s + 2\\right) R{\\left(s \\right)}}$"
     },
     "execution_count": 3,
     "metadata": {},
     "output_type": "execute_result"
    }
   ],
   "source": [
    "subs = eq4.subs([\n",
    "    (M, eq3.rhs),\n",
    "    (F, eq2.rhs),\n",
    "    (E, eq1.rhs),\n",
    "    (C, T*R)\n",
    "])\n",
    "sol = sp.solve(subs, T)[0]\n",
    "sp.Eq(T, sol)"
   ],
   "metadata": {
    "collapsed": false,
    "pycharm": {
     "name": "#%%\n"
    }
   }
  },
  {
   "cell_type": "markdown",
   "source": [
    "$\\frac{C(s)}{R(s)}$ may be obtained by setting $D(s)$ equal to 0."
   ],
   "metadata": {
    "collapsed": false,
    "pycharm": {
     "name": "#%% md\n"
    }
   }
  },
  {
   "cell_type": "code",
   "execution_count": 4,
   "outputs": [
    {
     "data": {
      "text/plain": "Eq(C(s)/R(s), 24*K/(24*K + 45*s**2 + 21*s + 2))",
      "text/latex": "$\\displaystyle \\frac{C{\\left(s \\right)}}{R{\\left(s \\right)}} = \\frac{24 K}{24 K + 45 s^{2} + 21 s + 2}$"
     },
     "execution_count": 4,
     "metadata": {},
     "output_type": "execute_result"
    }
   ],
   "source": [
    "sp.Eq(C/R, sol.subs(D, 0))"
   ],
   "metadata": {
    "collapsed": false,
    "pycharm": {
     "name": "#%%\n"
    }
   }
  },
  {
   "cell_type": "markdown",
   "source": [
    "It is not necessary to try and rewrite $E(s)$, $M(s)$, and $F(s)$ in any other forms. The denominator of the $\\frac{C(s)}{R(s)}$ function above is the characteristic polynomial,\n",
    "\n",
    "$$45s^2+21s+2+24K$$"
   ],
   "metadata": {
    "collapsed": false,
    "pycharm": {
     "name": "#%% md\n"
    }
   }
  }
 ],
 "metadata": {
  "kernelspec": {
   "display_name": "Python 3",
   "language": "python",
   "name": "python3"
  },
  "language_info": {
   "codemirror_mode": {
    "name": "ipython",
    "version": 2
   },
   "file_extension": ".py",
   "mimetype": "text/x-python",
   "name": "python",
   "nbconvert_exporter": "python",
   "pygments_lexer": "ipython2",
   "version": "2.7.6"
  }
 },
 "nbformat": 4,
 "nbformat_minor": 0
}