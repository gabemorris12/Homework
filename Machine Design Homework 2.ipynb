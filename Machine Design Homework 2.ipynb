{
 "cells": [
  {
   "cell_type": "markdown",
   "metadata": {
    "pycharm": {
     "name": "#%% md\n"
    }
   },
   "source": [
    "\\begin{center}\n",
    "Gabe Morris\n",
    "\\end{center}"
   ]
  },
  {
   "cell_type": "code",
   "execution_count": 1,
   "metadata": {
    "collapsed": true,
    "pycharm": {
     "name": "#%%\n"
    }
   },
   "outputs": [],
   "source": [
    "# Notebook Preamble\n",
    "import sympy as sp\n",
    "import numpy as np\n",
    "import matplotlib.pyplot as plt\n",
    "from IPython.display import display, Markdown\n",
    "\n",
    "plt.style.use('maroon_ipynb.mplstyle')"
   ]
  },
  {
   "cell_type": "markdown",
   "metadata": {
    "pycharm": {
     "name": "#%% md\n"
    }
   },
   "source": [
    "\\pagebreak\n",
    "\\tableofcontents\n",
    "\\pagebreak"
   ]
  },
  {
   "cell_type": "markdown",
   "metadata": {
    "pycharm": {
     "name": "#%% md\n"
    }
   },
   "source": [
    "\\begin{center}\n",
    "\\begin{tabular}{c c c}\n",
    "ME 4403 & Homework 2 & Gabe Morris \\\\\n",
    "& & gnm54\n",
    "\\end{tabular}\n",
    "\\end{center}\n",
    "\n",
    "# Problem 3-39\n",
    "## Given\n",
    "\n",
    "\\begin{center}\n",
    "\\includegraphics{images/fig1}\n",
    "\\end{center}\n",
    "\n",
    "## Find\n",
    "For the beam above, find the maximum tensile stress due to $M$ and the maximum shear stress due to $V$.\n",
    "\n",
    "## Solution\n",
    "The free body diagram is,\n",
    "\n",
    "\\begin{center}\n",
    "\\includegraphics{images/fig2}\n",
    "\\end{center}"
   ]
  },
  {
   "cell_type": "code",
   "execution_count": 2,
   "metadata": {
    "pycharm": {
     "name": "#%%\n"
    }
   },
   "outputs": [
    {
     "data": {
      "text/plain": "Eq(A_y + B_y, 1800)",
      "text/latex": "$\\displaystyle A_{y} + B_{y} = 1800$"
     },
     "metadata": {},
     "output_type": "display_data"
    },
    {
     "data": {
      "text/plain": "Eq(200*A_y, 270000)",
      "text/latex": "$\\displaystyle 200 A_{y} = 270000$"
     },
     "metadata": {},
     "output_type": "display_data"
    },
    {
     "data": {
      "text/plain": "<IPython.core.display.Markdown object>",
      "text/markdown": "---"
     },
     "metadata": {},
     "output_type": "display_data"
    },
    {
     "data": {
      "text/plain": "Eq(A_y, 1350)",
      "text/latex": "$\\displaystyle A_{y} = 1350$"
     },
     "metadata": {},
     "output_type": "display_data"
    },
    {
     "data": {
      "text/plain": "Eq(B_y, 450)",
      "text/latex": "$\\displaystyle B_{y} = 450$"
     },
     "metadata": {},
     "output_type": "display_data"
    }
   ],
   "source": [
    "# Getting reaction forces\n",
    "Ay, By = sp.symbols('A_y B_y')\n",
    "eq1 = sp.Eq(Ay + By, 1800)\n",
    "eq2 = sp.Eq(200*Ay, 150*1800)\n",
    "\n",
    "sol = sp.solve([eq1, eq2], dict=True)[0]\n",
    "[display(eq) for eq in [eq1, eq2]]\n",
    "display(Markdown('---'))\n",
    "\n",
    "for key, value in sol.items():\n",
    "    display(sp.Eq(key, value))"
   ]
  },
  {
   "cell_type": "markdown",
   "metadata": {
    "pycharm": {
     "name": "#%% md\n"
    }
   },
   "source": [
    "The shear and moment diagram is,\n",
    "\n",
    "\\begin{center}\n",
    "\\includegraphics{images/fig3}\n",
    "\\end{center}\n",
    "\n",
    "The maximum shear and tensile stress occur at $x=100\\ mm$."
   ]
  },
  {
   "cell_type": "code",
   "execution_count": 3,
   "metadata": {
    "pycharm": {
     "name": "#%%\n"
    }
   },
   "outputs": [
    {
     "data": {
      "text/plain": "2444619925.89151",
      "text/latex": "$\\displaystyle 2444619925.89151$"
     },
     "execution_count": 3,
     "metadata": {},
     "output_type": "execute_result"
    }
   ],
   "source": [
    "# Calculating stress due to bending\n",
    "M, c = 30_000, sp.S(0.025)\n",
    "(M*c/(sp.pi/4*c**4)).n()  # in Pa"
   ]
  },
  {
   "cell_type": "code",
   "execution_count": 4,
   "metadata": {
    "pycharm": {
     "name": "#%%\n"
    }
   },
   "outputs": [
    {
     "data": {
      "text/plain": "509295817.894065",
      "text/latex": "$\\displaystyle 509295817.894065$"
     },
     "execution_count": 4,
     "metadata": {},
     "output_type": "execute_result"
    }
   ],
   "source": [
    "# Calculating the maximum shear stress\n",
    "V = 750_000\n",
    "(sp.Rational(4, 3)*V/(sp.pi*c**2)).n()  # in Pa"
   ]
  },
  {
   "cell_type": "markdown",
   "metadata": {
    "pycharm": {
     "name": "#%% md\n"
    }
   },
   "source": [
    "\\pagebreak\n",
    "\n",
    "\\begin{center}\n",
    "\\begin{tabular}{ccc}\n",
    "ME 4403 & Homework 2 & Gabe Morris \\\\\n",
    "& & gnm54\n",
    "\\end{tabular}\n",
    "\\end{center}\n",
    "\n",
    "# Problem 3-62 Part A\n",
    "## Given\n",
    "\n",
    "\\begin{center}\n",
    "\\includegraphics{images/fig4}\n",
    "\\end{center}\n",
    "\n",
    "The tube is $36\\ in$ long and $r_i=r_m=0$. The thickness $t$ is $\\frac{1}{16}\"$.\n",
    "\n",
    "## Find\n",
    "The maximum torque that can be applied and the corresponding angle of twist of the tube.\n",
    "\n",
    "## Solution\n",
    "For thin-walled tubes,\n",
    "\n",
    "$$\\tau=\\frac{T}{2A_mt}$$\n",
    "$$\\theta_1=\\frac{TL_m}{4GA_m^2t}$$\n",
    "\n",
    "See p. 129 for additional details of the above formulas."
   ]
  },
  {
   "cell_type": "code",
   "execution_count": 5,
   "metadata": {
    "pycharm": {
     "name": "#%%\n"
    }
   },
   "outputs": [
    {
     "data": {
      "text/plain": "1318.35937500000",
      "text/latex": "$\\displaystyle 1318.359375$"
     },
     "execution_count": 5,
     "metadata": {},
     "output_type": "execute_result"
    }
   ],
   "source": [
    "# Calculating the maximum torque\n",
    "tau_max = 12_000  # lbf in\n",
    "t = sp.Rational(1, 16)  # thickness in inches\n",
    "Am = (1 - t)**2\n",
    "T = tau_max*2*Am*t\n",
    "T.n()  # lbf in"
   ]
  },
  {
   "cell_type": "markdown",
   "metadata": {
    "pycharm": {
     "name": "#%% md\n"
    }
   },
   "source": [
    "From table A-5, the modulus of rigidity is $11.5\\ Mpsi$."
   ]
  },
  {
   "cell_type": "code",
   "execution_count": 6,
   "metadata": {
    "pycharm": {
     "name": "#%%\n"
    }
   },
   "outputs": [
    {
     "data": {
      "text/plain": "4.59163394776145",
      "text/latex": "$\\displaystyle 4.59163394776145$"
     },
     "execution_count": 6,
     "metadata": {},
     "output_type": "execute_result"
    }
   ],
   "source": [
    "G = 11.5e6\n",
    "Lm = (1 - t)*4  # total length\n",
    "L = 36  # inches\n",
    "phi_1 = T*Lm/(4*G*Am**2*t)*L\n",
    "(phi_1*180/sp.pi).n()  # in degrees"
   ]
  },
  {
   "cell_type": "markdown",
   "metadata": {
    "pycharm": {
     "name": "#%% md\n"
    }
   },
   "source": [
    "The expression gets multiplied by $L$ because $\\theta_1$ is the angle of twist per unit length."
   ]
  },
  {
   "cell_type": "markdown",
   "metadata": {
    "pycharm": {
     "name": "#%% md\n"
    }
   },
   "source": [
    "\\pagebreak\n",
    "\n",
    "\\begin{center}\n",
    "\\begin{tabular}{ccc}\n",
    "ME 4403 & Homework 2 & Gabe Morris \\\\\n",
    "& & gnm54\n",
    "\\end{tabular}\n",
    "\\end{center}\n",
    "\n",
    "# Problem 3-64\n",
    "## Given\n",
    "\n",
    "\\begin{center}\n",
    "\\includegraphics{images/fig5}\n",
    "\\end{center}\n",
    "\n",
    "$c_1=2\\ mm$, $L_1=20\\ mm$, $c_2=3\\ mm$, $L_2=30\\ mm$, $c_3=0\\ mm$, and $L_3=0\\ mm$. The material is steel and the maximum shear is $\\tau_{allow}=12\\ ksi$. The angle of twist is the same for each section.\n",
    "\n",
    "## Find\n",
    "a. Determine the torque transmitted by each leg and the torque transmitted by the entire section.\n",
    "b. Determine the angle of twist per unit length.\n",
    "\n",
    "## Solution\n",
    "The relationship for open looped geometry is,\n",
    "\n",
    "$$T_i=\\frac{\\theta_iGL_ic_i^3}{3}$$\n",
    "$$\\tau_{max}=G\\theta_ic_{max}$$\n",
    "\n",
    "From Table A-5, $G_{steel}=79.3\\ GPa$. I will find Part B first because it is required to answer Part A.\n",
    "\n",
    "### Part B"
   ]
  },
  {
   "cell_type": "code",
   "execution_count": 7,
   "metadata": {
    "pycharm": {
     "name": "#%%\n"
    }
   },
   "outputs": [
    {
     "data": {
      "text/plain": "0.347781000420345",
      "text/latex": "$\\displaystyle 0.347781000420345$"
     },
     "execution_count": 7,
     "metadata": {},
     "output_type": "execute_result"
    }
   ],
   "source": [
    "tau_max = sp.S(82.7371e6)  # shear stress in Pa\n",
    "G = sp.S(79.3e9)  # modulus of rigidity in Pa\n",
    "c = [sp.S(c_) for c_ in (0.002, 0.003, 0)]  # in m\n",
    "L = [sp.S(L_) for L_ in (0.02, 0.03, 0)]  # in m\n",
    "c_max = max(c)\n",
    "\n",
    "phi_i = tau_max/(G*c_max)\n",
    "phi_i  # in rad per m"
   ]
  },
  {
   "cell_type": "markdown",
   "metadata": {
    "pycharm": {
     "name": "#%% md\n"
    }
   },
   "source": [
    "### Part A"
   ]
  },
  {
   "cell_type": "code",
   "execution_count": 8,
   "metadata": {
    "pycharm": {
     "name": "#%%\n"
    }
   },
   "outputs": [
    {
     "data": {
      "text/plain": "Eq(T_1, 1.47088177777778)",
      "text/latex": "$\\displaystyle T_{1} = 1.47088177777778$"
     },
     "metadata": {},
     "output_type": "display_data"
    },
    {
     "data": {
      "text/plain": "Eq(T_2, 7.446339)",
      "text/latex": "$\\displaystyle T_{2} = 7.446339$"
     },
     "metadata": {},
     "output_type": "display_data"
    },
    {
     "data": {
      "text/plain": "Eq(T_3, 0)",
      "text/latex": "$\\displaystyle T_{3} = 0$"
     },
     "metadata": {},
     "output_type": "display_data"
    },
    {
     "data": {
      "text/plain": "Eq(T, 8.91722077777778)",
      "text/latex": "$\\displaystyle T = 8.91722077777778$"
     },
     "metadata": {},
     "output_type": "display_data"
    }
   ],
   "source": [
    "T = []\n",
    "for i in range(len(c)):\n",
    "    T_i = phi_i*G*L[i]*c[i]**3/3\n",
    "    display(sp.Eq(sp.Symbol(f'T_{i + 1}'), T_i))\n",
    "    T.append(T_i)\n",
    "T = sum(T)\n",
    "display(sp.Eq(sp.Symbol('T'), T))  # torques in N m"
   ]
  },
  {
   "cell_type": "markdown",
   "metadata": {
    "pycharm": {
     "name": "#%% md\n"
    }
   },
   "source": [
    "\\pagebreak\n",
    "\n",
    "\\begin{center}\n",
    "\\begin{tabular}{ccc}\n",
    "ME 4403 & Homework 2 & Gabe Morris \\\\\n",
    "& & gnm54\n",
    "\\end{tabular}\n",
    "\\end{center}\n",
    "\n",
    "# Problem 3-81\n",
    "## Given\n",
    "\n",
    "\\begin{center}\n",
    "\\includegraphics{images/fig6}\n",
    "\\end{center}\n",
    "\n",
    "A countershaft carrying two V-belt pulleys is shown in the figure. Pulley $A$ receives power from a motor through a belt with the belt tensions shown. The power is transmitted through the shaft and delivered to the belt on pulley $B$. Assume the belt tension on the loose side at $B$ is 15 percent of the tension on the tight side.\n",
    "\n",
    "## Find\n",
    "a. Determine the tensions in the belt on pulley B, assuming the shaft is running at a constant speed.\n",
    "b. Find the magnitudes of the bearing reaction forces, assuming the bearings act as simple supports.\n",
    "c. Draw shear-force and bending-moment diagrams for the shaft. If needed, make one set for the horizontal plane and another set for the vertical plane.\n",
    "d. At the point of maximum bending moment, determine the bending stress and the torsional shear stress.\n",
    "e. At the point of maximum bending moment, determine the principal stresses and the maximum shear stress.\n",
    "\n",
    "## Solution\n",
    "### Part A\n",
    "The directions of the torques about $A$ and $B$ are,\n",
    "\n",
    "\\begin{center}\n",
    "\\includegraphics{images/fig7}\n",
    "\\end{center}\n",
    "\n",
    "Since the shaft has no angular acceleration, $T_A=T_B$ (with directions shown above). It should also be noted that $T_1$ must be greater than $T_2$ because the torque shows that the pulley is more tensile at the bottom."
   ]
  },
  {
   "cell_type": "code",
   "execution_count": 9,
   "metadata": {
    "pycharm": {
     "name": "#%%\n"
    }
   },
   "outputs": [
    {
     "data": {
      "text/plain": "Eq(3*T_1 - 3*T_2, 1000)",
      "text/latex": "$\\displaystyle 3 T_{1} - 3 T_{2} = 1000$"
     },
     "metadata": {},
     "output_type": "display_data"
    },
    {
     "data": {
      "text/plain": "Eq(T_2, 0.15*T_1)",
      "text/latex": "$\\displaystyle T_{2} = 0.15 T_{1}$"
     },
     "metadata": {},
     "output_type": "display_data"
    },
    {
     "data": {
      "text/plain": "<IPython.core.display.Markdown object>",
      "text/markdown": "---"
     },
     "metadata": {},
     "output_type": "display_data"
    },
    {
     "data": {
      "text/plain": "Eq(T_1, 392.156862745098)",
      "text/latex": "$\\displaystyle T_{1} = 392.156862745098$"
     },
     "metadata": {},
     "output_type": "display_data"
    },
    {
     "data": {
      "text/plain": "Eq(T_2, 58.8235294117647)",
      "text/latex": "$\\displaystyle T_{2} = 58.8235294117647$"
     },
     "metadata": {},
     "output_type": "display_data"
    }
   ],
   "source": [
    "# Solving for T1 and T2\n",
    "T1, T2 = sp.symbols('T_1 T_2')\n",
    "T_A = 4*(sp.S(300) - 50)\n",
    "eq1 = sp.Eq(3*(T1 - T2), T_A)\n",
    "eq2 = sp.Eq(T2, sp.S(0.15)*T1)\n",
    "\n",
    "[display(eq) for eq in [eq1, eq2, Markdown('---')]]\n",
    "\n",
    "sol = sp.solve([eq1, eq2], dict=True)[0]\n",
    "_ = [display(sp.Eq(key, value)) for key, value in sol.items()]"
   ]
  },
  {
   "cell_type": "markdown",
   "metadata": {
    "pycharm": {
     "name": "#%% md\n"
    }
   },
   "source": [
    "### Part B"
   ]
  },
  {
   "cell_type": "code",
   "execution_count": 10,
   "metadata": {
    "pycharm": {
     "name": "#%%\n"
    }
   },
   "outputs": [
    {
     "data": {
      "text/plain": "Eq(-C_y - O_y + 350, 0)",
      "text/latex": "$\\displaystyle - C_{y} - O_{y} + 350 = 0$"
     },
     "metadata": {},
     "output_type": "display_data"
    },
    {
     "data": {
      "text/plain": "Eq(-C_z - O_z + 450.980392156863, 0)",
      "text/latex": "$\\displaystyle - C_{z} - O_{z} + 450.980392156863 = 0$"
     },
     "metadata": {},
     "output_type": "display_data"
    },
    {
     "data": {
      "text/plain": "Eq(2800 - 22*C_y, 0)",
      "text/latex": "$\\displaystyle 2800 - 22 C_{y} = 0$"
     },
     "metadata": {},
     "output_type": "display_data"
    },
    {
     "data": {
      "text/plain": "Eq(22*C_z - 7215.6862745098, 0)",
      "text/latex": "$\\displaystyle 22 C_{z} - 7215.6862745098 = 0$"
     },
     "metadata": {},
     "output_type": "display_data"
    },
    {
     "data": {
      "text/plain": "<IPython.core.display.Markdown object>",
      "text/markdown": "---"
     },
     "metadata": {},
     "output_type": "display_data"
    },
    {
     "data": {
      "text/plain": "Eq(C_y, 127.272727272727)",
      "text/latex": "$\\displaystyle C_{y} = 127.272727272727$"
     },
     "metadata": {},
     "output_type": "display_data"
    },
    {
     "data": {
      "text/plain": "Eq(O_y, 222.727272727273)",
      "text/latex": "$\\displaystyle O_{y} = 222.727272727273$"
     },
     "metadata": {},
     "output_type": "display_data"
    },
    {
     "data": {
      "text/plain": "Eq(C_z, 327.985739750445)",
      "text/latex": "$\\displaystyle C_{z} = 327.985739750445$"
     },
     "metadata": {},
     "output_type": "display_data"
    },
    {
     "data": {
      "text/plain": "Eq(O_z, 122.994652406418)",
      "text/latex": "$\\displaystyle O_{z} = 122.994652406418$"
     },
     "metadata": {},
     "output_type": "display_data"
    }
   ],
   "source": [
    "# Solving for the reactions\n",
    "Oy, Oz, Cy, Cz = sp.symbols('O_y O_z C_y C_z')\n",
    "\n",
    "eq1 = sp.Eq(300 + 50 - Oy - Cy, 0)  # Forces in y direction\n",
    "eq2 = sp.Eq(sol[T1] + sol[T2] - Oz - Cz, 0)  # Forces in z direction\n",
    "eq3 = sp.Eq(8*sp.S(350) - Cy*22, 0)  # Moments about z-axis\n",
    "eq4 = sp.Eq(-16*(sol[T1] + sol[T2]) + Cz*22, 0)  # Moments about the y-axis\n",
    "\n",
    "sol2 = sp.solve([eq1, eq2, eq3, eq4], dict=True)[0]\n",
    "[display(eq) for eq in [eq1, eq2, eq3, eq4, Markdown('---')]]\n",
    "_ = [display(sp.Eq(key, value)) for key, value in sol2.items()]"
   ]
  },
  {
   "cell_type": "markdown",
   "metadata": {
    "pycharm": {
     "name": "#%% md\n"
    }
   },
   "source": [
    "### Part C\n",
    "The shear and moment diagram for the two planes is,\n",
    "\n",
    "\\begin{center}\n",
    "\\includegraphics{images/fig8}\n",
    "\\end{center}\n",
    "\n",
    "### Part D"
   ]
  },
  {
   "cell_type": "code",
   "execution_count": 11,
   "metadata": {
    "pycharm": {
     "name": "#%%\n"
    }
   },
   "outputs": [
    {
     "data": {
      "text/plain": "Matrix([\n[2035.44782366535],\n[2110.88316471859]])",
      "text/latex": "$\\displaystyle \\left[\\begin{matrix}2035.44782366535\\\\2110.88316471859\\end{matrix}\\right]$"
     },
     "execution_count": 11,
     "metadata": {},
     "output_type": "execute_result"
    }
   ],
   "source": [
    "# Getting max bending moment\n",
    "# At A,\n",
    "M_A = sp.sqrt(1781.818181818181818**2 + 983.9572195**2)\n",
    "M_B = sp.sqrt(763.6363636363**2 + 1967.914439**2)\n",
    "sp.Matrix([M_A, M_B])"
   ]
  },
  {
   "cell_type": "markdown",
   "metadata": {
    "pycharm": {
     "name": "#%% md\n"
    }
   },
   "source": [
    "The maximum bending moment occurs at point B with a value of $2110.88316471859\\ lbf\\,in$."
   ]
  },
  {
   "cell_type": "code",
   "execution_count": 12,
   "metadata": {
    "pycharm": {
     "name": "#%%\n"
    }
   },
   "outputs": [
    {
     "data": {
      "text/plain": "21501.2793570833",
      "text/latex": "$\\displaystyle 21501.2793570833$"
     },
     "execution_count": 12,
     "metadata": {},
     "output_type": "execute_result"
    }
   ],
   "source": [
    "# Getting the bending stress\n",
    "c = sp.S(0.5)\n",
    "sig_x = (M_B*c/(sp.pi/4*c**4)).n()\n",
    "sig_x  # psi"
   ]
  },
  {
   "cell_type": "code",
   "execution_count": 13,
   "metadata": {
    "pycharm": {
     "name": "#%%\n"
    }
   },
   "outputs": [
    {
     "data": {
      "text/plain": "5092.95817894065",
      "text/latex": "$\\displaystyle 5092.95817894065$"
     },
     "execution_count": 13,
     "metadata": {},
     "output_type": "execute_result"
    }
   ],
   "source": [
    "# Getting the torsional stress\n",
    "t_xz = (1000*c/(sp.pi/2*c**4)).n()\n",
    "t_xz  # in psi"
   ]
  },
  {
   "cell_type": "markdown",
   "metadata": {
    "pycharm": {
     "name": "#%% md\n"
    }
   },
   "source": [
    "### Part E"
   ]
  },
  {
   "cell_type": "code",
   "execution_count": 14,
   "metadata": {
    "pycharm": {
     "name": "#%%\n"
    },
    "tags": [
     "hide"
    ]
   },
   "outputs": [
    {
     "data": {
      "text/plain": "<IPython.core.display.Markdown object>",
      "text/markdown": "**Center and Radius:**"
     },
     "metadata": {},
     "output_type": "display_data"
    },
    {
     "data": {
      "text/plain": "Eq(Eq(C, \\sigma_x/2 + \\sigma_y/2), 10750.6396785417)",
      "text/latex": "$\\displaystyle C = \\frac{\\sigma_{x}}{2} + \\frac{\\sigma_{y}}{2} = 10750.6396785417$"
     },
     "metadata": {},
     "output_type": "display_data"
    },
    {
     "data": {
      "text/plain": "Eq(Eq(R, sqrt(\\tau_{xy}**2 + (\\sigma_x/2 - \\sigma_y/2)**2)), 11895.9857309209)",
      "text/latex": "$\\displaystyle R = \\sqrt{\\tau_{xy}^{2} + \\left(\\frac{\\sigma_{x}}{2} - \\frac{\\sigma_{y}}{2}\\right)^{2}} = 11895.9857309209$"
     },
     "metadata": {},
     "output_type": "display_data"
    },
    {
     "data": {
      "text/plain": "<IPython.core.display.Markdown object>",
      "text/markdown": "---"
     },
     "metadata": {},
     "output_type": "display_data"
    },
    {
     "data": {
      "text/plain": "<IPython.core.display.Markdown object>",
      "text/markdown": "**Principle Stresses:**"
     },
     "metadata": {},
     "output_type": "display_data"
    },
    {
     "data": {
      "text/plain": "Eq(Eq(\\sigma_1, C + R), 22646.6254094625)",
      "text/latex": "$\\displaystyle \\sigma_{1} = C + R = 22646.6254094625$"
     },
     "metadata": {},
     "output_type": "display_data"
    },
    {
     "data": {
      "text/plain": "Eq(Eq(\\sigma_2, C - R), -1145.3460523792)",
      "text/latex": "$\\displaystyle \\sigma_{2} = C - R = -1145.3460523792$"
     },
     "metadata": {},
     "output_type": "display_data"
    },
    {
     "data": {
      "text/plain": "Eq(Eq(\\tau_1, R), 11895.9857309209)",
      "text/latex": "$\\displaystyle \\tau_{1} = R = 11895.9857309209$"
     },
     "metadata": {},
     "output_type": "display_data"
    },
    {
     "data": {
      "text/plain": "Eq(Eq(\\tau_2, -R), -11895.9857309209)",
      "text/latex": "$\\displaystyle \\tau_{2} = - R = -11895.9857309209$"
     },
     "metadata": {},
     "output_type": "display_data"
    },
    {
     "data": {
      "text/plain": "<IPython.core.display.Markdown object>",
      "text/markdown": "---"
     },
     "metadata": {},
     "output_type": "display_data"
    },
    {
     "data": {
      "text/plain": "<IPython.core.display.Markdown object>",
      "text/markdown": "**Angle of Occurrence:**"
     },
     "metadata": {},
     "output_type": "display_data"
    },
    {
     "data": {
      "text/plain": "Eq(Eq(2*\\phi_p, atan(2*\\tau_{xy}/(\\sigma_x - \\sigma_y))), 25.348569568567)",
      "text/latex": "$\\displaystyle 2 \\phi_{p} = \\operatorname{atan}{\\left(\\frac{2 \\tau_{xy}}{\\sigma_{x} - \\sigma_{y}} \\right)} = 25.348569568567$"
     },
     "metadata": {},
     "output_type": "display_data"
    }
   ],
   "source": [
    "def mohr(s_x, s_y, t_xy):\n",
    "    sig_x_, sig_y_, tau_xy_ = sp.symbols(r'\\sigma_x \\sigma_y \\tau_{xy}')\n",
    "    sig1_, sig2_, tau1, tau2 = sp.symbols(r'\\sigma_1 \\sigma_2 \\tau_1 \\tau_2')\n",
    "    C_, R = sp.symbols('C R')\n",
    "    phi_p = sp.Symbol(r'\\phi_p')\n",
    "\n",
    "    display(Markdown('**Center and Radius:**'))\n",
    "    C_value = (s_x + s_y)/2\n",
    "    C_sym = sp.Eq(C_, (sig_x_ + sig_y_)/2)\n",
    "    C_eq = sp.Eq(C_sym, C_value, evaluate=False)\n",
    "    display(C_eq)\n",
    "    R_value = sp.sqrt(((s_x - s_y)/2)**2 + t_xy**2).n()\n",
    "    R_sym = sp.Eq(R, sp.sqrt(((sig_x_ - sig_y_)/2)**2 + tau_xy_**2))\n",
    "    display(sp.Eq(R_sym, R_value, evaluate=False))\n",
    "\n",
    "    display(Markdown('---'))\n",
    "\n",
    "    display(Markdown('**Principle Stresses:**'))\n",
    "    sig1_value = C_value + R_value\n",
    "    sig2_value = C_value - R_value\n",
    "    sig1_sym, sig2_sym = sp.Eq(sig1_, C_ + R), sp.Eq(sig2_, C_ - R)\n",
    "    tau1_sym, tau2_sym = sp.Eq(tau1, R), sp.Eq(tau2, -R)\n",
    "    display(sp.Eq(sig1_sym, sig1_value, evaluate=False))\n",
    "    display(sp.Eq(sig2_sym, sig2_value, evaluate=False))\n",
    "    display(sp.Eq(tau1_sym, R_value, evaluate=False))\n",
    "    display(sp.Eq(tau2_sym, -R_value, evaluate=False))\n",
    "\n",
    "    display(Markdown('---'))\n",
    "\n",
    "    display(Markdown('**Angle of Occurrence:**'))\n",
    "    c_num = s_x - s_y + 2*t_xy*sp.I\n",
    "    phi_value = (sp.arg(c_num)*180/sp.pi).n()\n",
    "    phi_sym = sp.Eq(2*phi_p, sp.atan(2*tau_xy_/(sig_x_ - sig_y_)))\n",
    "    display(sp.Eq(phi_sym, phi_value, evaluate=False))\n",
    "\n",
    "mohr(sig_x, 0, t_xz)"
   ]
  }
 ],
 "metadata": {
  "celltoolbar": "Tags",
  "kernelspec": {
   "display_name": "Python 3 (ipykernel)",
   "language": "python",
   "name": "python3"
  },
  "language_info": {
   "codemirror_mode": {
    "name": "ipython",
    "version": 3
   },
   "file_extension": ".py",
   "mimetype": "text/x-python",
   "name": "python",
   "nbconvert_exporter": "python",
   "pygments_lexer": "ipython3",
   "version": "3.10.1"
  }
 },
 "nbformat": 4,
 "nbformat_minor": 1
}