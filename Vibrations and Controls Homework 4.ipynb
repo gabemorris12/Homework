{
 "cells": [
  {
   "cell_type": "markdown",
   "source": [
    "\\begin{center}\n",
    "Gabe Morris\n",
    "\\end{center}"
   ],
   "metadata": {
    "collapsed": false,
    "pycharm": {
     "name": "#%% md\n"
    }
   }
  },
  {
   "cell_type": "code",
   "execution_count": 1,
   "metadata": {
    "collapsed": true,
    "pycharm": {
     "name": "#%%\n"
    }
   },
   "outputs": [],
   "source": [
    "import sympy as sp\n",
    "import matplotlib.pyplot as plt\n",
    "from IPython.display import display, Latex\n",
    "from scipy.integrate import odeint\n",
    "import numpy as np\n",
    "\n",
    "plt.style.use('maroon.mplstyle')\n",
    "\n",
    "\n",
    "def display_latex(text):\n",
    "    if isinstance(text, list):\n",
    "        for thing in text:\n",
    "            display(Latex(f'${sp.latex(thing)}$'))\n",
    "    else:\n",
    "        display(Latex(f'${sp.latex(text)}$'))\n",
    "\n",
    "\n",
    "t, s = sp.symbols('t s')"
   ]
  },
  {
   "cell_type": "markdown",
   "source": [
    "\\pagebreak\n",
    "\\tableofcontents\n",
    "\\pagebreak"
   ],
   "metadata": {
    "collapsed": false,
    "pycharm": {
     "name": "#%% md\n"
    }
   }
  },
  {
   "cell_type": "markdown",
   "source": [
    "\\begin{center}\n",
    "\\begin{tabular}{c c c}\n",
    "ME 6643 & Homework 4 & Gabe Morris \\\\\n",
    "& & gnm54\n",
    "\\end{tabular}\n",
    "\\end{center}\n",
    "\n",
    "# Problem 8.27\n",
    "## Given\n",
    "A certain system has two coupled subsystems. One subsystem is a rotational system with the equation of motion:\n",
    "\n",
    "$50\\dot{\\omega}+10\\omega=T(t)$\n",
    "\n",
    "where $T(t)$ is the torque applied by an electric motor. The second subsystem is field-controlled motor. The model of the motor's field current, $i_f$ in amperes is:\n",
    "\n",
    "$0.001\\dot{i_f}+5i_f=v(t)$\n",
    "\n",
    "where $v(t)$ is the voltage applied to the motor. The motor torque constant is $K_T=25\\,N\\cdot m/A$.\n",
    "\n",
    "## Find\n",
    "Obtain the damping ratio $\\zeta$, time constants, and undamped natural frequency $\\omega_n$ of the combined system.\n",
    "\n",
    "## Solution\n",
    "The system of differential equations can be related to each other from the following,\n",
    "\n",
    "$T(t)=K_Ti_f$\n",
    "\n",
    "This leaves us with a system of differential equations with only one input ($v(t)$). We need to obtain the transfer function and analyze the characteristic equation.\n",
    "\n",
    "$\\begin{cases}\n",
    "50\\dot{\\omega}+10\\omega=25i_f \\\\\n",
    "0.001\\dot{i_f}+5i_f=v(t)\n",
    "\\end{cases}$"
   ],
   "metadata": {
    "collapsed": false,
    "pycharm": {
     "name": "#%% md\n"
    }
   }
  },
  {
   "cell_type": "code",
   "execution_count": 2,
   "outputs": [
    {
     "data": {
      "text/plain": "<IPython.core.display.Latex object>",
      "text/latex": "$50 s \\omega{\\left(s \\right)} + 10 \\omega{\\left(s \\right)} = 25 \\operatorname{I_{f}}{\\left(s \\right)}$"
     },
     "metadata": {},
     "output_type": "display_data"
    },
    {
     "data": {
      "text/plain": "<IPython.core.display.Latex object>",
      "text/latex": "$0.001 s \\operatorname{I_{f}}{\\left(s \\right)} + 5 \\operatorname{I_{f}}{\\left(s \\right)} = V{\\left(s \\right)}$"
     },
     "metadata": {},
     "output_type": "display_data"
    }
   ],
   "source": [
    "# Define symbols and put system in s domain\n",
    "I_f, W, V = sp.Function('I_f')(s), sp.Function(r'\\omega')(s), sp.Function('V')(s)\n",
    "\n",
    "eq1 = sp.Eq(50*s*W + 10*W, 25*I_f)\n",
    "eq2 = sp.Eq(0.001*s*I_f + 5*I_f, V)\n",
    "\n",
    "display_latex([eq1, eq2])"
   ],
   "metadata": {
    "collapsed": false,
    "pycharm": {
     "name": "#%%\n"
    }
   }
  },
  {
   "cell_type": "code",
   "source": [
    "# Solve the system\n",
    "solved = sp.solve([eq1, eq2], (W, I_f), dict=True)[0]\n",
    "solved_list = [sp.Eq(key, value) for key, value in solved.items()]\n",
    "display_latex(solved_list)"
   ],
   "metadata": {
    "collapsed": false,
    "pycharm": {
     "name": "#%%\n"
    }
   },
   "execution_count": 3,
   "outputs": [
    {
     "data": {
      "text/plain": "<IPython.core.display.Latex object>",
      "text/latex": "$\\omega{\\left(s \\right)} = \\frac{2500.0 V{\\left(s \\right)}}{5.0 s^{2} + 25001.0 s + 5000.0}$"
     },
     "metadata": {},
     "output_type": "display_data"
    },
    {
     "data": {
      "text/plain": "<IPython.core.display.Latex object>",
      "text/latex": "$\\operatorname{I_{f}}{\\left(s \\right)} = \\frac{1000.0 V{\\left(s \\right)}}{s + 5000.0}$"
     },
     "metadata": {},
     "output_type": "display_data"
    }
   ]
  },
  {
   "cell_type": "code",
   "execution_count": 4,
   "outputs": [
    {
     "data": {
      "text/plain": "5.0*s**2 + 25001.0*s + 5000.0",
      "text/latex": "$\\displaystyle 5.0 s^{2} + 25001.0 s + 5000.0$"
     },
     "execution_count": 4,
     "metadata": {},
     "output_type": "execute_result"
    }
   ],
   "source": [
    "# Grab the characteristic polynomial\n",
    "poly = 1/solved[W]*2500*V\n",
    "poly"
   ],
   "metadata": {
    "collapsed": false,
    "pycharm": {
     "name": "#%%\n"
    }
   }
  },
  {
   "cell_type": "markdown",
   "source": [
    "The system is stable because all the signs of the equation are the same."
   ],
   "metadata": {
    "collapsed": false,
    "pycharm": {
     "name": "#%% md\n"
    }
   }
  },
  {
   "cell_type": "code",
   "execution_count": 5,
   "outputs": [
    {
     "data": {
      "text/plain": "<IPython.core.display.Latex object>",
      "text/latex": "$-5000.0$"
     },
     "metadata": {},
     "output_type": "display_data"
    },
    {
     "data": {
      "text/plain": "<IPython.core.display.Latex object>",
      "text/latex": "$-0.2$"
     },
     "metadata": {},
     "output_type": "display_data"
    }
   ],
   "source": [
    "# Find the roots\n",
    "roots = list(sp.roots(poly))\n",
    "display_latex(roots)"
   ],
   "metadata": {
    "collapsed": false,
    "pycharm": {
     "name": "#%%\n"
    }
   }
  },
  {
   "cell_type": "markdown",
   "source": [
    "There is no imaginary part of either root indicating that the system is overdamped. This means that the damping ratio should be greater than 1."
   ],
   "metadata": {
    "collapsed": false,
    "pycharm": {
     "name": "#%% md\n"
    }
   }
  },
  {
   "cell_type": "code",
   "execution_count": 6,
   "outputs": [
    {
     "data": {
      "text/plain": "31.6227766016838",
      "text/latex": "$\\displaystyle 31.6227766016838$"
     },
     "execution_count": 6,
     "metadata": {},
     "output_type": "execute_result"
    }
   ],
   "source": [
    "# Calculating the undamped natural frequency (shaft equation)\n",
    "sp.sqrt(5000/5)"
   ],
   "metadata": {
    "collapsed": false,
    "pycharm": {
     "name": "#%%\n"
    }
   }
  },
  {
   "cell_type": "code",
   "execution_count": 7,
   "outputs": [
    {
     "data": {
      "text/plain": "79.0601037818697",
      "text/latex": "$\\displaystyle 79.0601037818697$"
     },
     "execution_count": 7,
     "metadata": {},
     "output_type": "execute_result"
    }
   ],
   "source": [
    "# Calculating the damping ratio (shaft equation)\n",
    "(25001/(2*sp.sqrt(5*5000))).n()"
   ],
   "metadata": {
    "collapsed": false,
    "pycharm": {
     "name": "#%%\n"
    }
   }
  },
  {
   "cell_type": "code",
   "execution_count": 8,
   "outputs": [
    {
     "data": {
      "text/plain": "<IPython.core.display.Latex object>",
      "text/latex": "$0.0002$"
     },
     "metadata": {},
     "output_type": "display_data"
    },
    {
     "data": {
      "text/plain": "<IPython.core.display.Latex object>",
      "text/latex": "$5.0$"
     },
     "metadata": {},
     "output_type": "display_data"
    }
   ],
   "source": [
    "# The time constants are the negative of the reciprocal of the roots because the damping ratio is greater than 1\n",
    "# This means that we cannot do the 1/(zeta*undamped frequency)\n",
    "display_latex([-1/root for root in roots])"
   ],
   "metadata": {
    "collapsed": false,
    "pycharm": {
     "name": "#%%\n"
    }
   }
  },
  {
   "cell_type": "markdown",
   "source": [
    "## Answer\n",
    "$\\omega_n=31.6\\,\\frac{rad}{s}$, $\\zeta=79.1$, and $\\tau_1=5\\,s;\\;\\tau_2=0.0002\\,s$"
   ],
   "metadata": {
    "collapsed": false,
    "pycharm": {
     "name": "#%% md\n"
    }
   }
  },
  {
   "cell_type": "markdown",
   "source": [
    "\\pagebreak\n",
    "\n",
    "\\begin{center}\n",
    "\\begin{tabular}{c c c}\n",
    "ME 6643 & Homework 4 & Gabe Morris \\\\\n",
    "& & gnm54\n",
    "\\end{tabular}\n",
    "\\end{center}\n",
    "\n",
    "# Problem 8.29\n",
    "## Given\n",
    "$\\ddot{x}+4\\dot{x}+8x=2u_s(t)$\n",
    "\n",
    "## Find\n",
    "Compute the maximum percent overshoot, the maximum overshoot, the peak time, the 100% rise time, the delay time, and the 2% settling time for the following model. The initial conditions are zero. Time is measured in seconds.\n",
    "\n",
    "## Solution\n",
    "Check to see if the solution is underdamped before proceding."
   ],
   "metadata": {
    "collapsed": false,
    "pycharm": {
     "name": "#%% md\n"
    }
   }
  },
  {
   "cell_type": "code",
   "execution_count": 9,
   "outputs": [
    {
     "data": {
      "text/plain": "<IPython.core.display.Latex object>",
      "text/latex": "$-2 - 2 i$"
     },
     "metadata": {},
     "output_type": "display_data"
    },
    {
     "data": {
      "text/plain": "<IPython.core.display.Latex object>",
      "text/latex": "$-2 + 2 i$"
     },
     "metadata": {},
     "output_type": "display_data"
    }
   ],
   "source": [
    "display_latex(list(sp.roots(t**2 + 4*t + 8)))"
   ],
   "metadata": {
    "collapsed": false,
    "pycharm": {
     "name": "#%%\n"
    }
   }
  },
  {
   "cell_type": "markdown",
   "source": [
    "The system is underdamped because the roots have imaginary components."
   ],
   "metadata": {
    "collapsed": false,
    "pycharm": {
     "name": "#%% md\n"
    }
   }
  },
  {
   "cell_type": "code",
   "execution_count": 10,
   "outputs": [
    {
     "data": {
      "text/plain": "<IPython.core.display.Latex object>",
      "text/latex": "$M_{\\%} = 100 e^{- \\frac{\\pi \\zeta}{\\sqrt{1 - \\zeta^{2}}}}$"
     },
     "metadata": {},
     "output_type": "display_data"
    },
    {
     "data": {
      "text/plain": "<IPython.core.display.Latex object>",
      "text/latex": "$M_{p} = \\frac{e^{- \\frac{\\pi \\zeta}{\\sqrt{1 - \\zeta^{2}}}}}{k}$"
     },
     "metadata": {},
     "output_type": "display_data"
    },
    {
     "data": {
      "text/plain": "<IPython.core.display.Latex object>",
      "text/latex": "$t_{p} = \\frac{\\pi}{\\omega_{n} \\sqrt{1 - \\zeta^{2}}}$"
     },
     "metadata": {},
     "output_type": "display_data"
    },
    {
     "data": {
      "text/plain": "<IPython.core.display.Latex object>",
      "text/latex": "$t_{r} = \\frac{- \\phi + 2 \\pi}{\\omega_{n} \\sqrt{1 - \\zeta^{2}}}$"
     },
     "metadata": {},
     "output_type": "display_data"
    },
    {
     "data": {
      "text/plain": "<IPython.core.display.Latex object>",
      "text/latex": "$t_{d} = \\frac{0.7 \\zeta + 1}{\\omega_{n}}$"
     },
     "metadata": {},
     "output_type": "display_data"
    },
    {
     "data": {
      "text/plain": "<IPython.core.display.Latex object>",
      "text/latex": "$t_{s} = \\frac{4}{\\omega_{n} \\zeta}$"
     },
     "metadata": {},
     "output_type": "display_data"
    },
    {
     "data": {
      "text/plain": "<IPython.core.display.Latex object>",
      "text/latex": "$\\phi = \\operatorname{atan}{\\left(\\frac{\\sqrt{1 - \\zeta^{2}}}{\\zeta} \\right)} + \\pi$"
     },
     "metadata": {},
     "output_type": "display_data"
    }
   ],
   "source": [
    "# Define the equations\n",
    "M_percent, M_p, t_p, t_r, t_d, t_s = sp.symbols(r'M_{\\%} M_p t_p t_r t_d t_s')\n",
    "zeta, phi, w_n, k = sp.symbols(r'\\zeta \\phi \\omega_n k')\n",
    "\n",
    "equations = [\n",
    "    sp.Eq(M_percent, 100*sp.E**(-sp.pi*zeta/sp.sqrt(1 - zeta**2))),\n",
    "    sp.Eq(M_p, 1/k*sp.E**(-sp.pi*zeta/sp.sqrt(1 - zeta**2))),\n",
    "    sp.Eq(t_p, sp.pi/(w_n*sp.sqrt(1 - zeta**2))),\n",
    "    sp.Eq(t_r, (2*sp.pi - phi)/(w_n*sp.sqrt(1 - zeta**2))),\n",
    "    sp.Eq(t_d, (1 + 0.7*zeta)/w_n),\n",
    "    sp.Eq(t_s, 4/(zeta*w_n)),\n",
    "    sp.Eq(phi, sp.atan(sp.sqrt(1 - zeta**2)/zeta) + sp.pi)\n",
    "]\n",
    "display_latex(equations)"
   ],
   "metadata": {
    "collapsed": false,
    "pycharm": {
     "name": "#%%\n"
    }
   }
  },
  {
   "cell_type": "code",
   "execution_count": 11,
   "outputs": [
    {
     "data": {
      "text/plain": "<IPython.core.display.Latex object>",
      "text/latex": "$M_{\\%} = 4.32139182637723$"
     },
     "metadata": {},
     "output_type": "display_data"
    },
    {
     "data": {
      "text/plain": "<IPython.core.display.Latex object>",
      "text/latex": "$M_{p} = 0.0108034795659431$"
     },
     "metadata": {},
     "output_type": "display_data"
    },
    {
     "data": {
      "text/plain": "<IPython.core.display.Latex object>",
      "text/latex": "$t_{p} = 1.5707963267949$"
     },
     "metadata": {},
     "output_type": "display_data"
    },
    {
     "data": {
      "text/plain": "<IPython.core.display.Latex object>",
      "text/latex": "$t_{r} = 1.17809724509617$"
     },
     "metadata": {},
     "output_type": "display_data"
    },
    {
     "data": {
      "text/plain": "<IPython.core.display.Latex object>",
      "text/latex": "$t_{d} = 0.528553390593274$"
     },
     "metadata": {},
     "output_type": "display_data"
    },
    {
     "data": {
      "text/plain": "<IPython.core.display.Latex object>",
      "text/latex": "$t_{s} = 2.0$"
     },
     "metadata": {},
     "output_type": "display_data"
    },
    {
     "data": {
      "text/plain": "<IPython.core.display.Latex object>",
      "text/latex": "$\\phi = 3.92699081698724$"
     },
     "metadata": {},
     "output_type": "display_data"
    }
   ],
   "source": [
    "# Write a quick algorithm for substituting in values\n",
    "m, c, k_ = 1/2, 2, 4  # The formulas are based on the forced response being the unit step function alone\n",
    "zeta_ = c/(2*sp.sqrt(m*k_))\n",
    "w_n_ = sp.sqrt(k_/m)\n",
    "phi_ = sp.atan(sp.sqrt(1 - zeta_**2)/zeta_) + sp.pi\n",
    "\n",
    "eval_equations = []\n",
    "for eq in equations:\n",
    "    expr = eq.rhs\n",
    "    if zeta in expr.free_symbols:\n",
    "        expr = expr.subs(zeta, zeta_)\n",
    "\n",
    "    if w_n in expr.free_symbols:\n",
    "        expr = expr.subs(w_n, w_n_)\n",
    "\n",
    "    if phi in expr.free_symbols:\n",
    "        expr = expr.subs(phi, phi_)\n",
    "\n",
    "    if k in expr.free_symbols:\n",
    "        expr = expr.subs(k, k_)\n",
    "\n",
    "    eval_equations.append(sp.Eq(eq.lhs, expr.n()))\n",
    "\n",
    "display_latex(eval_equations)"
   ],
   "metadata": {
    "collapsed": false,
    "pycharm": {
     "name": "#%%\n"
    }
   }
  },
  {
   "cell_type": "markdown",
   "source": [
    "## Answer\n",
    "See above cell"
   ],
   "metadata": {
    "collapsed": false,
    "pycharm": {
     "name": "#%% md\n"
    }
   }
  },
  {
   "cell_type": "markdown",
   "source": [
    "\\pagebreak\n",
    "\n",
    "\\begin{center}\n",
    "\\begin{tabular}{c c c}\n",
    "ME 6643 & Homework 4 & Gabe Morris \\\\\n",
    "& & gnm54\n",
    "\\end{tabular}\n",
    "\\end{center}\n",
    "\n",
    "# Problem 8.35\n",
    "## Given\n",
    "The figure below shows the response of a system to a step input of magnitude 1000 N. The equation of motion is,\n",
    "\n",
    "$m\\ddot{x}+c\\dot{x}+kx=f(t)$\n",
    "\n",
    "\\begin{center}\n",
    "\\includegraphics{images/img}\n",
    "\\end{center}\n",
    "\n",
    "## Find\n",
    "Estimate the values of $m$, $c$, and $k$.\n",
    "\n",
    "## Solution\n",
    "The following values may be obtained by looking at the figure,\n",
    "\n",
    "$x_{ss}=0.025\\,m$ \\\n",
    "$t_p=0.125\\,s$ \\\n",
    "$x_{max}=0.0395\\,m$\n",
    "\n",
    "And the steady state force is,\n",
    "\n",
    "$f_{ss}=1000\\,N$\n",
    "\n",
    "At steady state, the system is static. That means we can directly apply Hooke's Law to obtain the stiffness:\n",
    "\n",
    "$k=\\frac{f_{ss}}{x_{ss}}=40,000\\,\\frac{N}{m}$\n",
    "\n",
    "The maximum percent overshoot is defined as,\n",
    "\n",
    "$M_{\\%}=\\frac{x_{max}-x_{ss}}{x_{ss}}(100)=58\\%$ \\\n",
    "$R=\\ln(\\frac{100}{M_{\\%}})=0.545$\n",
    "\n",
    "The damping ratio is,\n",
    "\n",
    "$\\zeta=\\frac{R}{\\sqrt{\\pi^2+R^2}}=0.171$\n",
    "\n",
    "The undamped natural frequency is,\n",
    "\n",
    "$\\omega_n=\\frac{\\pi}{t_p\\sqrt{1-\\zeta^2}}=25.51\\,\\frac{rad}{s}$\n",
    "\n",
    "The value of m,\n",
    "\n",
    "$m=\\frac{k}{\\omega_n^2}=61.48\\,kg$\n",
    "\n",
    "The value of c,\n",
    "\n",
    "$c=2\\zeta\\sqrt{mk}=535.8$\n",
    "\n",
    "## Answer\n",
    "$m=61.48\\,kg$, $c=535.8\\,\\frac{N\\,s}{m}$, and $k=40,000\\,\\frac{N}{m}$\n",
    "\n",
    "## Verification\n",
    "Here is a quick numerical solution."
   ],
   "metadata": {
    "collapsed": false,
    "pycharm": {
     "name": "#%% md\n"
    }
   }
  },
  {
   "cell_type": "code",
   "execution_count": 12,
   "outputs": [
    {
     "data": {
      "text/plain": "<Figure size 1440x960 with 1 Axes>",
      "image/png": "[encoded data removed]"
     },
     "metadata": {
      "needs_background": "light"
     },
     "output_type": "display_data"
    }
   ],
   "source": [
    "m, c, k = 61.48, 535.8, 40_000\n",
    "\n",
    "def diffs(x, _):\n",
    "    return [\n",
    "        x[1],\n",
    "        (1000 - c*x[1] - k*x[0])/m\n",
    "    ]\n",
    "\n",
    "time = np.linspace(0, 1.4, 1000)\n",
    "solution = odeint(diffs, [0, 0], time)\n",
    "\n",
    "plt.plot(time, solution[:, 0])\n",
    "plt.xlabel('Time (s)')\n",
    "plt.ylabel('$x(t)$ (m)')\n",
    "plt.show()"
   ],
   "metadata": {
    "collapsed": false,
    "pycharm": {
     "name": "#%%\n"
    }
   }
  }
 ],
 "metadata": {
  "kernelspec": {
   "display_name": "Python 3",
   "language": "python",
   "name": "python3"
  },
  "language_info": {
   "codemirror_mode": {
    "name": "ipython",
    "version": 2
   },
   "file_extension": ".py",
   "mimetype": "text/x-python",
   "name": "python",
   "nbconvert_exporter": "python",
   "pygments_lexer": "ipython2",
   "version": "2.7.6"
  }
 },
 "nbformat": 4,
 "nbformat_minor": 0
}