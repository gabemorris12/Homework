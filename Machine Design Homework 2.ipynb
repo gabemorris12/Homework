{
 "cells": [
  {
   "cell_type": "markdown",
   "source": [
    "\\begin{center}\n",
    "Gabe Morris\n",
    "\\end{center}"
   ],
   "metadata": {
    "collapsed": false,
    "pycharm": {
     "name": "#%% md\n"
    }
   }
  },
  {
   "cell_type": "code",
   "execution_count": 1,
   "metadata": {
    "collapsed": true,
    "pycharm": {
     "name": "#%%\n"
    }
   },
   "outputs": [],
   "source": [
    "# Notebook Preamble\n",
    "import sympy as sp\n",
    "import numpy as np\n",
    "import matplotlib.pyplot as plt\n",
    "from IPython.display import display, Markdown\n",
    "\n",
    "plt.style.use('maroon_ipynb.mplstyle')"
   ]
  },
  {
   "cell_type": "markdown",
   "source": [
    "\\pagebreak\n",
    "\\tableofcontents\n",
    "\\pagebreak"
   ],
   "metadata": {
    "collapsed": false,
    "pycharm": {
     "name": "#%% md\n"
    }
   }
  },
  {
   "cell_type": "markdown",
   "source": [
    "\\begin{center}\n",
    "\\begin{tabular}{c c c}\n",
    "ME 4403 & Homework 2 & Gabe Morris \\\\\n",
    "& & gnm54\n",
    "\\end{tabular}\n",
    "\\end{center}\n",
    "\n",
    "# Problem 3-39\n",
    "## Given\n",
    "\n",
    "\\begin{center}\n",
    "\\includegraphics{images/fig1}\n",
    "\\end{center}\n",
    "\n",
    "## Find\n",
    "For the beam above, find the maximum tensile stress due to $M$ and the maximum shear stress due to $V$.\n",
    "\n",
    "## Solution\n",
    "The free body diagram is,\n",
    "\n",
    "\\begin{center}\n",
    "\\includegraphics{images/fig2}\n",
    "\\end{center}"
   ],
   "metadata": {
    "collapsed": false,
    "pycharm": {
     "name": "#%% md\n"
    }
   },
   "outputs": []
  },
  {
   "cell_type": "code",
   "execution_count": 2,
   "outputs": [
    {
     "data": {
      "text/plain": "Eq(A_y + B_y, 1800)",
      "text/latex": "$\\displaystyle A_{y} + B_{y} = 1800$"
     },
     "metadata": {},
     "output_type": "display_data"
    },
    {
     "data": {
      "text/plain": "Eq(200*A_y, 270000)",
      "text/latex": "$\\displaystyle 200 A_{y} = 270000$"
     },
     "metadata": {},
     "output_type": "display_data"
    },
    {
     "data": {
      "text/plain": "<IPython.core.display.Markdown object>",
      "text/markdown": "---"
     },
     "metadata": {},
     "output_type": "display_data"
    },
    {
     "data": {
      "text/plain": "Eq(A_y, 1350)",
      "text/latex": "$\\displaystyle A_{y} = 1350$"
     },
     "metadata": {},
     "output_type": "display_data"
    },
    {
     "data": {
      "text/plain": "Eq(B_y, 450)",
      "text/latex": "$\\displaystyle B_{y} = 450$"
     },
     "metadata": {},
     "output_type": "display_data"
    }
   ],
   "source": [
    "# Getting reaction forces\n",
    "Ay, By = sp.symbols('A_y B_y')\n",
    "eq1 = sp.Eq(Ay + By, 1800)\n",
    "eq2 = sp.Eq(200*Ay, 150*1800)\n",
    "\n",
    "sol = sp.solve([eq1, eq2], dict=True)[0]\n",
    "[display(eq) for eq in [eq1, eq2]]\n",
    "display(Markdown('---'))\n",
    "\n",
    "for key, value in sol.items():\n",
    "    display(sp.Eq(key, value))"
   ],
   "metadata": {
    "collapsed": false,
    "pycharm": {
     "name": "#%%\n"
    }
   }
  },
  {
   "cell_type": "markdown",
   "source": [
    "The shear and moment diagram is,\n",
    "\n",
    "\\begin{center}\n",
    "\\includegraphics{images/fig3}\n",
    "\\end{center}\n",
    "\n",
    "The maximum shear and tensile stress occur at $x=100\\ mm$."
   ],
   "metadata": {
    "collapsed": false,
    "pycharm": {
     "name": "#%% md\n"
    }
   }
  },
  {
   "cell_type": "code",
   "execution_count": 3,
   "outputs": [
    {
     "data": {
      "text/plain": "2444619925.89151",
      "text/latex": "$\\displaystyle 2444619925.89151$"
     },
     "execution_count": 3,
     "metadata": {},
     "output_type": "execute_result"
    }
   ],
   "source": [
    "# Calculating stress due to bending\n",
    "M, c = 30_000, sp.S(0.025)\n",
    "(M*c/(sp.pi/4*c**4)).n()  # in Pa"
   ],
   "metadata": {
    "collapsed": false,
    "pycharm": {
     "name": "#%%\n"
    }
   }
  },
  {
   "cell_type": "code",
   "execution_count": 4,
   "outputs": [
    {
     "data": {
      "text/plain": "509295817.894065",
      "text/latex": "$\\displaystyle 509295817.894065$"
     },
     "execution_count": 4,
     "metadata": {},
     "output_type": "execute_result"
    }
   ],
   "source": [
    "# Calculating the maximum shear stress\n",
    "V = 750_000\n",
    "(sp.Rational(4, 3)*V/(sp.pi*c**2)).n()  # in Pa"
   ],
   "metadata": {
    "collapsed": false,
    "pycharm": {
     "name": "#%%\n"
    }
   }
  },
  {
   "cell_type": "markdown",
   "source": [
    "\\pagebreak\n",
    "\n",
    "\\begin{center}\n",
    "\\begin{tabular}{ccc}\n",
    "ME 4403 & Homework 2 & Gabe Morris \\\\\n",
    "& & gnm54\n",
    "\\end{tabular}\n",
    "\\end{center}\n",
    "\n",
    "# Problem 3-62 Part A\n",
    "## Given\n",
    "\n",
    "\\begin{center}\n",
    "\\includegraphics{images/fig4}\n",
    "\\end{center}\n",
    "\n",
    "The tube is $36\\ in$ long and $r_i=r_m=0$. The thickness $t$ is $\\frac{1}{16}\"$.\n",
    "\n",
    "## Find\n",
    "The maximum torque that can be applied and the corresponding angle of twist of the tube.\n",
    "\n",
    "## Solution\n",
    "For thin-walled tubes,\n",
    "\n",
    "$$\\tau=\\frac{T}{2A_mt}$$\n",
    "$$\\theta_1=\\frac{TL_m}{4GA_m^2t}$$\n",
    "\n",
    "See p. 129 for additional details of the above formulas."
   ],
   "metadata": {
    "collapsed": false,
    "pycharm": {
     "name": "#%% md\n"
    }
   }
  },
  {
   "cell_type": "code",
   "execution_count": 5,
   "outputs": [
    {
     "data": {
      "text/plain": "1318.35937500000",
      "text/latex": "$\\displaystyle 1318.359375$"
     },
     "execution_count": 5,
     "metadata": {},
     "output_type": "execute_result"
    }
   ],
   "source": [
    "# Calculating the maximum torque\n",
    "tau_max = 12_000  # lbf in\n",
    "t = sp.Rational(1, 16)  # thickness in inches\n",
    "Am = (1 - t)**2\n",
    "T = tau_max*2*Am*t\n",
    "T.n()  # lbf in"
   ],
   "metadata": {
    "collapsed": false,
    "pycharm": {
     "name": "#%%\n"
    }
   }
  },
  {
   "cell_type": "markdown",
   "source": [
    "From table A-5, the modulus of rigidity is $11.5\\ Mpsi$."
   ],
   "metadata": {
    "collapsed": false,
    "pycharm": {
     "name": "#%% md\n"
    }
   }
  },
  {
   "cell_type": "code",
   "execution_count": 6,
   "outputs": [
    {
     "data": {
      "text/plain": "4.59163394776145",
      "text/latex": "$\\displaystyle 4.59163394776145$"
     },
     "execution_count": 6,
     "metadata": {},
     "output_type": "execute_result"
    }
   ],
   "source": [
    "G = 11.5e6\n",
    "Lm = (1 - t)*4  # total length\n",
    "L = 36  # inches\n",
    "phi_1 = T*Lm/(4*G*Am**2*t)*L\n",
    "(phi_1*180/sp.pi).n()  # in degrees"
   ],
   "metadata": {
    "collapsed": false,
    "pycharm": {
     "name": "#%%\n"
    }
   }
  },
  {
   "cell_type": "markdown",
   "source": [
    "The expression gets multiplied by $L$ because $\\theta_1$ is the angle of twist per unit length."
   ],
   "metadata": {
    "collapsed": false,
    "pycharm": {
     "name": "#%% md\n"
    }
   }
  },
  {
   "cell_type": "markdown",
   "source": [
    "\\pagebreak\n",
    "\n",
    "\\begin{center}\n",
    "\\begin{tabular}{ccc}\n",
    "ME 4403 & Homework 2 & Gabe Morris \\\\\n",
    "& & gnm54\n",
    "\\end{tabular}\n",
    "\\end{center}\n",
    "\n",
    "# Problem 3-64\n",
    "## Given\n",
    "\n",
    "\\begin{center}\n",
    "\\includegraphics{images/fig5}\n",
    "\\end{center}\n",
    "\n",
    "$c_1=2\\ mm$, $L_1=20\\ mm$, $c_2=3\\ mm$, $L_2=30\\ mm$, $c_3=0\\ mm$, and $L_3=0\\ mm$. The material is steel and the maximum shear is $\\tau_{allow}=12\\ ksi$. The angle of twist is the same for each section.\n",
    "\n",
    "## Find\n",
    "a. Determine the torque transmitted by each leg and the torque transmitted by the entire section.\n",
    "b. Determine the angle of twist per unit length.\n",
    "\n",
    "## Solution\n",
    "The relationship for open looped geometry is,\n",
    "\n",
    "$$T_i=\\frac{\\theta_iGL_ic_i^3}{3}$$\n",
    "$$\\tau_{max}=G\\theta_ic_{max}$$\n",
    "\n",
    "From Table A-5, $G_{steel}=79.3\\ GPa$. I will find Part B first because it is required to answer Part A.\n",
    "\n",
    "### Part B"
   ],
   "metadata": {
    "collapsed": false,
    "pycharm": {
     "name": "#%% md\n"
    }
   }
  },
  {
   "cell_type": "code",
   "execution_count": 7,
   "outputs": [
    {
     "data": {
      "text/plain": "0.347781000420345",
      "text/latex": "$\\displaystyle 0.347781000420345$"
     },
     "execution_count": 7,
     "metadata": {},
     "output_type": "execute_result"
    }
   ],
   "source": [
    "tau_max = sp.S(82.7371e6)  # shear stress in Pa\n",
    "G = sp.S(79.3e9)  # modulus of rigidity in Pa\n",
    "c = [sp.S(c_) for c_ in (0.002, 0.003, 0)]  # in m\n",
    "L = [sp.S(L_) for L_ in (0.02, 0.03, 0)]  # in m\n",
    "c_max = max(c)\n",
    "\n",
    "phi_i = tau_max/(G*c_max)\n",
    "phi_i  # in rad per m"
   ],
   "metadata": {
    "collapsed": false,
    "pycharm": {
     "name": "#%%\n"
    }
   }
  },
  {
   "cell_type": "markdown",
   "source": [
    "### Part A"
   ],
   "metadata": {
    "collapsed": false,
    "pycharm": {
     "name": "#%% md\n"
    }
   }
  },
  {
   "cell_type": "code",
   "execution_count": 8,
   "outputs": [
    {
     "data": {
      "text/plain": "Eq(T_1, 1.47088177777778)",
      "text/latex": "$\\displaystyle T_{1} = 1.47088177777778$"
     },
     "metadata": {},
     "output_type": "display_data"
    },
    {
     "data": {
      "text/plain": "Eq(T_2, 7.446339)",
      "text/latex": "$\\displaystyle T_{2} = 7.446339$"
     },
     "metadata": {},
     "output_type": "display_data"
    },
    {
     "data": {
      "text/plain": "Eq(T_3, 0)",
      "text/latex": "$\\displaystyle T_{3} = 0$"
     },
     "metadata": {},
     "output_type": "display_data"
    },
    {
     "data": {
      "text/plain": "Eq(T, 8.91722077777778)",
      "text/latex": "$\\displaystyle T = 8.91722077777778$"
     },
     "metadata": {},
     "output_type": "display_data"
    }
   ],
   "source": [
    "T = []\n",
    "for i in range(len(c)):\n",
    "    T_i = phi_i*G*L[i]*c[i]**3/3\n",
    "    display(sp.Eq(sp.Symbol(f'T_{i + 1}'), T_i))\n",
    "    T.append(T_i)\n",
    "T = sum(T)\n",
    "display(sp.Eq(sp.Symbol('T'), T))  # torques in N m"
   ],
   "metadata": {
    "collapsed": false,
    "pycharm": {
     "name": "#%%\n"
    }
   }
  },
  {
   "cell_type": "markdown",
   "source": [
    "\\pagebreak\n",
    "\n",
    "\\begin{center}\n",
    "\\begin{tabular}{ccc}\n",
    "ME 4403 & Homework 2 & Gabe Morris \\\\\n",
    "& & gnm54\n",
    "\\end{tabular}\n",
    "\\end{center}\n",
    "\n",
    "# Problem 3-81\n",
    "## Given\n",
    "\n",
    "\\begin{center}\n",
    "\\includegraphics{images/fig6}\n",
    "\\end{center}\n",
    "\n",
    "A countershaft carrying two V-belt pulleys is shown in the figure. Pulley $A$ receives power from a motor through a belt with the belt tensions shown. The power is transmitted through the shaft and delivered to the belt on pulley $B$. Assume the belt tension on the loose side at $B$ is 15 percent of the tension on the tight side.\n",
    "\n",
    "## Find\n",
    "a. Determine the tensions in the belt on pulley B, assuming the shaft is running at a constant speed. \n",
    "b. Find the magnitudes of the bearing reaction forces, assuming the bearings act as simple supports. \n",
    "c. Draw shear-force and bending-moment diagrams for the shaft. If needed, make one set for the horizontal plane and another set for the vertical plane. \n",
    "d. At the point of maximum bending moment, determine the bending stress and the torsional shear stress. \n",
    "e. At the point of maximum bending moment, determine the principal stresses and the maximum shear stress.\n",
    "\n",
    "## Solution"
   ],
   "metadata": {
    "collapsed": false,
    "pycharm": {
     "name": "#%% md\n"
    }
   }
  }
 ],
 "metadata": {
  "kernelspec": {
   "display_name": "Python 3",
   "language": "python",
   "name": "python3"
  },
  "language_info": {
   "codemirror_mode": {
    "name": "ipython",
    "version": 2
   },
   "file_extension": ".py",
   "mimetype": "text/x-python",
   "name": "python",
   "nbconvert_exporter": "python",
   "pygments_lexer": "ipython2",
   "version": "2.7.6"
  }
 },
 "nbformat": 4,
 "nbformat_minor": 0
}