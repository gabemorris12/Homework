{
 "cells": [
  {
   "cell_type": "markdown",
   "source": [
    "\\begin{center}\n",
    "Gabe Morris\n",
    "\\end{center}"
   ],
   "metadata": {
    "collapsed": false,
    "pycharm": {
     "name": "#%% md\n"
    }
   }
  },
  {
   "cell_type": "code",
   "execution_count": 1,
   "metadata": {
    "collapsed": true,
    "pycharm": {
     "name": "#%%\n"
    }
   },
   "outputs": [],
   "source": [
    "# Notebook Preamble\n",
    "import sympy as sp\n",
    "import numpy as np\n",
    "import matplotlib.pyplot as plt\n",
    "from IPython.display import display\n",
    "\n",
    "plt.style.use('maroon_ipynb.mplstyle')"
   ]
  },
  {
   "cell_type": "markdown",
   "source": [
    "\\pagebreak\n",
    "\\tableofcontents\n",
    "\\pagebreak"
   ],
   "metadata": {
    "collapsed": false,
    "pycharm": {
     "name": "#%% md\n"
    }
   }
  },
  {
   "cell_type": "markdown",
   "source": [
    "\\begin{center}\n",
    "\\begin{tabular}{c c c}\n",
    "ME 4403 & Test 2 & Gabe Morris \\\\\n",
    "& & gnm54\n",
    "\\end{tabular}\n",
    "\\end{center}\n",
    "\n",
    "# Problem 6-4\n",
    "## Given\n",
    "A steel rotating-beam test specimen has an ultimate strength of 1600 MPa.\n",
    "\n",
    "## Find\n",
    "Estimate the life of the specimen if it is tested at a completely reversed stress amplitude of 900 MPa.\n",
    "\n",
    "## Solution\n",
    "The first step is to find $S_e^\\prime$."
   ],
   "metadata": {
    "collapsed": false,
    "pycharm": {
     "name": "#%% md\n"
    }
   }
  },
  {
   "cell_type": "code",
   "execution_count": 2,
   "outputs": [
    {
     "data": {
      "text/plain": "700",
      "text/latex": "$\\displaystyle 700$"
     },
     "execution_count": 2,
     "metadata": {},
     "output_type": "execute_result"
    }
   ],
   "source": [
    "sig_ar, S_ut = sp.S(900), sp.S(1600)\n",
    "\n",
    "# Eq. 6-10\n",
    "S_e_prime = sp.S(700)\n",
    "S_e_prime  # MPa"
   ],
   "metadata": {
    "collapsed": false,
    "pycharm": {
     "name": "#%%\n"
    }
   }
  },
  {
   "cell_type": "markdown",
   "source": [
    "The $S^\\prime_e$ value will be used in place of $S_e$ from Figure 6-23 description. We can use the following relationships to determine $N$.\n",
    "\n",
    "$$N=\\left(\\frac{\\sigma_{ar}}{a}\\right)^{1/b}$$\n",
    "$$a=\\frac{(fS_{ut})^2}{S_e}$$\n",
    "$$b=-\\frac{1}{3}\\log\\left(\\frac{fS_{ut}}{Se}\\right)$$\n",
    "\n",
    "The value of $f$ is 0.77 from Figure 6-23 (estimated even though it is off the graph)."
   ],
   "metadata": {
    "collapsed": false,
    "pycharm": {
     "name": "#%% md\n"
    }
   }
  },
  {
   "cell_type": "code",
   "execution_count": 3,
   "outputs": [
    {
     "data": {
      "text/plain": "Eq(a, 2168.32)",
      "text/latex": "$\\displaystyle a = 2168.32$"
     },
     "metadata": {},
     "output_type": "display_data"
    },
    {
     "data": {
      "text/plain": "Eq(b, -0.0818375559380499)",
      "text/latex": "$\\displaystyle b = -0.0818375559380499$"
     },
     "metadata": {},
     "output_type": "display_data"
    },
    {
     "data": {
      "text/plain": "46379.6905856764",
      "text/latex": "$\\displaystyle 46379.6905856764$"
     },
     "execution_count": 3,
     "metadata": {},
     "output_type": "execute_result"
    }
   ],
   "source": [
    "def log10(x_):\n",
    "    return sp.log(x_)/sp.log(10)\n",
    "\n",
    "f = sp.S('0.77')\n",
    "a = (f*S_ut)**2/S_e_prime\n",
    "b = -sp.Rational(1, 3)*log10(f*S_ut/S_e_prime)\n",
    "\n",
    "display(sp.Eq(sp.Symbol('a'), a.n()),\n",
    "        sp.Eq(sp.Symbol('b'), b.n()))\n",
    "\n",
    "N = ((sig_ar/a)**(1/b)).n()\n",
    "N  # cycles"
   ],
   "metadata": {
    "collapsed": false,
    "pycharm": {
     "name": "#%%\n"
    }
   }
  },
  {
   "cell_type": "markdown",
   "source": [
    "The life of the specimen is 46400 cycles.\n",
    "\n",
    "\\pagebreak\n",
    "\n",
    "\\begin{center}\n",
    "\\begin{tabular}{ccc}\n",
    "ME 4403 & Test 2 & Gabe Morris \\\\\n",
    "& & gnm54\n",
    "\\end{tabular}\n",
    "\\end{center}"
   ],
   "metadata": {
    "collapsed": false,
    "pycharm": {
     "name": "#%% md\n"
    }
   }
  }
 ],
 "metadata": {
  "kernelspec": {
   "display_name": "Python 3",
   "language": "python",
   "name": "python3"
  },
  "language_info": {
   "codemirror_mode": {
    "name": "ipython",
    "version": 2
   },
   "file_extension": ".py",
   "mimetype": "text/x-python",
   "name": "python",
   "nbconvert_exporter": "python",
   "pygments_lexer": "ipython2",
   "version": "2.7.6"
  }
 },
 "nbformat": 4,
 "nbformat_minor": 0
}