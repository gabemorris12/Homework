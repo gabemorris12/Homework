{
 "cells": [
  {
   "cell_type": "markdown",
   "source": [
    "\\begin{center}\n",
    "Gabe Morris\n",
    "\\end{center}"
   ],
   "metadata": {
    "collapsed": false,
    "pycharm": {
     "name": "#%% md\n"
    }
   }
  },
  {
   "cell_type": "code",
   "execution_count": 1,
   "metadata": {
    "collapsed": true,
    "pycharm": {
     "name": "#%%\n"
    }
   },
   "outputs": [],
   "source": [
    "import sympy as sp\n",
    "import matplotlib.pyplot as plt\n",
    "from IPython.display import display, Latex\n",
    "\n",
    "plt.style.use('maroon.mplstyle')\n",
    "\n",
    "s, t = sp.symbols('s t')\n",
    "\n",
    "display_latex = lambda text: display(Latex(text))"
   ]
  },
  {
   "cell_type": "markdown",
   "source": [
    "\\pagebreak\n",
    "\\tableofcontents\n",
    "\\pagebreak"
   ],
   "metadata": {
    "collapsed": false,
    "pycharm": {
     "name": "#%% md\n"
    }
   }
  },
  {
   "cell_type": "markdown",
   "source": [
    "\\begin{center}\n",
    "\\begin{tabular}{c c c}\n",
    "ME 6643 & Homework 5 & Gabe Morris \\\\\n",
    "& & gnm54\n",
    "\\end{tabular}\n",
    "\\end{center}\n",
    "\n",
    "# Problem 9.5 Part A\n",
    "## Given\n",
    "$T(s)=\\frac{Y(s)}{F(s)}=\\frac{75}{14s+18}$ \\\n",
    "$f(t)=10\\sin(1.5t)$\n",
    "\n",
    "## Find\n",
    "The steady state response $y_{ss}(t)$\n",
    "\n",
    "## Solution\n",
    "$y_{ss}(t)=10|T(j\\omega)|\\sin(1.5t+\\angle T(j\\omega))$"
   ],
   "metadata": {
    "collapsed": false,
    "pycharm": {
     "name": "#%% md\n"
    }
   }
  },
  {
   "cell_type": "code",
   "execution_count": 2,
   "outputs": [
    {
     "data": {
      "text/plain": "75/(14*s + 18)",
      "text/latex": "$\\displaystyle \\frac{75}{14 s + 18}$"
     },
     "execution_count": 2,
     "metadata": {},
     "output_type": "execute_result"
    }
   ],
   "source": [
    "T_s = 75/(14*s + 18)\n",
    "T_s"
   ],
   "metadata": {
    "collapsed": false,
    "pycharm": {
     "name": "#%%\n"
    }
   }
  },
  {
   "cell_type": "code",
   "execution_count": 3,
   "outputs": [
    {
     "data": {
      "text/plain": "0.0980392156862745*(18 - 21.0*I)",
      "text/latex": "$\\displaystyle 0.0980392156862745 \\left(18 - 21.0 i\\right)$"
     },
     "execution_count": 3,
     "metadata": {},
     "output_type": "execute_result"
    }
   ],
   "source": [
    "T_jw = T_s.subs(s, sp.I*1.5)\n",
    "T_jw"
   ],
   "metadata": {
    "collapsed": false,
    "pycharm": {
     "name": "#%%\n"
    }
   }
  },
  {
   "cell_type": "code",
   "execution_count": 4,
   "outputs": [
    {
     "data": {
      "text/plain": "2.71163072273320",
      "text/latex": "$\\displaystyle 2.7116307227332$"
     },
     "execution_count": 4,
     "metadata": {},
     "output_type": "execute_result"
    }
   ],
   "source": [
    "mag = sp.Abs(T_jw)\n",
    "mag"
   ],
   "metadata": {
    "collapsed": false,
    "pycharm": {
     "name": "#%%\n"
    }
   }
  },
  {
   "cell_type": "code",
   "execution_count": 5,
   "outputs": [
    {
     "data": {
      "text/plain": "-0.862170054667226",
      "text/latex": "$\\displaystyle -0.862170054667226$"
     },
     "execution_count": 5,
     "metadata": {},
     "output_type": "execute_result"
    }
   ],
   "source": [
    "angle = sp.arg(T_jw)\n",
    "angle"
   ],
   "metadata": {
    "collapsed": false,
    "pycharm": {
     "name": "#%%\n"
    }
   }
  },
  {
   "cell_type": "code",
   "execution_count": 6,
   "outputs": [
    {
     "data": {
      "text/plain": "27.116307227332*sin(1.5*t - 0.862170054667226)",
      "text/latex": "$\\displaystyle 27.116307227332 \\sin{\\left(1.5 t - 0.862170054667226 \\right)}$"
     },
     "execution_count": 6,
     "metadata": {},
     "output_type": "execute_result"
    }
   ],
   "source": [
    "y_t = 10*mag*sp.sin(1.5*t + angle)\n",
    "y_t"
   ],
   "metadata": {
    "collapsed": false,
    "pycharm": {
     "name": "#%%\n"
    }
   }
  },
  {
   "cell_type": "markdown",
   "source": [
    "## Answer\n",
    "$y_{ss}(t)=27.1\\sin(1.5t-0.862)$"
   ],
   "metadata": {
    "collapsed": false,
    "pycharm": {
     "name": "#%% md\n"
    }
   }
  },
  {
   "cell_type": "markdown",
   "source": [
    "\\pagebreak\n",
    "\n",
    "\\begin{center}\n",
    "\\begin{tabular}{c c c}\n",
    "ME 6643 & Homework 5 & Gabe Morris \\\\\n",
    "& & gnm54\n",
    "\\end{tabular}\n",
    "\\end{center}\n",
    "\n",
    "# Problem 9.5 Part C\n",
    "## Given\n",
    "$T(s)=\\frac{Y(s)}{F(s)}=\\frac{s+50}{s+150}$ \\\n",
    "$f(t)=15\\sin(100t)$\n",
    "\n",
    "## Find\n",
    "The steady state response $y_{ss}(t)$\n",
    "\n",
    "## Solution\n",
    "Do the same procedure as above. No need for tables in the book. Python makes this very easy."
   ],
   "metadata": {
    "collapsed": false,
    "pycharm": {
     "name": "#%% md\n"
    }
   }
  },
  {
   "cell_type": "code",
   "execution_count": 7,
   "outputs": [
    {
     "data": {
      "text/plain": "(s + 50)/(s + 150)",
      "text/latex": "$\\displaystyle \\frac{s + 50}{s + 150}$"
     },
     "execution_count": 7,
     "metadata": {},
     "output_type": "execute_result"
    }
   ],
   "source": [
    "T_s = (s + 50)/(s + 150)\n",
    "T_s"
   ],
   "metadata": {
    "collapsed": false,
    "pycharm": {
     "name": "#%%\n"
    }
   }
  },
  {
   "cell_type": "code",
   "execution_count": 8,
   "outputs": [
    {
     "data": {
      "text/plain": "(50 + 100*I)*(150 - 100*I)/32500",
      "text/latex": "$\\displaystyle \\frac{\\left(50 + 100 i\\right) \\left(150 - 100 i\\right)}{32500}$"
     },
     "execution_count": 8,
     "metadata": {},
     "output_type": "execute_result"
    }
   ],
   "source": [
    "T_jw = T_s.subs(s, sp.I*100)\n",
    "T_jw"
   ],
   "metadata": {
    "collapsed": false,
    "pycharm": {
     "name": "#%%\n"
    }
   }
  },
  {
   "cell_type": "code",
   "execution_count": 9,
   "outputs": [
    {
     "data": {
      "text/plain": "0.620173672946042",
      "text/latex": "$\\displaystyle 0.620173672946042$"
     },
     "execution_count": 9,
     "metadata": {},
     "output_type": "execute_result"
    }
   ],
   "source": [
    "mag = sp.Abs(T_jw)\n",
    "mag.n()"
   ],
   "metadata": {
    "collapsed": false,
    "pycharm": {
     "name": "#%%\n"
    }
   }
  },
  {
   "cell_type": "code",
   "execution_count": 10,
   "outputs": [
    {
     "data": {
      "text/plain": "0.519146114246523",
      "text/latex": "$\\displaystyle 0.519146114246523$"
     },
     "execution_count": 10,
     "metadata": {},
     "output_type": "execute_result"
    }
   ],
   "source": [
    "angle = sp.arg(T_jw)\n",
    "angle.n()"
   ],
   "metadata": {
    "collapsed": false,
    "pycharm": {
     "name": "#%%\n"
    }
   }
  },
  {
   "cell_type": "code",
   "execution_count": 11,
   "outputs": [
    {
     "data": {
      "text/plain": "9.30260509419063*sin(100*t + 0.519146114246523)",
      "text/latex": "$\\displaystyle 9.30260509419063 \\sin{\\left(100 t + 0.519146114246523 \\right)}$"
     },
     "execution_count": 11,
     "metadata": {},
     "output_type": "execute_result"
    }
   ],
   "source": [
    "y_t = 15*mag*sp.sin(100*t + angle.n())\n",
    "y_t.n()"
   ],
   "metadata": {
    "collapsed": false,
    "pycharm": {
     "name": "#%%\n"
    }
   }
  },
  {
   "cell_type": "markdown",
   "source": [
    "## Answer\n",
    "$y_{ss}(t)=9.3\\sin(100t+0.519)$"
   ],
   "metadata": {
    "collapsed": false,
    "pycharm": {
     "name": "#%% md\n"
    }
   }
  }
 ],
 "metadata": {
  "kernelspec": {
   "display_name": "Python 3",
   "language": "python",
   "name": "python3"
  },
  "language_info": {
   "codemirror_mode": {
    "name": "ipython",
    "version": 2
   },
   "file_extension": ".py",
   "mimetype": "text/x-python",
   "name": "python",
   "nbconvert_exporter": "python",
   "pygments_lexer": "ipython2",
   "version": "2.7.6"
  }
 },
 "nbformat": 4,
 "nbformat_minor": 0
}