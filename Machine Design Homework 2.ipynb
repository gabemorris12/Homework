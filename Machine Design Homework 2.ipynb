{
 "cells": [
  {
   "cell_type": "markdown",
   "metadata": {
    "pycharm": {
     "name": "#%% md\n"
    }
   },
   "source": [
    "\\begin{center}\n",
    "Gabe Morris\n",
    "\\end{center}"
   ]
  },
  {
   "cell_type": "code",
   "execution_count": 1,
   "metadata": {
    "collapsed": true,
    "pycharm": {
     "name": "#%%\n"
    }
   },
   "outputs": [],
   "source": [
    "import matplotlib.pyplot as plt\n",
    "import sympy as sp\n",
    "from IPython.display import display\n",
    "\n",
    "plt.style.use('maroon_ipynb.mplstyle')"
   ]
  },
  {
   "cell_type": "markdown",
   "metadata": {
    "pycharm": {
     "name": "#%% md\n"
    }
   },
   "source": [
    "\\pagebreak\n",
    "\\tableofcontents\n",
    "\\pagebreak"
   ]
  },
  {
   "cell_type": "markdown",
   "metadata": {
    "pycharm": {
     "name": "#%% md\n"
    }
   },
   "source": [
    "\\begin{center}\n",
    "\\begin{tabular}{c c c}\n",
    "ME 4403 & Homework 2 & Gabe Morris \\\\\n",
    "& & gnm54\n",
    "\\end{tabular}\n",
    "\\end{center}\n",
    "\n",
    "# Problem 4-118\n",
    "## Given\n",
    "\n",
    "\\begin{center}\n",
    "\\includegraphics{images/fig1}\n",
    "\\end{center}\n",
    "\n",
    "## Find\n",
    "Determine the support reactions using Castigliano's theory.\n",
    "\n",
    "## Solution\n",
    "The free body diagram yields two equations with three unknowns,\n",
    "\n",
    "\\begin{center}\n",
    "\\includegraphics{images/fig2}\n",
    "\\end{center}"
   ]
  },
  {
   "cell_type": "code",
   "execution_count": 2,
   "outputs": [
    {
     "data": {
      "text/plain": "Eq(B_y + C_y, l*w)",
      "text/latex": "$\\displaystyle B_{y} + C_{y} = l w$"
     },
     "metadata": {},
     "output_type": "display_data"
    },
    {
     "data": {
      "text/plain": "Eq(B_y*(-a + l) + M_c, l**2*w/2)",
      "text/latex": "$\\displaystyle B_{y} \\left(- a + l\\right) + M_{c} = \\frac{l^{2} w}{2}$"
     },
     "metadata": {},
     "output_type": "display_data"
    }
   ],
   "source": [
    "By, w, l, Cy, Mc, a = sp.symbols('B_y w l C_y M_c a')\n",
    "eq1 = sp.Eq(By + Cy, w*l)  # Forces in y direction\n",
    "eq2 = sp.Eq(Mc + By*(l - a), w*l*(l/2))\n",
    "display(eq1, eq2)"
   ],
   "metadata": {
    "collapsed": false,
    "pycharm": {
     "name": "#%%\n"
    }
   }
  },
  {
   "cell_type": "markdown",
   "source": [
    "The bending and shear diagram equations as a function of $x$ may be extracted like so,\n",
    "\n",
    "\\begin{center}\n",
    "\\includegraphics{images/fig3}\n",
    "\\end{center}\n",
    "\n",
    "The above figure is for $0\\le x\\le a$."
   ],
   "metadata": {
    "collapsed": false,
    "pycharm": {
     "name": "#%% md\n"
    }
   }
  },
  {
   "cell_type": "code",
   "execution_count": 3,
   "outputs": [
    {
     "data": {
      "text/plain": "-w*x",
      "text/latex": "$\\displaystyle - w x$"
     },
     "execution_count": 3,
     "metadata": {},
     "output_type": "execute_result"
    }
   ],
   "source": [
    "# Shear equation\n",
    "x = sp.Symbol('x')\n",
    "V1 = -w*x\n",
    "V1"
   ],
   "metadata": {
    "collapsed": false,
    "pycharm": {
     "name": "#%%\n"
    }
   }
  },
  {
   "cell_type": "code",
   "execution_count": 4,
   "outputs": [
    {
     "data": {
      "text/plain": "-0.5*w*x**2",
      "text/latex": "$\\displaystyle - 0.5 w x^{2}$"
     },
     "execution_count": 4,
     "metadata": {},
     "output_type": "execute_result"
    }
   ],
   "source": [
    "# Moment equation\n",
    "M1 = -sp.S('0.5')*w*x**2\n",
    "M1"
   ],
   "metadata": {
    "collapsed": false,
    "pycharm": {
     "name": "#%%\n"
    }
   }
  },
  {
   "cell_type": "markdown",
   "source": [
    "For $a\\le x \\le l$,\n",
    "\n",
    "\\begin{center}\n",
    "\\includegraphics{images/fig4}\n",
    "\\end{center}"
   ],
   "metadata": {
    "collapsed": false,
    "pycharm": {
     "name": "#%% md\n"
    }
   }
  },
  {
   "cell_type": "code",
   "execution_count": 5,
   "outputs": [
    {
     "data": {
      "text/plain": "B_y - w*x",
      "text/latex": "$\\displaystyle B_{y} - w x$"
     },
     "execution_count": 5,
     "metadata": {},
     "output_type": "execute_result"
    }
   ],
   "source": [
    "V2 = By - w*x\n",
    "V2"
   ],
   "metadata": {
    "collapsed": false,
    "pycharm": {
     "name": "#%%\n"
    }
   }
  },
  {
   "cell_type": "code",
   "execution_count": 6,
   "outputs": [
    {
     "data": {
      "text/plain": "B_y*(-a + x) - 0.5*w*x**2",
      "text/latex": "$\\displaystyle B_{y} \\left(- a + x\\right) - 0.5 w x^{2}$"
     },
     "execution_count": 6,
     "metadata": {},
     "output_type": "execute_result"
    }
   ],
   "source": [
    "M2 = By*(x - a) - sp.S('0.5')*w*x**2\n",
    "M2"
   ],
   "metadata": {
    "collapsed": false,
    "pycharm": {
     "name": "#%%\n"
    }
   }
  },
  {
   "cell_type": "markdown",
   "source": [
    "All together, the moment and shear equation may be represented as the piecewise functions below."
   ],
   "metadata": {
    "collapsed": false,
    "pycharm": {
     "name": "#%% md\n"
    }
   }
  },
  {
   "cell_type": "code",
   "execution_count": 7,
   "outputs": [
    {
     "data": {
      "text/plain": "Piecewise((-w*x, (a >= x) & (x >= 0)), (B_y - w*x, (l >= x) & (a <= x)))",
      "text/latex": "$\\displaystyle \\begin{cases} - w x & \\text{for}\\: a \\geq x \\wedge x \\geq 0 \\\\B_{y} - w x & \\text{for}\\: l \\geq x \\wedge a \\leq x \\end{cases}$"
     },
     "metadata": {},
     "output_type": "display_data"
    },
    {
     "data": {
      "text/plain": "Piecewise((-0.5*w*x**2, (a >= x) & (x >= 0)), (B_y*(-a + x) - 0.5*w*x**2, (l >= x) & (a <= x)))",
      "text/latex": "$\\displaystyle \\begin{cases} - 0.5 w x^{2} & \\text{for}\\: a \\geq x \\wedge x \\geq 0 \\\\B_{y} \\left(- a + x\\right) - 0.5 w x^{2} & \\text{for}\\: l \\geq x \\wedge a \\leq x \\end{cases}$"
     },
     "metadata": {},
     "output_type": "display_data"
    }
   ],
   "source": [
    "V = sp.Piecewise((V1, (x >= 0) & (x <= a)), (V2, (x >= a) & (x <= l)))\n",
    "M = sp.Piecewise((M1, (x >= 0) & (x <= a)), (M2, (x >= a) & (x <= l)))\n",
    "display(V, M)"
   ],
   "metadata": {
    "collapsed": false,
    "pycharm": {
     "name": "#%%\n"
    }
   }
  },
  {
   "cell_type": "markdown",
   "source": [
    "Castigliano's theory involves computing the total energy, which is\n",
    "\n",
    "$$U=\\int \\frac{M^2}{2EI}dx+\\int \\frac{CV^2}{2AG}dx$$\n",
    "\n",
    "We can integrate across each section. Watch as `sympy` impressively solves this huge integral for us, symbolically. If we **neglect the shear stress**, we will arrive at the same answer for the superposition approach. This assumption is usually valid, since beams are typically much longer than their diameters/cross-sectional distance."
   ],
   "metadata": {
    "collapsed": false,
    "pycharm": {
     "name": "#%% md\n"
    }
   }
  },
  {
   "cell_type": "code",
   "execution_count": 8,
   "outputs": [
    {
     "data": {
      "text/plain": "Eq(U, Integral((B_y*(-a + x) - w*x**2/2)**2/(2*E*I), (x, a, l)) + Integral(w**2*x**4/(8*E*I), (x, 0, a)))",
      "text/latex": "$\\displaystyle U = \\int\\limits_{a}^{l} \\frac{\\left(B_{y} \\left(- a + x\\right) - \\frac{w x^{2}}{2}\\right)^{2}}{2 E I}\\, dx + \\int\\limits_{0}^{a} \\frac{w^{2} x^{4}}{8 E I}\\, dx$"
     },
     "execution_count": 8,
     "metadata": {},
     "output_type": "execute_result"
    }
   ],
   "source": [
    "C, E, I, A, G, U_sym = sp.symbols('C E I A G U')\n",
    "\n",
    "# With shear\n",
    "# U1 = sp.Integral(M1**2/(2*E*I) + C*V1**2/(2*A*G), (x, 0, a))\n",
    "# U2 = sp.Integral(M2**2/(2*E*I) + C*V2**2/(2*A*G), (x, a, l))\n",
    "\n",
    "# Neglected shear\n",
    "U1 = sp.Integral(M1**2/(2*E*I), (x, 0, a))\n",
    "U2 = sp.Integral(M2**2/(2*E*I), (x, a, l))\n",
    "U = U1 + U2\n",
    "sp.Eq(U_sym, U.nsimplify())"
   ],
   "metadata": {
    "collapsed": false,
    "pycharm": {
     "name": "#%%\n"
    }
   }
  },
  {
   "cell_type": "code",
   "execution_count": 9,
   "outputs": [
    {
     "data": {
      "text/plain": "Eq(U, -B_y**2*a**3/(6*E*I) + B_y**2*a**2*l/(2*E*I) - B_y**2*a*l**2/(2*E*I) + B_y**2*l**3/(6*E*I) - B_y*a**4*w/(24*E*I) + B_y*a*l**3*w/(6*E*I) - B_y*l**4*w/(8*E*I) + l**5*w**2/(40*E*I))",
      "text/latex": "$\\displaystyle U = - \\frac{B_{y}^{2} a^{3}}{6 E I} + \\frac{B_{y}^{2} a^{2} l}{2 E I} - \\frac{B_{y}^{2} a l^{2}}{2 E I} + \\frac{B_{y}^{2} l^{3}}{6 E I} - \\frac{B_{y} a^{4} w}{24 E I} + \\frac{B_{y} a l^{3} w}{6 E I} - \\frac{B_{y} l^{4} w}{8 E I} + \\frac{l^{5} w^{2}}{40 E I}$"
     },
     "execution_count": 9,
     "metadata": {},
     "output_type": "execute_result"
    }
   ],
   "source": [
    "U_doit = U.doit().expand().nsimplify()\n",
    "sp.Eq(U_sym, U_doit)"
   ],
   "metadata": {
    "collapsed": false,
    "pycharm": {
     "name": "#%%\n"
    }
   }
  },
  {
   "cell_type": "markdown",
   "source": [
    "Castigliano's Theory is,\n",
    "\n",
    "$$\\delta_i=\\frac{\\partial U}{\\partial F_i}$$\n",
    "\n",
    "$\\delta_i$ is the displacement at the point where the force $F_i$ occurs. We know the deflection at point B is 0.\n",
    "\n",
    "$$\\frac{\\partial U}{\\partial B_y}=0$$"
   ],
   "metadata": {
    "collapsed": false,
    "pycharm": {
     "name": "#%% md\n"
    }
   }
  },
  {
   "cell_type": "code",
   "execution_count": 10,
   "outputs": [
    {
     "data": {
      "text/plain": "Eq(-B_y*a**3/(3*E*I) + B_y*a**2*l/(E*I) - B_y*a*l**2/(E*I) + B_y*l**3/(3*E*I) - a**4*w/(24*E*I) + a*l**3*w/(6*E*I) - l**4*w/(8*E*I), 0)",
      "text/latex": "$\\displaystyle - \\frac{B_{y} a^{3}}{3 E I} + \\frac{B_{y} a^{2} l}{E I} - \\frac{B_{y} a l^{2}}{E I} + \\frac{B_{y} l^{3}}{3 E I} - \\frac{a^{4} w}{24 E I} + \\frac{a l^{3} w}{6 E I} - \\frac{l^{4} w}{8 E I} = 0$"
     },
     "execution_count": 10,
     "metadata": {},
     "output_type": "execute_result"
    }
   ],
   "source": [
    "# Take the derivative of the expression above and set equal to 0\n",
    "eq3 = sp.Eq(U_doit.diff(By).expand().nsimplify(), 0)\n",
    "eq3"
   ],
   "metadata": {
    "collapsed": false,
    "pycharm": {
     "name": "#%%\n"
    }
   }
  },
  {
   "cell_type": "code",
   "execution_count": 11,
   "outputs": [
    {
     "data": {
      "text/plain": "Eq(B_y, (-a**2*w - 2*a*l*w - 3*l**2*w)/(8*a - 8*l))",
      "text/latex": "$\\displaystyle B_{y} = \\frac{- a^{2} w - 2 a l w - 3 l^{2} w}{8 a - 8 l}$"
     },
     "metadata": {},
     "output_type": "display_data"
    },
    {
     "data": {
      "text/plain": "Eq(C_y, (a**2*w + 10*a*l*w - 5*l**2*w)/(8*a - 8*l))",
      "text/latex": "$\\displaystyle C_{y} = \\frac{a^{2} w + 10 a l w - 5 l^{2} w}{8 a - 8 l}$"
     },
     "metadata": {},
     "output_type": "display_data"
    },
    {
     "data": {
      "text/plain": "Eq(M_c, -a**2*w/8 - a*l*w/4 + l**2*w/8)",
      "text/latex": "$\\displaystyle M_{c} = - \\frac{a^{2} w}{8} - \\frac{a l w}{4} + \\frac{l^{2} w}{8}$"
     },
     "metadata": {},
     "output_type": "display_data"
    }
   ],
   "source": [
    "sol = sp.solve([eq1, eq2, eq3], (By, Cy, Mc), dict=True)[0]\n",
    "for key, value in sol.items():\n",
    "    display(sp.Eq(key, value.nsimplify()))"
   ],
   "metadata": {
    "collapsed": false,
    "pycharm": {
     "name": "#%%\n"
    }
   }
  },
  {
   "cell_type": "markdown",
   "source": [
    "\\pagebreak\n",
    "\n",
    "\\begin{center}\n",
    "\\begin{tabular}{ccc}\n",
    "ME 4403 & Homework 2 & Gabe Morris \\\\\n",
    "& & gnm54\n",
    "\\end{tabular}\n",
    "\\end{center}\n",
    "\n",
    "# Problem 4-132\n",
    "## Given\n",
    "\n",
    "\\begin{center}\n",
    "\\includegraphics{images/fig5}\n",
    "\\end{center}\n",
    "\n",
    "The figure above shows a schematic drawing of a vehicular jack that is to be designed to support a maximum mass of 300 kg based on the use of a design factor $n_d=3.50$. The opposite-handed threads on the two ends of the screw are cut to allow the link angle $\\theta$ to vary from 15 to 70$^\\circ$. The links are to be machined from AISI 1010 hot-rolled steel bars. Each of the four links is to consist of two bars, one on each side of the central bearings. The bars are to be 350 mm long and have a bar width of $w=30\\ mm$. The pinned ends are to be designed to secure an end-condition constant of at least C = 1.4 for out-of-plane buckling.\n",
    "\n",
    "## Find\n",
    "Find a suitable preferred thickness and the resulting factor of safety for this thickness.\n",
    "\n",
    "## Solution\n",
    "Start by finding the compressive force in the members,\n",
    "\n",
    "\\begin{center}\n",
    "\\includegraphics{images/fig6}\n",
    "\\end{center}\n",
    "\n",
    "After acquiring the force, the critical force $P_cr$ may be obtained using the relationship with the desired factor of safety."
   ],
   "metadata": {
    "collapsed": false,
    "pycharm": {
     "name": "#%% md\n"
    }
   }
  },
  {
   "cell_type": "code",
   "execution_count": 12,
   "outputs": [
    {
     "data": {
      "text/plain": "Eq(F, 735.75/sin(\\theta))",
      "text/latex": "$\\displaystyle F = \\frac{735.75}{\\sin{\\left(\\theta \\right)}}$"
     },
     "execution_count": 12,
     "metadata": {},
     "output_type": "execute_result"
    }
   ],
   "source": [
    "w = 300*sp.S('9.81')\n",
    "F, theta = sp.symbols(r'F \\theta')\n",
    "eq1 = sp.Eq(w, 4*F*sp.sin(theta))\n",
    "F_sol = sp.solve(eq1, F)[0]\n",
    "sp.Eq(F, F_sol)"
   ],
   "metadata": {
    "collapsed": false,
    "pycharm": {
     "name": "#%%\n"
    }
   }
  },
  {
   "cell_type": "markdown",
   "source": [
    "The value of $\\sin\\theta$ should be smallest in order to get the greatest force. We will use the $15^\\circ$ limit position to get the greater force value."
   ],
   "metadata": {
    "collapsed": false,
    "pycharm": {
     "name": "#%% md\n"
    }
   }
  },
  {
   "cell_type": "code",
   "execution_count": 13,
   "outputs": [
    {
     "data": {
      "text/plain": "2842.71970676873",
      "text/latex": "$\\displaystyle 2842.71970676873$"
     },
     "execution_count": 13,
     "metadata": {},
     "output_type": "execute_result"
    }
   ],
   "source": [
    "# Solving for F\n",
    "F_ = (F_sol.subs(theta, 15*sp.pi/180)).n()\n",
    "F_  # in N"
   ],
   "metadata": {
    "collapsed": false,
    "pycharm": {
     "name": "#%%\n"
    }
   }
  },
  {
   "cell_type": "markdown",
   "source": [
    "We can use the relationship for long columns with central loading,\n",
    "\n",
    "$$\\frac{P_{cr}}{A}=\\frac{C\\pi^2E}{\\left(\\frac{l}{k}\\right)}$$"
   ],
   "metadata": {
    "collapsed": false,
    "pycharm": {
     "name": "#%% md\n"
    }
   }
  },
  {
   "cell_type": "code",
   "execution_count": 14,
   "outputs": [
    {
     "data": {
      "text/plain": "9949.51897369055",
      "text/latex": "$\\displaystyle 9949.51897369055$"
     },
     "execution_count": 14,
     "metadata": {},
     "output_type": "execute_result"
    }
   ],
   "source": [
    "# Calculate P critical\n",
    "P_cr = sp.S('3.5')*F_\n",
    "P_cr  # in N"
   ],
   "metadata": {
    "collapsed": false,
    "pycharm": {
     "name": "#%%\n"
    }
   }
  },
  {
   "cell_type": "markdown",
   "source": [],
   "metadata": {
    "collapsed": false,
    "pycharm": {
     "name": "#%% md\n"
    }
   }
  },
  {
   "cell_type": "code",
   "execution_count": 15,
   "outputs": [
    {
     "data": {
      "text/plain": "Eq(9949.51897369055, 58371660315.0142*t**3)",
      "text/latex": "$\\displaystyle 9949.51897369055 = 58371660315.0142 t^{3}$"
     },
     "execution_count": 15,
     "metadata": {},
     "output_type": "execute_result"
    }
   ],
   "source": [
    "# Solving for the thickness\n",
    "t = sp.Symbol('t')  # thickness symbol\n",
    "w, E, l, C = sp.S('0.03'), sp.S('207e9'), sp.S('0.35'), sp.S('1.4')\n",
    "Sy = sp.S('180e6')\n",
    "k = t/sp.sqrt(12)\n",
    "A = t*w\n",
    "eq1 = sp.Eq(P_cr, A*C*sp.pi**2*E/(l/k)**2)\n",
    "eq1.n()"
   ],
   "metadata": {
    "collapsed": false,
    "pycharm": {
     "name": "#%%\n"
    }
   }
  },
  {
   "cell_type": "code",
   "execution_count": 16,
   "outputs": [
    {
     "data": {
      "text/plain": "0.00554455478902950",
      "text/latex": "$\\displaystyle 0.0055445547890295$"
     },
     "metadata": {},
     "output_type": "display_data"
    }
   ],
   "source": [
    "t_sol = sp.solve(eq1)[0]\n",
    "display(t_sol)  # solution in m"
   ],
   "metadata": {
    "collapsed": false,
    "pycharm": {
     "name": "#%%\n"
    }
   }
  },
  {
   "cell_type": "markdown",
   "source": [
    "The thickness should be no less than $6\\ mm$ because $6\\ mm$ is the next biggest standard size. We can figure out the $P_{cr}$ by plugging this value back into Euler's equation. First, we need to check and see if this is a valid solution."
   ],
   "metadata": {
    "collapsed": false,
    "pycharm": {
     "name": "#%% md\n"
    }
   }
  },
  {
   "cell_type": "code",
   "execution_count": 17,
   "outputs": [
    {
     "data": {
      "text/plain": "True",
      "text/latex": "$\\displaystyle \\text{True}$"
     },
     "execution_count": 17,
     "metadata": {},
     "output_type": "execute_result"
    }
   ],
   "source": [
    "l_k1 = sp.sqrt(2*sp.pi**2*C*E/Sy)\n",
    "(l/k.subs(t, sp.S('0.006'))) > l_k1"
   ],
   "metadata": {
    "collapsed": false,
    "pycharm": {
     "name": "#%%\n"
    }
   }
  },
  {
   "cell_type": "markdown",
   "source": [
    "Because $\\left(\\frac{l}{k}\\right)>\\left(\\frac{l}{k}\\right)_1$, the solution is valid. Now we can calculate the factor of safety."
   ],
   "metadata": {
    "collapsed": false,
    "pycharm": {
     "name": "#%% md\n"
    }
   }
  },
  {
   "cell_type": "code",
   "execution_count": 18,
   "outputs": [
    {
     "data": {
      "text/plain": "12608.2786280431",
      "text/latex": "$\\displaystyle 12608.2786280431$"
     },
     "execution_count": 18,
     "metadata": {},
     "output_type": "execute_result"
    }
   ],
   "source": [
    "P_cr_ = eq1.rhs.subs(t, sp.S('0.006'))\n",
    "P_cr_.n()"
   ],
   "metadata": {
    "collapsed": false,
    "pycharm": {
     "name": "#%%\n"
    }
   }
  },
  {
   "cell_type": "code",
   "execution_count": 19,
   "outputs": [
    {
     "data": {
      "text/plain": "4.43528730533011",
      "text/latex": "$\\displaystyle 4.43528730533011$"
     },
     "execution_count": 19,
     "metadata": {},
     "output_type": "execute_result"
    }
   ],
   "source": [
    "# Getting new factor of safety\n",
    "(P_cr_/F_).n()"
   ],
   "metadata": {
    "collapsed": false,
    "pycharm": {
     "name": "#%%\n"
    }
   }
  }
 ],
 "metadata": {
  "celltoolbar": "Tags",
  "kernelspec": {
   "display_name": "Python 3 (ipykernel)",
   "language": "python",
   "name": "python3"
  },
  "language_info": {
   "codemirror_mode": {
    "name": "ipython",
    "version": 3
   },
   "file_extension": ".py",
   "mimetype": "text/x-python",
   "name": "python",
   "nbconvert_exporter": "python",
   "pygments_lexer": "ipython3",
   "version": "3.10.1"
  }
 },
 "nbformat": 4,
 "nbformat_minor": 1
}