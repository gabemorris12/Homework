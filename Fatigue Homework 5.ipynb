{
 "cells": [
  {
   "cell_type": "markdown",
   "source": [
    "\\begin{center}\n",
    "Gabe Morris\n",
    "\\end{center}"
   ],
   "metadata": {
    "collapsed": false
   }
  },
  {
   "cell_type": "code",
   "execution_count": 1,
   "metadata": {
    "collapsed": true,
    "ExecuteTime": {
     "start_time": "2023-04-11T11:48:52.392511Z",
     "end_time": "2023-04-11T11:48:54.295725Z"
    }
   },
   "outputs": [],
   "source": [
    "# Notebook Preamble\n",
    "import sympy as sp\n",
    "import numpy as np\n",
    "import matplotlib.pyplot as plt\n",
    "\n",
    "plt.style.use('maroon_ipynb.mplstyle')"
   ]
  },
  {
   "cell_type": "markdown",
   "source": [
    "\\pagebreak\n",
    "\\tableofcontents\n",
    "\\pagebreak"
   ],
   "metadata": {
    "collapsed": false
   }
  },
  {
   "cell_type": "markdown",
   "source": [
    "\\begin{center}\n",
    "\\begin{tabular}{c c c}\n",
    "ME 8253 & Homework 5 & Gabe Morris \\\\\n",
    "& & gnm54\n",
    "\\end{tabular}\n",
    "\\end{center}\n",
    "\n",
    "# Preliminary Questions\n",
    "\n",
    "**What are the expressions of the plastic zone size for plane stress and plane strain?**\n",
    "\n",
    "For plane stress:\n",
    "\n",
    "$$2r_y=\\frac{1}{\\pi}\\left(\\frac{K}{S_y}\\right)^2$$\n",
    "\n",
    "For plane strain:\n",
    "\n",
    "$$2r_y=\\frac{1}{3\\pi}\\left(\\frac{K}{S_y}\\right)^2$$\n",
    "\n",
    "where $K$ is the stress intensity factor, $r_y$ is the plastic zone radius, and $S_y$ is the yield strength.\n",
    "\n",
    "**What are the restrictions on the use of LEFM?**\n",
    "\n",
    "The following restrictions on the use of the LEFM are: \n",
    "\n",
    "* The plastic zone size at the crack tip must be small relative to the crack length.\n",
    "* The net nominal stresses in the crack plane must be less than $0.8S_y$\n",
    "* Under monotonic loading, $r_y\\le(1/8)a$\n",
    "* $r_y\\le(1/8)t$ and $r_y\\le(1/8)(w-a)$\n",
    "* For cyclic loading, $r_y\\le a/4$\n",
    "\n",
    "**What are the restrictions for the plane strain fracture toughness $K_{IC}$ value to be considered valid?**\n",
    "\n",
    "In order for a plane strain fracture toughness value to be considered valid, it is required that:\n",
    "\n",
    "$$a\\ge2.5\\left(\\frac{K_{IC}}{S_y}\\right)^2$$\n",
    "$$t\\ge2.5\\left(\\frac{K_{IC}}{S_y}\\right)^2$$\n",
    "\n",
    "\\pagebreak\n",
    "\n",
    "\\begin{center}\n",
    "\\begin{tabular}{ccc}\n",
    "ME 8253 & Homework 5 & Gabe Morris \\\\\n",
    "& & gnm54\n",
    "\\end{tabular}\n",
    "\\end{center}\n",
    "\n",
    "#\n",
    "## Given\n",
    "A gas turbine component is made of recrystallized, annealed Ti-6A1-4V with $K_{IC}=85\\ MPa\\sqrt{m}$ and $S_y=815\\ MPa$. A surface semi-circular crack ($a/c=1$) (shown in the figure below) is found during a routine maintenance inspection. If the component thickness is 25 mm, comment on the stress state (plane stress or plane strain).\n",
    "\n",
    "\\begin{center}\n",
    "\\includegraphics{images/fig1}\n",
    "\\end{center}\n",
    "\n",
    "\\begin{center}\n",
    "\\includegraphics{images/fig2}\n",
    "\\end{center}\n",
    "\n",
    "\\begin{center}\n",
    "\\includegraphics{images/fig3}\n",
    "\\end{center}\n",
    "\n",
    "## Find\n",
    "a. If a stress is applied normal to the crack plane like that in the second figure, what maximum stress is required to cause fracture if $a=8\\ mm$ and $K_c=105\\ MPa\\sqrt{m}$?\n",
    "b. If the thickness were doubled, what maximum stress would cause fracture?\n",
    "c. Comment on the conditions required for fracture at each thickness and whether LEFM is valid for each case.\n",
    "\n",
    "## Solution\n",
    "The plane stress or plane stress condition can be deduced from the following relationships:\n",
    "\n",
    "$$a\\ge2.5\\left(\\frac{K_{IC}}{S_y}\\right)^2$$\n",
    "$$t\\ge2.5\\left(\\frac{K_{IC}}{S_y}\\right)^2$$\n",
    "\n",
    "where if true, the condition is plane strain. If not true, then the condition is either a mixed mode or a plane stress condition."
   ],
   "metadata": {
    "collapsed": false
   }
  },
  {
   "cell_type": "code",
   "execution_count": 2,
   "outputs": [
    {
     "data": {
      "text/plain": "(False, False)"
     },
     "execution_count": 2,
     "metadata": {},
     "output_type": "execute_result"
    }
   ],
   "source": [
    "K_IC = 85  # MPa sqrt(m)\n",
    "S_y = 815  # MPa\n",
    "a = 8  # mm\n",
    "t = 25  # mm\n",
    "\n",
    "# Apply conditions\n",
    "expr = 2.5*(K_IC/S_y)**2\n",
    "a >= expr*1000, t >= expr*1000"
   ],
   "metadata": {
    "collapsed": false,
    "ExecuteTime": {
     "start_time": "2023-04-11T11:48:54.302712Z",
     "end_time": "2023-04-11T11:48:54.314613Z"
    }
   }
  },
  {
   "cell_type": "markdown",
   "source": [
    "Therefore, the condition can be considered to be **plane stress**.\n",
    "\n",
    "### Part A\n",
    "The relationship for a semi-elliptical surface crack is\n",
    "\n",
    "$$K=\\frac{1.12 S \\sqrt{\\pi a}}{\\Phi} \\sqrt{\\sec (\\pi a / 2 t)}$$"
   ],
   "metadata": {
    "collapsed": false
   }
  },
  {
   "cell_type": "code",
   "execution_count": 3,
   "outputs": [
    {
     "data": {
      "text/plain": "869.6722102981946"
     },
     "execution_count": 3,
     "metadata": {},
     "output_type": "execute_result"
    }
   ],
   "source": [
    "K_c = 105\n",
    "S_t = lambda t_: K_c*1.571/(1.12*np.sqrt(np.pi*a/1000))*np.sqrt(np.cos(np.pi*a/(2*t_)))\n",
    "S_t(25)  # MPa"
   ],
   "metadata": {
    "collapsed": false,
    "ExecuteTime": {
     "start_time": "2023-04-11T19:11:18.172548Z",
     "end_time": "2023-04-11T19:11:18.178746Z"
    }
   }
  },
  {
   "cell_type": "markdown",
   "source": [
    "### Part B"
   ],
   "metadata": {
    "collapsed": false
   }
  },
  {
   "cell_type": "code",
   "execution_count": 4,
   "outputs": [
    {
     "data": {
      "text/plain": "914.3153034270322"
     },
     "execution_count": 4,
     "metadata": {},
     "output_type": "execute_result"
    }
   ],
   "source": [
    "S_t(50)  # MPa"
   ],
   "metadata": {
    "collapsed": false,
    "ExecuteTime": {
     "start_time": "2023-04-11T19:13:33.477185Z",
     "end_time": "2023-04-11T19:13:33.515759Z"
    }
   }
  },
  {
   "cell_type": "markdown",
   "source": [
    "### Part C\n",
    "The LEFM method can be tested by finding the plastic zone size."
   ],
   "metadata": {
    "collapsed": false
   }
  },
  {
   "cell_type": "code",
   "execution_count": 5,
   "outputs": [
    {
     "data": {
      "text/plain": "2.6417000979911123"
     },
     "execution_count": 5,
     "metadata": {},
     "output_type": "execute_result"
    }
   ],
   "source": [
    "# For plane stress\n",
    "r_y = 1/(2*np.pi)*(K_c/S_y)**2*1000\n",
    "r_y  # mm"
   ],
   "metadata": {
    "collapsed": false,
    "ExecuteTime": {
     "start_time": "2023-04-11T19:27:22.792497Z",
     "end_time": "2023-04-11T19:27:22.802121Z"
    }
   }
  },
  {
   "cell_type": "code",
   "execution_count": 6,
   "outputs": [
    {
     "data": {
      "text/plain": "False"
     },
     "execution_count": 6,
     "metadata": {},
     "output_type": "execute_result"
    }
   ],
   "source": [
    "# Monotonic test\n",
    "r_y <= (1/8)*a"
   ],
   "metadata": {
    "collapsed": false,
    "ExecuteTime": {
     "start_time": "2023-04-11T19:28:04.777088Z",
     "end_time": "2023-04-11T19:28:04.808256Z"
    }
   }
  },
  {
   "cell_type": "code",
   "execution_count": 7,
   "outputs": [
    {
     "data": {
      "text/plain": "True"
     },
     "execution_count": 7,
     "metadata": {},
     "output_type": "execute_result"
    }
   ],
   "source": [
    "r_y <= (1/8)*t"
   ],
   "metadata": {
    "collapsed": false,
    "ExecuteTime": {
     "start_time": "2023-04-11T19:28:21.597933Z",
     "end_time": "2023-04-11T19:28:21.637732Z"
    }
   }
  },
  {
   "cell_type": "code",
   "execution_count": 8,
   "outputs": [
    {
     "data": {
      "text/plain": "False"
     },
     "execution_count": 8,
     "metadata": {},
     "output_type": "execute_result"
    }
   ],
   "source": [
    "# For cyclic loading\n",
    "r_y <= a/4"
   ],
   "metadata": {
    "collapsed": false,
    "ExecuteTime": {
     "start_time": "2023-04-11T19:29:48.800019Z",
     "end_time": "2023-04-11T19:29:48.859722Z"
    }
   }
  },
  {
   "cell_type": "markdown",
   "source": [
    "**The LEFM method is not a good approximation.** This is because the plastic zone size ($r_y$) is not significantly less than the crack length ($a$), and the calculated stress values exceed the yield strength of $815\\ MPa$."
   ],
   "metadata": {
    "collapsed": false
   }
  }
 ],
 "metadata": {
  "kernelspec": {
   "display_name": "Python 3",
   "language": "python",
   "name": "python3"
  },
  "language_info": {
   "codemirror_mode": {
    "name": "ipython",
    "version": 2
   },
   "file_extension": ".py",
   "mimetype": "text/x-python",
   "name": "python",
   "nbconvert_exporter": "python",
   "pygments_lexer": "ipython2",
   "version": "2.7.6"
  }
 },
 "nbformat": 4,
 "nbformat_minor": 0
}
