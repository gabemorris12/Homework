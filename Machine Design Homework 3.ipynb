{
 "cells": [
  {
   "cell_type": "markdown",
   "source": [
    "\\begin{center}\n",
    "Gabe Morris\n",
    "\\end{center}"
   ],
   "metadata": {
    "collapsed": false,
    "pycharm": {
     "name": "#%% md\n"
    }
   }
  },
  {
   "cell_type": "code",
   "execution_count": 1,
   "outputs": [],
   "source": [
    "# Notebook Preamble\n",
    "import sympy as sp\n",
    "import matplotlib.pyplot as plt\n",
    "from IPython.display import display\n",
    "\n",
    "plt.style.use('maroon_ipynb.mplstyle')"
   ],
   "metadata": {
    "collapsed": false,
    "pycharm": {
     "name": "#%%\n"
    }
   }
  },
  {
   "cell_type": "markdown",
   "source": [
    "\\pagebreak\n",
    "\\tableofcontents\n",
    "\\pagebreak"
   ],
   "metadata": {
    "collapsed": false,
    "pycharm": {
     "name": "#%% md\n"
    }
   }
  },
  {
   "cell_type": "markdown",
   "source": [
    "\\begin{center}\n",
    "\\begin{tabular}{c c c}\n",
    "ME 4403 & Homework 3 & Gabe Morris \\\\\n",
    "& & gnm54\n",
    "\\end{tabular}\n",
    "\\end{center}\n",
    "\n",
    "# Problem 5-3\n",
    "## Given\n",
    "A ductile AISI 1030 hot-rolled steel bar has a minimum yield strength in tension and compression of $37.5\\ ksi$.\n",
    "\n",
    "## Find\n",
    "Use the distortion energy and maximum shear stress theories to determine the factors of safety for the following plane stress states:\n",
    "\n",
    "a. $\\sigma_x=25\\ ksi$, $\\sigma_y=15\\ ksi$\n",
    "d. $\\sigma_x=-12\\ ksi$, $\\sigma_y=15\\ ksi$, $\\tau_{xy}=-9\\ ksi$\n",
    "e. $\\sigma_x=-24\\ ksi$, $\\sigma_y=-24\\ ksi$, $\\tau_{xy}=-15\\ ksi$\n",
    "\n",
    "## Solution\n",
    "The relationship comes from Eq. 5-3 (maximum shear stress theory) and Eq. 5-19 (distortion energy theory),\n",
    "\n",
    "$$\\sigma_1-\\sigma_3=\\frac{S_y}{n}$$\n",
    "$$\\sigma^\\prime=\\frac{S_y}{n}$$\n",
    "\n",
    "### Part A"
   ],
   "metadata": {
    "collapsed": false,
    "pycharm": {
     "name": "#%% md\n"
    }
   }
  },
  {
   "cell_type": "code",
   "execution_count": 2,
   "outputs": [
    {
     "data": {
      "text/plain": "Eq(\\sigma**3 - \\sigma**2*(\\sigma_x + \\sigma_y + \\sigma_z) + \\sigma*(\\sigma_x*\\sigma_y + \\sigma_x*\\sigma_z + \\sigma_y*\\sigma_z - \\tau_{xy}**2 - \\tau_{yz}**2 - \\tau_{zx}**2) - \\sigma_x*\\sigma_y*\\sigma_z + \\sigma_x*\\tau_{yz}**2 + \\sigma_y*\\tau_{zx}**2 + \\sigma_z*\\tau_{xy}**2 - 2*\\tau_{xy}*\\tau_{yz}*\\tau_{zx}, 0)",
      "text/latex": "$\\displaystyle \\sigma^{3} - \\sigma^{2} \\left(\\sigma_{x} + \\sigma_{y} + \\sigma_{z}\\right) + \\sigma \\left(\\sigma_{x} \\sigma_{y} + \\sigma_{x} \\sigma_{z} + \\sigma_{y} \\sigma_{z} - \\tau_{xy}^{2} - \\tau_{yz}^{2} - \\tau_{zx}^{2}\\right) - \\sigma_{x} \\sigma_{y} \\sigma_{z} + \\sigma_{x} \\tau_{yz}^{2} + \\sigma_{y} \\tau_{zx}^{2} + \\sigma_{z} \\tau_{xy}^{2} - 2 \\tau_{xy} \\tau_{yz} \\tau_{zx} = 0$"
     },
     "metadata": {},
     "output_type": "display_data"
    },
    {
     "data": {
      "text/plain": "Eq(\\sigma_1, 25.0)",
      "text/latex": "$\\displaystyle \\sigma_{1} = 25.0$"
     },
     "metadata": {},
     "output_type": "display_data"
    },
    {
     "data": {
      "text/plain": "Eq(\\sigma_2, 15.0)",
      "text/latex": "$\\displaystyle \\sigma_{2} = 15.0$"
     },
     "metadata": {},
     "output_type": "display_data"
    },
    {
     "data": {
      "text/plain": "Eq(\\sigma_3, 0)",
      "text/latex": "$\\displaystyle \\sigma_{3} = 0$"
     },
     "metadata": {},
     "output_type": "display_data"
    }
   ],
   "source": [
    "Sy = sp.S('37.5')\n",
    "\n",
    "# Getting the principal stresses\n",
    "sig_x, sig_y, sig_z, tau_xy, tau_zx, tau_yz = sp.symbols(r'\\sigma_x \\sigma_y \\sigma_z \\tau_{xy} \\tau_{zx} \\tau_{yz}')\n",
    "sig = sp.Symbol(r'\\sigma')\n",
    "sig1, sig2, sig3 = sp.symbols(r'\\sigma_1 \\sigma_2 \\sigma_3')\n",
    "\n",
    "poly = sig**3 - (sig_x + sig_y + sig_z)*sig**2 + (sig_x*sig_y + sig_x*sig_z + sig_y*sig_z - tau_xy**2 - tau_yz**2 - tau_zx**2)*sig - (sig_x*sig_y*sig_z + 2*tau_xy*tau_yz*tau_zx - sig_x*tau_yz**2 - sig_y*tau_zx**2 - sig_z*tau_xy**2)\n",
    "display(sp.Eq(poly.simplify(), 0))\n",
    "\n",
    "def get_principal(sx, sy, sz, txy, tyz, tzx):\n",
    "    poly_ = poly.subs([(sig_x, sx), (sig_y, sy), (sig_z, sz), (tau_xy, txy), (tau_yz, tyz), (tau_zx, tzx)])\n",
    "    roots = [sp.re(root.n()) for root in sp.roots(poly_, sig)]\n",
    "    roots_ = sorted(list(roots), reverse=True)\n",
    "    for i, j in zip((sig1, sig2, sig3), roots_):\n",
    "        display(sp.Eq(i, j))\n",
    "    return roots_\n",
    "\n",
    "def von_mises(s1_, s2_, s3_):\n",
    "    return (1/sp.sqrt(2)*sp.sqrt((s1_ - s2_)**2 + (s2_ - s3_)**2 + (s3_ - s1_)**2)).n()\n",
    "\n",
    "s1, s2, s3 = get_principal(25, 15, 0, 0, 0, 0)"
   ],
   "metadata": {
    "collapsed": false,
    "pycharm": {
     "name": "#%%\n"
    }
   }
  },
  {
   "cell_type": "code",
   "execution_count": 3,
   "outputs": [
    {
     "data": {
      "text/plain": "1.50000000000000",
      "text/latex": "$\\displaystyle 1.5$"
     },
     "execution_count": 3,
     "metadata": {},
     "output_type": "execute_result"
    }
   ],
   "source": [
    "# Maximum shear stress theory\n",
    "Sy/(s1 - s3)"
   ],
   "metadata": {
    "collapsed": false,
    "pycharm": {
     "name": "#%%\n"
    }
   }
  },
  {
   "cell_type": "code",
   "execution_count": 4,
   "outputs": [
    {
     "data": {
      "text/plain": "1.72061800402921",
      "text/latex": "$\\displaystyle 1.72061800402921$"
     },
     "execution_count": 4,
     "metadata": {},
     "output_type": "execute_result"
    }
   ],
   "source": [
    "# Distortion energy method\n",
    "s_vm = von_mises(s1, s2, s3)\n",
    "Sy/s_vm"
   ],
   "metadata": {
    "collapsed": false,
    "pycharm": {
     "name": "#%%\n"
    }
   }
  },
  {
   "cell_type": "markdown",
   "source": [
    "### Part D"
   ],
   "metadata": {
    "collapsed": false,
    "pycharm": {
     "name": "#%% md\n"
    }
   }
  },
  {
   "cell_type": "code",
   "execution_count": 5,
   "outputs": [
    {
     "data": {
      "text/plain": "Eq(\\sigma_1, 17.724980739588)",
      "text/latex": "$\\displaystyle \\sigma_{1} = 17.724980739588$"
     },
     "metadata": {},
     "output_type": "display_data"
    },
    {
     "data": {
      "text/plain": "Eq(\\sigma_2, 0)",
      "text/latex": "$\\displaystyle \\sigma_{2} = 0$"
     },
     "metadata": {},
     "output_type": "display_data"
    },
    {
     "data": {
      "text/plain": "Eq(\\sigma_3, -14.724980739588)",
      "text/latex": "$\\displaystyle \\sigma_{3} = -14.724980739588$"
     },
     "metadata": {},
     "output_type": "display_data"
    },
    {
     "data": {
      "text/plain": "1.15562540880256",
      "text/latex": "$\\displaystyle 1.15562540880256$"
     },
     "execution_count": 5,
     "metadata": {},
     "output_type": "execute_result"
    }
   ],
   "source": [
    "s1, s2, s3 = get_principal(-12, 15, 0, -9, 0, 0)\n",
    "\n",
    "# Maximum shear stress\n",
    "Sy/(s1 - s3)"
   ],
   "metadata": {
    "collapsed": false,
    "pycharm": {
     "name": "#%%\n"
    }
   }
  },
  {
   "cell_type": "code",
   "execution_count": 6,
   "outputs": [
    {
     "data": {
      "text/plain": "1.33250447722257",
      "text/latex": "$\\displaystyle 1.33250447722257$"
     },
     "execution_count": 6,
     "metadata": {},
     "output_type": "execute_result"
    }
   ],
   "source": [
    "# Distortion\n",
    "s_vm = von_mises(s1, s2, s3)\n",
    "Sy/s_vm"
   ],
   "metadata": {
    "collapsed": false,
    "pycharm": {
     "name": "#%%\n"
    }
   }
  },
  {
   "cell_type": "markdown",
   "source": [
    "### Part E"
   ],
   "metadata": {
    "collapsed": false,
    "pycharm": {
     "name": "#%% md\n"
    }
   }
  },
  {
   "cell_type": "code",
   "execution_count": 7,
   "outputs": [
    {
     "data": {
      "text/plain": "Eq(\\sigma_1, 0)",
      "text/latex": "$\\displaystyle \\sigma_{1} = 0$"
     },
     "metadata": {},
     "output_type": "display_data"
    },
    {
     "data": {
      "text/plain": "Eq(\\sigma_2, -9.0)",
      "text/latex": "$\\displaystyle \\sigma_{2} = -9.0$"
     },
     "metadata": {},
     "output_type": "display_data"
    },
    {
     "data": {
      "text/plain": "Eq(\\sigma_3, -39.0)",
      "text/latex": "$\\displaystyle \\sigma_{3} = -39.0$"
     },
     "metadata": {},
     "output_type": "display_data"
    },
    {
     "data": {
      "text/plain": "0.961538461538462",
      "text/latex": "$\\displaystyle 0.961538461538462$"
     },
     "execution_count": 7,
     "metadata": {},
     "output_type": "execute_result"
    }
   ],
   "source": [
    "s1, s2, s3 = get_principal(-24, -24, 0, -15, 0, 0)\n",
    "\n",
    "# Maximum shear stress\n",
    "Sy/(s1 - s3)"
   ],
   "metadata": {
    "collapsed": false,
    "pycharm": {
     "name": "#%%\n"
    }
   }
  },
  {
   "cell_type": "code",
   "execution_count": 8,
   "outputs": [
    {
     "data": {
      "text/plain": "1.06023616209996",
      "text/latex": "$\\displaystyle 1.06023616209996$"
     },
     "execution_count": 8,
     "metadata": {},
     "output_type": "execute_result"
    }
   ],
   "source": [
    "# Distortion\n",
    "s_vm = von_mises(s1, s2, s3)\n",
    "Sy/s_vm"
   ],
   "metadata": {
    "collapsed": false,
    "pycharm": {
     "name": "#%%\n"
    }
   }
  },
  {
   "cell_type": "markdown",
   "source": [
    "\\pagebreak\n",
    "\n",
    "\\begin{center}\n",
    "\\begin{tabular}{ccc}\n",
    "ME 4403 & Homework 3 & Gabe Morris \\\\\n",
    "& & gnm54\n",
    "\\end{tabular}\n",
    "\\end{center}\n",
    "\n",
    "# Problem 5-17\n",
    "## Given\n",
    "An AISI 4142 steel Q&T at $800^\\circ F$ exhibits $S_{yt}=235\\ ksi$, $S_{yc}=285\\ ksi$, and $\\epsilon_f=0.07$.\n",
    "\n",
    "$\\sigma_x=−80\\ ksi$, $\\sigma_y=−125\\ ksi$, $\\tau_{xy}=50\\ ksi$\n",
    "\n",
    "## Find\n",
    "Determine the factor of safety.\n",
    "\n",
    "## Solution\n",
    "The strain at failure is above 0.05, which means that the material is considered ductile. We can apply Eq. 5-22,\n",
    "\n",
    "$$\\frac{\\sigma_1}{S_t}-\\frac{\\sigma_3}{S_c}=\\frac{1}{n}$$"
   ],
   "metadata": {
    "collapsed": false,
    "pycharm": {
     "name": "#%% md\n"
    }
   }
  },
  {
   "cell_type": "code",
   "execution_count": 9,
   "outputs": [
    {
     "data": {
      "text/plain": "Eq(\\sigma_1, 0)",
      "text/latex": "$\\displaystyle \\sigma_{1} = 0$"
     },
     "metadata": {},
     "output_type": "display_data"
    },
    {
     "data": {
      "text/plain": "Eq(\\sigma_2, -47.6707195013467)",
      "text/latex": "$\\displaystyle \\sigma_{2} = -47.6707195013467$"
     },
     "metadata": {},
     "output_type": "display_data"
    },
    {
     "data": {
      "text/plain": "Eq(\\sigma_3, -157.329280498653)",
      "text/latex": "$\\displaystyle \\sigma_{3} = -157.329280498653$"
     },
     "metadata": {},
     "output_type": "display_data"
    },
    {
     "data": {
      "text/plain": "1.81148734105118",
      "text/latex": "$\\displaystyle 1.81148734105118$"
     },
     "execution_count": 9,
     "metadata": {},
     "output_type": "execute_result"
    }
   ],
   "source": [
    "St, Sc = sp.S(235), sp.S(285)\n",
    "s1, _, s3 = get_principal(-80, -125, 0, 50, 0, 0)\n",
    "1/(s1/St - s3/Sc)"
   ],
   "metadata": {
    "collapsed": false,
    "pycharm": {
     "name": "#%%\n"
    }
   }
  },
  {
   "cell_type": "markdown",
   "source": [
    "This answer lines up with the answer in tha back of the book.\n",
    "\n",
    "\\pagebreak\n",
    "\n",
    "\\begin{center}\n",
    "\\begin{tabular}{ccc}\n",
    "ME 4403 & Homework 3 & Gabe Morris \\\\\n",
    "& & gnm54\n",
    "\\end{tabular}\n",
    "\\end{center}\n",
    "\n",
    "# Problem 5-19\n",
    "## Given\n",
    "A brittle material has properties $S_{ut}=30\\ ksi$ and $S_{uc}=90\\ ksi$.\n",
    "\n",
    "$\\sigma_x=20\\ ksi$, $\\tau_{xy}=-10\\ ksi$\n",
    "\n",
    "## Find\n",
    "Using only the modified-Mohr theories, determine the factor of safety.\n",
    "\n",
    "## Solution\n",
    "Start by computing the principal stresses."
   ],
   "metadata": {
    "collapsed": false,
    "pycharm": {
     "name": "#%% md\n"
    }
   }
  },
  {
   "cell_type": "code",
   "execution_count": 10,
   "outputs": [
    {
     "data": {
      "text/plain": "Eq(\\sigma_1, 24.142135623731)",
      "text/latex": "$\\displaystyle \\sigma_{1} = 24.142135623731$"
     },
     "metadata": {},
     "output_type": "display_data"
    },
    {
     "data": {
      "text/plain": "Eq(\\sigma_2, 0)",
      "text/latex": "$\\displaystyle \\sigma_{2} = 0$"
     },
     "metadata": {},
     "output_type": "display_data"
    },
    {
     "data": {
      "text/plain": "Eq(\\sigma_3, -4.14213562373095)",
      "text/latex": "$\\displaystyle \\sigma_{3} = -4.14213562373095$"
     },
     "metadata": {},
     "output_type": "display_data"
    }
   ],
   "source": [
    "Sut = 30\n",
    "s1, _, _ = get_principal(20, 0, 0, -10, 0, 0)"
   ],
   "metadata": {
    "collapsed": false,
    "pycharm": {
     "name": "#%%\n"
    }
   }
  },
  {
   "cell_type": "markdown",
   "source": [
    "For this case, we can use Eq. 5-32a on p. 264,\n",
    "\n",
    "$$\\sigma_1=\\frac{S_{ut}}{n}$$"
   ],
   "metadata": {
    "collapsed": false,
    "pycharm": {
     "name": "#%% md\n"
    }
   }
  },
  {
   "cell_type": "code",
   "execution_count": 11,
   "outputs": [
    {
     "data": {
      "text/plain": "1.24264068711929",
      "text/latex": "$\\displaystyle 1.24264068711929$"
     },
     "execution_count": 11,
     "metadata": {},
     "output_type": "execute_result"
    }
   ],
   "source": [
    "Sut/s1"
   ],
   "metadata": {
    "collapsed": false,
    "pycharm": {
     "name": "#%%\n"
    }
   }
  },
  {
   "cell_type": "markdown",
   "source": [
    "\\pagebreak\n",
    "\n",
    "\\begin{center}\n",
    "\\begin{tabular}{ccc}\n",
    "ME 4403 & Homework 3 & Gabe Morris \\\\\n",
    "& & gnm54\n",
    "\\end{tabular}\n",
    "\\end{center}\n",
    "\n",
    "# Problem 5-24\n",
    "## Given\n",
    "ASTM 30 cast iron.\n",
    "\n",
    "$\\sigma_x=-10\\ ksi$, $\\sigma_y=-25\\ ksi$, and $\\tau_{xy}=-10\\ ksi$\n",
    "\n",
    "## Find\n",
    "Determine the factor of safety using the modified-Mohr method."
   ],
   "metadata": {
    "collapsed": false,
    "pycharm": {
     "name": "#%% md\n"
    }
   }
  },
  {
   "cell_type": "code",
   "execution_count": 12,
   "outputs": [
    {
     "data": {
      "text/plain": "Eq(\\sigma_1, 0)",
      "text/latex": "$\\displaystyle \\sigma_{1} = 0$"
     },
     "metadata": {},
     "output_type": "display_data"
    },
    {
     "data": {
      "text/plain": "Eq(\\sigma_2, -5.0)",
      "text/latex": "$\\displaystyle \\sigma_{2} = -5.0$"
     },
     "metadata": {},
     "output_type": "display_data"
    },
    {
     "data": {
      "text/plain": "Eq(\\sigma_3, -30.0)",
      "text/latex": "$\\displaystyle \\sigma_{3} = -30.0$"
     },
     "metadata": {},
     "output_type": "display_data"
    }
   ],
   "source": [
    "s1, s2, s3 = get_principal(-10, -25, 0, -10, 0, 0)"
   ],
   "metadata": {
    "collapsed": false,
    "pycharm": {
     "name": "#%%\n"
    }
   }
  },
  {
   "cell_type": "markdown",
   "source": [
    "Use Eq. 5-32c,\n",
    "\n",
    "$$n=\\frac{-S_{uc}}{\\sigma_3}$$"
   ],
   "metadata": {
    "collapsed": false,
    "pycharm": {
     "name": "#%% md\n"
    }
   }
  },
  {
   "cell_type": "code",
   "execution_count": 13,
   "outputs": [
    {
     "data": {
      "text/plain": "3.63333333333333",
      "text/latex": "$\\displaystyle 3.63333333333333$"
     },
     "execution_count": 13,
     "metadata": {},
     "output_type": "execute_result"
    }
   ],
   "source": [
    "Suc = 109  # Table A-24\n",
    "-Suc/s3"
   ],
   "metadata": {
    "collapsed": false,
    "pycharm": {
     "name": "#%%\n"
    }
   }
  },
  {
   "cell_type": "markdown",
   "source": [
    "\\pagebreak\n",
    "\n",
    "\\begin{center}\n",
    "\\begin{tabular}{ccc}\n",
    "ME 4403 & Homework 3 & Gabe Morris \\\\\n",
    "& & gnm54\n",
    "\\end{tabular}\n",
    "\\end{center}\n",
    "\n",
    "# Problem 5-98\n",
    "## Given\n",
    "A cylinder subjected to internal pressure $p_i$ has an outer diameter of 14 in and a 1-in wall thickness. For the cylinder material, $K_{IC}=72\\ ksi\\sqrt{in}$, $S_y = 170\\ ksi$, and $S_{ut} = 192\\ ksi$.\n",
    "\n",
    "## Find\n",
    "If the cylinder contains a radial crack in the longitudinal direction of depth 0.5 in determine the pressure that will cause uncontrollable crack growth.\n",
    "\n",
    "## Solution\n",
    "We use the following relationship,\n",
    "\n",
    "$$K_I=\\beta\\sigma\\sqrt{\\pi a}$$\n",
    "\n",
    "$\\beta$ may be found from,\n",
    "\n",
    "\\begin{center}\n",
    "\\includegraphics{images/fig1}\n",
    "\\end{center}"
   ],
   "metadata": {
    "collapsed": false,
    "pycharm": {
     "name": "#%% md\n"
    }
   }
  },
  {
   "cell_type": "code",
   "execution_count": 14,
   "outputs": [
    {
     "data": {
      "text/plain": "0.500000000000000",
      "text/latex": "$\\displaystyle 0.5$"
     },
     "execution_count": 14,
     "metadata": {},
     "output_type": "execute_result"
    }
   ],
   "source": [
    "a = sp.S('0.5')\n",
    "ro, ri = sp.S(7), 6\n",
    "a/(ro - ri)"
   ],
   "metadata": {
    "collapsed": false,
    "pycharm": {
     "name": "#%%\n"
    }
   }
  },
  {
   "cell_type": "markdown",
   "source": [
    "The correct line to use depends on $\\frac{r_i}{r_o}$."
   ],
   "metadata": {
    "collapsed": false,
    "pycharm": {
     "name": "#%% md\n"
    }
   }
  },
  {
   "cell_type": "code",
   "execution_count": 15,
   "outputs": [
    {
     "data": {
      "text/plain": "0.857142857142857",
      "text/latex": "$\\displaystyle 0.857142857142857$"
     },
     "execution_count": 15,
     "metadata": {},
     "output_type": "execute_result"
    }
   ],
   "source": [
    "ri/ro.n()"
   ],
   "metadata": {
    "collapsed": false,
    "pycharm": {
     "name": "#%%\n"
    }
   }
  },
  {
   "cell_type": "code",
   "execution_count": 16,
   "outputs": [
    {
     "data": {
      "text/plain": "24.4458248416197",
      "text/latex": "$\\displaystyle 24.4458248416197$"
     },
     "execution_count": 16,
     "metadata": {},
     "output_type": "execute_result"
    }
   ],
   "source": [
    "beta = sp.S(2.35) # from the above figure\n",
    "K_IC = 72\n",
    "sig = K_IC/(beta*sp.sqrt(sp.pi*a))\n",
    "sig.n()  # ksi"
   ],
   "metadata": {
    "collapsed": false,
    "pycharm": {
     "name": "#%%\n"
    }
   }
  }
 ],
 "metadata": {
  "kernelspec": {
   "display_name": "Python 3",
   "language": "python",
   "name": "python3"
  },
  "language_info": {
   "codemirror_mode": {
    "name": "ipython",
    "version": 2
   },
   "file_extension": ".py",
   "mimetype": "text/x-python",
   "name": "python",
   "nbconvert_exporter": "python",
   "pygments_lexer": "ipython2",
   "version": "2.7.6"
  }
 },
 "nbformat": 4,
 "nbformat_minor": 0
}