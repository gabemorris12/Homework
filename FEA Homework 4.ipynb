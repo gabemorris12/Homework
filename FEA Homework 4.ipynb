{
 "cells": [
  {
   "cell_type": "markdown",
   "source": [
    "\\begin{center}\n",
    "Gabe Morris\n",
    "\\end{center}"
   ],
   "metadata": {
    "collapsed": false,
    "pycharm": {
     "name": "#%% md\n"
    }
   }
  },
  {
   "cell_type": "code",
   "execution_count": 1,
   "metadata": {
    "collapsed": true,
    "pycharm": {
     "name": "#%%\n"
    }
   },
   "outputs": [],
   "source": [
    "# Notebook Preamble\n",
    "import sympy as sp\n",
    "import numpy as np\n",
    "from IPython.core.interactiveshell import InteractiveShell\n",
    "import matplotlib.pyplot as plt\n",
    "\n",
    "InteractiveShell.ast_node_interactivity = 'all'\n",
    "plt.style.use('maroon_ipynb.mplstyle')"
   ]
  },
  {
   "cell_type": "markdown",
   "source": [
    "\\pagebreak\n",
    "\\tableofcontents\n",
    "\\pagebreak"
   ],
   "metadata": {
    "collapsed": false,
    "pycharm": {
     "name": "#%% md\n"
    }
   }
  },
  {
   "cell_type": "markdown",
   "source": [
    "\\begin{center}\n",
    "\\begin{tabular}{c c c}\n",
    "ME 6233 & Homework 4 & Gabe Morris \\\\\n",
    "& & gnm54\n",
    "\\end{tabular}\n",
    "\\end{center}\n",
    "\n",
    "# Problem 1\n",
    "## Given\n",
    "\n",
    "\\begin{center}\n",
    "\\includegraphics{images/fig1}\n",
    "\\end{center}\n",
    "\n",
    "For a rectangular element, the displacements at four nodes are given by\n",
    "\n",
    "$$u_1=0$$\n",
    "$$v_1=0$$\n",
    "$$u_2=-0.5$$\n",
    "$$v_2=-0.5$$\n",
    "$$u_3=0.75$$\n",
    "$$v_3=1.25$$\n",
    "$$u_4=0.5$$\n",
    "$$v_4=1$$\n",
    "\n",
    "## Find\n",
    "a. Calculate the displacement $(u,v)$ at point $(x,y)=(0.7,1.3)$.\n",
    "b. Calculate the strain $\\epsilon_{xx}$ at point $(x,y)=(0.7,1.3)$\n",
    "\n",
    "## Solution\n",
    "From Fig. 3.4-1 in the text, $a=1.5$ and $b=1$. These are the center to edge dimensions of the rectangle and are used in the shape functions/strain displacement matrix.\n",
    "\n",
    "The analysis of the bilinear quadrilateral depends on the origin being at the center of the rectangle. Therefore, the point $(0.7,1.3)$ relative to the origin at the center is $(0.7,1.3)-(a,b)=(-0.8,0.3)$.\n",
    "\n",
    "### Part A\n",
    "The displacements $u,v$ can be defined as the dot product between the shape function and the displacement vectors\n",
    "\n",
    "$$u(x,y)=\\vec{N}\\cdot\\vec{u}$$\n",
    "$$v(x,y)=\\vec{N}\\cdot\\vec{v}$$\n",
    "\n",
    "where the shape function in the vector form is,\n",
    "\n",
    "$$N=\\begin{bmatrix}\n",
    "\\frac{(a - x) (b - y)}{4 a b} \\\\\n",
    "\\frac{(a + x) (b - y)}{4 a b} \\\\\n",
    "\\frac{(a + x) (b + y)}{4 a b} \\\\\n",
    "\\frac{(a - x) (b + y)}{4 a b}\n",
    "\\end{bmatrix}$$\n",
    "\n",
    "and $\\vec{u}$ and $\\vec{v}$ are $\\langle u_1,u_2,u_3,u_4\\rangle$ and $\\langle v_1,v_2,v_3,v_4\\rangle$."
   ],
   "metadata": {
    "collapsed": false,
    "pycharm": {
     "name": "#%% md\n"
    }
   }
  },
  {
   "cell_type": "code",
   "execution_count": 2,
   "outputs": [
    {
     "data": {
      "text/plain": "Eq(DotProduct(Matrix([\n[(a - x)*(b - y)/(4*a*b)],\n[(a + x)*(b - y)/(4*a*b)],\n[(a + x)*(b + y)/(4*a*b)],\n[(a - x)*(b + y)/(4*a*b)]]), Matrix([\n[   0],\n[-0.5],\n[0.75],\n[ 0.5]])), 0.322083333333333)",
      "text/latex": "$\\displaystyle DotProduct\\left(\\left[\\begin{matrix}\\frac{\\left(a - x\\right) \\left(b - y\\right)}{4 a b}\\\\\\frac{\\left(a + x\\right) \\left(b - y\\right)}{4 a b}\\\\\\frac{\\left(a + x\\right) \\left(b + y\\right)}{4 a b}\\\\\\frac{\\left(a - x\\right) \\left(b + y\\right)}{4 a b}\\end{matrix}\\right], \\left[\\begin{matrix}0\\\\-0.5\\\\0.75\\\\0.5\\end{matrix}\\right]\\right) = 0.322083333333333$"
     },
     "execution_count": 2,
     "metadata": {},
     "output_type": "execute_result"
    },
    {
     "data": {
      "text/plain": "Eq(DotProduct(Matrix([\n[(a - x)*(b - y)/(4*a*b)],\n[(a + x)*(b - y)/(4*a*b)],\n[(a + x)*(b + y)/(4*a*b)],\n[(a - x)*(b + y)/(4*a*b)]]), Matrix([\n[   0],\n[-0.5],\n[1.25],\n[   1]])), 0.647083333333333)",
      "text/latex": "$\\displaystyle DotProduct\\left(\\left[\\begin{matrix}\\frac{\\left(a - x\\right) \\left(b - y\\right)}{4 a b}\\\\\\frac{\\left(a + x\\right) \\left(b - y\\right)}{4 a b}\\\\\\frac{\\left(a + x\\right) \\left(b + y\\right)}{4 a b}\\\\\\frac{\\left(a - x\\right) \\left(b + y\\right)}{4 a b}\\end{matrix}\\right], \\left[\\begin{matrix}0\\\\-0.5\\\\1.25\\\\1\\end{matrix}\\right]\\right) = 0.647083333333333$"
     },
     "execution_count": 2,
     "metadata": {},
     "output_type": "execute_result"
    }
   ],
   "source": [
    "# Define known parameters\n",
    "# The underscore denotes a numerical value, while no underscore denotes a symbol.\n",
    "a_, b_ = 1.5, 1\n",
    "x_, y_ = -0.8, 0.3\n",
    "u_, v_ = [0, -0.5, 0.75, 0.5], [0, -0.5, 1.25, 1]\n",
    "d_ = np.array(list(zip(u_, v_))).flatten()\n",
    "\n",
    "# Define symbols\n",
    "a, b, x, y = sp.symbols('a b x y')\n",
    "u_vec, v_vec = sp.Matrix(u_), sp.Matrix(v_)\n",
    "d_vec = sp.Matrix(d_)\n",
    "\n",
    "# Shape function\n",
    "N = 1/(4*a*b)*sp.Matrix([(a - x)*(b - y), (a + x)*(b - y), (a + x)*(b + y), (a - x)*(b + y)])\n",
    "\n",
    "sub = [(a, a_), (b, b_), (x, x_), (y, y_)]\n",
    "N_ = N.subs(sub)\n",
    "\n",
    "u = sp.DotProduct(N, u_vec)\n",
    "v = sp.DotProduct(N, v_vec)\n",
    "sp.Eq(u, N_.dot(u_vec), evaluate=False)\n",
    "sp.Eq(v, N_.dot(v_vec), evaluate=False)"
   ],
   "metadata": {
    "collapsed": false,
    "pycharm": {
     "name": "#%%\n"
    }
   }
  },
  {
   "cell_type": "markdown",
   "source": [
    "Thus, the displacements $u,v$ at $(-0.8,0.3)$ are $u=0.322$ and $v=0.647$.\n",
    "\n",
    "### Part B\n",
    "The strain displacement matrix is"
   ],
   "metadata": {
    "collapsed": false,
    "pycharm": {
     "name": "#%% md\n"
    }
   }
  },
  {
   "cell_type": "code",
   "execution_count": 3,
   "outputs": [
    {
     "data": {
      "text/plain": "Eq(B, Matrix([\n[(-b + y)/(4*a*b),                0,  (b - y)/(4*a*b),                0, (b + y)/(4*a*b),               0, (-b - y)/(4*a*b),                0],\n[               0, (-a + x)/(4*a*b),                0, (-a - x)/(4*a*b),               0, (a + x)/(4*a*b),                0,  (a - x)/(4*a*b)],\n[(-a + x)/(4*a*b), (-b + y)/(4*a*b), (-a - x)/(4*a*b),  (b - y)/(4*a*b), (a + x)/(4*a*b), (b + y)/(4*a*b),  (a - x)/(4*a*b), (-b - y)/(4*a*b)]]))",
      "text/latex": "$\\displaystyle B = \\left[\\begin{matrix}\\frac{- b + y}{4 a b} & 0 & \\frac{b - y}{4 a b} & 0 & \\frac{b + y}{4 a b} & 0 & \\frac{- b - y}{4 a b} & 0\\\\0 & \\frac{- a + x}{4 a b} & 0 & \\frac{- a - x}{4 a b} & 0 & \\frac{a + x}{4 a b} & 0 & \\frac{a - x}{4 a b}\\\\\\frac{- a + x}{4 a b} & \\frac{- b + y}{4 a b} & \\frac{- a - x}{4 a b} & \\frac{b - y}{4 a b} & \\frac{a + x}{4 a b} & \\frac{b + y}{4 a b} & \\frac{a - x}{4 a b} & \\frac{- b - y}{4 a b}\\end{matrix}\\right]$"
     },
     "execution_count": 3,
     "metadata": {},
     "output_type": "execute_result"
    }
   ],
   "source": [
    "# Getting B\n",
    "B = 1/(4*a*b)*sp.Matrix([\n",
    "    [-(b - y), 0, b - y, 0, b + y, 0, -(b + y), 0],\n",
    "    [0, -(a - x), 0, -(a + x), 0, (a + x), 0, (a - x)],\n",
    "    [-(a - x), -(b - y), -(a + x), b - y, a + x, b + y, a - x, -(b + y)]\n",
    "])\n",
    "sp.Eq(sp.Symbol('B'), B, evaluate=False)"
   ],
   "metadata": {
    "collapsed": false,
    "pycharm": {
     "name": "#%%\n"
    }
   }
  },
  {
   "cell_type": "markdown",
   "source": [
    "The strain may be calculated using $\\epsilon=Bd$."
   ],
   "metadata": {
    "collapsed": false,
    "pycharm": {
     "name": "#%% md\n"
    }
   }
  },
  {
   "cell_type": "code",
   "execution_count": 4,
   "outputs": [
    {
     "data": {
      "text/plain": "Eq(Matrix([\n[(-b + y)/(4*a*b),                0,  (b - y)/(4*a*b),                0, (b + y)/(4*a*b),               0, (-b - y)/(4*a*b),                0],\n[               0, (-a + x)/(4*a*b),                0, (-a - x)/(4*a*b),               0, (a + x)/(4*a*b),                0,  (a - x)/(4*a*b)],\n[(-a + x)/(4*a*b), (-b + y)/(4*a*b), (-a - x)/(4*a*b),  (b - y)/(4*a*b), (a + x)/(4*a*b), (b + y)/(4*a*b),  (a - x)/(4*a*b), (-b - y)/(4*a*b)]])*Matrix([\n[   0],\n[   0],\n[-0.5],\n[-0.5],\n[0.75],\n[1.25],\n[ 0.5],\n[ 1.0]]), Matrix([\n[-0.00416666666666666],\n[              0.5875],\n[   0.333333333333333]]))",
      "text/latex": "$\\displaystyle \\left[\\begin{matrix}\\frac{- b + y}{4 a b} & 0 & \\frac{b - y}{4 a b} & 0 & \\frac{b + y}{4 a b} & 0 & \\frac{- b - y}{4 a b} & 0\\\\0 & \\frac{- a + x}{4 a b} & 0 & \\frac{- a - x}{4 a b} & 0 & \\frac{a + x}{4 a b} & 0 & \\frac{a - x}{4 a b}\\\\\\frac{- a + x}{4 a b} & \\frac{- b + y}{4 a b} & \\frac{- a - x}{4 a b} & \\frac{b - y}{4 a b} & \\frac{a + x}{4 a b} & \\frac{b + y}{4 a b} & \\frac{a - x}{4 a b} & \\frac{- b - y}{4 a b}\\end{matrix}\\right] \\left[\\begin{matrix}0\\\\0\\\\-0.5\\\\-0.5\\\\0.75\\\\1.25\\\\0.5\\\\1.0\\end{matrix}\\right] = \\left[\\begin{matrix}-0.00416666666666666\\\\0.5875\\\\0.333333333333333\\end{matrix}\\right]$"
     },
     "execution_count": 4,
     "metadata": {},
     "output_type": "execute_result"
    }
   ],
   "source": [
    "Bd = sp.MatMul(B, d_vec)\n",
    "Bd_doit = Bd.doit().subs(sub)\n",
    "sp.Eq(Bd, Bd_doit, evaluate=False)"
   ],
   "metadata": {
    "collapsed": false,
    "pycharm": {
     "name": "#%%\n"
    }
   }
  },
  {
   "cell_type": "markdown",
   "source": [
    "Thus, $\\epsilon_{xx}=-0.00417$."
   ],
   "metadata": {
    "collapsed": false,
    "pycharm": {
     "name": "#%% md\n"
    }
   }
  }
 ],
 "metadata": {
  "kernelspec": {
   "display_name": "Python 3",
   "language": "python",
   "name": "python3"
  },
  "language_info": {
   "codemirror_mode": {
    "name": "ipython",
    "version": 2
   },
   "file_extension": ".py",
   "mimetype": "text/x-python",
   "name": "python",
   "nbconvert_exporter": "python",
   "pygments_lexer": "ipython2",
   "version": "2.7.6"
  }
 },
 "nbformat": 4,
 "nbformat_minor": 0
}