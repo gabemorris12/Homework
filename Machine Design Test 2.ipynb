{
 "cells": [
  {
   "cell_type": "markdown",
   "metadata": {
    "pycharm": {
     "name": "#%% md\n"
    }
   },
   "source": [
    "\\begin{center}\n",
    "Gabe Morris\n",
    "\\end{center}"
   ]
  },
  {
   "cell_type": "code",
   "execution_count": 1,
   "metadata": {
    "collapsed": true,
    "pycharm": {
     "name": "#%%\n"
    }
   },
   "outputs": [],
   "source": [
    "# Notebook Preamble\n",
    "import sympy as sp\n",
    "import matplotlib.pyplot as plt\n",
    "from IPython.display import display\n",
    "\n",
    "plt.style.use('maroon_ipynb.mplstyle')"
   ]
  },
  {
   "cell_type": "markdown",
   "metadata": {
    "pycharm": {
     "name": "#%% md\n"
    }
   },
   "source": [
    "\\pagebreak\n",
    "\\tableofcontents\n",
    "\\pagebreak"
   ]
  },
  {
   "cell_type": "markdown",
   "metadata": {
    "pycharm": {
     "name": "#%% md\n"
    }
   },
   "source": [
    "\\begin{center}\n",
    "\\begin{tabular}{c c c}\n",
    "ME 4403 & Test 2 & Gabe Morris \\\\\n",
    "& & gnm54\n",
    "\\end{tabular}\n",
    "\\end{center}\n",
    "\n",
    "# Problem 6-4\n",
    "## Given\n",
    "A steel rotating-beam test specimen has an ultimate strength of 1600 MPa.\n",
    "\n",
    "## Find\n",
    "Estimate the life of the specimen if it is tested at a completely reversed stress amplitude of 900 MPa.\n",
    "\n",
    "## Solution\n",
    "The first step is to find $S_e^\\prime$."
   ]
  },
  {
   "cell_type": "code",
   "execution_count": 2,
   "metadata": {
    "pycharm": {
     "name": "#%%\n"
    }
   },
   "outputs": [
    {
     "data": {
      "text/plain": "700",
      "text/latex": "$\\displaystyle 700$"
     },
     "execution_count": 2,
     "metadata": {},
     "output_type": "execute_result"
    }
   ],
   "source": [
    "sig_ar, S_ut = sp.S(900), sp.S(1600)\n",
    "\n",
    "# Eq. 6-10\n",
    "S_e_prime = sp.S(700)\n",
    "S_e_prime  # MPa"
   ]
  },
  {
   "cell_type": "markdown",
   "metadata": {
    "pycharm": {
     "name": "#%% md\n"
    }
   },
   "source": [
    "The $S^\\prime_e$ value will be used in place of $S_e$ from Figure 6-23 description. We can use the following relationships to determine $N$.\n",
    "\n",
    "$$N=\\left(\\frac{\\sigma_{ar}}{a}\\right)^{1/b}$$\n",
    "$$a=\\frac{(fS_{ut})^2}{S_e}$$\n",
    "$$b=-\\frac{1}{3}\\log\\left(\\frac{fS_{ut}}{Se}\\right)$$\n",
    "\n",
    "The value of $f$ is 0.77 from Figure 6-23 (estimated even though it is off the graph)."
   ]
  },
  {
   "cell_type": "code",
   "execution_count": 3,
   "metadata": {
    "pycharm": {
     "name": "#%%\n"
    }
   },
   "outputs": [
    {
     "data": {
      "text/plain": "Eq(a, 2168.32)",
      "text/latex": "$\\displaystyle a = 2168.32$"
     },
     "metadata": {},
     "output_type": "display_data"
    },
    {
     "data": {
      "text/plain": "Eq(b, -0.0818375559380499)",
      "text/latex": "$\\displaystyle b = -0.0818375559380499$"
     },
     "metadata": {},
     "output_type": "display_data"
    },
    {
     "data": {
      "text/plain": "46379.6905856764",
      "text/latex": "$\\displaystyle 46379.6905856764$"
     },
     "execution_count": 3,
     "metadata": {},
     "output_type": "execute_result"
    }
   ],
   "source": [
    "def log10(x_):\n",
    "    return sp.log(x_)/sp.log(10)\n",
    "\n",
    "f = sp.S('0.77')\n",
    "a = (f*S_ut)**2/S_e_prime\n",
    "b = -sp.Rational(1, 3)*log10(f*S_ut/S_e_prime)\n",
    "\n",
    "display(sp.Eq(sp.Symbol('a'), a.n()),\n",
    "        sp.Eq(sp.Symbol('b'), b.n()))\n",
    "\n",
    "N = ((sig_ar/a)**(1/b)).n()\n",
    "N  # cycles"
   ]
  },
  {
   "cell_type": "markdown",
   "metadata": {
    "pycharm": {
     "name": "#%% md\n"
    }
   },
   "source": [
    "The life of the specimen is 46400 cycles.\n",
    "\n",
    "\\pagebreak\n",
    "\n",
    "\\begin{center}\n",
    "\\begin{tabular}{ccc}\n",
    "ME 4403 & Test 2 & Gabe Morris \\\\\n",
    "& & gnm54\n",
    "\\end{tabular}\n",
    "\\end{center}\n",
    "\n",
    "# Problem 6-11\n",
    "## Given\n",
    "\n",
    "\\begin{center}\n",
    "\\includegraphics{images/fig1}\n",
    "\\end{center}\n",
    "\n",
    "A pin in a knuckle joint is shown in part (a) of the figure above. The joint is subject to a repeatedly applied and released load of 6000 N in tension. Assume the loading on the pin is modeled as concentrated forces as shown in part (b) of the figure. The shaft is made from AISI 1018 hot-rolled steel that has been machined to its final diameter."
   ]
  },
  {
   "cell_type": "code",
   "execution_count": 4,
   "metadata": {
    "pycharm": {
     "name": "#%%\n"
    }
   },
   "outputs": [],
   "source": [
    "# Table A-20\n",
    "Sut, Sy = sp.S(400), sp.S(220)  # MPa"
   ]
  },
  {
   "cell_type": "markdown",
   "metadata": {
    "pycharm": {
     "name": "#%% md\n"
    }
   },
   "source": [
    "## Find\n",
    "Based on a stress element on the outer surface at the cross-section A, determine a suitable diameter of the pin, rounded up to the next mm increment, to provide at least a factor of safety of 1.5 for both infinite fatigue life and for yielding.\n",
    "\n",
    "## Solution\n",
    "### Yielding\n",
    "\n",
    "\\begin{center}\n",
    "\\includegraphics{images/fig2}\n",
    "\\end{center}\n",
    "\n",
    "The equation for the maximum stress may be found using the bending moment diagram above."
   ]
  },
  {
   "cell_type": "code",
   "execution_count": 5,
   "metadata": {
    "pycharm": {
     "name": "#%%\n"
    }
   },
   "outputs": [
    {
     "data": {
      "text/plain": "458366.236104659/d**3",
      "text/latex": "$\\displaystyle \\frac{458366.236104659}{d^{3}}$"
     },
     "execution_count": 5,
     "metadata": {},
     "output_type": "execute_result"
    }
   ],
   "source": [
    "d = sp.Symbol('d', real=True, positive=True)\n",
    "M = 45_000  # N*mm^2\n",
    "c = d/2\n",
    "I = sp.pi/64*d**4\n",
    "sig_max = (M*c/I).n()\n",
    "sig_max"
   ]
  },
  {
   "cell_type": "markdown",
   "metadata": {
    "pycharm": {
     "name": "#%% md\n"
    }
   },
   "source": [
    "For yielding,\n",
    "\n",
    "$$n=\\frac{S_y}{\\sigma_{max}}$$"
   ]
  },
  {
   "cell_type": "code",
   "execution_count": 6,
   "metadata": {
    "pycharm": {
     "name": "#%%\n"
    }
   },
   "outputs": [
    {
     "data": {
      "text/plain": "Eq(1.5, 0.000479965544298441*d**3)",
      "text/latex": "$\\displaystyle 1.5 = 0.000479965544298441 d^{3}$"
     },
     "metadata": {},
     "output_type": "display_data"
    },
    {
     "data": {
      "text/plain": "Eq(d, 14.6204385310094)",
      "text/latex": "$\\displaystyle d = 14.6204385310094$"
     },
     "metadata": {},
     "output_type": "display_data"
    }
   ],
   "source": [
    "eq1 = sp.Eq(sp.S('1.5'), Sy/sig_max)\n",
    "display(eq1)\n",
    "d_ = sp.solve(eq1)[0]\n",
    "display(sp.Eq(d, d_))"
   ]
  },
  {
   "cell_type": "markdown",
   "metadata": {
    "pycharm": {
     "name": "#%% md\n"
    }
   },
   "source": [
    "So for yielding, a suitable diameter would be $d=15\\,mm$.\n",
    "\n",
    "### Infinite Life\n",
    "The Goodman method will be used to determine the diameter that results in an infinite life with a factor of safety of 1.5. The relationship for this is,\n",
    "\n",
    "$$\\frac{1}{n_f}=\\frac{\\sigma_a}{S_e}+\\frac{\\sigma_m}{S_{ut}}$$\n",
    "\n",
    "The load is not reversible, but is fluctuating on and off, so the mean stress is positive."
   ]
  },
  {
   "cell_type": "code",
   "execution_count": 7,
   "metadata": {
    "pycharm": {
     "name": "#%%\n"
    }
   },
   "outputs": [
    {
     "data": {
      "text/plain": "205.436802219618/d**0.107",
      "text/latex": "$\\displaystyle \\frac{205.436802219618}{d^{0.107}}$"
     },
     "execution_count": 7,
     "metadata": {},
     "output_type": "execute_result"
    }
   ],
   "source": [
    "# Getting Se\n",
    "# Equations come from the road map starting on page 359\n",
    "\n",
    "S_e_prime = Sut/2\n",
    "\n",
    "a, b = sp.S('3.04'), sp.S('-0.217')  # Table 6-2 (Machined)\n",
    "k_a = (a*Sut**b).n()\n",
    "k_b = sp.S('1.24')*d**sp.S('-0.107')\n",
    "\n",
    "Se = k_a*k_b*S_e_prime\n",
    "Se"
   ]
  },
  {
   "cell_type": "code",
   "execution_count": 8,
   "metadata": {
    "pycharm": {
     "name": "#%%\n"
    }
   },
   "outputs": [
    {
     "data": {
      "text/plain": "Eq(1115.58939574676/d**2.893 + 572.957795130823/d**3, 0.666666666666667)",
      "text/latex": "$\\displaystyle \\frac{1115.58939574676}{d^{2.893}} + \\frac{572.957795130823}{d^{3}} = 0.666666666666667$"
     },
     "metadata": {},
     "output_type": "display_data"
    },
    {
     "data": {
      "text/plain": "Eq(d, 14.5624553895619)",
      "text/latex": "$\\displaystyle d = 14.5624553895619$"
     },
     "metadata": {},
     "output_type": "display_data"
    }
   ],
   "source": [
    "# Applying the Goodman relationship\n",
    "sig_a = sig_m = sig_max/2  # minimum stress is 0\n",
    "eq1 = sp.Eq(sig_a/Se + sig_m/Sut, 1/sp.S('1.5'))\n",
    "display(eq1)\n",
    "d_inf = sp.nsolve(eq1, d, 10)  # Numerical solver\n",
    "display(sp.Eq(d, d_inf))"
   ]
  },
  {
   "cell_type": "markdown",
   "metadata": {
    "pycharm": {
     "name": "#%% md\n"
    }
   },
   "source": [
    "The above equation is complex and the diameter can only be solved using the numerical solver in `sympy`. The results show that the $15\\,mm$ diameter should be used for both yielding and infinite life.\n",
    "\n",
    "\\pagebreak\n",
    "\n",
    "\\begin{center}\n",
    "\\begin{tabular}{ccc}\n",
    "ME 4403 & Test  2 & Gabe Morris \\\\\n",
    "& & gnm54\n",
    "\\end{tabular}\n",
    "\\end{center}\n",
    "\n",
    "# Problem 3-61\n",
    "## Given\n",
    "A machine part will be cycled at $\\pm350\\,MPa$ for $5\\cdot10^3$ cycles. Then loading will be changed to $\\pm260\\,MPa$ for $5\\cdot10^4$ cycles. Finally, the load will be changed to $\\pm225\\,MPa$.\n",
    "\n",
    "$$S_{ut}=350\\,MPA$$\n",
    "$$f=0.9$$\n",
    "$$S_e=210\\,MPa$$"
   ]
  },
  {
   "cell_type": "code",
   "execution_count": 9,
   "metadata": {
    "pycharm": {
     "name": "#%%\n"
    }
   },
   "outputs": [],
   "source": [
    "Sut, f, Se = sp.S(530), sp.S('0.9'), sp.S(210)"
   ]
  },
  {
   "cell_type": "markdown",
   "metadata": {
    "pycharm": {
     "name": "#%% md\n"
    }
   },
   "source": [
    "## Find\n",
    "How many cycles of operation can be expected at this stress level using Miner's method?\n",
    "\n",
    "## Solution\n",
    "Minor's method is,\n",
    "\n",
    "$$\\frac{n_1}{N_1}+\\frac{n_2}{N_2}+\\frac{n_3}{N_3}=1$$"
   ]
  },
  {
   "cell_type": "code",
   "execution_count": 10,
   "metadata": {
    "pycharm": {
     "name": "#%%\n"
    }
   },
   "outputs": [
    {
     "data": {
      "text/plain": "Eq(1.78766904825898e-6*n_3 + 0.670863205354351, 1)",
      "text/latex": "$\\displaystyle 1.78766904825898 \\cdot 10^{-6} n_{3} + 0.670863205354351 = 1$"
     },
     "metadata": {},
     "output_type": "display_data"
    },
    {
     "data": {
      "text/plain": "Eq(n_3, 184115.060316224)",
      "text/latex": "$\\displaystyle n_{3} = 184115.060316224$"
     },
     "metadata": {},
     "output_type": "display_data"
    }
   ],
   "source": [
    "def get_N(s_max, s_min, f_value, Sut_value, Se_value):\n",
    "    s_m = (s_max + s_min)/2\n",
    "    s_a = (s_max - s_min)/2\n",
    "    s_ar = s_a/(1 - s_m/Sut_value)\n",
    "    a_ = (f_value*Sut_value)**2/Se_value\n",
    "    b_ = -sp.Rational(1, 3)*log10(f_value*Sut_value/Se_value)\n",
    "    N_ = (s_ar/a_)**(1/b_)\n",
    "    return N_.n()\n",
    "\n",
    "n1, n2 = sp.S(5e3), sp.S(5e4)\n",
    "N1 = get_N(sp.S(350), -sp.S(350), f, Sut, Se)\n",
    "N2 = get_N(sp.S(260), -sp.S(260), f, Sut, Se)\n",
    "N3 = get_N(sp.S(225), -sp.S(225), f, Sut, Se)\n",
    "\n",
    "n3 = sp.Symbol('n_3')\n",
    "eq1 = sp.Eq(n1/N1 + n2/N2 + n3/N3, 1)\n",
    "display(eq1)\n",
    "n3_ = sp.solve(eq1)[0]\n",
    "display(sp.Eq(n3, n3_))"
   ]
  },
  {
   "cell_type": "markdown",
   "source": [
    "\\pagebreak\n",
    "\n",
    "\\begin{center}\n",
    "\\begin{tabular}{ccc}\n",
    "ME 4403 & Test 2 & Gabe Morris \\\\\n",
    "& & gnm54\n",
    "\\end{tabular}\n",
    "\\end{center}\n",
    "\n",
    "# Problem 8-12\n",
    "## Given\n",
    "An $M14\\times2$ hex head bolt with a nut is used to clamp together two 15 mm steel plates. There is a 14R metric plain washer under the nut.\n",
    "\n",
    "## Find\n",
    "a. Determine a suitable length for the bolt, rounded up to the nearest 5 mm.\n",
    "b. Determine the bolt stiffness.\n",
    "c. Determine the stiffness of the members.\n",
    "\n",
    "## Solution\n",
    "### Part A\n",
    "The bolt dimensions are found in Table A-31."
   ],
   "metadata": {
    "collapsed": false,
    "pycharm": {
     "name": "#%% md\n"
    }
   }
  },
  {
   "cell_type": "code",
   "execution_count": 11,
   "outputs": [
    {
     "data": {
      "text/plain": "46.3000000000000",
      "text/latex": "$\\displaystyle 46.3$"
     },
     "execution_count": 11,
     "metadata": {},
     "output_type": "execute_result"
    }
   ],
   "source": [
    "l, H, t = sp.S(30), sp.S('12.8'), sp.S('3.5')\n",
    "L = l + H + t\n",
    "L  # mm"
   ],
   "metadata": {
    "collapsed": false,
    "pycharm": {
     "name": "#%%\n"
    }
   }
  },
  {
   "cell_type": "markdown",
   "source": [
    "The bolt length is $50\\,mm$.\n",
    "\n",
    "### Part B\n",
    "The fastener stiffness along with more relationships come from Table 8-7.\n",
    "\n",
    "$$k_b=\\frac{A_dA_tE}{A_dl_t+A_tl_d}$$"
   ],
   "metadata": {
    "collapsed": false,
    "pycharm": {
     "name": "#%% md\n"
    }
   }
  },
  {
   "cell_type": "code",
   "execution_count": 12,
   "outputs": [
    {
     "data": {
      "text/plain": "808.240665447356",
      "text/latex": "$\\displaystyle 808.240665447356$"
     },
     "execution_count": 12,
     "metadata": {},
     "output_type": "execute_result"
    }
   ],
   "source": [
    "d = sp.S(14)  # mm\n",
    "E = sp.S('207')  # Pa\n",
    "L = 50  # mm\n",
    "\n",
    "Ad = sp.pi*d**2/4\n",
    "At = sp.S(115)\n",
    "Lt = 2*d + 6\n",
    "ld = L - Lt\n",
    "lt = l + t - ld\n",
    "kb = Ad*At*E/(Ad*lt + At*ld)\n",
    "kb.n()  # MN/m"
   ],
   "metadata": {
    "collapsed": false,
    "pycharm": {
     "name": "#%%\n"
    }
   }
  },
  {
   "cell_type": "markdown",
   "source": [
    "### Part C"
   ],
   "metadata": {
    "collapsed": false,
    "pycharm": {
     "name": "#%% md\n"
    }
   }
  },
  {
   "cell_type": "code",
   "execution_count": 13,
   "outputs": [
    {
     "data": {
      "text/plain": "2968.88532206290",
      "text/latex": "$\\displaystyle 2968.8853220629$"
     },
     "execution_count": 13,
     "metadata": {},
     "output_type": "execute_result"
    }
   ],
   "source": [
    "# Eq. 8-22\n",
    "x = sp.S('0.5774')\n",
    "km = (x*sp.pi*E*d)/(2*sp.log(5*(x*(l + t) + sp.S('0.5')*d)/(x*(l + t) + sp.S('2.5')*d)))\n",
    "km.n()  # MN/m"
   ],
   "metadata": {
    "collapsed": false,
    "pycharm": {
     "name": "#%%\n"
    }
   }
  }
 ],
 "metadata": {
  "kernelspec": {
   "display_name": "Python 3 (ipykernel)",
   "language": "python",
   "name": "python3"
  },
  "language_info": {
   "codemirror_mode": {
    "name": "ipython",
    "version": 3
   },
   "file_extension": ".py",
   "mimetype": "text/x-python",
   "name": "python",
   "nbconvert_exporter": "python",
   "pygments_lexer": "ipython3",
   "version": "3.10.1"
  }
 },
 "nbformat": 4,
 "nbformat_minor": 1
}