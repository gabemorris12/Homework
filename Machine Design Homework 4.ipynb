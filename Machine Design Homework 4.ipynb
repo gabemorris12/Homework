{
 "cells": [
  {
   "cell_type": "markdown",
   "source": [
    "\\begin{center}\n",
    "Gabe Morris\n",
    "\\end{center}"
   ],
   "metadata": {
    "collapsed": false,
    "pycharm": {
     "name": "#%% md\n"
    }
   }
  },
  {
   "cell_type": "code",
   "execution_count": 1,
   "metadata": {
    "collapsed": true,
    "pycharm": {
     "name": "#%%\n"
    }
   },
   "outputs": [],
   "source": [
    "# Notebook Preamble\n",
    "import matplotlib.pyplot as plt\n",
    "import sympy as sp\n",
    "from IPython.display import display\n",
    "\n",
    "plt.style.use('maroon_ipynb.mplstyle')"
   ]
  },
  {
   "cell_type": "markdown",
   "source": [
    "\\pagebreak\n",
    "\\tableofcontents\n",
    "\\pagebreak"
   ],
   "metadata": {
    "collapsed": false,
    "pycharm": {
     "name": "#%% md\n"
    }
   }
  },
  {
   "cell_type": "markdown",
   "source": [
    "\\begin{center}\n",
    "\\begin{tabular}{c c c}\n",
    "ME 4403 & Homework 4 & Gabe Morris \\\\\n",
    "& & gnm54\n",
    "\\end{tabular}\n",
    "\\end{center}\n",
    "\n",
    "# Problem 6-1\n",
    "## Given\n",
    "A 10-mm steel drill rod was heat treated and ground. The measured hardness was found to be 300 Brinell.\n",
    "\n",
    "## Find\n",
    "Estimate the endurance strength in $MPa$ if the rod is used in rotating bending.\n",
    "\n",
    "## Solution\n",
    "Eq. 6-10 on p. 305, \n",
    "\n",
    "$$S^\\prime_e=\\begin{cases}\n",
    "0.5S_{ut} & S_{ut} \\le 200\\ ksi\\ (1400\\ MPa)\\\\\n",
    "100 & S_{ut} > 200\\ ksi \\\\\n",
    "700\\ MPa & S_{ut} > 1400\\ MPa\n",
    "\\end{cases}$$\n",
    "\n",
    "The ultimate strength of steel comes from Eq. 2-36,\n",
    "\n",
    "$$S_{ut}=3.4H_B$$"
   ],
   "metadata": {
    "collapsed": false,
    "pycharm": {
     "name": "#%% md\n"
    }
   }
  },
  {
   "cell_type": "code",
   "execution_count": 2,
   "outputs": [
    {
     "data": {
      "text/plain": "510.000000000000",
      "text/latex": "$\\displaystyle 510.0$"
     },
     "execution_count": 2,
     "metadata": {},
     "output_type": "execute_result"
    }
   ],
   "source": [
    "H_B = 300\n",
    "S_ut = sp.S('3.4')*H_B\n",
    "\n",
    "if S_ut <= 1400:\n",
    "    S_e_prime = 0.5*S_ut\n",
    "else:\n",
    "    S_e_prime = sp.S(700)\n",
    "\n",
    "S_e_prime  # ksi"
   ],
   "metadata": {
    "collapsed": false,
    "pycharm": {
     "name": "#%%\n"
    }
   }
  },
  {
   "cell_type": "markdown",
   "source": [
    "This value is not the final value. The relationship for the refined value is,\n",
    "\n",
    "$$S_e=k_ak_bk_ck_dk_eS^\\prime_e$$\n",
    "\n",
    "The only necessary $k$ values used for this analysis is $k_a$ and $k_b$, whose equations are at 6-18 and 6-19 respectfully."
   ],
   "metadata": {
    "collapsed": false,
    "pycharm": {
     "name": "#%% md\n"
    }
   }
  },
  {
   "cell_type": "code",
   "execution_count": 3,
   "outputs": [
    {
     "data": {
      "text/plain": "428.839455736079",
      "text/latex": "$\\displaystyle 428.839455736079$"
     },
     "execution_count": 3,
     "metadata": {},
     "output_type": "execute_result"
    }
   ],
   "source": [
    "# See Table 6-2\n",
    "k_a = sp.S('1.38')*S_ut**-(sp.S('0.067'))\n",
    "d = 10\n",
    "k_b = sp.S('1.24')*d**-(sp.S('0.107'))\n",
    "# display(k_a, k_b)\n",
    "S_e = k_a*k_b*S_e_prime\n",
    "S_e  # MPa"
   ],
   "metadata": {
    "collapsed": false,
    "pycharm": {
     "name": "#%%\n"
    }
   }
  },
  {
   "cell_type": "markdown",
   "source": [
    "\\pagebreak\n",
    "\n",
    "\\begin{center}\n",
    "\\begin{tabular}{ccc}\n",
    "ME 4403 & Homework 4 & Gabe Morris \\\\\n",
    "& & gnm54\n",
    "\\end{tabular}\n",
    "\\end{center}\n",
    "\n",
    "# Problem 6-3\n",
    "## Given\n",
    "A steel rotating beam test specimen has an ultimate strength of $120\\ ksi$.\n",
    "\n",
    "## Find\n",
    "Estimate the life of the specimen if it is tested at completely reversed stress amplitude of $70\\ ksi$.\n",
    "\n",
    "## Solution\n",
    "Find $S_e$ first."
   ],
   "metadata": {
    "collapsed": false,
    "pycharm": {
     "name": "#%% md\n"
    }
   }
  },
  {
   "cell_type": "code",
   "execution_count": 4,
   "outputs": [
    {
     "data": {
      "text/plain": "60.0000000000000",
      "text/latex": "$\\displaystyle 60.0$"
     },
     "execution_count": 4,
     "metadata": {},
     "output_type": "execute_result"
    }
   ],
   "source": [
    "S_ut = sp.S(120)  # ksi\n",
    "\n",
    "if S_ut <= 200:\n",
    "    S_e_prime = 0.5*S_ut\n",
    "else:\n",
    "    S_e_prime = sp.S(100)\n",
    "\n",
    "S_e_prime  # ksi"
   ],
   "metadata": {
    "collapsed": false,
    "pycharm": {
     "name": "#%%\n"
    }
   }
  },
  {
   "cell_type": "markdown",
   "source": [
    "The $S^\\prime_e$ value will be used in place of $S_e$ from Figure 6-23 description. We can use the following relationships to determine $N$.\n",
    "\n",
    "$$N=\\left(\\frac{\\sigma_{ar}}{a}\\right)^{1/b}$$\n",
    "$$a=\\frac{(fS_{ut})^2}{S_e}$$\n",
    "$$b=-\\frac{1}{3}\\log\\left(\\frac{fS_{ut}}{Se}\\right)$$\n",
    "\n",
    "The value of $f$ is 0.82 from Figure 6-23. The $S_{ut}$ value is $2(S_e)=120\\ ksi$."
   ],
   "metadata": {
    "collapsed": false,
    "pycharm": {
     "name": "#%% md\n"
    }
   }
  },
  {
   "cell_type": "code",
   "execution_count": 5,
   "outputs": [
    {
     "data": {
      "text/plain": "Eq(a, 161.376)",
      "text/latex": "$\\displaystyle a = 161.376$"
     },
     "metadata": {},
     "output_type": "display_data"
    },
    {
     "data": {
      "text/plain": "Eq(b, -0.0716146160158993)",
      "text/latex": "$\\displaystyle b = -0.0716146160158993$"
     },
     "metadata": {},
     "output_type": "display_data"
    },
    {
     "data": {
      "text/plain": "116192.956004683",
      "text/latex": "$\\displaystyle 116192.956004683$"
     },
     "execution_count": 5,
     "metadata": {},
     "output_type": "execute_result"
    }
   ],
   "source": [
    "def log10(x_):\n",
    "    return sp.log(x_)/sp.log(10)\n",
    "\n",
    "f = sp.S('0.82')\n",
    "a = (f*S_ut)**2/S_e_prime\n",
    "b = -sp.Rational(1, 3)*log10(f*S_ut/S_e_prime)\n",
    "\n",
    "display(sp.Eq(sp.Symbol('a'), a.n()),\n",
    "        sp.Eq(sp.Symbol('b'), b.n()))\n",
    "\n",
    "sig_ar = 70\n",
    "N = ((sig_ar/a)**(1/b)).n()\n",
    "N  # cycles"
   ],
   "metadata": {
    "collapsed": false,
    "pycharm": {
     "name": "#%%\n"
    }
   }
  },
  {
   "cell_type": "markdown",
   "source": [
    "\\pagebreak\n",
    "\n",
    "\\begin{center}\n",
    "\\begin{tabular}{ccc}\n",
    "ME 4403 & Homework 4 & Gabe Morris \\\\\n",
    "& & gnm54\n",
    "\\end{tabular}\n",
    "\\end{center}\n",
    "\n",
    "# Problem 6-17\n",
    "## Given"
   ],
   "metadata": {
    "collapsed": false,
    "pycharm": {
     "name": "#%% md\n"
    }
   }
  }
 ],
 "metadata": {
  "kernelspec": {
   "display_name": "Python 3",
   "language": "python",
   "name": "python3"
  },
  "language_info": {
   "codemirror_mode": {
    "name": "ipython",
    "version": 2
   },
   "file_extension": ".py",
   "mimetype": "text/x-python",
   "name": "python",
   "nbconvert_exporter": "python",
   "pygments_lexer": "ipython2",
   "version": "2.7.6"
  }
 },
 "nbformat": 4,
 "nbformat_minor": 0
}