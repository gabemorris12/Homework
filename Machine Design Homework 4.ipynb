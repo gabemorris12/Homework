{
 "cells": [
  {
   "cell_type": "markdown",
   "source": [
    "\\begin{center}\n",
    "Gabe Morris\n",
    "\\end{center}"
   ],
   "metadata": {
    "collapsed": false,
    "pycharm": {
     "name": "#%% md\n"
    }
   }
  },
  {
   "cell_type": "code",
   "execution_count": 1,
   "metadata": {
    "collapsed": true,
    "pycharm": {
     "name": "#%%\n"
    }
   },
   "outputs": [],
   "source": [
    "# Notebook Preamble\n",
    "import sympy as sp\n",
    "import numpy as np\n",
    "import matplotlib.pyplot as plt\n",
    "\n",
    "plt.style.use('maroon_ipynb.mplstyle')"
   ]
  },
  {
   "cell_type": "markdown",
   "source": [
    "\\pagebreak\n",
    "\\tableofcontents\n",
    "\\pagebreak"
   ],
   "metadata": {
    "collapsed": false,
    "pycharm": {
     "name": "#%% md\n"
    }
   }
  },
  {
   "cell_type": "markdown",
   "source": [
    "\\begin{center}\n",
    "\\begin{tabular}{c c c}\n",
    "ME 4403 & Homework 4 & Gabe Morris \\\\\n",
    "& & gnm54\n",
    "\\end{tabular}\n",
    "\\end{center}\n",
    "\n",
    "# Problem 6-1\n",
    "## Given\n",
    "A 10-mm steel drill rod was heat treated and ground. The measured hardness was found to be 300 Brinell.\n",
    "\n",
    "## Find\n",
    "Estimate the endurance strength in $MPa$ if the rod is used in rotating bending.\n",
    "\n",
    "## Solution\n",
    "Eq. 6-10 on p. 305, \n",
    "\n",
    "$$S^\\prime_e=\\begin{cases}\n",
    "0.5S_{ut} & S_{ut} \\le 200\\ ksi\\ (1400\\ MPa)\\\\\n",
    "100 & S_{ut} > 200\\ ksi \\\\\n",
    "700\\ MPa & S_{ut} > 1400\\ MPa\n",
    "\\end{cases}$$\n",
    "\n",
    "The ultimate strength of steel comes from Eq. 2-36,\n",
    "\n",
    "$$S_{ut}=3.4H_B$$"
   ],
   "metadata": {
    "collapsed": false,
    "pycharm": {
     "name": "#%% md\n"
    }
   }
  },
  {
   "cell_type": "code",
   "execution_count": 2,
   "outputs": [
    {
     "data": {
      "text/plain": "510.000000000000",
      "text/latex": "$\\displaystyle 510.0$"
     },
     "execution_count": 2,
     "metadata": {},
     "output_type": "execute_result"
    }
   ],
   "source": [
    "H_B = 300\n",
    "S_ut = sp.S('3.4')*H_B\n",
    "\n",
    "if S_ut <= 1400:\n",
    "    S_e_prime = 0.5*S_ut\n",
    "else:\n",
    "    S_e_prime = sp.S(700)\n",
    "\n",
    "S_e_prime  # ksi"
   ],
   "metadata": {
    "collapsed": false,
    "pycharm": {
     "name": "#%%\n"
    }
   }
  },
  {
   "cell_type": "markdown",
   "source": [
    "This value is not the final value. The relationship for the refined value is,\n",
    "\n",
    "$$S_e=k_ak_bk_ck_dk_eS^\\prime_e$$\n",
    "\n",
    "The only necessary $k$ values used for this analysis is $k_a$ and $k_b$, whose equations are at 6-18 and 6-19 respectfully."
   ],
   "metadata": {
    "collapsed": false,
    "pycharm": {
     "name": "#%% md\n"
    }
   }
  },
  {
   "cell_type": "code",
   "execution_count": 3,
   "outputs": [
    {
     "data": {
      "text/plain": "434.375608564977",
      "text/latex": "$\\displaystyle 434.375608564977$"
     },
     "execution_count": 3,
     "metadata": {},
     "output_type": "execute_result"
    }
   ],
   "source": [
    "# See Table 6-2\n",
    "k_a = sp.S('1.58')*S_ut**-(sp.S('0.085'))\n",
    "d = 10\n",
    "k_b = (d/sp.S('7.62'))**-(sp.S('0.107'))\n",
    "S_e = k_a*k_b*S_e_prime\n",
    "S_e  # MPa"
   ],
   "metadata": {
    "collapsed": false,
    "pycharm": {
     "name": "#%%\n"
    }
   }
  },
  {
   "cell_type": "markdown",
   "source": [
    "The answer in the back of the book appears to be heavily rounded."
   ],
   "metadata": {
    "collapsed": false,
    "pycharm": {
     "name": "#%% md\n"
    }
   }
  }
 ],
 "metadata": {
  "kernelspec": {
   "display_name": "Python 3",
   "language": "python",
   "name": "python3"
  },
  "language_info": {
   "codemirror_mode": {
    "name": "ipython",
    "version": 2
   },
   "file_extension": ".py",
   "mimetype": "text/x-python",
   "name": "python",
   "nbconvert_exporter": "python",
   "pygments_lexer": "ipython2",
   "version": "2.7.6"
  }
 },
 "nbformat": 4,
 "nbformat_minor": 0
}