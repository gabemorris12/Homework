{
 "cells": [
  {
   "cell_type": "markdown",
   "source": [
    "\\begin{center}\n",
    "Gabe Morris\n",
    "\\end{center}"
   ],
   "metadata": {
    "collapsed": false,
    "pycharm": {
     "name": "#%% md\n"
    }
   }
  },
  {
   "cell_type": "code",
   "execution_count": 1,
   "metadata": {
    "collapsed": true,
    "pycharm": {
     "name": "#%%\n"
    }
   },
   "outputs": [],
   "source": [
    "from slip_system import SlipSystem"
   ]
  },
  {
   "cell_type": "markdown",
   "source": [
    "\\pagebreak\n",
    "\\tableofcontents\n",
    "\\pagebreak"
   ],
   "metadata": {
    "collapsed": false,
    "pycharm": {
     "name": "#%% md\n"
    }
   }
  },
  {
   "cell_type": "markdown",
   "source": [
    "\\begin{center}\n",
    "\\begin{tabular}{c c c}\n",
    "ME 3403 & Homework 2 & Gabe Morris \\\\\n",
    "& & gnm54\n",
    "\\end{tabular}\n",
    "\\end{center}\n",
    "\n",
    "# Problem 1\n",
    "## Find\n",
    "Derive all the slip systems for an FCC unit cell.\n",
    "\n",
    "a. How many slip systems do you get?\n",
    "b. How many of these systems are redundant? How can you tell?\n",
    "\n",
    "## Solution\n",
    "The number of slip systems may be found by multiplying the number of diagonals along the closest packed plane (or highest atomic density plane for BCC) by the number of planes within that family of close packed planes. For the FCC system, the closest packed plane is the {111} family. For the BCC, the highest atomic density plane is the {110} family.\n",
    "\n",
    "### Part A\n",
    "There are 12 slip systems in an FCC unit cell. The Figure 1 shown in Part B is a wonderful illustration that shows that there are four $(111)$-type planes that contain three $[1\\bar{1}0]$-type directions.\n",
    "\n",
    "\\begin{center}\n",
    "$4\\cdot3=12$\n",
    "\\end{center}\n",
    "\n",
    "### Part B\n",
    "\\begin{center}\n",
    "\\includegraphics{images/fcc} \\\\\n",
    "Figure 1: FCC Slip Systems\n",
    "\\end{center}\n",
    "\n",
    "Figure 1 is taken from *Foundations of Materials Science and Engineering* by William F. Smith, et al. William F. Smith, et al. states,\n",
    "\n",
    "> There are eight {111} octahedral planes in the FCC crystal structure. The $(111)$-type planes at opposite faces of the octahedron that are parallel to each other are considered the same type of $(111)$ slip plane. Thus, there are only four different types of $(111)$ slip planes in the FCC crystal structure\" (p. 259).\n",
    "\n",
    "The number of redundant slip systems is a subjective term. Since the instructions say to ignore the negative directions, I will assume that the negative directions are not a part of the redundancy. Instead, the redundancy occurs on the other four planes of the octahedral shown in Figure 1. This means that we have 8 planes and 3 directions along each plane, leaving us with\n",
    "\n",
    "\\begin{center}\n",
    "$8\\cdot3=24$ \\\\\n",
    "$24-12=12$\n",
    "\\end{center}\n",
    "\n",
    "12 additional redundant systems.\n",
    "\n",
    "\\pagebreak\n",
    "\n",
    "\\begin{center}\n",
    "\\begin{tabular}{c c c}\n",
    "ME 3403 & Homework 2 & Gabe Morris \\\\\n",
    "& & gnm54\n",
    "\\end{tabular}\n",
    "\\end{center}\n",
    "\n",
    "# Slip System Class\n",
    "There is a class called `SlipSystem` inside of `slip_system.py` (source code can be found [here](https://github.com/gabemorris12/Homework/tree/materials_homework_2)). `SlipSystem` is capable of generating a \\LaTeX$\\ $table of slip system information, given the force direction (magnitude does not matter because we are only interested in obtaining the direction), independent slip planes, and independent slip directions for each slip plane.\n",
    "\n",
    "Here is an in class example for FCC where the slip planes and slip directions corresponding to each plane is inputted from Figure 1."
   ],
   "metadata": {
    "collapsed": false,
    "pycharm": {
     "name": "#%% md\n"
    }
   }
  },
  {
   "cell_type": "code",
   "execution_count": 2,
   "outputs": [
    {
     "data": {
      "text/plain": "<IPython.core.display.Latex object>",
      "text/latex": "\\begin{center}\n\\addtolength{\\leftskip}{-2cm}\n\\addtolength{\\rightskip}{-2cm}\n\\begin{tabular}{lllllllllllll}\n\\multicolumn{13}{c}{Force Direction: $[331]$} \\\\\n\\toprule\nSlip Plane & \\multicolumn{3}{c}{$(111)$} & \\multicolumn{3}{c}{$(\\bar{1}11)$} & \\multicolumn{3}{c}{$(1\\bar{1}1)$} & \\multicolumn{3}{c}{$(11\\bar{1})$} \\\\\n\\midrule\nSlip Direction & $[\\bar{1}10]$ & $[10\\bar{1}]$ & $[0\\bar{1}1]$ & $[\\bar{1}\\bar{1}0]$ & $[0\\bar{1}1]$ & $[\\bar{1}0\\bar{1}]$ & $[110]$ & $[\\bar{1}01]$ & $[011]$ & $[101]$ & $[1\\bar{1}0]$ & $[0\\bar{1}\\bar{1}]$ \\\\\n$\\cos(\\phi)$ & 0.93 & 0.93 & 0.93 & 0.13 & 0.13 & 0.13 & 0.13 & 0.13 & 0.13 & 0.66 & 0.66 & 0.66 \\\\\n$\\cos(\\lambda)$ & 0 & 0.32 & -0.32 & -0.97 & -0.32 & -0.65 & 0.97 & -0.32 & 0.65 & 0.65 & 0 & -0.65 \\\\\n|S.F.| & 0 & 0.30 & 0.30 & 0.13 & 0.043 & 0.086 & 0.13 & 0.043 & 0.086 & 0.43 & 0 & 0.43 \\\\\n\\end{tabular}\n\\end{center}"
     },
     "metadata": {},
     "output_type": "display_data"
    }
   ],
   "source": [
    "example = SlipSystem(\n",
    "    # Force Direction\n",
    "    [3, 3, 1],\n",
    "\n",
    "    # Slip Planes\n",
    "    [[1, 1, 1], [-1, 1, 1], [1, -1, 1], [1, 1, -1]],\n",
    "\n",
    "    # Slip directions on each plane\n",
    "    [[-1, 1, 0], [1, 0, -1], [0, -1, 1]],\n",
    "    [[-1, -1, 0], [0, -1, 1], [-1, 0, -1]],\n",
    "    [[1, 1, 0], [-1, 0, 1], [0, 1, 1]],\n",
    "    [[1, 0, 1], [1, -1, 0], [0, -1, -1]]\n",
    ")\n",
    "\n",
    "example.generate_table()"
   ],
   "metadata": {
    "collapsed": false,
    "pycharm": {
     "name": "#%%\n"
    }
   }
  },
  {
   "cell_type": "markdown",
   "source": [
    "\\pagebreak\n",
    "\n",
    "\\begin{center}\n",
    "\\begin{tabular}{c c c}\n",
    "ME 3403 & Homework 2 & Gabe Morris \\\\\n",
    "& & gnm54\n",
    "\\end{tabular}\n",
    "\\end{center}\n",
    "\n",
    "# Problem 2\n",
    "## Given\n",
    "You are given a tested specimen consisting of two FCC grains. At a global tensile stress of 400 MPa, the specimen just began to deform plastically. Further analysis reveals that the load was oriented such that it was parallel to the $[3\\,\\overline{15}\\,\\overline{16}]$ direction for the first grain and parallel to $[11\\,\\overline{12}\\,\\overline{17}]$ for the second.\n",
    "\n",
    "## Find\n",
    "Based on problem one's solution,\n",
    "\n",
    "a. Which one of the two grains deformed?\n",
    "b. Which slip system on the deformed grain activated first?\n",
    "c. What is the CRSS of this material?\n",
    "\n",
    "## Solution\n",
    "Using the same slip systems derived above, we can determine the Schmid Factors for each loading direction.\n",
    "\n",
    "### Part A"
   ],
   "metadata": {
    "collapsed": false,
    "pycharm": {
     "name": "#%% md\n"
    }
   }
  },
  {
   "cell_type": "code",
   "execution_count": 3,
   "outputs": [
    {
     "data": {
      "text/plain": "<IPython.core.display.Latex object>",
      "text/latex": "\\begin{center}\n\\addtolength{\\leftskip}{-2cm}\n\\addtolength{\\rightskip}{-2cm}\n\\begin{tabular}{lllllllllllll}\n\\multicolumn{13}{c}{Force Direction: $[\\,3\\,\\overline{15}\\,\\overline{16}\\,]$} \\\\\n\\toprule\nSlip Plane & \\multicolumn{3}{c}{$(111)$} & \\multicolumn{3}{c}{$(\\bar{1}11)$} & \\multicolumn{3}{c}{$(1\\bar{1}1)$} & \\multicolumn{3}{c}{$(11\\bar{1})$} \\\\\n\\midrule\nSlip Direction & $[\\bar{1}10]$ & $[10\\bar{1}]$ & $[0\\bar{1}1]$ & $[\\bar{1}\\bar{1}0]$ & $[0\\bar{1}1]$ & $[\\bar{1}0\\bar{1}]$ & $[110]$ & $[\\bar{1}01]$ & $[011]$ & $[101]$ & $[1\\bar{1}0]$ & $[0\\bar{1}\\bar{1}]$ \\\\\n$\\cos(\\phi)$ & -0.73 & -0.73 & -0.73 & -0.89 & -0.89 & -0.89 & 0.052 & 0.052 & 0.052 & 0.10 & 0.10 & 0.10 \\\\\n$\\cos(\\lambda)$ & -0.58 & 0.61 & -0.032 & 0.38 & -0.032 & 0.42 & -0.38 & -0.61 & -0.99 & -0.42 & 0.58 & 0.99 \\\\\n|S.F.| & 0.42 & 0.44 & 0.023 & 0.34 & 0.028 & 0.37 & 0.020 & 0.032 & 0.052 & 0.043 & 0.060 & 0.10 \\\\\n\\end{tabular}\n\\end{center}"
     },
     "metadata": {},
     "output_type": "display_data"
    },
    {
     "data": {
      "text/plain": "<IPython.core.display.Latex object>",
      "text/latex": "\\begin{center}\n\\addtolength{\\leftskip}{-2cm}\n\\addtolength{\\rightskip}{-2cm}\n\\begin{tabular}{lllllllllllll}\n\\multicolumn{13}{c}{Force Direction: $[\\,11\\,\\overline{12}\\,\\overline{17}\\,]$} \\\\\n\\toprule\nSlip Plane & \\multicolumn{3}{c}{$(111)$} & \\multicolumn{3}{c}{$(\\bar{1}11)$} & \\multicolumn{3}{c}{$(1\\bar{1}1)$} & \\multicolumn{3}{c}{$(11\\bar{1})$} \\\\\n\\midrule\nSlip Direction & $[\\bar{1}10]$ & $[10\\bar{1}]$ & $[0\\bar{1}1]$ & $[\\bar{1}\\bar{1}0]$ & $[0\\bar{1}1]$ & $[\\bar{1}0\\bar{1}]$ & $[110]$ & $[\\bar{1}01]$ & $[011]$ & $[101]$ & $[1\\bar{1}0]$ & $[0\\bar{1}\\bar{1}]$ \\\\\n$\\cos(\\phi)$ & -0.44 & -0.44 & -0.44 & -0.98 & -0.98 & -0.98 & 0.15 & 0.15 & 0.15 & 0.39 & 0.39 & 0.39 \\\\\n$\\cos(\\lambda)$ & -0.69 & 0.84 & -0.15 & 0.030 & -0.15 & 0.18 & -0.030 & -0.84 & -0.87 & -0.18 & 0.69 & 0.87 \\\\\n|S.F.| & 0.31 & 0.37 & 0.066 & 0.029 & 0.15 & 0.18 & 0.0044 & 0.12 & 0.13 & 0.071 & 0.27 & 0.34 \\\\\n\\end{tabular}\n\\end{center}"
     },
     "metadata": {},
     "output_type": "display_data"
    }
   ],
   "source": [
    "slip_planes = [[1, 1, 1], [-1, 1, 1], [1, -1, 1], [1, 1, -1]]\n",
    "slip_directions = [[[-1, 1, 0], [1, 0, -1], [0, -1, 1]],\n",
    "                   [[-1, -1, 0], [0, -1, 1], [-1, 0, -1]],\n",
    "                   [[1, 1, 0], [-1, 0, 1], [0, 1, 1]],\n",
    "                   [[1, 0, 1], [1, -1, 0], [0, -1, -1]]]\n",
    "\n",
    "load1 = SlipSystem(\n",
    "    [3, -15, -16],\n",
    "    slip_planes,\n",
    "    *slip_directions\n",
    ")\n",
    "load1.generate_table()\n",
    "\n",
    "load2 = SlipSystem(\n",
    "    [11, -12, -17],\n",
    "    slip_planes,\n",
    "    *slip_directions\n",
    ")\n",
    "load2.generate_table()"
   ],
   "metadata": {
    "collapsed": false,
    "pycharm": {
     "name": "#%%\n"
    }
   }
  },
  {
   "cell_type": "markdown",
   "source": [
    "According to the calculations above, the first grain ($[3\\,\\overline{15}\\,\\overline{16}]$) is the one that deforms first because it contains the greatest Schmid Factor value of 0.44. We choose the greatest value because this is the system that will deform first because the stress is greater than all the other systems.\n",
    "\n",
    "### Part B\n",
    "The slip system corresponding to the 0.44 would be the slip system that caused the grain to activate first. Its slip system is the $(111)$ plane in the $[10\\bar{1}]$ direction.\n",
    "\n",
    "### Part C\n",
    "The critical resolved shear stress is the value corresponding to the greatest schmid factor.\n",
    "\n",
    "\\begin{center}\n",
    "$\\tau_o=\\sigma\\cdot S.F.=400\\,MPa\\cdot0.44=176\\,MPa$\n",
    "\\end{center}\n",
    "\n",
    "\\pagebreak\n",
    "\n",
    "\\begin{center}\n",
    "\\begin{tabular}{c c c}\n",
    "ME 3403 & Homework 2 & Gabe Morris \\\\\n",
    "& & gnm54\n",
    "\\end{tabular}\n",
    "\\end{center}\n",
    "\n",
    "# Problem 3\n",
    "## Find\n",
    "Derive all the slip systems for a BCC unit cell.\n",
    "\n",
    "a. How many slip systems do you get?\n",
    "b. How many of these systems are redundant? How can you tell?\n",
    "\n",
    "## Solution\n",
    "\n",
    "\\begin{center}\n",
    "\\includegraphics{images/bcc} \\\\\n",
    "Figure 2: BCC Slip Systems\n",
    "\\end{center}\n",
    "\n",
    "### Part A\n",
    "Figure 2 shows all the slip systems for the {110} family, which consists of 12 slip systems. There are 6 unique planes with each plane consisting of 2 unique diagonal directions.\n",
    "\n",
    "\\begin{center}\n",
    "$6\\cdot2=12$\n",
    "\\end{center}\n",
    "\n",
    "### Part B\n",
    "The only way to consider redundancy is to consider the negative directions on each plane, since this is not like the octahedral for the FCC. This would mean that there would be\n",
    "\n",
    "\\begin{center}\n",
    "$6\\cdot4=24$ \\\\\n",
    "$24-12=12$\n",
    "\\end{center}\n",
    "\n",
    "12 additional redundant systems.\n",
    "\n",
    "\\pagebreak\n",
    "\n",
    "\\begin{center}\n",
    "\\begin{tabular}{c c c}\n",
    "ME 3403 & Homework 2 & Gabe Morris \\\\\n",
    "& & gnm54\n",
    "\\end{tabular}\n",
    "\\end{center}\n",
    "\n",
    "# Problem 4\n",
    "## Given\n",
    "You are given a tested specimen consisting of two FCC grains. At a global tensile stress of 350 MPa, the specimen just began to deform plastically. Further analysis reveals that the load was oriented such that it was parallel to the $[4\\,14\\,\\overline{13}]$ direction for the first grain and parallel to $[\\overline{16}\\,\\overline{7}\\,8]$ for the second.\n",
    "\n",
    "## Find\n",
    "Based on problem three's solution,\n",
    "\n",
    "a. Which one of the two grains deformed?\n",
    "b. Which slip system on the deformed grain activated first?\n",
    "c. What is the CRSS of this material?\n",
    "\n",
    "## Solution\n",
    "Using the same slip systems derived above, we can determine the Schmid Factors for each loading direction.\n",
    "\n",
    "### Part A"
   ],
   "metadata": {
    "collapsed": false,
    "pycharm": {
     "name": "#%% md\n"
    }
   }
  },
  {
   "cell_type": "code",
   "execution_count": 4,
   "outputs": [
    {
     "data": {
      "text/plain": "<IPython.core.display.Latex object>",
      "text/latex": "\\begin{center}\n\\addtolength{\\leftskip}{-2cm}\n\\addtolength{\\rightskip}{-2cm}\n\\begin{tabular}{lllllllllllll}\n\\multicolumn{13}{c}{Force Direction: $[\\,4\\,14\\,\\overline{13}\\,]$} \\\\\n\\toprule\nSlip Plane & \\multicolumn{2}{c}{$(0\\bar{1}1)$} & \\multicolumn{2}{c}{$(011)$} & \\multicolumn{2}{c}{$(110)$} & \\multicolumn{2}{c}{$(1\\bar{1}0)$} & \\multicolumn{2}{c}{$(101)$} & \\multicolumn{2}{c}{$(10\\bar{1})$} \\\\\n\\midrule\nSlip Direction & $[111]$ & $[\\bar{1}11]$ & $[1\\bar{1}1]$ & $[\\bar{1}\\bar{1}1]$ & $[\\bar{1}11]$ & $[1\\bar{1}1]$ & $[111]$ & $[\\bar{1}\\bar{1}1]$ & $[\\bar{1}\\bar{1}1]$ & $[\\bar{1}11]$ & $[111]$ & $[1\\bar{1}1]$ \\\\\n$\\cos(\\phi)$ & -0.98 & -0.98 & 0.036 & 0.036 & 0.65 & 0.65 & -0.36 & -0.36 & -0.33 & -0.33 & 0.62 & 0.62 \\\\\n$\\cos(\\lambda)$ & 0.15 & -0.089 & -0.68 & -0.92 & -0.089 & -0.68 & 0.15 & -0.92 & -0.92 & -0.089 & 0.15 & -0.68 \\\\\n|S.F.| & 0.14 & 0.087 & 0.025 & 0.033 & 0.058 & 0.44 & 0.054 & 0.33 & 0.30 & 0.029 & 0.091 & 0.42 \\\\\n\\end{tabular}\n\\end{center}"
     },
     "metadata": {},
     "output_type": "display_data"
    },
    {
     "data": {
      "text/plain": "<IPython.core.display.Latex object>",
      "text/latex": "\\begin{center}\n\\addtolength{\\leftskip}{-2cm}\n\\addtolength{\\rightskip}{-2cm}\n\\begin{tabular}{lllllllllllll}\n\\multicolumn{13}{c}{Force Direction: $[\\,\\overline{16}\\,\\overline{7}\\,8\\,]$} \\\\\n\\toprule\nSlip Plane & \\multicolumn{2}{c}{$(0\\bar{1}1)$} & \\multicolumn{2}{c}{$(011)$} & \\multicolumn{2}{c}{$(110)$} & \\multicolumn{2}{c}{$(1\\bar{1}0)$} & \\multicolumn{2}{c}{$(101)$} & \\multicolumn{2}{c}{$(10\\bar{1})$} \\\\\n\\midrule\nSlip Direction & $[111]$ & $[\\bar{1}11]$ & $[1\\bar{1}1]$ & $[\\bar{1}\\bar{1}1]$ & $[\\bar{1}11]$ & $[1\\bar{1}1]$ & $[111]$ & $[\\bar{1}\\bar{1}1]$ & $[\\bar{1}\\bar{1}1]$ & $[\\bar{1}11]$ & $[111]$ & $[1\\bar{1}1]$ \\\\\n$\\cos(\\phi)$ & 0.55 & 0.55 & 0.037 & 0.037 & -0.85 & -0.85 & -0.33 & -0.33 & -0.29 & -0.29 & -0.88 & -0.88 \\\\\n$\\cos(\\lambda)$ & -0.45 & 0.51 & -0.030 & 0.93 & 0.51 & -0.030 & -0.45 & 0.93 & 0.93 & 0.51 & -0.45 & -0.030 \\\\\n|S.F.| & 0.25 & 0.28 & 0.0011 & 0.034 & 0.43 & 0.025 & 0.15 & 0.31 & 0.27 & 0.15 & 0.40 & 0.027 \\\\\n\\end{tabular}\n\\end{center}"
     },
     "metadata": {},
     "output_type": "display_data"
    }
   ],
   "source": [
    "slip_planes = [[0, -1, 1], [0, 1, 1], [1, 1, 0], [1, -1, 0], [1, 0, 1], [1, 0, -1]]\n",
    "slip_directions = [[[1, 1, 1], [-1, 1, 1]],\n",
    "                   [[1, -1, 1], [-1, -1, 1]],\n",
    "                   [[-1, 1, 1], [1, -1, 1]],\n",
    "                   [[1, 1, 1], [-1, -1, 1]],\n",
    "                   [[-1, -1, 1], [-1, 1, 1]],\n",
    "                   [[1, 1, 1], [1, -1, 1]]]\n",
    "\n",
    "load1 = SlipSystem(\n",
    "    [4, 14, -13],\n",
    "    slip_planes,\n",
    "    *slip_directions\n",
    ")\n",
    "load1.generate_table()\n",
    "\n",
    "load2 = SlipSystem(\n",
    "    [-16, -7, 8],\n",
    "    slip_planes,\n",
    "    *slip_directions\n",
    ")\n",
    "load2.generate_table()"
   ],
   "metadata": {
    "collapsed": false,
    "pycharm": {
     "name": "#%%\n"
    }
   }
  },
  {
   "cell_type": "markdown",
   "source": [
    "According to the calculations above, the first grain ($[4\\,14\\,\\overline{13}]$) is the one that deforms the first because it contains the greatest Schmid Factor value of 0.44. We choose the greatest value because this is the system that will deform the first because the stress is greater than all the other systems.\n",
    "\n",
    "### Part B\n",
    "The slip system corresponding to the 0.44 would be the slip system that caused the grain to activate first. Its slip system is the $(110)$ plane in the $[1\\bar{1}1]$ direction.\n",
    "\n",
    "### Part C\n",
    "The critical resolved shear stress is the value corresponding to the greatest schmid factor.\n",
    "\n",
    "\\begin{center}\n",
    "$\\tau_o=\\sigma\\cdot S.F.=350\\,MPa\\cdot0.44=154\\,MPa$\n",
    "\\end{center}"
   ],
   "metadata": {
    "collapsed": false,
    "pycharm": {
     "name": "#%% md\n"
    }
   }
  }
 ],
 "metadata": {
  "kernelspec": {
   "display_name": "Python 3",
   "language": "python",
   "name": "python3"
  },
  "language_info": {
   "codemirror_mode": {
    "name": "ipython",
    "version": 2
   },
   "file_extension": ".py",
   "mimetype": "text/x-python",
   "name": "python",
   "nbconvert_exporter": "python",
   "pygments_lexer": "ipython2",
   "version": "2.7.6"
  }
 },
 "nbformat": 4,
 "nbformat_minor": 0
}