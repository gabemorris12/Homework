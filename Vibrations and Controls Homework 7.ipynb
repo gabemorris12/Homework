{
 "cells": [
  {
   "cell_type": "markdown",
   "source": [
    "\\begin{center}\n",
    "Gabe Morris\n",
    "\\end{center}"
   ],
   "metadata": {
    "collapsed": false,
    "pycharm": {
     "name": "#%% md\n"
    }
   }
  },
  {
   "cell_type": "code",
   "execution_count": 1,
   "metadata": {
    "collapsed": true,
    "pycharm": {
     "name": "#%%\n"
    }
   },
   "outputs": [],
   "source": [
    "import sympy as sp\n",
    "import numpy as np\n",
    "import matplotlib.pyplot as plt\n",
    "from IPython.display import display, Latex\n",
    "\n",
    "plt.style.use('maroon.mplstyle')\n",
    "\n",
    "s, t = sp.symbols('s t')\n",
    "\n",
    "display_latex = lambda text: display(Latex(text))"
   ]
  },
  {
   "cell_type": "markdown",
   "source": [
    "\\pagebreak\n",
    "\\tableofcontents\n",
    "\\pagebreak"
   ],
   "metadata": {
    "collapsed": false,
    "pycharm": {
     "name": "#%% md\n"
    }
   }
  },
  {
   "cell_type": "markdown",
   "source": [
    "\\begin{center}\n",
    "\\begin{tabular}{c c c}\n",
    "ME 6643 & Homework 7 & Gabe Morris \\\\\n",
    "& & gnm54\n",
    "\\end{tabular}\n",
    "\\end{center}\n",
    "\n",
    "# Problem 9.23\n",
    "## Given\n",
    "A certain factory contains a heavy rotating machine that causes the factory floor to vibrate. We want to operate another piece of equipment nearby, and we measure the amplitude of the floor’s motion at that point to be 0.01 m. The mass of the equipment is 1500 kg and its support has a stiffness of $k=2\\cdot10^4\\,\\frac{N}{m}$ and a damping ratio of $\\zeta=0.04$.\n",
    "\n",
    "## Find\n",
    "Calculate the maximum force that will be transmitted to the equipment at resonance.\n",
    "\n",
    "## Solution\n",
    "The free response of this system is,\n",
    "\n",
    "$m\\ddot{x}+c\\dot{x}+kx=0$\n",
    "\n",
    "We need to calculate $c$."
   ],
   "metadata": {
    "collapsed": false,
    "pycharm": {
     "name": "#%% md\n"
    }
   }
  },
  {
   "cell_type": "code",
   "execution_count": 2,
   "outputs": [
    {
     "data": {
      "text/plain": "438.178046004133",
      "text/latex": "$\\displaystyle 438.178046004133$"
     },
     "execution_count": 2,
     "metadata": {},
     "output_type": "execute_result"
    }
   ],
   "source": [
    "# Getting the damping constant using the damping ratio\n",
    "zeta, m, k = 0.04, 1500, 2e4\n",
    "c = 2*zeta*sp.sqrt(m*k)\n",
    "c"
   ],
   "metadata": {
    "collapsed": false,
    "pycharm": {
     "name": "#%%\n"
    }
   }
  },
  {
   "cell_type": "code",
   "execution_count": 3,
   "outputs": [
    {
     "data": {
      "text/plain": "Eq(20000.0*x(t) + 438.178046004133*Derivative(x(t), t) + 1500*Derivative(x(t), (t, 2)), 0)",
      "text/latex": "$\\displaystyle 20000.0 x{\\left(t \\right)} + 438.178046004133 \\frac{d}{d t} x{\\left(t \\right)} + 1500 \\frac{d^{2}}{d t^{2}} x{\\left(t \\right)} = 0$"
     },
     "execution_count": 3,
     "metadata": {},
     "output_type": "execute_result"
    }
   ],
   "source": [
    "x = sp.Function('x')(t)\n",
    "eq = sp.Eq(m*x.diff(t, 2) + c*x.diff(t) + k*x, 0)\n",
    "eq"
   ],
   "metadata": {
    "collapsed": false,
    "pycharm": {
     "name": "#%%\n"
    }
   }
  },
  {
   "cell_type": "code",
   "execution_count": 4,
   "outputs": [
    {
     "data": {
      "text/plain": "<IPython.core.display.Latex object>",
      "text/latex": "$-0.146059348668044 - 3.64856136031724 i$"
     },
     "metadata": {},
     "output_type": "display_data"
    },
    {
     "data": {
      "text/plain": "<IPython.core.display.Latex object>",
      "text/latex": "$-0.146059348668044 + 3.64856136031724 i$"
     },
     "metadata": {},
     "output_type": "display_data"
    }
   ],
   "source": [
    "for root in sp.roots(m*s**2 + c*s + k):\n",
    "    display_latex(f'${sp.latex(root)}$')"
   ],
   "metadata": {
    "collapsed": false,
    "pycharm": {
     "name": "#%%\n"
    }
   }
  },
  {
   "cell_type": "markdown",
   "source": [
    "Resonance occurs when the excitation frequency is equivalent to the natural frequency of the system ($\\omega=\\omega_n=3.649\\frac{rad}{s}$). The relationship for this system is described in section 9.3.5 in the book.\n",
    "\n",
    "$\\frac{F_t(s)}{Y(s)}=\\frac{(cs+k)ms^2}{ms^2+cs+k}$"
   ],
   "metadata": {
    "collapsed": false,
    "pycharm": {
     "name": "#%% md\n"
    }
   }
  },
  {
   "cell_type": "code",
   "execution_count": 5,
   "outputs": [
    {
     "data": {
      "text/plain": "s**2*(657267.069006199*s + 30000000.0)/(1500*s**2 + 438.178046004133*s + 20000.0)",
      "text/latex": "$\\displaystyle \\frac{s^{2} \\left(657267.069006199 s + 30000000.0\\right)}{1500 s^{2} + 438.178046004133 s + 20000.0}$"
     },
     "execution_count": 5,
     "metadata": {},
     "output_type": "execute_result"
    }
   ],
   "source": [
    "expr = (c*s + k)*m*s**2/(m*s**2 + c*s + k)\n",
    "expr"
   ],
   "metadata": {
    "collapsed": false,
    "pycharm": {
     "name": "#%%\n"
    }
   }
  },
  {
   "cell_type": "code",
   "execution_count": 6,
   "outputs": [
    {
     "data": {
      "text/plain": "-5.20624749699639e-6*(32.0000000000182 - 1598.71948758999*I)*(30000000.0 + 2398079.23138498*I)",
      "text/latex": "$\\displaystyle - 5.20624749699639 \\cdot 10^{-6} \\left(32.0000000000182 - 1598.71948758999 i\\right) \\left(30000000.0 + 2398079.23138498 i\\right)$"
     },
     "execution_count": 6,
     "metadata": {},
     "output_type": "execute_result"
    }
   ],
   "source": [
    "expr_tw = expr.subs(s, sp.I*3.64856136031724)\n",
    "expr_tw"
   ],
   "metadata": {
    "collapsed": false,
    "pycharm": {
     "name": "#%%\n"
    }
   }
  },
  {
   "cell_type": "code",
   "execution_count": 7,
   "outputs": [
    {
     "data": {
      "text/plain": "2505.46545288473",
      "text/latex": "$\\displaystyle 2505.46545288473$"
     },
     "execution_count": 7,
     "metadata": {},
     "output_type": "execute_result"
    }
   ],
   "source": [
    "sp.Abs(expr_tw)*0.01"
   ],
   "metadata": {
    "collapsed": false,
    "pycharm": {
     "name": "#%%\n"
    }
   }
  },
  {
   "cell_type": "markdown",
   "source": [
    "## Answer\n",
    "$F_{max}=2500\\,N$"
   ],
   "metadata": {
    "collapsed": false,
    "pycharm": {
     "name": "#%% md\n"
    }
   }
  }
 ],
 "metadata": {
  "kernelspec": {
   "display_name": "Python 3",
   "language": "python",
   "name": "python3"
  },
  "language_info": {
   "codemirror_mode": {
    "name": "ipython",
    "version": 2
   },
   "file_extension": ".py",
   "mimetype": "text/x-python",
   "name": "python",
   "nbconvert_exporter": "python",
   "pygments_lexer": "ipython2",
   "version": "2.7.6"
  }
 },
 "nbformat": 4,
 "nbformat_minor": 0
}