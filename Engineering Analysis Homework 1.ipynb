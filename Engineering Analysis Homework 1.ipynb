{
 "cells": [
  {
   "cell_type": "markdown",
   "source": [
    "\\begin{center}\n",
    "Gabe Morris\n",
    "\\end{center}"
   ],
   "metadata": {
    "collapsed": false,
    "pycharm": {
     "name": "#%% md\n"
    }
   }
  },
  {
   "cell_type": "code",
   "execution_count": 1,
   "metadata": {
    "collapsed": true,
    "pycharm": {
     "name": "#%%\n"
    },
    "ExecuteTime": {
     "end_time": "2023-08-24T19:14:49.738986200Z",
     "start_time": "2023-08-24T19:14:48.048704600Z"
    }
   },
   "outputs": [],
   "source": [
    "# Notebook Preamble\n",
    "import sympy as sp\n",
    "import numpy as np\n",
    "import matplotlib.pyplot as plt\n",
    "import pandas as pd\n",
    "from IPython.display import display, Latex\n",
    "\n",
    "plt.style.use('maroon_ipynb.mplstyle')"
   ]
  },
  {
   "cell_type": "markdown",
   "source": [
    "\\pagebreak\n",
    "\\tableofcontents\n",
    "\\pagebreak"
   ],
   "metadata": {
    "collapsed": false,
    "pycharm": {
     "name": "#%% md\n"
    }
   }
  },
  {
   "cell_type": "markdown",
   "source": [
    "\\begin{center}\n",
    "\\begin{tabular}{c c c}\n",
    "ME 8213 & Homework 1 & Gabe Morris \\\\\n",
    "& & gnm54\n",
    "\\end{tabular}\n",
    "\\end{center}\n",
    "\n",
    "# Problem 1\n",
    "The included data file, Homework1.dat, is a pretend set of grades for an assignment. The first column is the last name, the second column is the first name, and the third column is the grade.\n",
    "\n",
    "a) Determine the number of students who passed the assignment (grade > 60)\n",
    "b) Determine the number of students who made a B on the assignment (80<= grade < 90)\n",
    "c) Print the names of all students who made an A on the assignment. If no students made an A, print a message saying so\n"
   ],
   "metadata": {
    "collapsed": false,
    "pycharm": {
     "name": "#%% md\n"
    }
   }
  },
  {
   "cell_type": "code",
   "execution_count": 2,
   "outputs": [
    {
     "data": {
      "text/plain": "<IPython.core.display.Latex object>",
      "text/latex": "\\begin{center}\\begin{tabular}{llr}\n\\toprule\nLast & First & Grade \\\\\n\\midrule\nRoentgen & Wilhelm & 77.385410 \\\\\nLorentz & Hendrik & 82.440226 \\\\\nCurie & Pierre & 64.835290 \\\\\nCurie & Marie & 97.433619 \\\\\nThomson & Joseph & 92.010022 \\\\\nMichelson & Albert & 84.148474 \\\\\nMarconi & Guglielmo & 76.428518 \\\\\nWien & Wilhelm & 84.424898 \\\\\nBragg & William & 86.659487 \\\\\nPlanck & Max & 79.105066 \\\\\nEinstein & Albert & 76.980888 \\\\\nBohr & Niels & 72.115877 \\\\\nMillikan & Robert & 61.874601 \\\\\nHertz & Gustav & 59.616759 \\\\\nCompton & Arthur & 57.725977 \\\\\nRaman & Chandrasekhara & 72.897915 \\\\\nDirac & Paul & 63.476188 \\\\\nFermi & Enrico & 76.980724 \\\\\nYukawa & Hideki & 85.933096 \\\\\nBloch & Felix & 95.202058 \\\\\nBardeen & John & 73.423745 \\\\\nWigner & Eugene & 88.479665 \\\\\nHall & John & 80.364778 \\\\\nHiggs & Peter & 84.312859 \\\\\nThorne & Kip & 75.144785 \\\\\nPenrose & Roger & 84.832464 \\\\\n\\bottomrule\n\\end{tabular}\n\\end{center}"
     },
     "metadata": {},
     "output_type": "display_data"
    }
   ],
   "source": [
    "# Getting the information from dat file\n",
    "data = pd.read_csv('Homework1.dat', delimiter='\\t', names=['Last', 'First', 'Grade'])\n",
    "data_style = data.style.hide(axis='index')\n",
    "data_style\n",
    "latex = data_style.to_latex(hrules=True)\n",
    "display(Latex(fr'\\begin{{center}}{latex}\\end{{center}}'))"
   ],
   "metadata": {
    "collapsed": false,
    "ExecuteTime": {
     "end_time": "2023-08-24T19:14:49.913204500Z",
     "start_time": "2023-08-24T19:14:49.738986200Z"
    }
   }
  },
  {
   "cell_type": "markdown",
   "source": [
    "## Part A"
   ],
   "metadata": {
    "collapsed": false
   }
  },
  {
   "cell_type": "code",
   "execution_count": 3,
   "outputs": [
    {
     "data": {
      "text/plain": "24"
     },
     "execution_count": 3,
     "metadata": {},
     "output_type": "execute_result"
    }
   ],
   "source": [
    "last, first, grades = np.array(data['Last']), np.array(data['First']), np.array(data['Grade'])\n",
    "\n",
    "# Number of students that got above 60\n",
    "passing = grades > 60\n",
    "list(passing).count(True)"
   ],
   "metadata": {
    "collapsed": false,
    "ExecuteTime": {
     "end_time": "2023-08-24T19:14:49.926262Z",
     "start_time": "2023-08-24T19:14:49.902962900Z"
    }
   }
  },
  {
   "cell_type": "markdown",
   "source": [
    "## Part B"
   ],
   "metadata": {
    "collapsed": false
   }
  },
  {
   "cell_type": "code",
   "execution_count": 4,
   "outputs": [
    {
     "data": {
      "text/plain": "9"
     },
     "execution_count": 4,
     "metadata": {},
     "output_type": "execute_result"
    }
   ],
   "source": [
    "# Number of B's\n",
    "\n",
    "Bs = np.logical_and(grades >= 80, grades < 90)\n",
    "list(Bs).count(True)"
   ],
   "metadata": {
    "collapsed": false,
    "ExecuteTime": {
     "end_time": "2023-08-24T19:14:49.942852Z",
     "start_time": "2023-08-24T19:14:49.915410900Z"
    }
   }
  },
  {
   "cell_type": "markdown",
   "source": [
    "## Part C"
   ],
   "metadata": {
    "collapsed": false
   }
  },
  {
   "cell_type": "code",
   "execution_count": 5,
   "outputs": [
    {
     "name": "stdout",
     "output_type": "stream",
     "text": [
      "Marie Curie made an A\n",
      "Joseph Thomson made an A\n",
      "Felix Bloch made an A\n"
     ]
    }
   ],
   "source": [
    "# Getting all the names of the students that made an A\n",
    "As = grades >= 90\n",
    "last_A, first_A = last[As], first[As]\n",
    "\n",
    "if As.size > 0:\n",
    "    [print(f'{first_} {last_} made an A') for first_, last_ in zip(first_A, last_A)]\n",
    "else:\n",
    "    print(\"'There are no A's\")"
   ],
   "metadata": {
    "collapsed": false,
    "ExecuteTime": {
     "end_time": "2023-08-24T19:14:49.993989800Z",
     "start_time": "2023-08-24T19:14:49.932426900Z"
    }
   }
  },
  {
   "cell_type": "markdown",
   "source": [
    "\\pagebreak\n",
    "\n",
    "\\begin{center}\n",
    "\\begin{tabular}{ccc}\n",
    "ME 8213 & Homework 1 & Gabe Morris \\\\\n",
    "& & gnm54\n",
    "\\end{tabular}\n",
    "\\end{center}\n",
    "\n",
    "# Problem 2\n",
    "Write a file called primes500.dat which lists all prime numbers less than 500."
   ],
   "metadata": {
    "collapsed": false
   }
  },
  {
   "cell_type": "code",
   "execution_count": 6,
   "outputs": [
    {
     "data": {
      "text/plain": "array([  2,   3,   5,   7,  11,  13,  17,  19,  23,  29,  31,  37,  41,\n        43,  47,  53,  59,  61,  67,  71,  73,  79,  83,  89,  97, 101,\n       103, 107, 109, 113, 127, 131, 137, 139, 149, 151, 157, 163, 167,\n       173, 179, 181, 191, 193, 197, 199, 211, 223, 227, 229, 233, 239,\n       241, 251, 257, 263, 269, 271, 277, 281, 283, 293, 307, 311, 313,\n       317, 331, 337, 347, 349, 353, 359, 367, 373, 379, 383, 389, 397,\n       401, 409, 419, 421, 431, 433, 439, 443, 449, 457, 461, 463, 467,\n       479, 487, 491, 499])"
     },
     "execution_count": 6,
     "metadata": {},
     "output_type": "execute_result"
    }
   ],
   "source": [
    "def sieve_eratosthenes(limit_):\n",
    "    # Create a boolean array \"prime[0...limit_]\" and initialize all entries as True\n",
    "    # A value in prime[x] will finally be False if x is Not a prime, else True.\n",
    "    prime_ = [True for _ in range(limit_ + 1)]\n",
    "    p = 2\n",
    "    while p**2 <= limit_:\n",
    "        # If prime[i] is not changed, then it is a prime\n",
    "        if prime_[p]:\n",
    "            # Update all multiples of p\n",
    "            for i in range(p**2, limit_ + 1, p):\n",
    "                prime_[i] = False\n",
    "        p += 1\n",
    "\n",
    "    primes_ = [p for p in range(2, limit_) if prime_[p]]\n",
    "    return primes_\n",
    "\n",
    "# Generate prime numbers less than 500\n",
    "limit = 500\n",
    "primes = sieve_eratosthenes(limit)\n",
    "\n",
    "# Write the prime numbers to the file primes500.dat\n",
    "with open('primes500.dat', 'w') as file:\n",
    "    for prime in primes:\n",
    "        file.write(str(prime) + '\\n')\n",
    "        \n",
    "np.array(primes)"
   ],
   "metadata": {
    "collapsed": false,
    "ExecuteTime": {
     "end_time": "2023-08-24T19:14:49.998655300Z",
     "start_time": "2023-08-24T19:14:49.948731800Z"
    }
   }
  },
  {
   "cell_type": "markdown",
   "source": [
    "\\pagebreak\n",
    "\n",
    "\\begin{center}\n",
    "\\begin{tabular}{ccc}\n",
    "ME 8213 & Homework 1 & Gabe Morris \\\\\n",
    "& & gnm54\n",
    "\\end{tabular}\n",
    "\\end{center}\n",
    "\n",
    "# Problem 3\n",
    "Find the (a) dot product and (b) outer product of the following two vectors (Use numpy):\n",
    "\n",
    "$$a=(1\\ 1\\ 0)$$\n",
    "\n",
    "$$b=(2\\ 1\\ 3)$$"
   ],
   "metadata": {
    "collapsed": false
   }
  },
  {
   "cell_type": "code",
   "execution_count": 7,
   "outputs": [
    {
     "data": {
      "text/plain": "3"
     },
     "execution_count": 7,
     "metadata": {},
     "output_type": "execute_result"
    }
   ],
   "source": [
    "np.dot((1, 1, 0), (2, 1, 3))"
   ],
   "metadata": {
    "collapsed": false,
    "ExecuteTime": {
     "end_time": "2023-08-24T19:14:49.998655300Z",
     "start_time": "2023-08-24T19:14:49.965486300Z"
    }
   }
  },
  {
   "cell_type": "markdown",
   "source": [
    "\\pagebreak\n",
    "\n",
    "\\begin{center}\n",
    "\\begin{tabular}{ccc}\n",
    "ME 8213 & Homework 1 & Gabe Morris \\\\\n",
    "& & gnm54\n",
    "\\end{tabular}\n",
    "\\end{center}\n",
    "\n",
    "# Problem 4\n",
    "A perfect number is a positive integer that is equal to the sum of its positive divisors, including 1, but excluding itself. As an example, 6 is a perfect number because the divisors of 6 are 1, 2, and 3, and 1+2+3=6. Find all perfect numbers less than 500."
   ],
   "metadata": {
    "collapsed": false
   }
  },
  {
   "cell_type": "code",
   "execution_count": 8,
   "outputs": [
    {
     "name": "stdout",
     "output_type": "stream",
     "text": [
      "Perfect numbers less than 500: [6, 28, 496]\n"
     ]
    }
   ],
   "source": [
    "def find_divisors(n):\n",
    "    divisors_ = [1]\n",
    "    for i in range(2, n + 1):\n",
    "        if n % i == 0:\n",
    "            divisors_.append(i)\n",
    "    return divisors_\n",
    "\n",
    "perfect_numbers = []\n",
    "\n",
    "for num in range(2, 500):\n",
    "    divisors = find_divisors(num)\n",
    "    if num == sum(divisors[:-1]):\n",
    "        perfect_numbers.append(num)\n",
    "\n",
    "print(\"Perfect numbers less than 500:\", perfect_numbers)"
   ],
   "metadata": {
    "collapsed": false,
    "ExecuteTime": {
     "end_time": "2023-08-24T19:14:49.998655300Z",
     "start_time": "2023-08-24T19:14:49.972661200Z"
    }
   }
  }
 ],
 "metadata": {
  "kernelspec": {
   "display_name": "Python 3",
   "language": "python",
   "name": "python3"
  },
  "language_info": {
   "codemirror_mode": {
    "name": "ipython",
    "version": 2
   },
   "file_extension": ".py",
   "mimetype": "text/x-python",
   "name": "python",
   "nbconvert_exporter": "python",
   "pygments_lexer": "ipython2",
   "version": "2.7.6"
  }
 },
 "nbformat": 4,
 "nbformat_minor": 0
}
