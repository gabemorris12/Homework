{
 "cells": [
  {
   "cell_type": "markdown",
   "source": [
    "\\begin{center}\n",
    "Gabe Morris\n",
    "\\end{center}"
   ],
   "metadata": {
    "collapsed": false,
    "pycharm": {
     "name": "#%% md\n"
    }
   }
  },
  {
   "cell_type": "code",
   "execution_count": 1,
   "metadata": {
    "collapsed": true,
    "pycharm": {
     "name": "#%%\n"
    }
   },
   "outputs": [],
   "source": [
    "# Notebook Preamble\n",
    "import sympy as sp\n",
    "import numpy as np\n",
    "import matplotlib.pyplot as plt\n",
    "from IPython.display import display, Markdown\n",
    "\n",
    "plt.style.use('maroon_ipynb.mplstyle')"
   ]
  },
  {
   "cell_type": "markdown",
   "source": [
    "\\pagebreak\n",
    "\\tableofcontents\n",
    "\\pagebreak"
   ],
   "metadata": {
    "collapsed": false,
    "pycharm": {
     "name": "#%% md\n"
    }
   }
  },
  {
   "cell_type": "markdown",
   "source": [
    "\\begin{center}\n",
    "\\begin{tabular}{c c c}\n",
    "ME 4403 & Homework 1 & Gabe Morris \\\\\n",
    "& & gnm54\n",
    "\\end{tabular}\n",
    "\\end{center}\n",
    "\n",
    "# Problem 3\n",
    "## Given\n",
    "\n",
    "\\begin{center}\n",
    "\\includegraphics{images/fig1}\n",
    "\\end{center}\n",
    "\n",
    "## Find\n",
    "Sketch a free-body diagram of each element in the figure above. Compute the magnitude and direction of each force using an algebraic or vector method.\n",
    "\n",
    "## Solution\n",
    "The overall structure has a free body diagram like so,\n",
    "\n",
    "\\begin{center}\n",
    "\\includegraphics{images/fig2}\n",
    "\\end{center}\n",
    "\n",
    "Separating the structure into individual elements would yield more equations to solve the system,\n",
    "\n",
    "\\begin{center}\n",
    "\\includegraphics{images/fig3} \\\\\n",
    "Link 2\n",
    "\\end{center}\n",
    "\n",
    "\\begin{center}\n",
    "\\includegraphics{images/fig4} \\\\\n",
    "Link 3\n",
    "\\end{center}\n",
    "\n",
    "The $800\\ N$ force is a point load, which means it can only be applied to one link. This is why the load is shown in one FBD and not the other. Changing the link the point load is applied to will change the values for $F_1$ and $F_2$, but it will not change the values of the reactions at $O$ and $A$."
   ],
   "metadata": {
    "collapsed": false,
    "pycharm": {
     "name": "#%% md\n"
    }
   }
  },
  {
   "cell_type": "code",
   "execution_count": 2,
   "outputs": [
    {
     "data": {
      "text/plain": "Eq(A_x + O_x, 800)",
      "text/latex": "$\\displaystyle A_{x} + O_{x} = 800$"
     },
     "metadata": {},
     "output_type": "display_data"
    },
    {
     "data": {
      "text/plain": "Eq(-A_y + O_y, 0)",
      "text/latex": "$\\displaystyle - A_{y} + O_{y} = 0$"
     },
     "metadata": {},
     "output_type": "display_data"
    },
    {
     "data": {
      "text/plain": "Eq(-0.3*sqrt(3)*A_y + 720.0, 0)",
      "text/latex": "$\\displaystyle - 0.3 \\sqrt{3} A_{y} + 720.0 = 0$"
     },
     "metadata": {},
     "output_type": "display_data"
    },
    {
     "data": {
      "text/plain": "Eq(F_1 + O_x, 800)",
      "text/latex": "$\\displaystyle F_{1} + O_{x} = 800$"
     },
     "metadata": {},
     "output_type": "display_data"
    },
    {
     "data": {
      "text/plain": "Eq(O_y, F_2)",
      "text/latex": "$\\displaystyle O_{y} = F_{2}$"
     },
     "metadata": {},
     "output_type": "display_data"
    },
    {
     "data": {
      "text/plain": "Eq(0.9*F_1, 720.0)",
      "text/latex": "$\\displaystyle 0.9 F_{1} = 720.0$"
     },
     "metadata": {},
     "output_type": "display_data"
    },
    {
     "data": {
      "text/plain": "<IPython.core.display.Markdown object>",
      "text/markdown": "---"
     },
     "metadata": {},
     "output_type": "display_data"
    },
    {
     "data": {
      "text/plain": "Eq(Matrix([\n[1, 0, 1,            0,   0,  0],\n[0, 1, 0,           -1,   0,  0],\n[0, 0, 0, -0.3*sqrt(3),   0,  0],\n[1, 0, 0,            0,   1,  0],\n[0, 1, 0,            0,   0, -1],\n[0, 0, 0,            0, 0.9,  0]])*Matrix([\n[O_x],\n[O_y],\n[A_x],\n[A_y],\n[F_1],\n[F_2]]), Matrix([\n[   800],\n[     0],\n[-720.0],\n[   800],\n[     0],\n[ 720.0]]))",
      "text/latex": "$\\displaystyle \\left[\\begin{matrix}1 & 0 & 1 & 0 & 0 & 0\\\\0 & 1 & 0 & -1 & 0 & 0\\\\0 & 0 & 0 & - 0.3 \\sqrt{3} & 0 & 0\\\\1 & 0 & 0 & 0 & 1 & 0\\\\0 & 1 & 0 & 0 & 0 & -1\\\\0 & 0 & 0 & 0 & 0.9 & 0\\end{matrix}\\right] \\left[\\begin{matrix}O_{x}\\\\O_{y}\\\\A_{x}\\\\A_{y}\\\\F_{1}\\\\F_{2}\\end{matrix}\\right] = \\left[\\begin{matrix}800\\\\0\\\\-720.0\\\\800\\\\0\\\\720.0\\end{matrix}\\right]$"
     },
     "metadata": {},
     "output_type": "display_data"
    },
    {
     "data": {
      "text/plain": "<IPython.core.display.Markdown object>",
      "text/markdown": "---"
     },
     "metadata": {},
     "output_type": "display_data"
    },
    {
     "data": {
      "text/plain": "<IPython.core.display.Markdown object>",
      "text/markdown": "**Solution:**"
     },
     "metadata": {},
     "output_type": "display_data"
    },
    {
     "data": {
      "text/plain": "Eq(O_x, 0.0)",
      "text/latex": "$\\displaystyle O_{x} = 0.0$"
     },
     "metadata": {},
     "output_type": "display_data"
    },
    {
     "data": {
      "text/plain": "Eq(O_y, 1385.6406460551)",
      "text/latex": "$\\displaystyle O_{y} = 1385.6406460551$"
     },
     "metadata": {},
     "output_type": "display_data"
    },
    {
     "data": {
      "text/plain": "Eq(A_x, 800.0)",
      "text/latex": "$\\displaystyle A_{x} = 800.0$"
     },
     "metadata": {},
     "output_type": "display_data"
    },
    {
     "data": {
      "text/plain": "Eq(A_y, 1385.6406460551)",
      "text/latex": "$\\displaystyle A_{y} = 1385.6406460551$"
     },
     "metadata": {},
     "output_type": "display_data"
    },
    {
     "data": {
      "text/plain": "Eq(F_1, 800.0)",
      "text/latex": "$\\displaystyle F_{1} = 800.0$"
     },
     "metadata": {},
     "output_type": "display_data"
    },
    {
     "data": {
      "text/plain": "Eq(F_2, 1385.6406460551)",
      "text/latex": "$\\displaystyle F_{2} = 1385.6406460551$"
     },
     "metadata": {},
     "output_type": "display_data"
    }
   ],
   "source": [
    "v = Ox, Oy, Ax, Ay, F1, F2 = sp.symbols('O_x O_y A_x A_y F_1 F_2')\n",
    "y, x = sp.S(0.9), sp.S(0.9)/sp.tan(60*sp.pi/180)  # Vertical and horizontal distance of the structure\n",
    "\n",
    "# Overall structure equations\n",
    "eq1 = sp.Eq(Ox + Ax, 800)  # Sum in x\n",
    "eq2 = sp.Eq(Oy - Ay, 0)  # Sum in y\n",
    "eq3 = sp.Eq(-Ay*x + 800*y, 0)  # Sum the moments about O\n",
    "\n",
    "# Link 2 equations\n",
    "eq4 = sp.Eq(Ox + F1, 800)  # Sum in x\n",
    "eq5 = sp.Eq(Oy, F2)  # Sum in y\n",
    "eq6 = sp.Eq(F1*y, 800*y)  # Sum the moments about O\n",
    "\n",
    "# Link 3 equations (don't need to use and still get the same answer)\n",
    "# eq7 = sp.Eq(Ax, F1)\n",
    "# eq8 = sp.Eq(Ay, F2)\n",
    "# eq9 = sp.Eq(F2*x, F1*y)\n",
    "\n",
    "eqs = [eval(f'eq{i}') for i in range(1, 7)]\n",
    "\n",
    "for eq in eqs:\n",
    "    display(eq)\n",
    "display(Markdown('---'))\n",
    "\n",
    "A, b = sp.linear_eq_to_matrix(eqs, v)\n",
    "matrix_eqn = sp.Eq(sp.MatMul(A, sp.Matrix(v)), b)\n",
    "display(matrix_eqn)\n",
    "display(Markdown('---'))\n",
    "\n",
    "sol = sp.solve(matrix_eqn)\n",
    "display(Markdown('**Solution:**'))\n",
    "for val in v:\n",
    "    display(sp.Eq(val, sol[val]))"
   ],
   "metadata": {
    "collapsed": false,
    "pycharm": {
     "name": "#%%\n"
    }
   }
  },
  {
   "cell_type": "markdown",
   "source": [
    "The internal stresses of each link may be found by using the method of sections.\n",
    "\n",
    "\\begin{center}\n",
    "\\includegraphics{images/fig5} \\\\\n",
    "Upper Section Cut\n",
    "\\end{center}\n",
    "\n",
    "\\begin{center}\n",
    "\\includegraphics{images/fig6} \\\\\n",
    "Lower Section Cut\n",
    "\\end{center}"
   ],
   "metadata": {
    "collapsed": false,
    "pycharm": {
     "name": "#%% md\n"
    }
   }
  },
  {
   "cell_type": "code",
   "execution_count": 3,
   "outputs": [
    {
     "data": {
      "text/plain": "Eq(F_{AB}/2, 800)",
      "text/latex": "$\\displaystyle \\frac{F_{AB}}{2} = 800$"
     },
     "metadata": {},
     "output_type": "display_data"
    },
    {
     "data": {
      "text/plain": "Eq(F_{OB}, sqrt(3)*F_{AB}/2)",
      "text/latex": "$\\displaystyle F_{OB} = \\frac{\\sqrt{3} F_{AB}}{2}$"
     },
     "metadata": {},
     "output_type": "display_data"
    },
    {
     "data": {
      "text/plain": "<IPython.core.display.Markdown object>",
      "text/markdown": "---"
     },
     "metadata": {},
     "output_type": "display_data"
    },
    {
     "data": {
      "text/plain": "Eq(F_{OB}, 1385.6406460551)",
      "text/latex": "$\\displaystyle F_{OB} = 1385.6406460551$"
     },
     "metadata": {},
     "output_type": "display_data"
    },
    {
     "data": {
      "text/plain": "Eq(F_{AB}, 1600.0)",
      "text/latex": "$\\displaystyle F_{AB} = 1600.0$"
     },
     "metadata": {},
     "output_type": "display_data"
    }
   ],
   "source": [
    "F_OB, F_AB = sp.symbols(r'F_{OB} F_{AB}')\n",
    "\n",
    "# Upper section equations\n",
    "eq7 = sp.Eq(F_AB*sp.cos(sp.pi/3), 800)  # Sum in x\n",
    "eq8 = sp.Eq(F_OB, F_AB*sp.sin(sp.pi/3))  # Sum in y\n",
    "\n",
    "display(eq7)\n",
    "display(eq8)\n",
    "display(Markdown('---'))\n",
    "\n",
    "sol = sp.solve([eq7, eq8])\n",
    "\n",
    "for val in [F_OB, F_AB]:\n",
    "    display(sp.Eq(val, sol[val].n()))"
   ],
   "metadata": {
    "collapsed": false,
    "pycharm": {
     "name": "#%%\n"
    }
   }
  },
  {
   "cell_type": "markdown",
   "source": [
    "Link 2 is in compression and link 3 is in tension."
   ],
   "metadata": {
    "collapsed": false,
    "pycharm": {
     "name": "#%% md\n"
    }
   }
  }
 ],
 "metadata": {
  "kernelspec": {
   "display_name": "Python 3",
   "language": "python",
   "name": "python3"
  },
  "language_info": {
   "codemirror_mode": {
    "name": "ipython",
    "version": 2
   },
   "file_extension": ".py",
   "mimetype": "text/x-python",
   "name": "python",
   "nbconvert_exporter": "python",
   "pygments_lexer": "ipython2",
   "version": "2.7.6"
  }
 },
 "nbformat": 4,
 "nbformat_minor": 0
}