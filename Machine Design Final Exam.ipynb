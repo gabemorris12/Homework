{
 "cells": [
  {
   "cell_type": "markdown",
   "metadata": {
    "pycharm": {
     "name": "#%% md\n"
    }
   },
   "source": [
    "\\begin{center}\n",
    "Gabe Morris\n",
    "\\end{center}"
   ]
  },
  {
   "cell_type": "code",
   "execution_count": 1,
   "metadata": {
    "collapsed": true,
    "pycharm": {
     "name": "#%%\n"
    }
   },
   "outputs": [],
   "source": [
    "# Notebook Preamble\n",
    "import sympy as sp\n",
    "import matplotlib.pyplot as plt\n",
    "from IPython.display import display\n",
    "\n",
    "plt.style.use('maroon_ipynb.mplstyle')\n",
    "\n",
    "def sub_return(expression, substitution, sym=None):\n",
    "    \"\"\"\n",
    "    Displays a substituted expression and returns the value.\n",
    "\n",
    "    :param expression: Symbolic expression\n",
    "    :param substitution: A list of tuples to be passed into the .sub method\n",
    "    :param sym: An optional symbol to display prior to operations\n",
    "    :return: A simplified value of what is substituted.\n",
    "    \"\"\"\n",
    "    with sp.evaluate(False):\n",
    "        expr_sub = expression.subs(substitution)\n",
    "    simp = expr_sub.doit().n()\n",
    "    if sym is None:\n",
    "        lev1 = sp.Eq(expression, expr_sub)\n",
    "        lev2 = sp.Eq(lev1, simp, evaluate=False)\n",
    "        display(lev2)\n",
    "    else:\n",
    "        lev1 = sp.Eq(sym, expression)\n",
    "        lev2 = sp.Eq(lev1, expr_sub, evaluate=False)\n",
    "        lev3 = sp.Eq(lev2, simp, evaluate=False)\n",
    "        display(lev3)\n",
    "    return simp\n",
    "\n",
    "def get_principal(s_x, s_y, t_xy):\n",
    "    \"\"\"\n",
    "    Shows the principal stress calculations for a 2D element.\n",
    "\n",
    "    :param s_x: normal stress along the x-axis\n",
    "    :param s_y: normal stress along the y-axis\n",
    "    :param t_xy: shear stress on face x in the direction of y\n",
    "    :return: principal stresses\n",
    "    \"\"\"\n",
    "    s_x_, s_y_, t_xy_ = sp.symbols(r'\\sigma_x \\sigma_y \\tau_{xy}')\n",
    "    symbols_ = sp.symbols(r'\\sigma_1 \\sigma_2 \\tau_1 \\tau_2')\n",
    "    expr1_ = (s_x_ + s_y_)/2 + sp.sqrt(((s_x_ - s_y_)/2)**2 + t_xy_**2)\n",
    "    expr2_ = (s_x_ + s_y_)/2 - sp.sqrt(((s_x_ - s_y_)/2)**2 + t_xy_**2)\n",
    "    expr3_ = sp.sqrt(((s_x_ - s_y_)/2)**2 + t_xy_**2)\n",
    "    expr4_ = -sp.sqrt(((s_x_ - s_y_)/2)**2 + t_xy_**2)\n",
    "    sub_list = [(s_x_, s_x), (s_y_, s_y), (t_xy_, t_xy)]\n",
    "    ans = []\n",
    "    for sym_, expr_ in zip(symbols_, [expr1_, expr2_, expr3_, expr4_]):\n",
    "        ans.append(sub_return(expr_, sub_list, sym=sym_))\n",
    "    return ans\n",
    "\n",
    "def von_mises(s_x, s_y, s_z, t_xy, t_yz, t_zx):\n",
    "    return 1/sp.sqrt(2)*sp.sqrt((s_x - s_y)**2 + (s_y - s_z)**2 + (s_z - s_x)**2 + 6*(t_xy**2 + t_yz**2 + t_zx**2))\n",
    "\n",
    "def log10(x_):\n",
    "    return sp.log(x_)/sp.log(10)"
   ]
  },
  {
   "cell_type": "markdown",
   "metadata": {
    "pycharm": {
     "name": "#%% md\n"
    }
   },
   "source": [
    "\\pagebreak\n",
    "\\tableofcontents\n",
    "\\pagebreak"
   ]
  },
  {
   "cell_type": "markdown",
   "metadata": {
    "pycharm": {
     "name": "#%% md\n"
    }
   },
   "source": [
    "\\begin{center}\n",
    "\\begin{tabular}{c c c}\n",
    "ME 4403 & Final Exam & Gabe Morris \\\\\n",
    "& & gnm54\n",
    "\\end{tabular}\n",
    "\\end{center}\n",
    "\n",
    "# Problem 3-83\n",
    "## Given\n",
    "\n",
    "\\begin{center}\n",
    "\\includegraphics{images/fig1}\n",
    "\\end{center}\n",
    "\n",
    "A gear reduction unit uses the countershaft shown in the figure above. Gear A receives power from another gear with a transmitted force $F_A$ applied at the $20^\\circ$ pressure angle as shown. The power is transmitted through the shaft and delivered through gear B through a transmitted force $F_B$ at the pressure angle shown.\n",
    "\n",
    "## Find\n",
    "a. Determine the force $F_B$, assuming the shaft is running at a constant speed.\n",
    "b. Find the bearing reaction forces, assuming the bearings act as simple supports.\n",
    "c. Draw a shear-force and bending moment diagrams for the shaft. If needed, make one set for the horizontal plane and another set for the vertical plane.\n",
    "d. At the point of maximum bending moment, determine the bending stress and the torsional shear stress.\n",
    "e. At the point of maximum bending moment, determine the principal stresses and the maximum shear stress.\n",
    "\n",
    "## Solution\n",
    "### Part A and Part B\n",
    "$F_B$ and the reaction forces may be found by summing the forces and taking the moments about the point $O$."
   ]
  },
  {
   "cell_type": "code",
   "execution_count": 2,
   "metadata": {
    "pycharm": {
     "name": "#%%\n"
    }
   },
   "outputs": [
    {
     "data": {
      "text/plain": "Eq(C_y, 183.118820416782)",
      "text/latex": "$\\displaystyle C_{y} = 183.118820416782$"
     },
     "metadata": {},
     "output_type": "display_data"
    },
    {
     "data": {
      "text/plain": "Eq(C_z, -861.477082334154)",
      "text/latex": "$\\displaystyle C_{z} = -861.477082334154$"
     },
     "metadata": {},
     "output_type": "display_data"
    },
    {
     "data": {
      "text/plain": "Eq(F_B, 750.0)",
      "text/latex": "$\\displaystyle F_{B} = 750.0$"
     },
     "metadata": {},
     "output_type": "display_data"
    },
    {
     "data": {
      "text/plain": "Eq(O_y, -208.511499158303)",
      "text/latex": "$\\displaystyle O_{y} = -208.511499158303$"
     },
     "metadata": {},
     "output_type": "display_data"
    },
    {
     "data": {
      "text/plain": "Eq(O_z, 259.313659742423)",
      "text/latex": "$\\displaystyle O_{z} = 259.313659742423$"
     },
     "metadata": {},
     "output_type": "display_data"
    }
   ],
   "source": [
    "# Using matrices takes less thinking and more letting python do the work.\n",
    "Oy, Oz, Cy, Cz, F_B = sp.symbols('O_y O_z C_y C_z F_B')\n",
    "zero = sp.ZeroMatrix(3, 1)\n",
    "F_A_mat = sp.Matrix([0, 300*sp.cos(sp.rad(20)), -300*sp.sin(sp.rad(20))])\n",
    "F_B_mat = sp.Matrix([0, -F_B*sp.sin(sp.rad(20)), F_B*sp.cos(sp.rad(20))])\n",
    "O = sp.Matrix([0, Oy, Oz])\n",
    "C = sp.Matrix([0, Cy, Cz])\n",
    "\n",
    "# Sum forces\n",
    "sys1 = sp.Eq(O + F_A_mat + F_B_mat + C, zero)\n",
    "\n",
    "# Sum moments about O\n",
    "rA = sp.Matrix([16, 0, 10])\n",
    "rC = sp.Matrix([16 + 14, 0, 0])\n",
    "rB = sp.Matrix([16 + 14 + 9, 4, 0])\n",
    "sys2 = sp.Eq(rA.cross(F_A_mat) + rC.cross(C) + rB.cross(F_B_mat), zero)\n",
    "\n",
    "sol = sp.solve([sys1, sys2], dict=True)[0]\n",
    "for key, value in sol.items():\n",
    "    display(sp.Eq(key, value.n()))  # lbf"
   ]
  },
  {
   "cell_type": "markdown",
   "metadata": {
    "pycharm": {
     "name": "#%% md\n"
    }
   },
   "source": [
    "The reaction forces above assume all positive directions.\n",
    "\n",
    "### Part C\n",
    "\n",
    "\\begin{center}\n",
    "\\includegraphics{images/fig2}\n",
    "\\end{center}\n",
    "\n",
    "### Part D\n",
    "The magnitudes of the moment at section A and section C must be compared."
   ]
  },
  {
   "cell_type": "code",
   "execution_count": 3,
   "metadata": {
    "pycharm": {
     "name": "#%%\n"
    }
   },
   "outputs": [
    {
     "data": {
      "text/plain": "5323.95328927262",
      "text/latex": "$\\displaystyle 5323.95328927262$"
     },
     "metadata": {},
     "output_type": "display_data"
    },
    {
     "data": {
      "text/plain": "6750.00000058625",
      "text/latex": "$\\displaystyle 6750.00000058625$"
     },
     "metadata": {},
     "output_type": "display_data"
    }
   ],
   "source": [
    "M_A = sp.sqrt(sp.S('3336.18399')**2 + sp.S('4149.01856')**2)\n",
    "M_C = sp.sqrt(sp.S('6342.92519')**2 + sp.S('2308.63597')**2)\n",
    "display(M_A, M_C)"
   ]
  },
  {
   "cell_type": "code",
   "execution_count": 4,
   "metadata": {
    "pycharm": {
     "name": "#%%\n"
    }
   },
   "outputs": [
    {
     "data": {
      "text/plain": "35202.5269328378",
      "text/latex": "$\\displaystyle 35202.5269328378$"
     },
     "metadata": {},
     "output_type": "display_data"
    },
    {
     "data": {
      "text/plain": "7351.01217595663",
      "text/latex": "$\\displaystyle 7351.01217595663$"
     },
     "metadata": {},
     "output_type": "display_data"
    }
   ],
   "source": [
    "# M_C is the greater value\n",
    "M_C = sp.S(6750)  # in*lbf\n",
    "d = sp.S('1.25')\n",
    "sig = M_C*32/(sp.pi*d**3)  # psi\n",
    "T = 300*sp.cos(sp.rad(20))*10  # static torque\n",
    "tau = T*16/(sp.pi*d**3)  # psi\n",
    "display(sig.n(), tau.n())"
   ]
  },
  {
   "cell_type": "markdown",
   "metadata": {
    "pycharm": {
     "name": "#%% md\n"
    }
   },
   "source": [
    "### Part E"
   ]
  },
  {
   "cell_type": "code",
   "execution_count": 5,
   "metadata": {
    "pycharm": {
     "name": "#%%\n"
    },
    "tags": [
     "hide"
    ]
   },
   "outputs": [
    {
     "data": {
      "text/plain": "Eq(Eq(Eq(\\sigma_1, \\sigma_x/2 + \\sigma_y/2 + sqrt(\\tau_{xy}**2 + (\\sigma_x/2 - \\sigma_y/2)**2)), (1/2)*0 + (1/2)*35203.0 + sqrt(7351.0**2 + (-1/2*0 + (1/2)*35203.0)**2)), 36675.875)",
      "text/latex": "$\\displaystyle \\sigma_{1} = \\frac{\\sigma_{x}}{2} + \\frac{\\sigma_{y}}{2} + \\sqrt{\\tau_{xy}^{2} + \\left(\\frac{\\sigma_{x}}{2} - \\frac{\\sigma_{y}}{2}\\right)^{2}} = \\frac{1}{2} \\cdot 0 + \\frac{1}{2} \\cdot 35203.0 + \\sqrt{7351.0^{2} + \\left(\\left(- \\frac{1}{2}\\right) 0 + \\frac{1}{2} \\cdot 35203.0\\right)^{2}} = 36675.875$"
     },
     "metadata": {},
     "output_type": "display_data"
    },
    {
     "data": {
      "text/plain": "Eq(Eq(Eq(\\sigma_2, \\sigma_x/2 + \\sigma_y/2 - sqrt(\\tau_{xy}**2 + (\\sigma_x/2 - \\sigma_y/2)**2)), -sqrt(7351.0**2 + (-1/2*0 + (1/2)*35203.0)**2) + (1/2)*0 + (1/2)*35203.0), -1473.375)",
      "text/latex": "$\\displaystyle \\sigma_{2} = \\frac{\\sigma_{x}}{2} + \\frac{\\sigma_{y}}{2} - \\sqrt{\\tau_{xy}^{2} + \\left(\\frac{\\sigma_{x}}{2} - \\frac{\\sigma_{y}}{2}\\right)^{2}} = - \\sqrt{7351.0^{2} + \\left(\\left(- \\frac{1}{2}\\right) 0 + \\frac{1}{2} \\cdot 35203.0\\right)^{2}} + \\frac{1}{2} \\cdot 0 + \\frac{1}{2} \\cdot 35203.0 = -1473.375$"
     },
     "metadata": {},
     "output_type": "display_data"
    },
    {
     "data": {
      "text/plain": "Eq(Eq(Eq(\\tau_1, sqrt(\\tau_{xy}**2 + (\\sigma_x/2 - \\sigma_y/2)**2)), sqrt(7351.0**2 + (-1/2*0 + (1/2)*35203.0)**2)), 19074.625)",
      "text/latex": "$\\displaystyle \\tau_{1} = \\sqrt{\\tau_{xy}^{2} + \\left(\\frac{\\sigma_{x}}{2} - \\frac{\\sigma_{y}}{2}\\right)^{2}} = \\sqrt{7351.0^{2} + \\left(\\left(- \\frac{1}{2}\\right) 0 + \\frac{1}{2} \\cdot 35203.0\\right)^{2}} = 19074.625$"
     },
     "metadata": {},
     "output_type": "display_data"
    },
    {
     "data": {
      "text/plain": "Eq(Eq(Eq(\\tau_2, -sqrt(\\tau_{xy}**2 + (\\sigma_x/2 - \\sigma_y/2)**2)), -sqrt(7351.0**2 + (-1/2*0 + (1/2)*35203.0)**2)), -19074.625)",
      "text/latex": "$\\displaystyle \\tau_{2} = - \\sqrt{\\tau_{xy}^{2} + \\left(\\frac{\\sigma_{x}}{2} - \\frac{\\sigma_{y}}{2}\\right)^{2}} = - \\sqrt{7351.0^{2} + \\left(\\left(- \\frac{1}{2}\\right) 0 + \\frac{1}{2} \\cdot 35203.0\\right)^{2}} = -19074.625$"
     },
     "metadata": {},
     "output_type": "display_data"
    }
   ],
   "source": [
    "_ = get_principal(sig.n(5), 0, tau.n(5))"
   ]
  },
  {
   "cell_type": "markdown",
   "source": [
    "\\pagebreak\n",
    "\n",
    "\\begin{center}\n",
    "\\begin{tabular}{ccc}\n",
    "ME 4403 & Final Exam & Gabe Morris \\\\\n",
    "& & gnm54\n",
    "\\end{tabular}\n",
    "\\end{center}\n",
    "\n",
    "# Problem 5-36\n",
    "## Given\n",
    "\n",
    "\\begin{center}\n",
    "\\includegraphics{images/fig3}\n",
    "\\end{center}\n",
    "\n",
    "The figure above illustrates that the factor of safety for a machine element depends on the particular point selected for analysis. The bar is made of AISI 1006 cold-drawn steel and is loaded by the forces $F=0.55\\,kN$, $P=4.0\\,kN$, and $T=25\\,N\\cdot m$.\n",
    "\n",
    "## Find\n",
    "Find the factor of safety for both elements using the distortion energy method.\n",
    "\n",
    "## Solution\n",
    "The yield strength is $S_y=280\\,MPa$.\n",
    "\n",
    "### Element A"
   ],
   "metadata": {
    "collapsed": false,
    "pycharm": {
     "name": "#%% md\n"
    }
   }
  },
  {
   "cell_type": "code",
   "execution_count": 6,
   "outputs": [
    {
     "data": {
      "text/plain": "22635369.6841807",
      "text/latex": "$\\displaystyle 22635369.6841807$"
     },
     "metadata": {},
     "output_type": "display_data"
    },
    {
     "data": {
      "text/plain": "33575798.3648680",
      "text/latex": "$\\displaystyle 33575798.364868$"
     },
     "metadata": {},
     "output_type": "display_data"
    }
   ],
   "source": [
    "P = sp.S(4_000)\n",
    "Sy = sp.S(280e6)\n",
    "T = sp.S(25)\n",
    "d = sp.S('0.015')\n",
    "F = sp.S('0.55e3')\n",
    "l = sp.S('0.1')\n",
    "\n",
    "sig_x = 4*P/(sp.pi*d**2)\n",
    "tau_xy = 16*T/(sp.pi*d**3) - 4*sp.S('0.55e3')/(3*(sp.pi/4)*(sp.S('0.015')**2))\n",
    "display(sig_x.n(), tau_xy.n())  # Pa"
   ],
   "metadata": {
    "collapsed": false,
    "pycharm": {
     "name": "#%%\n"
    }
   }
  },
  {
   "cell_type": "code",
   "execution_count": 7,
   "outputs": [
    {
     "data": {
      "text/plain": "62404828.8857068",
      "text/latex": "$\\displaystyle 62404828.8857068$"
     },
     "execution_count": 7,
     "metadata": {},
     "output_type": "execute_result"
    }
   ],
   "source": [
    "sig_prime = von_mises(sig_x, 0, 0, tau_xy, 0, 0)\n",
    "sig_prime.n()  # Pa"
   ],
   "metadata": {
    "collapsed": false,
    "pycharm": {
     "name": "#%%\n"
    }
   }
  },
  {
   "cell_type": "code",
   "execution_count": 8,
   "outputs": [
    {
     "data": {
      "text/plain": "4.48683226922735",
      "text/latex": "$\\displaystyle 4.48683226922735$"
     },
     "execution_count": 8,
     "metadata": {},
     "output_type": "execute_result"
    }
   ],
   "source": [
    "(Sy/sig_prime).n()"
   ],
   "metadata": {
    "collapsed": false,
    "pycharm": {
     "name": "#%%\n"
    }
   }
  },
  {
   "cell_type": "markdown",
   "source": [
    "### Element B"
   ],
   "metadata": {
    "collapsed": false,
    "pycharm": {
     "name": "#%% md\n"
    }
   }
  },
  {
   "cell_type": "code",
   "execution_count": 9,
   "outputs": [
    {
     "data": {
      "text/plain": "188628080.701506",
      "text/latex": "$\\displaystyle 188628080.701506$"
     },
     "metadata": {},
     "output_type": "display_data"
    },
    {
     "data": {
      "text/plain": "37725616.1403011",
      "text/latex": "$\\displaystyle 37725616.1403011$"
     },
     "metadata": {},
     "output_type": "display_data"
    }
   ],
   "source": [
    "sig_x = 32*F*l/(sp.pi*d**3) + 4*P/(sp.pi*d**2)\n",
    "tau_xy = 16*T/(sp.pi*d**3)\n",
    "display(sig_x.n(), tau_xy.n())  # Pa"
   ],
   "metadata": {
    "collapsed": false,
    "pycharm": {
     "name": "#%%\n"
    }
   }
  },
  {
   "cell_type": "code",
   "execution_count": 10,
   "outputs": [
    {
     "data": {
      "text/plain": "199625196.727842",
      "text/latex": "$\\displaystyle 199625196.727842$"
     },
     "execution_count": 10,
     "metadata": {},
     "output_type": "execute_result"
    }
   ],
   "source": [
    "sig_prime = von_mises(sig_x, 0, 0, tau_xy, 0, 0)\n",
    "sig_prime.n()  # Pa"
   ],
   "metadata": {
    "collapsed": false,
    "pycharm": {
     "name": "#%%\n"
    }
   }
  },
  {
   "cell_type": "code",
   "execution_count": 11,
   "outputs": [
    {
     "data": {
      "text/plain": "1.40262854884865",
      "text/latex": "$\\displaystyle 1.40262854884865$"
     },
     "execution_count": 11,
     "metadata": {},
     "output_type": "execute_result"
    }
   ],
   "source": [
    "(Sy/sig_prime).n()"
   ],
   "metadata": {
    "collapsed": false,
    "pycharm": {
     "name": "#%%\n"
    }
   }
  },
  {
   "cell_type": "markdown",
   "source": [
    "\\pagebreak\n",
    "\n",
    "\\begin{center}\n",
    "\\begin{tabular}{ccc}\n",
    "ME 4403 & Final Exam & Gabe Morris \\\\\n",
    "& & gnm54\n",
    "\\end{tabular}\n",
    "\\end{center}\n",
    "\n",
    "# Problem 6-62\n",
    "## Given\n",
    "The material properties of a machine part are $S_{ut}=85\\,ksi$, $f=0.86$, and a fully corrected endurance limit of $S_e=45\\,ksi$. The part is to be cycled at $\\sigma_a=35\\,ksi$ and $\\sigma_m=30\\,ksi$ for $12\\cdot 10^3$ cycles.\n",
    "\n",
    "## Find\n",
    "Using the Goodman criterion, estimate the new endurance limit after cycling.\n",
    "\n",
    "a. Use Miner's method.\n",
    "b. Use Manson's method.\n",
    "\n",
    "## Solution\n",
    "### Part A"
   ],
   "metadata": {
    "collapsed": false,
    "pycharm": {
     "name": "#%% md\n"
    }
   }
  },
  {
   "cell_type": "code",
   "execution_count": 12,
   "outputs": [
    {
     "data": {
      "text/plain": "54.0909090909091",
      "text/latex": "$\\displaystyle 54.0909090909091$"
     },
     "execution_count": 12,
     "metadata": {},
     "output_type": "execute_result"
    }
   ],
   "source": [
    "Se = sp.S(45)\n",
    "Sut = sp.S(85)\n",
    "sig_a = sp.S(35)\n",
    "sig_m = sp.S(30)\n",
    "N = sp.S(12_000)\n",
    "# f = sp.S('1.06') - sp.S('2.8e-3')*Sut + sp.S('6.9e-6')*Sut**2\n",
    "f = sp.S('0.86')\n",
    "\n",
    "sig_ar = sig_a/(1 - (sig_m/Sut))  # 6-59\n",
    "sig_ar.n()  # ksi"
   ],
   "metadata": {
    "collapsed": false,
    "pycharm": {
     "name": "#%%\n"
    }
   }
  },
  {
   "cell_type": "code",
   "execution_count": 13,
   "outputs": [
    {
     "data": {
      "text/plain": "118.746888888889",
      "text/latex": "$\\displaystyle 118.746888888889$"
     },
     "metadata": {},
     "output_type": "display_data"
    },
    {
     "data": {
      "text/plain": "-0.0702349543941723",
      "text/latex": "$\\displaystyle -0.0702349543941723$"
     },
     "metadata": {},
     "output_type": "display_data"
    }
   ],
   "source": [
    "a = (f*Sut)**2/Se\n",
    "b = -sp.Rational(1, 3)*log10(f*Sut/Se)\n",
    "display(a, b.n())"
   ],
   "metadata": {
    "collapsed": false,
    "pycharm": {
     "name": "#%%\n"
    }
   }
  },
  {
   "cell_type": "markdown",
   "source": [
    "The total number of cycles needs to be calculated, then the remaining number of cycles may be found."
   ],
   "metadata": {
    "collapsed": false,
    "pycharm": {
     "name": "#%% md\n"
    }
   }
  },
  {
   "cell_type": "code",
   "execution_count": 14,
   "outputs": [
    {
     "data": {
      "text/plain": "72815.2378713139",
      "text/latex": "$\\displaystyle 72815.2378713139$"
     },
     "execution_count": 14,
     "metadata": {},
     "output_type": "execute_result"
    }
   ],
   "source": [
    "N1 = (sig_ar/a)**(1/b)\n",
    "N1.n()"
   ],
   "metadata": {
    "collapsed": false,
    "pycharm": {
     "name": "#%%\n"
    }
   }
  },
  {
   "cell_type": "code",
   "execution_count": 15,
   "outputs": [
    {
     "data": {
      "text/plain": "60815.2378713139",
      "text/latex": "$\\displaystyle 60815.2378713139$"
     },
     "execution_count": 15,
     "metadata": {},
     "output_type": "execute_result"
    }
   ],
   "source": [
    "N_remaining = N1 - N\n",
    "N_remaining.n()"
   ],
   "metadata": {
    "collapsed": false,
    "pycharm": {
     "name": "#%%\n"
    }
   }
  },
  {
   "cell_type": "code",
   "execution_count": 16,
   "outputs": [
    {
     "data": {
      "text/plain": "44.4344130331323",
      "text/latex": "$\\displaystyle 44.4344130331323$"
     },
     "execution_count": 16,
     "metadata": {},
     "output_type": "execute_result"
    }
   ],
   "source": [
    "a_prime = sig_ar/(N_remaining**b)\n",
    "Se_prime = a_prime*1e6**b\n",
    "Se_prime.n()  # ksi"
   ],
   "metadata": {
    "collapsed": false,
    "pycharm": {
     "name": "#%%\n"
    }
   }
  },
  {
   "cell_type": "markdown",
   "source": [
    "### Part B\n",
    "See p. 355."
   ],
   "metadata": {
    "collapsed": false,
    "pycharm": {
     "name": "#%% md\n"
    }
   }
  },
  {
   "cell_type": "code",
   "execution_count": 17,
   "outputs": [
    {
     "data": {
      "text/plain": "44.0529868187135",
      "text/latex": "$\\displaystyle 44.0529868187135$"
     },
     "execution_count": 17,
     "metadata": {},
     "output_type": "execute_result"
    }
   ],
   "source": [
    "Sf = f*Sut\n",
    "b_prime = log10(Sf/sig_ar)/log10(1e3/N_remaining)\n",
    "a_prime = sig_ar/(N_remaining**b_prime)\n",
    "Se_prime = a_prime*1e6**b_prime\n",
    "Se_prime.n()  # ksi"
   ],
   "metadata": {
    "collapsed": false,
    "pycharm": {
     "name": "#%%\n"
    }
   }
  },
  {
   "cell_type": "markdown",
   "source": [
    "\\pagebreak\n",
    "\n",
    "\\begin{center}\n",
    "\\begin{tabular}{ccc}\n",
    "ME 4403 & Final Exam & Gabe Morris \\\\\n",
    "& & gnm54\n",
    "\\end{tabular}\n",
    "\\end{center}\n",
    "\n",
    "# Problem 8-26\n",
    "## Given\n",
    "A $\\frac{3}{4}$ in-16 UNF series SAE grade 5 bolt has a $\\frac{3}{4}$-in ID steel tube 10 in long, clamped between washer faces of bolt and nut by turning the nut snug and adding one-third of a turn. The tube OD is the washer face diameter $d_w=1.5d=1.5(0.75)=1.125$ in.\n",
    "\n",
    "## Find\n",
    "a. Determine the bolt stiffness, the tube stiffness, and the joint constant $C$.\n",
    "b. When the one-third turn of the nut is applied, what is the initial tension $F_i$ in the bolt?\n",
    "\n",
    "## Solution\n",
    "### Part A\n",
    "The bolt stiffness comes from Eq. 8-17."
   ],
   "metadata": {
    "collapsed": false,
    "pycharm": {
     "name": "#%% md\n"
    }
   }
  },
  {
   "cell_type": "code",
   "execution_count": 18,
   "outputs": [
    {
     "data": {
      "text/plain": "10.6406250000000",
      "text/latex": "$\\displaystyle 10.640625$"
     },
     "execution_count": 18,
     "metadata": {},
     "output_type": "execute_result"
    }
   ],
   "source": [
    "l = 10  # inches\n",
    "H = sp.Rational(41, 64)\n",
    "L = l + H\n",
    "L.n()"
   ],
   "metadata": {
    "collapsed": false,
    "pycharm": {
     "name": "#%%\n"
    }
   }
  },
  {
   "cell_type": "code",
   "execution_count": 19,
   "outputs": [
    {
     "data": {
      "text/plain": "1295495.93286476",
      "text/latex": "$\\displaystyle 1295495.93286476$"
     },
     "execution_count": 19,
     "metadata": {},
     "output_type": "execute_result"
    }
   ],
   "source": [
    "d = sp.S('0.75')\n",
    "L = sp.S('10.75')  # to the nearest quarter inch\n",
    "LT = 2*d + sp.S('0.5')\n",
    "ld = L - LT\n",
    "lt = l - ld\n",
    "Ad = sp.pi*d**2/4\n",
    "At = sp.S('0.373')  # table 8-2\n",
    "E = sp.S(30e6)  # psi (Table A-5)\n",
    "kb = Ad*At*E/(Ad*lt + At*ld)\n",
    "kb.n()  # psi"
   ],
   "metadata": {
    "collapsed": false,
    "pycharm": {
     "name": "#%%\n"
    }
   }
  },
  {
   "cell_type": "markdown",
   "source": [
    "The stiffness the member may be calculated as a long bar (Eq. 4-4),\n",
    "\n",
    "$$k=\\frac{AE}{l}$$"
   ],
   "metadata": {
    "collapsed": false,
    "pycharm": {
     "name": "#%% md\n"
    }
   }
  },
  {
   "cell_type": "code",
   "execution_count": 20,
   "outputs": [
    {
     "data": {
      "text/plain": "1656699.25091649",
      "text/latex": "$\\displaystyle 1656699.25091649$"
     },
     "execution_count": 20,
     "metadata": {},
     "output_type": "execute_result"
    }
   ],
   "source": [
    "km = sp.pi/4*(sp.S('1.125')**2 - sp.S('0.75')**2)*E/l\n",
    "km.n()"
   ],
   "metadata": {
    "collapsed": false,
    "pycharm": {
     "name": "#%%\n"
    }
   }
  },
  {
   "cell_type": "markdown",
   "source": [
    "On p. 448, the joint constant is\n",
    "\n",
    "$$C=\\frac{k_b}{k_b+k_m}$$"
   ],
   "metadata": {
    "collapsed": false,
    "pycharm": {
     "name": "#%% md\n"
    }
   }
  },
  {
   "cell_type": "code",
   "execution_count": 21,
   "outputs": [
    {
     "data": {
      "text/plain": "0.438824621075850",
      "text/latex": "$\\displaystyle 0.43882462107585$"
     },
     "execution_count": 21,
     "metadata": {},
     "output_type": "execute_result"
    }
   ],
   "source": [
    "C = kb/(kb + km)\n",
    "C.n()"
   ],
   "metadata": {
    "collapsed": false,
    "pycharm": {
     "name": "#%%\n"
    }
   }
  },
  {
   "cell_type": "markdown",
   "source": [
    "### Part B\n",
    "The total displacement may be described as, \n",
    "\n",
    "$$\\delta=\\delta_b+\\delta_m=\\frac{N_{turns}}{N_{threads}}$$"
   ],
   "metadata": {
    "collapsed": false,
    "pycharm": {
     "name": "#%% md\n"
    }
   }
  },
  {
   "cell_type": "code",
   "execution_count": 22,
   "outputs": [
    {
     "data": {
      "text/plain": "Eq(Eq(Eq(F_i, N_t*k_b*k_m/(N*(k_b + k_m))), (1/3)*1.2955e+6*1.6567e+6/(16*(1.2955e+6 + 1.6567e+6))), 15145.84375)",
      "text/latex": "$\\displaystyle F_{i} = \\frac{N_{t} k_{b} k_{m}}{N \\left(k_{b} + k_{m}\\right)} = \\frac{1}{3} \\cdot 1.2955 \\cdot 10^{6} \\cdot 1.6567 \\cdot 10^{6} \\cdot \\frac{1}{16} \\cdot \\frac{1}{1.2955 \\cdot 10^{6} + 1.6567 \\cdot 10^{6}} = 15145.84375$"
     },
     "metadata": {},
     "output_type": "display_data"
    }
   ],
   "source": [
    "Fi, kb_, km_, Nt_, N = sp.symbols('F_i k_b k_m N_t N')\n",
    "db = Fi/kb_\n",
    "dm = Fi/km_\n",
    "eq = sp.Eq(db + dm, Nt_/N)\n",
    "sol = sp.solve(eq, Fi)[0]\n",
    "_ = sub_return(sol, [(km_, km.n(5)), (kb_, kb.n(5)), (Nt_, sp.Rational(1, 3)), (N, 16)], sym=Fi)  # lbf"
   ],
   "metadata": {
    "collapsed": false,
    "pycharm": {
     "name": "#%%\n"
    }
   }
  }
 ],
 "metadata": {
  "celltoolbar": "Tags",
  "kernelspec": {
   "display_name": "Python 3 (ipykernel)",
   "language": "python",
   "name": "python3"
  },
  "language_info": {
   "codemirror_mode": {
    "name": "ipython",
    "version": 3
   },
   "file_extension": ".py",
   "mimetype": "text/x-python",
   "name": "python",
   "nbconvert_exporter": "python",
   "pygments_lexer": "ipython3",
   "version": "3.10.4"
  }
 },
 "nbformat": 4,
 "nbformat_minor": 1
}