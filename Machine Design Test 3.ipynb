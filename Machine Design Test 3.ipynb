{
 "cells": [
  {
   "cell_type": "markdown",
   "source": [
    "\\begin{center}\n",
    "Gabe Morris\n",
    "\\end{center}"
   ],
   "metadata": {
    "collapsed": false,
    "pycharm": {
     "name": "#%% md\n"
    }
   }
  },
  {
   "cell_type": "code",
   "execution_count": 1,
   "metadata": {
    "collapsed": true,
    "pycharm": {
     "name": "#%%\n"
    }
   },
   "outputs": [],
   "source": [
    "# Notebook Preamble\n",
    "import sympy as sp\n",
    "import matplotlib.pyplot as plt\n",
    "\n",
    "plt.style.use('maroon_ipynb.mplstyle')"
   ]
  },
  {
   "cell_type": "markdown",
   "source": [
    "\\pagebreak\n",
    "\\tableofcontents\n",
    "\\pagebreak"
   ],
   "metadata": {
    "collapsed": false,
    "pycharm": {
     "name": "#%% md\n"
    }
   }
  },
  {
   "cell_type": "markdown",
   "source": [
    "\\begin{center}\n",
    "\\begin{tabular}{c c c}\n",
    "ME 4403 & Test 3 & Gabe Morris \\\\\n",
    "& & gnm54\n",
    "\\end{tabular}\n",
    "\\end{center}\n",
    "\n",
    "# Problem 11-2\n",
    "## Given\n",
    "A certain application requires a ball bearing with the inner ring rotating, with a design life of 25 kh at a speed of 350 rpm. The radial load is 2.5 kN and an application factor of 1.2 is appropriate. The reliability goal is 0.9.\n",
    "\n",
    "## Find\n",
    "Find the multiple of rating life required, $x_D$, and the catalog rating $C_{10}$ with which to enter a bearing table. Choose a 02-series deep-groove ball bearing from Table 11–2, and estimate the reliability in use.\n",
    "\n",
    "## Solution\n",
    "The relationship for $x_D$ is,\n",
    "\n",
    "$$x_D=\\frac{L_D}{L_R}$$"
   ],
   "metadata": {
    "collapsed": false,
    "pycharm": {
     "name": "#%% md\n"
    }
   }
  },
  {
   "cell_type": "code",
   "execution_count": 2,
   "outputs": [
    {
     "data": {
      "text/plain": "525",
      "text/latex": "$\\displaystyle 525$"
     },
     "execution_count": 2,
     "metadata": {},
     "output_type": "execute_result"
    }
   ],
   "source": [
    "LD = 60*25_000*sp.S(350)\n",
    "LR = 10**6\n",
    "xD = LD/LR\n",
    "xD"
   ],
   "metadata": {
    "collapsed": false,
    "pycharm": {
     "name": "#%%\n"
    }
   }
  },
  {
   "cell_type": "markdown",
   "source": [
    "The catalog rating comes from Eq. 11-9,\n",
    "\n",
    "$$C_{10}=a_fF_D\\left(\\frac{x_D}{x_0+(\\theta-x_0)[\\ln(1/R_D)]^{1/b}}\\right)^{1/a}$$"
   ],
   "metadata": {
    "collapsed": false,
    "pycharm": {
     "name": "#%% md\n"
    }
   }
  },
  {
   "cell_type": "code",
   "execution_count": 3,
   "outputs": [
    {
     "data": {
      "text/plain": "24.2553302533208",
      "text/latex": "$\\displaystyle 24.2553302533208$"
     },
     "execution_count": 3,
     "metadata": {},
     "output_type": "execute_result"
    }
   ],
   "source": [
    "# Weibull parameters\n",
    "x0, theta = sp.S('0.02'), sp.S('4.459')\n",
    "b = sp.S('1.483')\n",
    "\n",
    "a = sp.S(3)\n",
    "af = sp.S('1.2')\n",
    "FD = sp.S('2.5')\n",
    "RD = sp.S('0.9')\n",
    "C10 = af*FD*(xD/(x0 + (theta - x0)*(sp.log(1/RD))**(1/b)))**(1/a)\n",
    "C10  # kN"
   ],
   "metadata": {
    "collapsed": false,
    "pycharm": {
     "name": "#%%\n"
    }
   }
  },
  {
   "cell_type": "markdown",
   "source": [
    "Choose the 02-35 mm with a $C_{10}=25.5$ (from Table 11-2). The reliability may be estimated using Eq. 11-21.\n",
    "\n",
    "$$R=\\exp\\left(-\\left\\{\\frac{x_D\\left(\\frac{a_fF_D}{C_{10}}\\right)^a-x_0}{\\theta-x_0}\\right\\}^b\\right)$$"
   ],
   "metadata": {
    "collapsed": false,
    "pycharm": {
     "name": "#%% md\n"
    }
   }
  },
  {
   "cell_type": "code",
   "execution_count": 4,
   "outputs": [
    {
     "data": {
      "text/plain": "0.919509230992636",
      "text/latex": "$\\displaystyle 0.919509230992636$"
     },
     "execution_count": 4,
     "metadata": {},
     "output_type": "execute_result"
    }
   ],
   "source": [
    "C10 = sp.S('25.5')\n",
    "R = sp.exp(-((xD*(af*FD/C10)**a - x0)/(theta - x0))**b)\n",
    "R"
   ],
   "metadata": {
    "collapsed": false,
    "pycharm": {
     "name": "#%%\n"
    }
   }
  },
  {
   "cell_type": "markdown",
   "source": [
    "\\pagebreak\n",
    "\n",
    "\\begin{center}\n",
    "\\begin{tabular}{ccc}\n",
    "ME 4403 & Test 3 & Gabe Morris \\\\\n",
    "& & gnm54\n",
    "\\end{tabular}\n",
    "\\end{center}\n",
    "\n",
    "# Problem 11-8\n",
    "## Given\n",
    "A straight (cylindrical) roller bearing is subjected to a radial load of 20 kN. The life is to be 8000 h at a speed of 950 rpm and exhibit a reliability of 0.95.\n",
    "\n",
    "## Find\n",
    "What basic load rating should be used in selecting the bearing from a catalog of manufacturer 2 in Table 11–6?\n",
    "\n",
    "## Solution\n",
    "The catalog rating may be found using the same procedure from the previous problem."
   ],
   "metadata": {
    "collapsed": false,
    "pycharm": {
     "name": "#%% md\n"
    }
   }
  },
  {
   "cell_type": "code",
   "execution_count": 5,
   "outputs": [
    {
     "data": {
      "text/plain": "456",
      "text/latex": "$\\displaystyle 456$"
     },
     "execution_count": 5,
     "metadata": {},
     "output_type": "execute_result"
    }
   ],
   "source": [
    "LD = 60*8_000*sp.S(950)\n",
    "LR = 10**6\n",
    "xD = LD/LR\n",
    "xD"
   ],
   "metadata": {
    "collapsed": false,
    "pycharm": {
     "name": "#%%\n"
    }
   }
  },
  {
   "cell_type": "code",
   "execution_count": 6,
   "outputs": [
    {
     "data": {
      "text/plain": "144.944057059528",
      "text/latex": "$\\displaystyle 144.944057059528$"
     },
     "execution_count": 6,
     "metadata": {},
     "output_type": "execute_result"
    }
   ],
   "source": [
    "x0, theta = sp.S('0.02'), sp.S('4.459')\n",
    "b = sp.S('1.483')\n",
    "\n",
    "a = sp.Rational(10, 3)\n",
    "af = 1\n",
    "FD = sp.S(20)\n",
    "RD = sp.S('0.95')\n",
    "C10 = af*FD*(xD/(x0 + (theta - x0)*(sp.log(1/RD))**(1/b)))**(1/a)\n",
    "C10  # kN"
   ],
   "metadata": {
    "collapsed": false,
    "pycharm": {
     "name": "#%%\n"
    }
   }
  }
 ],
 "metadata": {
  "kernelspec": {
   "display_name": "Python 3",
   "language": "python",
   "name": "python3"
  },
  "language_info": {
   "codemirror_mode": {
    "name": "ipython",
    "version": 2
   },
   "file_extension": ".py",
   "mimetype": "text/x-python",
   "name": "python",
   "nbconvert_exporter": "python",
   "pygments_lexer": "ipython2",
   "version": "2.7.6"
  }
 },
 "nbformat": 4,
 "nbformat_minor": 0
}