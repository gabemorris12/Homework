{
 "cells": [
  {
   "cell_type": "markdown",
   "source": [
    "\\begin{center}\n",
    "Gabe Morris\n",
    "\\end{center}"
   ],
   "metadata": {
    "collapsed": false
   }
  },
  {
   "cell_type": "code",
   "execution_count": null,
   "metadata": {
    "collapsed": true
   },
   "outputs": [],
   "source": [
    "# Notebook Preamble\n",
    "import sympy as sp\n",
    "import numpy as np\n",
    "import matplotlib.pyplot as plt\n",
    "\n",
    "plt.style.use('maroon_ipynb.mplstyle')"
   ]
  },
  {
   "cell_type": "markdown",
   "source": [
    "\\pagebreak\n",
    "\\tableofcontents\n",
    "\\pagebreak"
   ],
   "metadata": {
    "collapsed": false
   }
  },
  {
   "cell_type": "markdown",
   "source": [
    "\\begin{center}\n",
    "\\begin{tabular}{c c c}\n",
    "ME 8253 & Homework 5 & Gabe Morris \\\\\n",
    "& & gnm54\n",
    "\\end{tabular}\n",
    "\\end{center}\n",
    "\n",
    "# Preliminary Questions\n",
    "\n",
    "**What are the expressions of the plastic zone size for plane stress and plane strain?**\n",
    "\n",
    "For plane stress:\n",
    "\n",
    "$$2r_y=\\frac{1}{\\pi}\\left(\\frac{K}{S_y}\\right)^2$$\n",
    "\n",
    "For plane strain:\n",
    "\n",
    "$$2r_y=\\frac{1}{3\\pi}\\left(\\frac{K}{S_y}\\right)^2$$\n",
    "\n",
    "where $K$ is the stress intensity factor, $r_y$ is the plastic zone radius, and $S_y$ is the yield strength.\n",
    "\n",
    "**What are the restrictions on the use of LEFM?**\n",
    "\n",
    "The following restrictions on the use of the LEFM are: \n",
    "\n",
    "* The plastic zone size at the crack tip must be small relative to the crack length.\n",
    "* The net nominal stresses in the crack plane must be less than $0.8S_y$\n",
    "* Under monotonic loading, $r_y\\le(1/8)a$\n",
    "* $r_y\\le(1/8)t$ and $r_y\\le(1/8)(w-a)$\n",
    "* For cyclic loading, $r_y\\le a/4$\n",
    "\n",
    "**What are the restrictions for the plane strain fracture toughness $K_{IC}$ value to be considered valid?**\n",
    "\n",
    "In order for a plane strain fracture toughness value to be considered valid, it is required that:\n",
    "\n",
    "$$a\\ge2.5\\left(\\frac{K_{IC}}{S_y}\\right)^2$$\n",
    "$$t\\ge2.5\\left(\\frac{K_{IC}}{S_y}\\right)^2$$"
   ],
   "metadata": {
    "collapsed": false
   }
  }
 ],
 "metadata": {
  "kernelspec": {
   "display_name": "Python 3",
   "language": "python",
   "name": "python3"
  },
  "language_info": {
   "codemirror_mode": {
    "name": "ipython",
    "version": 2
   },
   "file_extension": ".py",
   "mimetype": "text/x-python",
   "name": "python",
   "nbconvert_exporter": "python",
   "pygments_lexer": "ipython2",
   "version": "2.7.6"
  }
 },
 "nbformat": 4,
 "nbformat_minor": 0
}
