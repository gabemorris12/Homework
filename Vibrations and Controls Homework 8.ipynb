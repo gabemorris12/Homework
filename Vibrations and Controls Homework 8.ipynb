{
 "cells": [
  {
   "cell_type": "markdown",
   "source": [
    "\\begin{center}\n",
    "Gabe Morris\n",
    "\\end{center}"
   ],
   "metadata": {
    "collapsed": false,
    "pycharm": {
     "name": "#%% md\n"
    }
   }
  },
  {
   "cell_type": "markdown",
   "source": [
    "\\pagebreak\n",
    "\\tableofcontents\n",
    "\\pagebreak"
   ],
   "metadata": {
    "collapsed": false,
    "pycharm": {
     "name": "#%% md\n"
    }
   }
  },
  {
   "cell_type": "markdown",
   "source": [
    "\\begin{center}\n",
    "\\begin{tabular}{c c c}\n",
    "ME 6643 & Homework 8 & Gabe Morris \\\\\n",
    "& & gnm54\n",
    "\\end{tabular}\n",
    "\\end{center}\n",
    "\n",
    "# Problem 10.7\n",
    "## Given\n",
    "\n",
    "\\begin{center}\n",
    "\\includegraphics{images/fig1} \\\\\n",
    "Figure 1\n",
    "\\end{center}\n",
    "\n",
    "Figure 1 shows a system for controlling the angular position of a load, such as an antenna. There is no disturbance.\n",
    "\n",
    "## Find\n",
    "\n",
    "\\begin{center}\n",
    "\\includegraphics{images/fig2} \\\\\n",
    "Figure 2\n",
    "\\end{center}\n",
    "\n",
    "a. Draw the block diagram of a system using proportional control, similar to that shown in Figure 2 except that the command and the output are angular positions. Assume that the motor is armature-controlled and that its armature time constant is negligible. Let the inertia $I_e$ be the equivalent inertia of the entire system, as felt on the motor shaft, and let $N_e$ be the equivalent gear ratio of the entire system, as felt on the motor shaft. Show the necessary transfer functions for each block.\n",
    "b.  Determine the value for $N_e$, and determine $I_e$ as a function of the inertias $I_1$, $I_2$, and $I_3$.\n",
    "\n",
    "## Solution\n",
    "### Part A\n",
    "The analysis is similar to that shown in Figure 10.3.9 in the text, but the inductor is removed from the armature circuit because the time constant is negligible, and the angle of rotation is the output, which means the integrator ($\\frac{1}{s}$) must be added to the block diagram. The resistive torque is ignored.\n",
    "\n",
    "\\begin{center}\n",
    "\\includegraphics{images/fig3}\n",
    "\\end{center}\n",
    "\n",
    "### Part B\n",
    "The equivalent gear ratio is,\n",
    "\n",
    "$$N_e=2(3)=6$$\n",
    "\n",
    "The equivalent inertia may be found by using kinetic energy methods,\n",
    "\n",
    "$$KE=\\frac{1}{2}I_1\\omega_1^2+\\frac{1}{2}I_2\\omega_2^2+\\frac{1}{2}I_3\\omega=\\frac{1}{2}(I_1+\\frac{1}{4}I_2+\\frac{1}{36}I_3)\\omega_1$$\n",
    "\n",
    "Thus,\n",
    "\n",
    "$$I_e=I_1+\\frac{1}{4}I_2+\\frac{1}{36}I_3$$"
   ],
   "metadata": {
    "collapsed": false,
    "pycharm": {
     "name": "#%% md\n"
    }
   }
  }
 ],
 "metadata": {
  "kernelspec": {
   "display_name": "Python 3",
   "language": "python",
   "name": "python3"
  },
  "language_info": {
   "codemirror_mode": {
    "name": "ipython",
    "version": 2
   },
   "file_extension": ".py",
   "mimetype": "text/x-python",
   "name": "python",
   "nbconvert_exporter": "python",
   "pygments_lexer": "ipython2",
   "version": "2.7.6"
  }
 },
 "nbformat": 4,
 "nbformat_minor": 0
}