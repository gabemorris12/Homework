{
 "cells": [
  {
   "cell_type": "markdown",
   "metadata": {
    "pycharm": {
     "name": "#%% md\n"
    }
   },
   "source": [
    "\\begin{center}\n",
    "Gabe Morris\n",
    "\\end{center}"
   ]
  },
  {
   "cell_type": "code",
   "execution_count": 1,
   "metadata": {
    "collapsed": true,
    "pycharm": {
     "name": "#%%\n"
    }
   },
   "outputs": [],
   "source": [
    "# Notebook Preamble\n",
    "import matplotlib.pyplot as plt\n",
    "import sympy as sp\n",
    "\n",
    "plt.style.use('maroon_ipynb.mplstyle')\n",
    "\n",
    "def von_mises(sx_, sy_, sz_, txy_, tyz_, tzx_):\n",
    "    return(1/sp.sqrt(2)*sp.sqrt((sx_ - sy_)**2 + (sy_ - sz_)**2 + (sz_ -sx_)**2 + 6*(txy_**2 + tyz_**2 + tzx_**2))).n()"
   ]
  },
  {
   "cell_type": "markdown",
   "metadata": {
    "pycharm": {
     "name": "#%% md\n"
    }
   },
   "source": [
    "\\pagebreak\n",
    "\\tableofcontents\n",
    "\\pagebreak"
   ]
  },
  {
   "cell_type": "markdown",
   "metadata": {
    "pycharm": {
     "name": "#%% md\n"
    }
   },
   "source": [
    "\\begin{center}\n",
    "\\begin{tabular}{c c c}\n",
    "ME 4403 & Homework 5 & Gabe Morris \\\\\n",
    "& & gnm54\n",
    "\\end{tabular}\n",
    "\\end{center}\n",
    "\n",
    "# Problem 8-1\n",
    "## Given\n",
    "A power screw is 25 mm in diameter and has a thread pitch of 5 mm."
   ]
  },
  {
   "cell_type": "code",
   "execution_count": 2,
   "metadata": {
    "pycharm": {
     "name": "#%%\n"
    }
   },
   "outputs": [],
   "source": [
    "d = sp.S(25)\n",
    "p = sp.S(5)"
   ]
  },
  {
   "cell_type": "markdown",
   "metadata": {
    "pycharm": {
     "name": "#%% md\n"
    }
   },
   "source": [
    "## Find\n",
    "a. Find the thread depth, the thread width, the mean and root diameters, and the lead, provided square threads are used.\n",
    "b. Repeat part (a) for Acme threads.\n",
    "\n",
    "## Solution\n",
    "\n",
    "\\begin{center}\n",
    "\\includegraphics{images/fig1}\n",
    "\\end{center}\n",
    "\n",
    "### Part A\n",
    "**Thread Depth**\n",
    "\n",
    "From (a) in the figure above, the thread depth is half the pitch."
   ]
  },
  {
   "cell_type": "code",
   "execution_count": 3,
   "metadata": {
    "pycharm": {
     "name": "#%%\n"
    }
   },
   "outputs": [
    {
     "data": {
      "text/plain": "2.50000000000000",
      "text/latex": "$\\displaystyle 2.5$"
     },
     "execution_count": 3,
     "metadata": {},
     "output_type": "execute_result"
    }
   ],
   "source": [
    "# Thread depth\n",
    "thread_depth = (p/2).n()\n",
    "thread_depth  # mm"
   ]
  },
  {
   "cell_type": "markdown",
   "metadata": {
    "pycharm": {
     "name": "#%% md\n"
    }
   },
   "source": [
    "**Thread Width**\n",
    "\n",
    "The thread width is the same as the thread depth."
   ]
  },
  {
   "cell_type": "code",
   "execution_count": 4,
   "metadata": {
    "pycharm": {
     "name": "#%%\n"
    }
   },
   "outputs": [
    {
     "data": {
      "text/plain": "2.50000000000000",
      "text/latex": "$\\displaystyle 2.5$"
     },
     "execution_count": 4,
     "metadata": {},
     "output_type": "execute_result"
    }
   ],
   "source": [
    "thread_width = thread_depth\n",
    "thread_width  # mm"
   ]
  },
  {
   "cell_type": "markdown",
   "metadata": {
    "pycharm": {
     "name": "#%% md\n"
    }
   },
   "source": [
    "**Mean and Root Diameters**"
   ]
  },
  {
   "cell_type": "code",
   "execution_count": 5,
   "metadata": {
    "pycharm": {
     "name": "#%%\n"
    }
   },
   "outputs": [
    {
     "data": {
      "text/plain": "20.0000000000000",
      "text/latex": "$\\displaystyle 20.0$"
     },
     "execution_count": 5,
     "metadata": {},
     "output_type": "execute_result"
    }
   ],
   "source": [
    "# Root diameter is the same as minor diameter\n",
    "dr = d - 2*thread_depth\n",
    "dr  # mm"
   ]
  },
  {
   "cell_type": "code",
   "execution_count": 6,
   "metadata": {
    "pycharm": {
     "name": "#%%\n"
    }
   },
   "outputs": [
    {
     "data": {
      "text/plain": "22.5000000000000",
      "text/latex": "$\\displaystyle 22.5$"
     },
     "execution_count": 6,
     "metadata": {},
     "output_type": "execute_result"
    }
   ],
   "source": [
    "# Mean diameter\n",
    "dm = (d + dr)/2\n",
    "dm  # mm"
   ]
  },
  {
   "cell_type": "markdown",
   "metadata": {
    "pycharm": {
     "name": "#%% md\n"
    }
   },
   "source": [
    "**Lead**"
   ]
  },
  {
   "cell_type": "code",
   "execution_count": 7,
   "metadata": {
    "pycharm": {
     "name": "#%%\n"
    }
   },
   "outputs": [
    {
     "data": {
      "text/plain": "5",
      "text/latex": "$\\displaystyle 5$"
     },
     "execution_count": 7,
     "metadata": {},
     "output_type": "execute_result"
    }
   ],
   "source": [
    "# The lead is the same as the pitch because it's single threaded\n",
    "l = p\n",
    "l  # mm"
   ]
  },
  {
   "cell_type": "markdown",
   "metadata": {
    "pycharm": {
     "name": "#%% md\n"
    }
   },
   "source": [
    "### Part B\n",
    "The same procedure is done in Part B, but now we look at (b) in the above figure.\n",
    "\n",
    "**Thread Depth and Thread Width**"
   ]
  },
  {
   "cell_type": "code",
   "execution_count": 8,
   "metadata": {
    "pycharm": {
     "name": "#%%\n"
    }
   },
   "outputs": [
    {
     "data": {
      "text/plain": "2.50000000000000",
      "text/latex": "$\\displaystyle 2.5$"
     },
     "execution_count": 8,
     "metadata": {},
     "output_type": "execute_result"
    }
   ],
   "source": [
    "# The thread depth and thread width is still the same\n",
    "thread_depth  # mm"
   ]
  },
  {
   "cell_type": "code",
   "execution_count": 9,
   "metadata": {
    "pycharm": {
     "name": "#%%\n"
    }
   },
   "outputs": [
    {
     "data": {
      "text/plain": "2.50000000000000",
      "text/latex": "$\\displaystyle 2.5$"
     },
     "execution_count": 9,
     "metadata": {},
     "output_type": "execute_result"
    }
   ],
   "source": [
    "thread_width  # mm"
   ]
  },
  {
   "cell_type": "markdown",
   "metadata": {
    "pycharm": {
     "name": "#%% md\n"
    }
   },
   "source": [
    "Because the thread depth is the same, so will the minor and mean diameter. The lead also remains unchanged.\n",
    "\n",
    "**Mean Diameter, Root Diameter, and Lead**"
   ]
  },
  {
   "cell_type": "code",
   "execution_count": 10,
   "metadata": {
    "pycharm": {
     "name": "#%%\n"
    }
   },
   "outputs": [
    {
     "data": {
      "text/plain": "22.5000000000000",
      "text/latex": "$\\displaystyle 22.5$"
     },
     "execution_count": 10,
     "metadata": {},
     "output_type": "execute_result"
    }
   ],
   "source": [
    "dm  # mm"
   ]
  },
  {
   "cell_type": "code",
   "execution_count": 11,
   "metadata": {
    "pycharm": {
     "name": "#%%\n"
    }
   },
   "outputs": [
    {
     "data": {
      "text/plain": "20.0000000000000",
      "text/latex": "$\\displaystyle 20.0$"
     },
     "execution_count": 11,
     "metadata": {},
     "output_type": "execute_result"
    }
   ],
   "source": [
    "dr  # mm"
   ]
  },
  {
   "cell_type": "code",
   "execution_count": 12,
   "metadata": {
    "pycharm": {
     "name": "#%%\n"
    }
   },
   "outputs": [
    {
     "data": {
      "text/plain": "5",
      "text/latex": "$\\displaystyle 5$"
     },
     "execution_count": 12,
     "metadata": {},
     "output_type": "execute_result"
    }
   ],
   "source": [
    "l  # mm"
   ]
  },
  {
   "cell_type": "markdown",
   "metadata": {
    "pycharm": {
     "name": "#%% md\n"
    }
   },
   "source": [
    "\\pagebreak\n",
    "\n",
    "\\begin{center}\n",
    "\\begin{tabular}{ccc}\n",
    "ME 4403 & Homework 5 & Gabe Morris \\\\\n",
    "& & gnm54\n",
    "\\end{tabular}\n",
    "\\end{center}\n",
    "\n",
    "# Problem 8-7\n",
    "## Given\n",
    "\n",
    "\\begin{center}\n",
    "\\includegraphics{images/fig2}\n",
    "\\end{center}\n",
    "\n",
    "For the C clamp shown, a force is applied at the end of the $\\frac{3}{8}\\,in$ diameter handle. The screw is a $\\frac{3}{4}\\,in-6$ Acme thread, and is 10 inches long overall, with a maximum of 8 inches possible in the clamping region. The handle and screw are both made from cold-drawn AISI 1006 steel. The coefficients of friction for the screw and the collar are 0.15. The collar, which in this case is the anvil striker’s swivel joint, has a friction diameter of 1 inch. It is desired that the handle will yield before the screw will fail."
   ]
  },
  {
   "cell_type": "code",
   "execution_count": 13,
   "metadata": {
    "pycharm": {
     "name": "#%%\n"
    }
   },
   "outputs": [],
   "source": [
    "# Cold Drawn Steel\n",
    "Sy = sp.S(41)  # ksi"
   ]
  },
  {
   "cell_type": "markdown",
   "metadata": {
    "pycharm": {
     "name": "#%% md\n"
    }
   },
   "source": [
    "## Find\n",
    "Check this by the following steps:\n",
    "\n",
    "a. Determine the maximum force that can be applied to the end of the handle to reach the point of yielding of the handle.\n",
    "b. Using the force from part (a), determine the clamping force.\n",
    "c. Using the force from part (a), determine the factor of safety for yielding at the interface of the screw body and the base of the first engaged thread, assuming the first thread carries 38% of the total clamping force.\n",
    "d. Determine the factor of safety for buckling of the screw.\n",
    "\n",
    "## Solution\n",
    "### Part A\n",
    "The handle is a cantilever beam."
   ]
  },
  {
   "cell_type": "code",
   "execution_count": 14,
   "metadata": {
    "pycharm": {
     "name": "#%%\n"
    }
   },
   "outputs": [
    {
     "data": {
      "text/plain": "Eq(51200*F/(27*pi), 41)",
      "text/latex": "$\\displaystyle \\frac{51200 F}{27 \\pi} = 41$"
     },
     "execution_count": 14,
     "metadata": {},
     "output_type": "execute_result"
    }
   ],
   "source": [
    "# Getting the maximum force\n",
    "F = sp.Symbol('F')\n",
    "M = (sp.S('3.5') - sp.S('0.375'))*F\n",
    "d_handle = sp.Rational(3, 8)\n",
    "I = sp.pi*d_handle**4/64\n",
    "eq1 = sp.Eq((M*(d_handle/2)/I).nsimplify(), Sy)  # Force in kips\n",
    "eq1"
   ]
  },
  {
   "cell_type": "code",
   "execution_count": 15,
   "metadata": {
    "pycharm": {
     "name": "#%%\n"
    }
   },
   "outputs": [
    {
     "data": {
      "text/plain": "67.9246692875762",
      "text/latex": "$\\displaystyle 67.9246692875762$"
     },
     "execution_count": 15,
     "metadata": {},
     "output_type": "execute_result"
    }
   ],
   "source": [
    "F_ = (sp.solve(eq1)[0]*1000).n()\n",
    "F_  # lbf"
   ]
  },
  {
   "cell_type": "markdown",
   "metadata": {
    "pycharm": {
     "name": "#%% md\n"
    }
   },
   "source": [
    "### Part B\n",
    "For a $\\frac{3}{4}\\,in-6$ thread,"
   ]
  },
  {
   "cell_type": "code",
   "execution_count": 16,
   "metadata": {
    "pycharm": {
     "name": "#%%\n"
    }
   },
   "outputs": [
    {
     "data": {
      "text/plain": "0.666666666666667",
      "text/latex": "$\\displaystyle 0.666666666666667$"
     },
     "execution_count": 16,
     "metadata": {},
     "output_type": "execute_result"
    }
   ],
   "source": [
    "p = l = sp.Rational(1, 6).n()\n",
    "d = sp.S('0.75')\n",
    "dm = d - p/2\n",
    "dm # inches"
   ]
  },
  {
   "cell_type": "markdown",
   "metadata": {
    "pycharm": {
     "name": "#%% md\n"
    }
   },
   "source": [
    "Equations 8-5 and 8-6 may be used to compute the force,\n",
    "\n",
    "$$T_{R}=\\frac{F d_{m}}{2}\\left(\\frac{l+\\pi f d_{m} \\sec \\alpha}{\\pi d_{m}-f l \\sec \\alpha}\\right)$$\n",
    "$$T_c=\\frac{Ff_cd_c}{2}$$"
   ]
  },
  {
   "cell_type": "code",
   "execution_count": 17,
   "metadata": {
    "pycharm": {
     "name": "#%%\n"
    }
   },
   "outputs": [
    {
     "data": {
      "text/plain": "Eq(0.075*F + 0.333333333333333*F*(0.166666666666667 + 0.103290031219769*pi)/(-0.0258225078049421 + 0.666666666666667*pi), 237.736342506517)",
      "text/latex": "$\\displaystyle 0.075 F + \\frac{0.333333333333333 F \\left(0.166666666666667 + 0.103290031219769 \\pi\\right)}{-0.0258225078049421 + 0.666666666666667 \\pi} = 237.736342506517$"
     },
     "execution_count": 17,
     "metadata": {},
     "output_type": "execute_result"
    }
   ],
   "source": [
    "fc = sp.S('0.15')\n",
    "dc = 1\n",
    "alpha = sp.rad(sp.S('14.5'))  # see Figure 8-7 (a)\n",
    "sec_a = (1/sp.cos(alpha)).n()\n",
    "T_ = sp.S('3.5')*F_\n",
    "T = F*dm/2*((l + sp.pi*fc*dm*sec_a)/(sp.pi*dm - fc*l*sec_a)) + F*fc*dc/2\n",
    "eq2 = sp.Eq(T, T_)\n",
    "eq2"
   ]
  },
  {
   "cell_type": "code",
   "execution_count": 18,
   "metadata": {
    "pycharm": {
     "name": "#%%\n"
    }
   },
   "outputs": [
    {
     "data": {
      "text/plain": "1542.27366292139",
      "text/latex": "$\\displaystyle 1542.27366292139$"
     },
     "execution_count": 18,
     "metadata": {},
     "output_type": "execute_result"
    }
   ],
   "source": [
    "F_clamp = sp.solve(eq2)[0]\n",
    "F_clamp  # lbf"
   ]
  },
  {
   "cell_type": "markdown",
   "metadata": {
    "pycharm": {
     "name": "#%% md\n"
    }
   },
   "source": [
    "### Part C\n",
    "Use Eq. 8-8, 8-11, 8-7, and 8-12."
   ]
  },
  {
   "cell_type": "code",
   "execution_count": 19,
   "metadata": {
    "pycharm": {
     "name": "#%%\n"
    }
   },
   "outputs": [
    {
     "data": {
      "text/plain": "-5.77082590952346",
      "text/latex": "$\\displaystyle -5.77082590952346$"
     },
     "execution_count": 19,
     "metadata": {},
     "output_type": "execute_result"
    }
   ],
   "source": [
    "# Finding the axial stress\n",
    "dr = d - p\n",
    "sig_y = ((-4*F_clamp/(sp.pi*dr**2))/1000).n()\n",
    "sig_y  # ksi"
   ]
  },
  {
   "cell_type": "code",
   "execution_count": 20,
   "metadata": {
    "pycharm": {
     "name": "#%%\n"
    }
   },
   "outputs": [
    {
     "data": {
      "text/plain": "11.5127976894993",
      "text/latex": "$\\displaystyle 11.5127976894993$"
     },
     "execution_count": 20,
     "metadata": {},
     "output_type": "execute_result"
    }
   ],
   "source": [
    "# Find the bending stress\n",
    "sig_x = ((6*sp.S('0.38')*F_clamp/(sp.pi*dr*1*p))/1000).n()\n",
    "sig_x  # ksi"
   ]
  },
  {
   "cell_type": "code",
   "execution_count": 21,
   "metadata": {
    "pycharm": {
     "name": "#%%\n"
    }
   },
   "outputs": [
    {
     "data": {
      "text/plain": "6.09979591836735",
      "text/latex": "$\\displaystyle 6.09979591836735$"
     },
     "execution_count": 21,
     "metadata": {},
     "output_type": "execute_result"
    }
   ],
   "source": [
    "tau_yz = ((16*T_/(sp.pi*dr**3))/1000).n()\n",
    "tau_yz  # ksi"
   ]
  },
  {
   "cell_type": "code",
   "execution_count": 22,
   "metadata": {
    "pycharm": {
     "name": "#%%\n"
    }
   },
   "outputs": [
    {
     "data": {
      "text/plain": "-2.02818214285714",
      "text/latex": "$\\displaystyle -2.02818214285714$"
     },
     "execution_count": 22,
     "metadata": {},
     "output_type": "execute_result"
    }
   ],
   "source": [
    "tau_zx = ((-4*sp.S('0.38')*T_/(sp.pi*dr**2*1*p))/1000).n()\n",
    "tau_zx  # ksi"
   ]
  },
  {
   "cell_type": "markdown",
   "metadata": {
    "pycharm": {
     "name": "#%% md\n"
    }
   },
   "source": [
    "Now the von mises stress may be calculated."
   ]
  },
  {
   "cell_type": "code",
   "execution_count": 23,
   "metadata": {
    "pycharm": {
     "name": "#%%\n"
    }
   },
   "outputs": [
    {
     "data": {
      "text/plain": "18.8745435088120",
      "text/latex": "$\\displaystyle 18.874543508812$"
     },
     "execution_count": 23,
     "metadata": {},
     "output_type": "execute_result"
    }
   ],
   "source": [
    "sig_prime = von_mises(sig_x, sig_y, 0, 0, tau_yz, tau_zx)\n",
    "sig_prime  # ksi"
   ]
  },
  {
   "cell_type": "code",
   "execution_count": 24,
   "metadata": {
    "pycharm": {
     "name": "#%%\n"
    }
   },
   "outputs": [
    {
     "data": {
      "text/plain": "2.17223796595972",
      "text/latex": "$\\displaystyle 2.17223796595972$"
     },
     "execution_count": 24,
     "metadata": {},
     "output_type": "execute_result"
    }
   ],
   "source": [
    "# Get the factor of safety\n",
    "ny = Sy/sig_prime\n",
    "ny"
   ]
  },
  {
   "cell_type": "markdown",
   "metadata": {
    "pycharm": {
     "name": "#%% md\n"
    }
   },
   "source": [
    "### Part D\n",
    "The critical force, $P_{cr}$, may be found from Eq. 4-48,\n",
    "\n",
    "$$\n",
    "\\frac{P_{\\mathrm{cr}}}{A}=S_{y}-\\left(\\frac{S_{y}}{2 \\pi} \\frac{l}{k}\\right)^{2} \\frac{1}{C E}\n",
    "$$\n",
    "\n",
    "$C=1.2$ from Table 4-2"
   ]
  },
  {
   "cell_type": "code",
   "execution_count": 25,
   "metadata": {
    "pycharm": {
     "name": "#%%\n"
    }
   },
   "outputs": [
    {
     "data": {
      "text/plain": "10.0061437991992",
      "text/latex": "$\\displaystyle 10.0061437991992$"
     },
     "execution_count": 25,
     "metadata": {},
     "output_type": "execute_result"
    }
   ],
   "source": [
    "C = sp.S('1.2')\n",
    "E = sp.S(30_000)  # ksi (steel)\n",
    "k = dr/4\n",
    "A = sp.pi/4*dr**2\n",
    "P_cr = (A*(Sy - (Sy*8/(2*sp.pi*k))**2*1/(C*E))).n()\n",
    "P_cr"
   ]
  },
  {
   "cell_type": "code",
   "execution_count": 26,
   "metadata": {
    "pycharm": {
     "name": "#%%\n"
    }
   },
   "outputs": [
    {
     "data": {
      "text/plain": "6.48791718341702",
      "text/latex": "$\\displaystyle 6.48791718341702$"
     },
     "execution_count": 26,
     "metadata": {},
     "output_type": "execute_result"
    }
   ],
   "source": [
    "# Factor of safety\n",
    "P_cr*1000/F_clamp"
   ]
  },
  {
   "cell_type": "markdown",
   "source": [
    "\\pagebreak\n",
    "\n",
    "\\begin{center}\n",
    "\\begin{tabular}{ccc}\n",
    "ME 4403 & Homework 5 & Gabe Morris \\\\\n",
    "& & gnm54\n",
    "\\end{tabular}\n",
    "\\end{center}\n",
    "\n",
    "# Problem 8-9\n",
    "## Given\n",
    "A 1.5 inch power screw has double square threads with a pitch of $\\frac{1}{4}\\,in$. The nut is to move at a velocity of 2 in/s and move a load of $F=2.2\\,kips$. The frictional coefficients are 0.1 for the threads and 0.15 for the collar. The frictional diameter of the collar is 2.25 inches."
   ],
   "metadata": {
    "collapsed": false,
    "pycharm": {
     "name": "#%% md\n"
    }
   }
  },
  {
   "cell_type": "code",
   "execution_count": 27,
   "outputs": [],
   "source": [
    "p = sp.S('0.25')  # inches\n",
    "d = sp.S('1.5')  # inches\n",
    "f, fc = sp.S('0.1'), sp.S('0.15')\n",
    "V = 2  # in/s\n",
    "F = sp.S('2200')  # lbf\n",
    "dc = sp.S('2.25')  # inches\n",
    "\n",
    "l = 2*p  # lead in inches\n",
    "dm = d - p/2  # mean diameter in inches\n",
    "dr = d - p  # minor diameter in inches"
   ],
   "metadata": {
    "collapsed": false,
    "pycharm": {
     "name": "#%%\n"
    }
   }
  },
  {
   "cell_type": "markdown",
   "source": [
    "## Find\n",
    "Find the power required to drive the power screw.\n",
    "\n",
    "## Solution\n",
    "Power is $P=T\\omega$ and the torque for square threads when raising a load is (Eq. 8-1),\n",
    "\n",
    "$$T_R=\\frac{Fd_m}{2}\\left(\\frac{l+\\pi fd_m}{\\pi d_m-fl}\\right)$$\n",
    "\n",
    "The total torque also encompasses Eq. 8-6."
   ],
   "metadata": {
    "collapsed": false,
    "pycharm": {
     "name": "#%% md\n"
    }
   }
  },
  {
   "cell_type": "code",
   "execution_count": 28,
   "outputs": [
    {
     "data": {
      "text/plain": "701.391797325860",
      "text/latex": "$\\displaystyle 701.39179732586$"
     },
     "execution_count": 28,
     "metadata": {},
     "output_type": "execute_result"
    }
   ],
   "source": [
    "TR = (F*dm/2*(l + sp.pi*f*dm)/(sp.pi*dm - f*l)).n()\n",
    "TC = F*fc*dc/2\n",
    "T = TR + TC\n",
    "T  # in*lbf"
   ],
   "metadata": {
    "collapsed": false,
    "pycharm": {
     "name": "#%%\n"
    }
   }
  },
  {
   "cell_type": "markdown",
   "source": [
    "The angular velocity may be acquired by using the lead because in 1 revolution, the nut has travelled the distance of the lead."
   ],
   "metadata": {
    "collapsed": false,
    "pycharm": {
     "name": "#%% md\n"
    }
   }
  },
  {
   "cell_type": "code",
   "execution_count": 29,
   "outputs": [
    {
     "data": {
      "text/plain": "4.00000000000000",
      "text/latex": "$\\displaystyle 4.0$"
     },
     "execution_count": 29,
     "metadata": {},
     "output_type": "execute_result"
    }
   ],
   "source": [
    "# getting rev/s\n",
    "w = V/l\n",
    "w"
   ],
   "metadata": {
    "collapsed": false,
    "pycharm": {
     "name": "#%%\n"
    }
   }
  },
  {
   "cell_type": "code",
   "execution_count": 30,
   "outputs": [
    {
     "data": {
      "text/plain": "2.67089371850553",
      "text/latex": "$\\displaystyle 2.67089371850553$"
     },
     "execution_count": 30,
     "metadata": {},
     "output_type": "execute_result"
    }
   ],
   "source": [
    "# Getting power\n",
    "hp = 1/(550*12)  # 1 hp = 550*12 in*lbf/s\n",
    "P = T*w*2*sp.pi*hp\n",
    "P.n()  # hp"
   ],
   "metadata": {
    "collapsed": false,
    "pycharm": {
     "name": "#%%\n"
    }
   }
  },
  {
   "cell_type": "markdown",
   "source": [
    "\\pagebreak\n",
    "\n",
    "\\begin{center}\n",
    "\\begin{tabular}{ccc}\n",
    "ME 4403 & Homework 5 & Gabe Morris \\\\\n",
    "& & gnm54\n",
    "\\end{tabular}\n",
    "\\end{center}\n",
    "\n",
    "# Problem 8-11\n",
    "## Given\n",
    "An M14 $\\times$ 2 hex-head bolt with a nut is used to clamp together two 15 mm steel plates.\n",
    "\n",
    "## Find\n",
    "a. Determine a suitable length for the bolt, rounded up to the nearest 5 mm.\n",
    "b. Determine the bolt stiffness.\n",
    "c. Determine the stiffness of the members.\n",
    "\n",
    "## Solution\n",
    "### Part A\n",
    "Bolt dimensions may be found from Table A-31."
   ],
   "metadata": {
    "collapsed": false,
    "pycharm": {
     "name": "#%% md\n"
    }
   }
  },
  {
   "cell_type": "code",
   "execution_count": 31,
   "outputs": [
    {
     "data": {
      "text/plain": "42.8000000000000",
      "text/latex": "$\\displaystyle 42.8$"
     },
     "execution_count": 31,
     "metadata": {},
     "output_type": "execute_result"
    }
   ],
   "source": [
    "l, H = sp.S(15), sp.S('12.8')\n",
    "L = 2*l + H\n",
    "L"
   ],
   "metadata": {
    "collapsed": false,
    "pycharm": {
     "name": "#%%\n"
    }
   }
  },
  {
   "cell_type": "markdown",
   "source": [
    "The bolt length must be greater than $42.8\\,mm$ to the nearest $5\\,mm$. The final value is $L=45\\,mm$.\n",
    "\n",
    "### Part B\n",
    "The fastener stiffness along with more relationships come from Table 8-7.\n",
    "\n",
    "$$k_b=\\frac{A_dA_tE}{A_dl_t+A_tl_d}$$"
   ],
   "metadata": {
    "collapsed": false,
    "pycharm": {
     "name": "#%% md\n"
    }
   }
  },
  {
   "cell_type": "code",
   "execution_count": 32,
   "outputs": [
    {
     "data": {
      "text/plain": "874.618152674828",
      "text/latex": "$\\displaystyle 874.618152674828$"
     },
     "execution_count": 32,
     "metadata": {},
     "output_type": "execute_result"
    }
   ],
   "source": [
    "# Getting stiffness\n",
    "d = sp.S(14)  # mm\n",
    "E = sp.S('207')  # Pa\n",
    "L = 45  # mm\n",
    "\n",
    "Ad = sp.pi*d**2/4\n",
    "At = sp.S(115)\n",
    "Lt = 2*d + 6\n",
    "ld = L - Lt\n",
    "lt = 2*l - ld\n",
    "kb = Ad*At*E/(Ad*lt + At*ld)\n",
    "kb.n()  # MN/m"
   ],
   "metadata": {
    "collapsed": false,
    "pycharm": {
     "name": "#%%\n"
    }
   }
  },
  {
   "cell_type": "markdown",
   "source": [
    "### Part C"
   ],
   "metadata": {
    "collapsed": false,
    "pycharm": {
     "name": "#%% md\n"
    }
   }
  },
  {
   "cell_type": "code",
   "execution_count": 33,
   "outputs": [
    {
     "data": {
      "text/plain": "3116.45077847628",
      "text/latex": "$\\displaystyle 3116.45077847628$"
     },
     "execution_count": 33,
     "metadata": {},
     "output_type": "execute_result"
    }
   ],
   "source": [
    "# Eq. 8-22\n",
    "x = sp.S('0.5774')\n",
    "km = (x*sp.pi*E*d)/(2*sp.log(5*(x*2*l + sp.S('0.5')*d)/(x*2*l + sp.S('2.5')*d)))\n",
    "km.n()  # MN/m"
   ],
   "metadata": {
    "collapsed": false,
    "pycharm": {
     "name": "#%%\n"
    }
   }
  },
  {
   "cell_type": "markdown",
   "source": [
    "\\pagebreak\n",
    "\n",
    "\\begin{center}\n",
    "\\begin{tabular}{ccc}\n",
    "ME 4403 & Homework 5 & Gabe Morris \\\\\n",
    "& & gnm54\n",
    "\\end{tabular}\n",
    "\\end{center}\n",
    "\n",
    "# Problem 8-19\n",
    "## Given\n",
    "A 30 mm thick AISI 1020 steel place is sandwiched between two 10 mm thick 2024-T3 aluminum plates and compressed with a bolt and nut with no washers. The bolt is an M10 $\\times$ 1.5, property class 5.8.\n",
    "\n",
    "## Find\n",
    "a. Determine a suitable length for the bolt, rounded up to the nearest 5 mm.\n",
    "b. Determine the bolt stiffness.\n",
    "c. Determine the stiffness of the members.\n",
    "\n",
    "## Solution\n",
    "### Part A\n",
    "Use a similar procedure from 8-11."
   ],
   "metadata": {
    "collapsed": false,
    "pycharm": {
     "name": "#%% md\n"
    }
   }
  },
  {
   "cell_type": "code",
   "execution_count": 34,
   "outputs": [
    {
     "data": {
      "text/plain": "58.4000000000000",
      "text/latex": "$\\displaystyle 58.4$"
     },
     "execution_count": 34,
     "metadata": {},
     "output_type": "execute_result"
    }
   ],
   "source": [
    "l, H = sp.S(50), sp.S('8.4')\n",
    "L_min = l + H\n",
    "L_min  # mm"
   ],
   "metadata": {
    "collapsed": false,
    "pycharm": {
     "name": "#%%\n"
    }
   }
  },
  {
   "cell_type": "markdown",
   "source": [
    "Rounding up to the nearest 5 mm, the length of the bolt is $L=60\\,mm$.\n",
    "\n",
    "### Part B"
   ],
   "metadata": {
    "collapsed": false,
    "pycharm": {
     "name": "#%% md\n"
    }
   }
  },
  {
   "cell_type": "code",
   "execution_count": 35,
   "outputs": [
    {
     "data": {
      "text/plain": "292.057923214078",
      "text/latex": "$\\displaystyle 292.057923214078$"
     },
     "execution_count": 35,
     "metadata": {},
     "output_type": "execute_result"
    }
   ],
   "source": [
    "# From Table 8-7\n",
    "L = sp.S(60)\n",
    "d = sp.S(10)\n",
    "E = sp.S(207)\n",
    "\n",
    "LT = 2*d + 6\n",
    "ld = L - LT\n",
    "lt = l - ld\n",
    "Ad = sp.pi*d**2/4\n",
    "At = 58\n",
    "kb = Ad*At*E/(Ad*lt + At*ld)\n",
    "kb.n()  # MN/m"
   ],
   "metadata": {
    "collapsed": false,
    "pycharm": {
     "name": "#%%\n"
    }
   }
  },
  {
   "cell_type": "markdown",
   "source": [
    "### Part C\n",
    "Use Eq. 8-20 and then acquire the equivalent stiffness."
   ],
   "metadata": {
    "collapsed": false,
    "pycharm": {
     "name": "#%% md\n"
    }
   }
  },
  {
   "cell_type": "code",
   "execution_count": 36,
   "outputs": [
    {
     "data": {
      "text/plain": "1576.11182584228",
      "text/latex": "$\\displaystyle 1576.11182584228$"
     },
     "execution_count": 36,
     "metadata": {},
     "output_type": "execute_result"
    }
   ],
   "source": [
    "def get_k(E_, d_, t_, D_):\n",
    "    return ((sp.S('0.5774')*sp.pi*E_*d_)/sp.log(((sp.S('1.155')*t_ + D_ - d_)*(D_ + d_))/((sp.S('1.155')*t_ + D_ + d_)*(D_ - d_)))).n()\n",
    "\n",
    "# The upper and lower plates have the same stiffness\n",
    "k1 = get_k(71, 10, 10, 15)\n",
    "k1  # MN/m"
   ],
   "metadata": {
    "collapsed": false,
    "pycharm": {
     "name": "#%%\n"
    }
   }
  },
  {
   "cell_type": "code",
   "execution_count": 37,
   "outputs": [
    {
     "data": {
      "text/plain": "11434.8600387284",
      "text/latex": "$\\displaystyle 11434.8600387284$"
     },
     "execution_count": 37,
     "metadata": {},
     "output_type": "execute_result"
    }
   ],
   "source": [
    "# splitting the top half\n",
    "D2 = 15 + 20*sp.tan(30*sp.pi/180)\n",
    "k2 = get_k(207, 10, 15, D2)\n",
    "k2  # MN/m"
   ],
   "metadata": {
    "collapsed": false,
    "pycharm": {
     "name": "#%%\n"
    }
   }
  },
  {
   "cell_type": "code",
   "execution_count": 38,
   "outputs": [
    {
     "data": {
      "text/plain": "1385.18615838124",
      "text/latex": "$\\displaystyle 1385.18615838124$"
     },
     "execution_count": 38,
     "metadata": {},
     "output_type": "execute_result"
    }
   ],
   "source": [
    "k_half = 1/(1/k1 + 1/k2)\n",
    "k_half"
   ],
   "metadata": {
    "collapsed": false,
    "pycharm": {
     "name": "#%%\n"
    }
   }
  },
  {
   "cell_type": "code",
   "execution_count": 39,
   "outputs": [
    {
     "data": {
      "text/plain": "692.593079190621",
      "text/latex": "$\\displaystyle 692.593079190621$"
     },
     "execution_count": 39,
     "metadata": {},
     "output_type": "execute_result"
    }
   ],
   "source": [
    "k_total = (1/k_half + 1/k_half)**-1\n",
    "k_total  # MN/m"
   ],
   "metadata": {
    "collapsed": false,
    "pycharm": {
     "name": "#%%\n"
    }
   }
  }
 ],
 "metadata": {
  "kernelspec": {
   "display_name": "Python 3 (ipykernel)",
   "language": "python",
   "name": "python3"
  },
  "language_info": {
   "codemirror_mode": {
    "name": "ipython",
    "version": 3
   },
   "file_extension": ".py",
   "mimetype": "text/x-python",
   "name": "python",
   "nbconvert_exporter": "python",
   "pygments_lexer": "ipython3",
   "version": "3.10.1"
  }
 },
 "nbformat": 4,
 "nbformat_minor": 1
}