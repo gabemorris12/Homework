{
 "cells": [
  {
   "cell_type": "markdown",
   "source": [
    "\\begin{center}\n",
    "Gabe Morris\n",
    "\\end{center}"
   ],
   "metadata": {
    "collapsed": false,
    "pycharm": {
     "name": "#%% md\n"
    }
   }
  },
  {
   "cell_type": "code",
   "execution_count": 1,
   "metadata": {
    "collapsed": true,
    "pycharm": {
     "name": "#%%\n"
    }
   },
   "outputs": [],
   "source": [
    "# Notebook Preamble\n",
    "import sympy as sp\n",
    "import numpy as np\n",
    "import matplotlib.pyplot as plt\n",
    "from IPython.display import display, Markdown\n",
    "\n",
    "plt.style.use('maroon_ipynb.mplstyle')"
   ]
  },
  {
   "cell_type": "markdown",
   "source": [
    "\\pagebreak\n",
    "\\tableofcontents\n",
    "\\pagebreak"
   ],
   "metadata": {
    "collapsed": false,
    "pycharm": {
     "name": "#%% md\n"
    }
   }
  },
  {
   "cell_type": "markdown",
   "source": [
    "\\begin{center}\n",
    "\\begin{tabular}{c c c}\n",
    "ME 4403 & Homework 2 & Gabe Morris \\\\\n",
    "& & gnm54\n",
    "\\end{tabular}\n",
    "\\end{center}\n",
    "\n",
    "# Problem 3-39\n",
    "## Given\n",
    "\n",
    "\\begin{center}\n",
    "\\includegraphics{images/fig1}\n",
    "\\end{center}\n",
    "\n",
    "## Find\n",
    "For the beam above, find the maximum tensile stress due to $M$ and the maximum shear stress due to $V$.\n",
    "\n",
    "## Solution\n",
    "The free body diagram is,\n",
    "\n",
    "\\begin{center}\n",
    "\\includegraphics{images/fig2}\n",
    "\\end{center}"
   ],
   "metadata": {
    "collapsed": false,
    "pycharm": {
     "name": "#%% md\n"
    }
   },
   "outputs": []
  },
  {
   "cell_type": "code",
   "execution_count": 2,
   "outputs": [
    {
     "data": {
      "text/plain": "Eq(A_y + B_y, 1800)",
      "text/latex": "$\\displaystyle A_{y} + B_{y} = 1800$"
     },
     "metadata": {},
     "output_type": "display_data"
    },
    {
     "data": {
      "text/plain": "Eq(200*A_y, 270000)",
      "text/latex": "$\\displaystyle 200 A_{y} = 270000$"
     },
     "metadata": {},
     "output_type": "display_data"
    },
    {
     "data": {
      "text/plain": "<IPython.core.display.Markdown object>",
      "text/markdown": "---"
     },
     "metadata": {},
     "output_type": "display_data"
    },
    {
     "data": {
      "text/plain": "Eq(A_y, 1350)",
      "text/latex": "$\\displaystyle A_{y} = 1350$"
     },
     "metadata": {},
     "output_type": "display_data"
    },
    {
     "data": {
      "text/plain": "Eq(B_y, 450)",
      "text/latex": "$\\displaystyle B_{y} = 450$"
     },
     "metadata": {},
     "output_type": "display_data"
    }
   ],
   "source": [
    "# Getting reaction forces\n",
    "Ay, By = sp.symbols('A_y B_y')\n",
    "eq1 = sp.Eq(Ay + By, 1800)\n",
    "eq2 = sp.Eq(200*Ay, 150*1800)\n",
    "\n",
    "sol = sp.solve([eq1, eq2], dict=True)[0]\n",
    "[display(eq) for eq in [eq1, eq2]]\n",
    "display(Markdown('---'))\n",
    "\n",
    "for key, value in sol.items():\n",
    "    display(sp.Eq(key, value))"
   ],
   "metadata": {
    "collapsed": false,
    "pycharm": {
     "name": "#%%\n"
    }
   }
  },
  {
   "cell_type": "markdown",
   "source": [
    "The shear and moment diagram is,\n",
    "\n",
    "\\begin{center}\n",
    "\\includegraphics{images/fig3}\n",
    "\\end{center}\n",
    "\n",
    "The maximum shear and tensile stress occur at $x=100\\ mm$."
   ],
   "metadata": {
    "collapsed": false,
    "pycharm": {
     "name": "#%% md\n"
    }
   }
  },
  {
   "cell_type": "code",
   "execution_count": 3,
   "outputs": [
    {
     "data": {
      "text/plain": "2444619925.89151",
      "text/latex": "$\\displaystyle 2444619925.89151$"
     },
     "execution_count": 3,
     "metadata": {},
     "output_type": "execute_result"
    }
   ],
   "source": [
    "# Calculating stress due to bending\n",
    "M, c = 30_000, sp.S(0.025)\n",
    "(M*c/(sp.pi/4*c**4)).n()  # in Pa"
   ],
   "metadata": {
    "collapsed": false,
    "pycharm": {
     "name": "#%%\n"
    }
   }
  },
  {
   "cell_type": "code",
   "execution_count": 4,
   "outputs": [
    {
     "data": {
      "text/plain": "509295817.894065",
      "text/latex": "$\\displaystyle 509295817.894065$"
     },
     "execution_count": 4,
     "metadata": {},
     "output_type": "execute_result"
    }
   ],
   "source": [
    "# Calculating the maximum shear stress\n",
    "V = 750_000\n",
    "(sp.Rational(4, 3)*V/(sp.pi*c**2)).n()  # in Pa"
   ],
   "metadata": {
    "collapsed": false,
    "pycharm": {
     "name": "#%%\n"
    }
   }
  },
  {
   "cell_type": "markdown",
   "source": [
    "\\pagebreak\n",
    "\n",
    "\\begin{center}\n",
    "\\begin{tabular}{ccc}\n",
    "ME 4403 & Homework 2 & Gabe Morris \\\\\n",
    "& & gnm54\n",
    "\\end{tabular}\n",
    "\\end{center}\n",
    "\n",
    "# Problem 62 Part A\n",
    "## Given\n",
    "\n",
    "\\begin{center}\n",
    "\\includegraphics{images/fig4}\n",
    "\\end{center}\n",
    "\n",
    "The tube is $36\\ in$ long.\n",
    "\n",
    "## Find\n",
    "The maximum torque that can be applied and the corresponding angle of twist of the tube.\n",
    "\n",
    "## Solution\n",
    "For thin-walled tubes,\n",
    "\n",
    "$$\\tau=\\frac{T}{2A_mt}$$\n",
    "$$\\theta_1=\\frac{TL_m}{4GA_m^2t}$$\n",
    "\n",
    "See p. 129 for additional details of the above formulas."
   ],
   "metadata": {
    "collapsed": false,
    "pycharm": {
     "name": "#%% md\n"
    }
   }
  },
  {
   "cell_type": "code",
   "execution_count": 5,
   "outputs": [
    {
     "data": {
      "text/plain": "1318.35937500000",
      "text/latex": "$\\displaystyle 1318.359375$"
     },
     "execution_count": 5,
     "metadata": {},
     "output_type": "execute_result"
    }
   ],
   "source": [
    "# Calculating the maximum torque\n",
    "tau_max = 12_000  # lbf in\n",
    "t = sp.Rational(1, 16)  # thickness in inches\n",
    "Am = (1 - t)**2\n",
    "T = tau_max*2*Am*t\n",
    "T.n()  # lbf in"
   ],
   "metadata": {
    "collapsed": false,
    "pycharm": {
     "name": "#%%\n"
    }
   }
  },
  {
   "cell_type": "markdown",
   "source": [
    "From table A-5, the modulus of rigidity is $11.5\\ Mpsi$."
   ],
   "metadata": {
    "collapsed": false,
    "pycharm": {
     "name": "#%% md\n"
    }
   }
  },
  {
   "cell_type": "code",
   "execution_count": 6,
   "outputs": [
    {
     "data": {
      "text/plain": "4.59163394776145",
      "text/latex": "$\\displaystyle 4.59163394776145$"
     },
     "execution_count": 6,
     "metadata": {},
     "output_type": "execute_result"
    }
   ],
   "source": [
    "G = 11.5e6\n",
    "Lm = (1 - t)*4  # total length\n",
    "L = 36  # inches\n",
    "phi_1 = T*Lm/(4*G*Am**2*t)*L\n",
    "(phi_1*180/sp.pi).n()  # in degrees"
   ],
   "metadata": {
    "collapsed": false,
    "pycharm": {
     "name": "#%%\n"
    }
   }
  },
  {
   "cell_type": "markdown",
   "source": [
    "The expression gets multiplied by $L$ because $\\theta_1$ is the angle of twist per unit length."
   ],
   "metadata": {
    "collapsed": false,
    "pycharm": {
     "name": "#%% md\n"
    }
   }
  }
 ],
 "metadata": {
  "kernelspec": {
   "display_name": "Python 3",
   "language": "python",
   "name": "python3"
  },
  "language_info": {
   "codemirror_mode": {
    "name": "ipython",
    "version": 2
   },
   "file_extension": ".py",
   "mimetype": "text/x-python",
   "name": "python",
   "nbconvert_exporter": "python",
   "pygments_lexer": "ipython2",
   "version": "2.7.6"
  }
 },
 "nbformat": 4,
 "nbformat_minor": 0
}