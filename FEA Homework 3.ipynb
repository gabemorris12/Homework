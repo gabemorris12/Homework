{
 "cells": [
  {
   "cell_type": "markdown",
   "source": [
    "\\begin{center}\n",
    "Gabe Morris\n",
    "\\end{center}"
   ],
   "metadata": {
    "collapsed": false,
    "pycharm": {
     "name": "#%% md\n"
    }
   }
  },
  {
   "cell_type": "markdown",
   "source": [
    "\\pagebreak\n",
    "\\tableofcontents\n",
    "\\pagebreak"
   ],
   "metadata": {
    "collapsed": false,
    "pycharm": {
     "name": "#%% md\n"
    }
   }
  },
  {
   "cell_type": "markdown",
   "source": [
    "\\begin{center}\n",
    "\\begin{tabular}{c c c}\n",
    "ME 6233 & Homework 3 & Gabe Morris \\\\\n",
    "& & gnm54\n",
    "\\end{tabular}\n",
    "\\end{center}\n",
    "\n",
    "# Problem 1\n",
    "## Given\n",
    "A bracket connects two cables, as shown in the figure below. The applied force is P = 500 lbs and the bracket is made of steel. Determine the normal stress (maximum) in the bracket. The bracket dimensions are $\\frac{3}{4}\\,in$ width and $\\frac{1}{2}\\,in$ in thickness.\n",
    "\n",
    "\\begin{center}\n",
    "\\includegraphics{figures/p1}\n",
    "\\end{center}\n",
    "\n",
    "## Find\n",
    "Solve the problem with both:\n",
    "\n",
    "a. Mechanics of Materials solution\n",
    "b. FEA software\n",
    "\n",
    "## Solution\n",
    "### Part A\n",
    "\n",
    "\\begin{center}\n",
    "\\includegraphics{figures/p1_solution}\n",
    "\\end{center}\n",
    "\n",
    "The solution may be obtained by using the following relationship:\n",
    "\n",
    "$\\sigma=\\frac{P}{A}+\\frac{My}{I}$\n",
    "\n",
    "where $M$ is the internal bending moment, $A$ is the cross-sectional area, $y$ is the distance from the centroidal axis, and $I$ is the area moment of inertia about the centroidal axis."
   ],
   "metadata": {
    "collapsed": false,
    "pycharm": {
     "name": "#%% md\n"
    }
   }
  },
  {
   "cell_type": "code",
   "execution_count": 1,
   "outputs": [
    {
     "data": {
      "text/plain": "0.375"
     },
     "execution_count": 1,
     "metadata": {},
     "output_type": "execute_result"
    }
   ],
   "source": [
    "# Finding the area\n",
    "t, w = 0.5, 0.75\n",
    "A = t*w\n",
    "A"
   ],
   "metadata": {
    "collapsed": false,
    "pycharm": {
     "name": "#%%\n"
    }
   }
  },
  {
   "cell_type": "code",
   "execution_count": 2,
   "outputs": [
    {
     "data": {
      "text/plain": "1000"
     },
     "execution_count": 2,
     "metadata": {},
     "output_type": "execute_result"
    }
   ],
   "source": [
    "# Calculating M\n",
    "P = 500\n",
    "M = P*2\n",
    "M"
   ],
   "metadata": {
    "collapsed": false,
    "pycharm": {
     "name": "#%%\n"
    }
   }
  },
  {
   "cell_type": "code",
   "execution_count": 3,
   "outputs": [
    {
     "data": {
      "text/plain": "0.017578125"
     },
     "execution_count": 3,
     "metadata": {},
     "output_type": "execute_result"
    }
   ],
   "source": [
    "# Calculating I\n",
    "I = 1/12*0.5*0.75**3\n",
    "I"
   ],
   "metadata": {
    "collapsed": false,
    "pycharm": {
     "name": "#%%\n"
    }
   }
  },
  {
   "cell_type": "code",
   "execution_count": 4,
   "outputs": [
    {
     "data": {
      "text/plain": "0.375"
     },
     "execution_count": 4,
     "metadata": {},
     "output_type": "execute_result"
    }
   ],
   "source": [
    "# Calculating y\n",
    "y = w/2\n",
    "y"
   ],
   "metadata": {
    "collapsed": false,
    "pycharm": {
     "name": "#%%\n"
    }
   }
  },
  {
   "cell_type": "code",
   "execution_count": 5,
   "outputs": [
    {
     "data": {
      "text/plain": "22666.666666666664"
     },
     "execution_count": 5,
     "metadata": {},
     "output_type": "execute_result"
    }
   ],
   "source": [
    "P/A + M*y/I  # In psi"
   ],
   "metadata": {
    "collapsed": false,
    "pycharm": {
     "name": "#%%\n"
    }
   }
  },
  {
   "cell_type": "markdown",
   "source": [
    "### Part B\n",
    "\n",
    "\\begin{center}\n",
    "\\includegraphics{figures/p1_bc}\n",
    "\\end{center}\n",
    "\n",
    "The boundary conditions allow for motion in the x direction and the y direction to allow for bending to occur. The results are,\n",
    "\n",
    "\\begin{center}\n",
    "\\includegraphics{figures/p1_fea_results}\n",
    "\\end{center}\n",
    "\n",
    "And looking into the bottom portion of the center of the structure,\n",
    "\n",
    "\\begin{center}\n",
    "\\includegraphics{figures/p1_fea_element}\n",
    "\\end{center}\n",
    "\n",
    "Because I used a point load, maximum stress and the scale shown is not accurate; however, the stress of interest is quite close to the theoretical stress. The stress in the image above is about 21 ksi and the theoretical stress from part A is 22.7 ksi. With a greater mesh density, the FEA value will converge closer to the theoretical value."
   ],
   "metadata": {
    "collapsed": false,
    "pycharm": {
     "name": "#%% md\n"
    }
   }
  },
  {
   "cell_type": "markdown",
   "source": [
    "\\pagebreak\n",
    "\n",
    "\\begin{center}\n",
    "\\begin{tabular}{c c c}\n",
    "ME 6233 & Homework 3 & Gabe Morris \\\\\n",
    "& & gnm54\n",
    "\\end{tabular}\n",
    "\\end{center}\n",
    "\n",
    "# Problem 2\n",
    "## Given\n",
    "\n",
    "\\begin{center}\n",
    "\\includegraphics{figures/Figure_7}\n",
    "\\end{center}\n",
    "\n",
    "## Find\n",
    "Compare and contrast the models with:\n",
    "\n",
    "a. One line of symmetry\n",
    "b. Two lines of symmetry\n",
    "\n",
    "## Solution\n",
    "Using:\n",
    "\n",
    "* $L=w=40\\,mm$\n",
    "* $d=8\\,mm$\n",
    "* $E=69,000\\,MPa$\n",
    "* $\\nu=0.35$\n",
    "* $P=5\\,MPa$\n",
    "\n",
    "### Part A\n",
    "Boundary Conditions (allows for displacement in the $u_2$ direction)\n",
    "\n",
    "\\begin{center}\n",
    "\\includegraphics[scale=0.8]{figures/one_line_bc}\n",
    "\\end{center}\n",
    "\n",
    "\\begin{center}\n",
    "\\includegraphics[scale=0.8]{figures/one_line_results}\n",
    "\\end{center}\n",
    "\n",
    "* Number of nodes: 41844\n",
    "* Number of elements: 26343\n",
    "* Element types: C3D10\n",
    "\n",
    "### Part B\n",
    "Boundary Conditions (allows for displacement in the $u_2$ direction on face x and allows for displacement in the $u_1$ direction on face y)\n",
    "\n",
    "\\begin{center}\n",
    "\\includegraphics[scale=0.8]{figures/two_line_bc}\n",
    "\\end{center}\n",
    "\n",
    "\\begin{center}\n",
    "\\includegraphics[scale=0.8]{figures/two_line_results}\n",
    "\\end{center}\n",
    "\n",
    "* Number of nodes: 23456\n",
    "* Number of elements: 14721\n",
    "* Element types: C3D10\n",
    "\n",
    "### Discussion\n",
    "Both methods have a similar maximum stress value. For the one line symmetry, the maximum value obtained was $18.28\\,MPa$, and the two line symmetry value was $17.99\\,MPa$. This is just a 1.6% difference, however, the two line symmetry had 44.1% fewer elements. This saves a considerable amount of computing time, and if further accuracy was required, then it would be most desirable to increase the mesh density of the two line symmetry model. The difference in the boundary conditions between both models is required to create a symmetrical loading effect. In other words, they allow the model to stretch in the exact same way.\n",
    "\n",
    "\\pagebreak\n",
    "\n",
    "\\begin{center}\n",
    "\\begin{tabular}{c c c}\n",
    "ME 6233 & Homework 3 & Gabe Morris \\\\\n",
    "& & gnm54\n",
    "\\end{tabular}\n",
    "\\end{center}\n",
    "\n",
    "# Problem 3\n",
    "## Given\n",
    "[Considerations for Reporting Finite Element Analysis Studies in Biomechanics](https://pubmed.ncbi.nlm.nih.gov/22236526/)\n",
    "\n",
    "## Find\n",
    "a. Overview of the article\n",
    "b. Three things you learned from this article\n",
    "c. How this information will impact your use of FEA in the future\n",
    "\n",
    "## Solution\n",
    "The"
   ],
   "metadata": {
    "collapsed": false,
    "pycharm": {
     "name": "#%% md\n"
    }
   }
  }
 ],
 "metadata": {
  "kernelspec": {
   "display_name": "Python 3",
   "language": "python",
   "name": "python3"
  },
  "language_info": {
   "codemirror_mode": {
    "name": "ipython",
    "version": 2
   },
   "file_extension": ".py",
   "mimetype": "text/x-python",
   "name": "python",
   "nbconvert_exporter": "python",
   "pygments_lexer": "ipython2",
   "version": "2.7.6"
  }
 },
 "nbformat": 4,
 "nbformat_minor": 0
}